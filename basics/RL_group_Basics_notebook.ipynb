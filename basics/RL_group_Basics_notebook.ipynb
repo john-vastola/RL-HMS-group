{
  "cells": [
    {
      "cell_type": "markdown",
      "metadata": {
        "id": "view-in-github",
        "colab_type": "text"
      },
      "source": [
        "<a href=\"https://colab.research.google.com/github/john-vastola/RL-HMS-group/blob/main/basics/RL_group_Basics_notebook.ipynb\" target=\"_parent\"><img src=\"https://colab.research.google.com/assets/colab-badge.svg\" alt=\"Open In Colab\"/></a>"
      ]
    },
    {
      "cell_type": "markdown",
      "metadata": {
        "id": "cbcR85f8Wd0r"
      },
      "source": [
        "#<center>Reinforcement learning basics | RL discussion group</center>\n",
        "## <center>A tutorial notebook by John Vastola</center>"
      ]
    },
    {
      "cell_type": "markdown",
      "metadata": {
        "id": "nWArhaLx8350"
      },
      "source": [
        "<center><img src=\"https://github.com/john-vastola/RL-HMS-group/blob/main/basics/images/maze_example.png?raw=true\" alt=\"drawing\" width=\"400\"/></center>"
      ]
    },
    {
      "cell_type": "markdown",
      "metadata": {
        "id": "PGEji7LtWciy"
      },
      "source": [
        "The goal of this notebook is to present a brief introduction to the basic concepts of reinforcement learning (RL).\n"
      ]
    },
    {
      "cell_type": "markdown",
      "metadata": {
        "id": "aw4tpPC4OvuX"
      },
      "source": [
        "The structure of the notebook is as follows:\n",
        "\n",
        "1.   Mathematical formulation of reinforcement learning problems \n",
        "2.   A gridworld environment for studying basic reinforcement learning algorithms\n",
        "3.   Temporal difference learning as a general model-free prediction algorithm\n",
        "4.   Q-learning as a general model-free control algorithm\n",
        "5.    Actor-critic as a general model-free control algorithm \n"
      ]
    },
    {
      "cell_type": "markdown",
      "source": [
        "For more details on everything discussed here, take a look at Sutton and Barto's classic RL textbook. Often considered the 'bible' of RL, it is a must-read if you are serious about learning the subject. \n",
        "\n",
        "Read it for free on Sutton's website here: http://incompleteideas.net/book/the-book-2nd.html"
      ],
      "metadata": {
        "id": "Q-CQkEqTMvJ0"
      }
    },
    {
      "cell_type": "code",
      "execution_count": null,
      "metadata": {
        "id": "d8LnPB3a-9bV"
      },
      "outputs": [],
      "source": [
        "import numpy as np\n",
        "\n",
        "import matplotlib.pyplot as plt\n",
        "import matplotlib.patches as mpatches\n",
        "from matplotlib.colors import LinearSegmentedColormap\n",
        "import matplotlib.animation as animation\n",
        "from IPython.display import HTML, clear_output\n",
        "\n",
        "%matplotlib inline"
      ]
    },
    {
      "cell_type": "markdown",
      "metadata": {
        "id": "RYDl3vvTADRS"
      },
      "source": [
        "---------------------------"
      ]
    },
    {
      "cell_type": "markdown",
      "source": [
        "## 1. Mathematical formulation of reinforcement learning problems"
      ],
      "metadata": {
        "id": "bV8fLbHLvBuk"
      }
    },
    {
      "cell_type": "markdown",
      "source": [
        "In this section (which contains no code), we briefly describe the mathematical formulation of reinforcement learning problems. "
      ],
      "metadata": {
        "id": "aHnGnDE1vDjM"
      }
    },
    {
      "cell_type": "markdown",
      "source": [
        "### General formulation of reinforcement learning problems"
      ],
      "metadata": {
        "id": "SbSlPyecvHK6"
      }
    },
    {
      "cell_type": "markdown",
      "metadata": {
        "id": "kgaed5a4vHK7"
      },
      "source": [
        "In general, there is an **agent** that exists in an **environment**. At any given time, the environment is in a particular **state**, which determines both (i) what the agent does next, and (ii) how the environment changes next. Depending on what the agent does and the state of the environment, the agent receives a **reward**, and the environment might change.\n",
        "\n",
        "By 'reward', we include both positive and negative things the agent cares about, so costs are included as negative rewards. The goal of the agent is to maximize total (possibly discounted) reward (or to achieve some morally similar goal, like maximizing reward *rate*). \n",
        "\n",
        "More precisely, suppose that the environment is in a state $S_t$ at time $t$. The agent takes an action $A_t$, which yields a reward $R_{t+1}$, and the state of the environment changes to a state $S_{t+1}$. (The agent's action may or may not have contributed to this state change.) This process continues, either until some end condition is met (e.g. a player has won or lost a game), or indefinitely (e.g. a person acting in the world).\n",
        "\n",
        "The agent acting in the changing environment produces a sequence\n",
        "\\begin{equation}\n",
        "\\cdots \\to (S_t, R_t) \\to A_t \\to (S_{t+1}, R_{t+1}) \\to A_{t+1} \\to \\cdots \\ . \n",
        "\\end{equation}"
      ]
    },
    {
      "cell_type": "markdown",
      "metadata": {
        "id": "taZ0-9fmvHK8"
      },
      "source": [
        "This process is popularly depicted by a diagram like"
      ]
    },
    {
      "cell_type": "markdown",
      "source": [
        "<center>\n",
        "<figure>\n",
        "<img src=\"https://github.com/john-vastola/RL-at-Harvard-tutorial-2022/blob/main/images/sb_loop.png?raw=true\"  width=\"800\"/>\n",
        "<figcaption>From Sutton and Barto, Ch. 3.</figcaption>\n",
        "</figure>\n",
        "</center>\n"
      ],
      "metadata": {
        "id": "aaBchOxHvHK9"
      }
    },
    {
      "cell_type": "markdown",
      "source": [
        "We assume that the agent has a policy $\\pi$ that determines which actions it will take. $\\pi(A_t | S_t)$ denotes the probability that the agent will take action $A_t$ given that the environment is in a state $S_t$. \n",
        "\n",
        "We also assume the environment has some transition function $p(S_{t+1}, R_{t+1} | S_t, A_t)$, which determines the probability that it will transition to a state $S_{t+1}$ and give the agent a reward $R_{t+1}$, given that it was previously in the state $S_t$, and that the agent just took an action $A_t$."
      ],
      "metadata": {
        "id": "3U3Csc7YvHK9"
      }
    },
    {
      "cell_type": "markdown",
      "source": [
        "Mathematically, this corresponds to a **Markov decision process**. The key assumption is that both what the agent does (i.e. its policy $\\pi$) and how the environment changes (determined by its transition function $p$) only depend on the **most recent state of the environment**, and not on previous ones. \n",
        "\n",
        "While this assumption seems pretty strong, it is less problematic than it sounds, since what exactly is considered a 'state' is up to whoever defines the problem. If this formalism (and most of work in RL) is to apply, the notion of 'state' for a given problem should include whatever information is roughly necessary to determine what happens next. While this could include the entire previous history of the environment, in practice the *recent* history of the environment, plus some information related to the internal or latent states of the agent, is sufficient."
      ],
      "metadata": {
        "id": "5fC-AefJvHK-"
      }
    },
    {
      "cell_type": "markdown",
      "source": [
        "### Value functions for assessing the 'goodness' of a policy"
      ],
      "metadata": {
        "id": "oLAh7KhXvHK_"
      }
    },
    {
      "cell_type": "markdown",
      "source": [
        "In RL, agent performance is tied to reward: more is better. Define the **return** $G_t$ as the discounted future reward\n",
        "\\begin{equation}\n",
        "G_t := R_{t+1} + \\gamma R_{t+2} + \\gamma^2 R_{t+3} + \\cdots = \\sum_{k = t + 1}^T \\gamma^{k - t - 1} R_{k} \\ .\n",
        "\\end{equation}\n",
        "The discounting factor $\\gamma \\in [0, 1]$ determines how much the agent cares about getting rewarded now versus getting rewarded later. It is introduced for two reasons: (i) for RL problems that continue indefinitely, it guarantees that $G_t$ is finite; and (ii) it incentivizes the agent to achieve its goals faster. The value of $\\gamma$ is usually chosen to be close to $1$.\n",
        "\n",
        "In general, the environment may behave somewhat randomly, so maximizing $G_t$ is not always possible, even with 'optimal' behavior. (Even the best poker player can have exceptionally bad luck.) The best an agent can hope for is to behave so that, *on average*, the return $G_t$ is maximized. \n",
        "\n",
        "To this end, we define the **value function** (or **state-value function**)\n",
        "\\begin{equation}\n",
        "v_{\\pi}(s) := \\mathbb{E}_{\\pi}\\left[ G_t | S_t = s  \\right]\n",
        "\\end{equation}\n",
        "which quantifies the 'goodness' of being in a state $s$, given that the agent follows a policy $\\pi$. We can similarly define the **Q-value function** (or **action-value function**)\n",
        "\\begin{equation}\n",
        "q_{\\pi}(s, a) := \\mathbb{E}_{\\pi}\\left[ G_t | S_t = s, A_t = a  \\right]\n",
        "\\end{equation}\n",
        "which quantifies the 'goodness' of being in a state $s$ and taking an action $a$, given that the agent follows a policy $\\pi$. "
      ],
      "metadata": {
        "id": "v9JLo6mGvHK_"
      }
    },
    {
      "cell_type": "markdown",
      "source": [
        "It is useful to restate the goal of the agent (maximizing expected return) in terms of these functions. The goal is to find a policy $\\pi_*$ which is *optimal*, in the sense that\n",
        "\\begin{equation}\n",
        "v_{\\pi_*}(s) \\geq v_{\\pi}(s) \\ \\text{ for all states } s \\ ,\n",
        "\\end{equation}\n",
        "where $\\pi$ is any other policy. In words: no matter what state the agent begins in, following $\\pi_*$ will yield a greater (or at least as great) expected return than following any other policy. Such a policy always exists for Markov decision processes, although it is generally not unique."
      ],
      "metadata": {
        "id": "SHyI1d8ivHLB"
      }
    },
    {
      "cell_type": "markdown",
      "source": [
        "### The prediction and control problems"
      ],
      "metadata": {
        "id": "lT1IyCe6vHLB"
      }
    },
    {
      "cell_type": "markdown",
      "source": [
        "In general, there are two things we do not know: (i) the expected return of our current policy, and (ii) what the best policy is. "
      ],
      "metadata": {
        "id": "FZsBeWEDvHLB"
      }
    },
    {
      "cell_type": "markdown",
      "source": [
        "Determining the expected return of our current policy $\\pi$, i.e. evaluating $v_{\\pi}(s)$ for all states $s$, is known as the **prediction problem**.\n",
        "\n",
        "Determining the optimal policy $\\pi_*$ is known as the **control problem**.\n",
        "\n",
        "Solving the prediction problem by itself is clearly not enough to determine good policies. But since evaluating policies helps provide a better idea of how to improve them, it is usually a key component of any good reinforcement learning method for solving the control problem."
      ],
      "metadata": {
        "id": "hpjAKehtvHLC"
      }
    },
    {
      "cell_type": "markdown",
      "source": [
        "In particular, many RL approaches follow the spirit of **generalized policy iteration**: improve the evaluation of your current policy a little, then improve the policy a little, then improve the evaluation of the new policy a little, then improve the policy a little more, and so on."
      ],
      "metadata": {
        "id": "p_BVbT6-vHLC"
      }
    },
    {
      "cell_type": "markdown",
      "source": [
        "In what follows, we will cover one possible solution to the prediction problem (temporal difference learning), and two possible solutions to the control problem (Q-learning and actor-critic)."
      ],
      "metadata": {
        "id": "bd_m9J6GvHLD"
      }
    },
    {
      "cell_type": "markdown",
      "source": [
        "-------------------"
      ],
      "metadata": {
        "id": "Aixe2lKmvB5y"
      }
    },
    {
      "cell_type": "markdown",
      "source": [
        "## 2. A gridworld environment for studying basic reinforcement learning algorithms"
      ],
      "metadata": {
        "id": "-eMy-QM2rM6O"
      }
    },
    {
      "cell_type": "markdown",
      "source": [
        "**Gridworld problems**—where an agent moving around on a grid has to navigate to a goal as efficiently as possible—are a classic test case for reinforcement learning algorithms. Because it is easy to get intuition for how an agent *should* behave, it is clear whether policies are being evaluated properly, and whether an agent's current policy is good or bad."
      ],
      "metadata": {
        "id": "5Gy3lW5GrNCg"
      }
    },
    {
      "cell_type": "code",
      "source": [
        "# @title Gridworld environment codebase\n",
        "\n",
        "# Check that a proposed board is self-consistent.\n",
        "# (Should be rectangular; should contain at least one open space; should contain at least one goal.)\n",
        "def check_consistency(board):\n",
        "    num_rows, num_cols = len(board), len(board[0])\n",
        "  \n",
        "    for i in range(num_rows):   # Check that all rows have same length\n",
        "        if len(board[i]) != num_cols: return False\n",
        "\n",
        "    o_count, g_count = 0, 0     # Check for open spaces and goals\n",
        "    for i in range(num_rows):\n",
        "        for j in range(num_cols):\n",
        "            if board[i][j] == 'o': o_count += 1\n",
        "            if board[i][j] == 'G': g_count += 1\n",
        "    if o_count == 0: return False\n",
        "    if g_count == 0: return False\n",
        "    return True\n",
        "\n",
        "\n",
        "# Force a proposed board to be self-consistent.\n",
        "# (Should be rectangular; should contain at least one open space; should contain at least one goal.)\n",
        "def enforce_consistency(board):\n",
        "    num_rows = len(board)\n",
        "    num_cols_all = np.array([len(board[i]) for i in range(num_rows)]) \n",
        "    num_cols = np.max(num_cols_all)\n",
        "\n",
        "    # Make sure board is at least 2 x 2\n",
        "    if num_rows <= 1: \n",
        "        num_rows = 2; board = [ board[0], 'o'*len(board[0]) ]\n",
        "    if num_cols <= 1: \n",
        "        num_cols = 2; \n",
        "        for i in range(num_rows): board[i] += 'o'\n",
        "\n",
        "    num_cols_all = np.array([len(board[i]) for i in range(num_rows)]) \n",
        "    num_cols = np.max(num_cols_all)\n",
        "\n",
        "    if np.sum(np.abs(num_cols_all - num_cols)) != 0:   # Make sure all rows have same length\n",
        "        for i in range(num_rows): board[i] += (num_cols - num_cols_all[i])*'o'\n",
        "\n",
        "    \n",
        "    o_count, g_count = 0, 0    # Make sure there is at least one open space and goal\n",
        "    for i in range(num_rows):\n",
        "        for j in range(num_cols):\n",
        "            if board[i][j] == 'o': o_count += 1\n",
        "            if board[i][j] == 'G': g_count += 1\n",
        "    if o_count == 0: board[0] = 'o' + board[0][1:]\n",
        "    if g_count == 0: board[0] = board[0][0] + 'G' + board[0][2:]\n",
        "    return board\n",
        "\n",
        "\n",
        "# Turn a proposed board into a gridworld environment.\n",
        "def setup_gridworld(board, step_limit=100, goal_reward=10, move_cost=-1):\n",
        "    board = enforce_consistency(board)\n",
        "    num_rows, num_cols = len(board), len(board[0])\n",
        "    \n",
        "    # Set up state space\n",
        "    x, y = np.arange(num_cols), np.arange(num_rows)\n",
        "    state_space = np.array([ (x_, y_) for x_ in x for y_ in y])\n",
        "    state_space = np.reshape(state_space, (num_cols, num_rows, 2))\n",
        "    print(\"State space shape: \", state_space.shape)\n",
        "    \n",
        "    # Locate free squares\n",
        "    free = []\n",
        "    for i in range(num_rows):\n",
        "        for j in range(num_cols):\n",
        "            if board[i][j] == 'o': free.append((j,i))\n",
        "\n",
        "    # Set up action space\n",
        "    action_space = ['up', 'down', 'right', 'left']\n",
        "    action_number = {\"up\":0, \"down\":1, \"right\":2, \"left\":3}\n",
        "    num_actions = len(action_space)\n",
        "    print(\"Action space: \", action_space)\n",
        "\n",
        "    # Define dictionary of useful environment-related parameters\n",
        "    env_params = {\"num_rows\":num_rows, \"num_cols\":num_cols, \"state_space\":state_space, \"action_space\":action_space, \"step_limit\":step_limit,\n",
        "                  \"free\":free, \"num_actions\":num_actions, \"action_number\":action_number, \n",
        "                  \"goal_reward\":goal_reward, \"move_cost\":move_cost,\n",
        "                  \"board\":board}\n",
        "    return board, env_params\n",
        "\n",
        "\n",
        "# @title Defining the gridworld environment\n",
        "def grid_step(state, action, num_steps, env_params):\n",
        "    board, num_rows, num_cols = env_params['board'], env_params['num_rows'], env_params['num_cols'] \n",
        "    goal_reward, move_cost = env_params['goal_reward'], env_params['move_cost']\n",
        "    step_limit = env_params[\"step_limit\"]\n",
        "    \n",
        "    x, y = state\n",
        "    x_, y_ = x, y\n",
        "\n",
        "    if action == \"up\": y_ = (y - 1)*(y > 0)\n",
        "    elif action == \"down\": y_ = (y + 1)*(y < (num_rows - 1)) + y*(y == num_rows - 1)\n",
        "    elif action == \"right\": x_ = (x + 1)*(x < (num_cols - 1)) + x*(x == num_cols - 1)\n",
        "    elif action == \"left\": x_ = (x - 1)*(x > 0)\n",
        "\n",
        "    if board[y_][x_]!='x': x, y = x_, y_  # Make sure target state is reachable\n",
        "    state = (x, y)\n",
        "    \n",
        "    if board[y][x]=='G':    # Check for reaching goal state\n",
        "        done = True\n",
        "        reward = goal_reward + move_cost\n",
        "    else:\n",
        "        reward = move_cost\n",
        "        if num_steps >= step_limit: done = True\n",
        "        else: done = False\n",
        "\n",
        "    return state, reward, done\n",
        "\n",
        "\n",
        "# Randomly initialize gridworld: put agent in a random open (non-goal) space.\n",
        "def randomly_initialize_gridworld(env_params):\n",
        "    free = env_params['free']\n",
        "    state = free[np.random.choice(len(free))]\n",
        "    return state"
      ],
      "metadata": {
        "cellView": "form",
        "id": "u62ArigRr-GL"
      },
      "execution_count": null,
      "outputs": []
    },
    {
      "cell_type": "code",
      "source": [
        "# @title Plotting and visualization code\n",
        "\n",
        "# This function draws a checkerboard (but does not plot it).\n",
        "# The generated image shows the configuration of the board, including the\n",
        "# goal location, the location of obstacles, etc.\n",
        "def get_checkerboard(ax, board):\n",
        "    num_rows, num_cols = len(board), len(board[0])\n",
        "\n",
        "    # Create checkerboard\n",
        "    checkerboard = np.zeros((num_rows, num_cols))\n",
        "    for i in range(num_rows): checkerboard[i][i%2::2] = 1\n",
        "    cmap = LinearSegmentedColormap.from_list(\"checkerboard\", colors=[\"antiquewhite\", \"seashell\"], N=2)\n",
        "    ax.imshow(checkerboard, interpolation='nearest', cmap=cmap)\n",
        "\n",
        "    # Add border\n",
        "    rect_border = plt.Rectangle((-0.5,-0.5), num_cols, num_rows, fc=None, ec=\"brown\", fill=False)\n",
        "    ax.add_patch(rect_border)\n",
        "\n",
        "    # Add obstacles/goals\n",
        "    for i in range(num_rows):\n",
        "        for j in range(num_cols):\n",
        "            square, x, y = board[i][j], j - 0.5, i - 0.5\n",
        "\n",
        "            if square != 'o':\n",
        "                if square == 'x': square_color='black'\n",
        "                if square == 'G': square_color='palegreen'\n",
        "                \n",
        "                rect_goal = plt.Rectangle((x, y), 1, 1, fc=square_color, ec=None, fill=True)\n",
        "                ax.add_patch(rect_goal)\n",
        "\n",
        "    # Set bounds and remove axes\n",
        "    ax.set_xlim(-1, num_cols); ax.set_ylim(-1, num_rows); \n",
        "    ax.invert_yaxis(); ax.axis('off')\n",
        "    return ax\n",
        "\n",
        "\n",
        "# This function plots the board.\n",
        "def visualize_board(board):\n",
        "    board = enforce_consistency(board)\n",
        "    fig, ax = plt.subplots(figsize=(8,6))\n",
        "    get_checkerboard(ax, board)\n",
        "    plt.show()\n",
        "    return\n",
        "\n",
        "\n",
        "# Visualize the value function.\n",
        "def visualize_value_function(ax, V, env_params):\n",
        "    board = env_params['board']\n",
        "    num_rows, num_cols = len(board), len(board[0])\n",
        "\n",
        "    get_checkerboard(ax, board)\n",
        "\n",
        "    # Add in value function annotations\n",
        "    for i in range(num_rows):\n",
        "        for j in range(num_cols):\n",
        "            if board[i][j] == 'o':\n",
        "                ax.text(j, i, str(round(V[j,i],2)), horizontalalignment='center', verticalalignment='center', fontsize=15)\n",
        "\n",
        "    ax.set_title(\"Value function\", fontsize=20)\n",
        "    return\n",
        "\n",
        "\n",
        "# Generate a set of arrows that represent a policy.\n",
        "def get_policy_arrows(policy, env_params, policy_params=None):\n",
        "    state_space = env_params[\"state_space\"]\n",
        "    board = env_params['board']\n",
        "    num_rows, num_cols = len(board), len(board[0])\n",
        "\n",
        "    num_tries = 16    # hyperparameter representing how many action selections we're averaging over\n",
        "\n",
        "    policy_x, policy_y = np.zeros((num_rows, num_cols)), np.zeros((num_rows, num_cols))\n",
        "    for x in range(num_cols):\n",
        "        for y in range(num_rows):\n",
        "            state = (x, y)\n",
        "            if board[y][x]=='o':\n",
        "                px_list, py_list = np.zeros(num_tries), np.zeros(num_tries)\n",
        "                for i in range(num_tries):\n",
        "                    action = policy(state, env_params, policy_params)\n",
        "            \n",
        "                    if action == \"up\": px_list[i] = 0; py_list[i] = 1\n",
        "                    elif action == \"down\": px_list[i] = 0; py_list[i] = -1\n",
        "                    elif action == \"left\": px_list[i] = -1; py_list[i] = 0\n",
        "                    elif action == \"right\": px_list[i] = 1; py_list[i] = 0\n",
        "\n",
        "                policy_x[y, x] = np.mean(px_list)\n",
        "                policy_y[y, x] = np.mean(py_list)\n",
        "\n",
        "    return policy_x, policy_y\n",
        "\n",
        "\n",
        "# Visualize a policy using arrows.\n",
        "def visualize_policy(ax, policy, env_params, policy_params = None):\n",
        "    board = env_params['board']\n",
        "    num_rows, num_cols = len(board), len(board[0])\n",
        "\n",
        "    policy_x, policy_y = get_policy_arrows(policy, env_params, policy_params)\n",
        "\n",
        "    get_checkerboard(ax, board)\n",
        "\n",
        "    # Add in policy arrows\n",
        "    X_grid, Y_grid = np.meshgrid(np.arange(num_cols), np.arange(num_rows))\n",
        "    ax.quiver(X_grid, Y_grid, policy_x, policy_y, scale=10,zorder=2)\n",
        "    ax.set_title(\"Policy\", fontsize=20)\n",
        "    return\n",
        "\n",
        "\n",
        "# Visualize policy, value, and prediction error over time in a multi-panel plot.\n",
        "def visualize_policy_and_value(policy, value, delta, env_params, policy_params = None, name='grid_pv'):\n",
        "    fig, ax = plt.subplots(1,3, figsize=((24,6)), gridspec_kw={'width_ratios':[1, 1, 2]})   # 12, 6\n",
        "\n",
        "    visualize_policy(ax[0], policy, env_params, policy_params)\n",
        "    visualize_value_function(ax[1], V, env_params)\n",
        "\n",
        "    ax[2].plot(delta, color='red')\n",
        "    ax[2].set_title(\"Prediction error\", fontsize=20)\n",
        "    ax[2].set_xlabel(\"Time step\", fontsize=20)\n",
        "    ax[2].set_ylabel(\"Prediction error\", fontsize=20)\n",
        "    ax[2].set_title(\"Prediction error over time\", fontsize=20)\n",
        "    plt.show()\n",
        "    return\n",
        "\n",
        "\n",
        "# This function visualizes the current simulation state.\n",
        "def visualize_simulation_state(state, env_params):\n",
        "    board = env_params['board']\n",
        "    x, y = state\n",
        "    fig, ax = plt.subplots(figsize=(8,6))\n",
        "    ax = get_checkerboard(ax, board)\n",
        "    rect_agent = plt.Rectangle((-0.5 +x,-0.5 + y), 1, 1, fc=\"yellow\", ec=None, fill=True)\n",
        "    ax.add_patch(rect_agent)\n",
        "    plt.show()\n",
        "    return\n",
        "\n",
        "\n",
        "# This function visualizes the current simulation frame (similar to above, but used for video).\n",
        "def visualize_simulation_frame(ax, state, env_params):\n",
        "    board = env_params['board']\n",
        "    x, y = state\n",
        "    ax = get_checkerboard(ax, board)\n",
        "    rect_agent = plt.Rectangle((-0.5 +x,-0.5 + y), 1, 1, fc=\"yellow\", ec=None, fill=True)\n",
        "    ax.add_patch(rect_agent)\n",
        "    return\n",
        "\n",
        "\n",
        "# Makes an HTML video of an episode.\n",
        "def visualize_simulation(state_list, episode_id, env_params):\n",
        "  fig, ax = plt.subplots(figsize=(8,6))\n",
        "\n",
        "  def frame(w):\n",
        "      ax.clear()\n",
        "      visualize_simulation_frame(ax, state_list[w], env_params)\n",
        "      ax.set_title(\"Episode \"+str(episode_id[w]), fontsize=20)\n",
        "      return ax\n",
        "\n",
        "  anim = animation.FuncAnimation(fig, frame, frames=len(state_list), blit=False, repeat=True)\n",
        "\n",
        "  html = HTML(anim.to_html5_video())\n",
        "  plt.close()\n",
        "  display(html)\n",
        "  return"
      ],
      "metadata": {
        "id": "G9X2oGWGrGx7",
        "cellView": "form"
      },
      "execution_count": null,
      "outputs": []
    },
    {
      "cell_type": "code",
      "source": [
        "# @title Code for reading in human input\n",
        "\n",
        "# Read in human action from typed text.\n",
        "# Can use shortcuts from up/down/left/right.\n",
        "# If user types in nonsense, chooses action to be 'up'.\n",
        "def get_human_action():\n",
        "    action_space = ['up', 'down', 'right', 'left']\n",
        "    action = input().lower()\n",
        "    \n",
        "    if action!='':\n",
        "        if action[0]=='u': action = 'up'\n",
        "        if action[0]=='d': action = 'down'\n",
        "        if action[0] == 'r': action = 'right'\n",
        "        if action[0] == 'l': action = 'left'\n",
        "        if action not in action_space: action = 'up'\n",
        "    return action"
      ],
      "metadata": {
        "cellView": "form",
        "id": "hZ-Ytg8d3ebF"
      },
      "execution_count": null,
      "outputs": []
    },
    {
      "cell_type": "code",
      "source": [
        "# Make your own board here. Need at least one open space ('o') and goal space ('G').\n",
        "# o : open space \n",
        "# x : wall (can't go onto or through this square)\n",
        "# G : goal (positive reward, episode ends when reach this)\n",
        "board = [ 'oxxoo',\n",
        "          'oxooo',\n",
        "          'oxoxo',\n",
        "          'oooxG' ]\n",
        "\n",
        "board, env_params = setup_gridworld(board, step_limit=100, goal_reward=10, move_cost=-1)   # Create gridworld environment from board\n",
        "visualize_board(board)                                                                     # Visualize it "
      ],
      "metadata": {
        "colab": {
          "base_uri": "https://localhost:8080/",
          "height": 392
        },
        "id": "z69FcNsIpUNi",
        "outputId": "05687c68-0ddd-4f6c-fcf1-897d768f38fb"
      },
      "execution_count": null,
      "outputs": [
        {
          "output_type": "stream",
          "name": "stdout",
          "text": [
            "State space shape:  (5, 4, 2)\n",
            "Action space:  ['up', 'down', 'right', 'left']\n"
          ]
        },
        {
          "output_type": "display_data",
          "data": {
            "text/plain": [
              "<Figure size 576x432 with 1 Axes>"
            ],
            "image/png": "[encoded data removed]"
          },
          "metadata": {
            "needs_background": "light"
          }
        }
      ]
    },
    {
      "cell_type": "markdown",
      "source": [
        "Try playing it yourself by running the following code!\n",
        "\n",
        "Also, pay attention to the structure of the loop below. For studying RL, you will often have to implement something like this (perform action, determine consequences, perform action, determine consequences...)."
      ],
      "metadata": {
        "id": "7D76iYSq1-kR"
      }
    },
    {
      "cell_type": "code",
      "source": [
        "state = randomly_initialize_gridworld(env_params)     # Randomly initialize state\n",
        "num_steps, done, total_reward = 0, False, 0           # Initialize episode progress counters\n",
        "\n",
        "while True:    # Loop until you reach goal or hit max number of steps.\n",
        "    visualize_simulation_state(state, env_params)\n",
        "    print(\"Total reward: \", total_reward); print('What will you do? (type up/down/left/right, or just press enter to quit)')\n",
        "\n",
        "    action = get_human_action()\n",
        "    if action=='': break\n",
        "    else: \n",
        "        state, reward, done = grid_step(state, action, num_steps, env_params)       # Perform the action and see what happens\n",
        "        num_steps += 1; total_reward += reward\n",
        "        if done: break\n",
        "\n",
        "    clear_output(wait=True)\n",
        "    \n",
        "clear_output(wait=True)\n",
        "visualize_simulation_state(state, env_params)\n",
        "print(\"Final score: \", total_reward)"
      ],
      "metadata": {
        "colab": {
          "base_uri": "https://localhost:8080/",
          "height": 374
        },
        "id": "law6tH0Z2YHE",
        "outputId": "7a644d2e-a632-4a80-a5d9-40ad69fc66f5"
      },
      "execution_count": null,
      "outputs": [
        {
          "output_type": "display_data",
          "data": {
            "text/plain": [
              "<Figure size 576x432 with 1 Axes>"
            ],
            "image/png": "[encoded data removed]"
          },
          "metadata": {
            "needs_background": "light"
          }
        },
        {
          "output_type": "stream",
          "name": "stdout",
          "text": [
            "Final score:  5\n"
          ]
        }
      ]
    },
    {
      "cell_type": "markdown",
      "source": [
        "Try printing out various things to figure out what states/actions/etc look like. For example:"
      ],
      "metadata": {
        "id": "gzpRuzgm4f1-"
      }
    },
    {
      "cell_type": "code",
      "source": [
        "state = randomly_initialize_gridworld(env_params)\n",
        "state = (1,3)\n",
        "num_steps = 0\n",
        "print(\"Starting state: \", state)\n",
        "\n",
        "action = 'up'\n",
        "print(\"Trying action:\", action)\n",
        "\n",
        "state_next, reward, done = grid_step(state, action, num_steps, env_params)\n",
        "print(\"State after trying that action: \", state_next)\n",
        "print(\"Reward after trying that action: \", reward)\n",
        "print(\"Reached goal or hit step count: \", done)"
      ],
      "metadata": {
        "colab": {
          "base_uri": "https://localhost:8080/"
        },
        "id": "nyzqaP0B4vJZ",
        "outputId": "72c05d15-9053-4a11-faba-ab33f12854ae"
      },
      "execution_count": null,
      "outputs": [
        {
          "output_type": "stream",
          "name": "stdout",
          "text": [
            "Starting state:  (1, 3)\n",
            "Trying action: up\n",
            "State after trying that action:  (1, 3)\n",
            "Reward after trying that action:  -1\n",
            "Reached goal or hit step count:  False\n"
          ]
        }
      ]
    },
    {
      "cell_type": "markdown",
      "source": [
        "Here, states are pairs of numbers $(x, y)$. For a 10x10 grid, $(0,0)$ refers to the square in the top left corner, $(9,0)$ refers to the square in the top right corner, and $(9,9)$ refers to the square in the bottom right corner."
      ],
      "metadata": {
        "id": "fXSb0Y1_5TAO"
      }
    },
    {
      "cell_type": "markdown",
      "source": [
        "Actions are one of the following: `['up', 'down', 'right', 'left']`."
      ],
      "metadata": {
        "id": "vn44xH8Z51Jh"
      }
    },
    {
      "cell_type": "markdown",
      "source": [
        "Rewards are just numbers. The default settings have $-1$ as the reward associated with moving, and $+10$ as the reward associated with reaching a goal square. You can change this by passing in different parameters to the `setup_gridworld` function."
      ],
      "metadata": {
        "id": "cUbJpx-V58qH"
      }
    },
    {
      "cell_type": "markdown",
      "source": [
        "A variety of useful information is contained in the dictionary `env_params`, including the list of strings that represents the board configuration (i.e. where the goal is and where the obstacles are). This is what gets passed to various functions."
      ],
      "metadata": {
        "id": "ND5vS-HZ6P6B"
      }
    },
    {
      "cell_type": "code",
      "source": [
        "env_params"
      ],
      "metadata": {
        "colab": {
          "base_uri": "https://localhost:8080/"
        },
        "id": "AhIkMqw16aja",
        "outputId": "ed392993-aa82-44dc-e9cb-3f84ec8cfc05"
      },
      "execution_count": null,
      "outputs": [
        {
          "output_type": "execute_result",
          "data": {
            "text/plain": [
              "{'num_rows': 4, 'num_cols': 5, 'state_space': array([[[0, 0],\n",
              "         [0, 1],\n",
              "         [0, 2],\n",
              "         [0, 3]],\n",
              " \n",
              "        [[1, 0],\n",
              "         [1, 1],\n",
              "         [1, 2],\n",
              "         [1, 3]],\n",
              " \n",
              "        [[2, 0],\n",
              "         [2, 1],\n",
              "         [2, 2],\n",
              "         [2, 3]],\n",
              " \n",
              "        [[3, 0],\n",
              "         [3, 1],\n",
              "         [3, 2],\n",
              "         [3, 3]],\n",
              " \n",
              "        [[4, 0],\n",
              "         [4, 1],\n",
              "         [4, 2],\n",
              "         [4, 3]]]), 'action_space': ['up',\n",
              "  'down',\n",
              "  'right',\n",
              "  'left'], 'step_limit': 100, 'free': [(0, 0),\n",
              "  (1, 0),\n",
              "  (2, 0),\n",
              "  (3, 0),\n",
              "  (4, 0),\n",
              "  (0, 1),\n",
              "  (1, 1),\n",
              "  (2, 1),\n",
              "  (3, 1),\n",
              "  (4, 1),\n",
              "  (0, 2),\n",
              "  (1, 2),\n",
              "  (2, 2),\n",
              "  (3, 2),\n",
              "  (4, 2),\n",
              "  (0, 3),\n",
              "  (1, 3),\n",
              "  (2, 3),\n",
              "  (3, 3)], 'num_actions': 4, 'action_number': {'up': 0,\n",
              "  'down': 1,\n",
              "  'right': 2,\n",
              "  'left': 3}, 'goal_reward': 10, 'move_cost': -1, 'board': ['ooooo',\n",
              "  'ooooo',\n",
              "  'ooooo',\n",
              "  'ooooG']}"
            ]
          },
          "metadata": {},
          "execution_count": 134
        }
      ]
    },
    {
      "cell_type": "markdown",
      "source": [
        "Retrieving the following information may be needed for your Q-learning/actor-critic implementations (or at least, it was for mine):"
      ],
      "metadata": {
        "id": "JVVaqbu07Aa8"
      }
    },
    {
      "cell_type": "code",
      "source": [
        "action_space = env_params[\"action_space\"]\n",
        "action_number = env_params[\"action_number\"]\n",
        "num_actions = env_params[\"num_actions\"]\n",
        "\n",
        "print(\"Action space: \", action_space)\n",
        "print(\"Action number: \", action_number)\n",
        "print(\"num_actions: \", num_actions)"
      ],
      "metadata": {
        "colab": {
          "base_uri": "https://localhost:8080/"
        },
        "id": "xWYT98D77ENf",
        "outputId": "857395b2-36c7-41dc-f519-7b7ac60495bd"
      },
      "execution_count": null,
      "outputs": [
        {
          "output_type": "stream",
          "name": "stdout",
          "text": [
            "Action space:  ['up', 'down', 'right', 'left']\n",
            "Action number:  {'up': 0, 'down': 1, 'right': 2, 'left': 3}\n",
            "num_actions:  4\n"
          ]
        }
      ]
    },
    {
      "cell_type": "markdown",
      "source": [
        "This is because, if you want to choose a random action, one way to do it is to choose a random number between 0 and `num_actions`-1. The `action_number` dictionary is a convenience tool that helps you turn actions like `'up'` into numbers."
      ],
      "metadata": {
        "id": "lWrBF-qI9BBB"
      }
    },
    {
      "cell_type": "markdown",
      "source": [
        "### Simulating interactions between the environment and artificial agents"
      ],
      "metadata": {
        "id": "vnpYEBotMYfP"
      }
    },
    {
      "cell_type": "markdown",
      "source": [
        "To simulate interactions between artificial agents and the environment, we need two things: (i) something that specifies how the artificial agents act, and (ii) a state-action-reward loop similar to the one above."
      ],
      "metadata": {
        "id": "G2m2GYjtM-Wv"
      }
    },
    {
      "cell_type": "markdown",
      "source": [
        "Policies map states $[x, y]$ to actions (here: up, down, right, left). Here are some (not particularly effective) example policies:"
      ],
      "metadata": {
        "id": "6R-ilOjVNWIL"
      }
    },
    {
      "cell_type": "code",
      "source": [
        "# Chooses a random direction to move every time.\n",
        "def policy_random(state, env_params, policy_params):\n",
        "    action_space = env_params[\"action_space\"]\n",
        "    return np.random.choice(action_space)\n",
        "\n",
        "# Always moves down.\n",
        "def policy_up(state, env_params, policy_params):\n",
        "    return \"up\"\n",
        "\n",
        "# Always moves right.\n",
        "def policy_right(state, env_params, policy_params):\n",
        "    return \"right\"\n",
        "\n",
        "# Moves down until it reaches the bottom of the grid, then moves right.\n",
        "def policy_downright(state, env_params, policy_params):\n",
        "    num_rows, num_cols = env_params['num_rows'], env_params['num_cols']\n",
        "    x, y = state\n",
        "\n",
        "    if y != (num_rows - 1): action = 'down'\n",
        "    else: action = 'right'\n",
        "    return action\n",
        "\n",
        "# Bottom row: move right.\n",
        "# If on leftmost or rightmost column, but not bottom row: move down.\n",
        "# Otherwise, for even rows: move left until hits edge.\n",
        "# For odd rows: move right until hits edge.\n",
        "def policy_leftrightdown(state, env_params, policy_params):\n",
        "    num_rows, num_cols = env_params['num_rows'], env_params['num_cols']\n",
        "    x, y = state\n",
        "\n",
        "    if y== (num_rows - 1): action = 'right'\n",
        "    elif (x==0 or x==(num_cols-1)): action = 'down'\n",
        "    else:\n",
        "        if y%2 == 0: action = 'left'\n",
        "        else: action = 'right'\n",
        "    return action"
      ],
      "metadata": {
        "id": "u7x7J_YrNh5L"
      },
      "execution_count": null,
      "outputs": []
    },
    {
      "cell_type": "markdown",
      "source": [
        "We would also like our artificial agents to be able to update their behavior as they learn from trial and error. We will assume they do so through functions of the following form:"
      ],
      "metadata": {
        "id": "Roo6ksK5PzKy"
      }
    },
    {
      "cell_type": "code",
      "source": [
        "# Just an example to show you the form of 'update' rules. \n",
        "# The temporal difference / Q-learning / actor-critic functions should look like this, but with details filled in.\n",
        "def update_example(move_info, policy, V, policy_params, learning_params):\n",
        "\n",
        "    # Agent updates its behavior somehow\n",
        "    # e.g. updates value function estimate or policy parameters\n",
        "\n",
        "    delta = 0    # reward prediction error; for this trivial example, nothing is ever learned\n",
        "\n",
        "    return policy_params, V, delta"
      ],
      "metadata": {
        "id": "-pBecIMMQThm"
      },
      "execution_count": null,
      "outputs": []
    },
    {
      "cell_type": "markdown",
      "metadata": {
        "id": "WHO_U9w8PsIN"
      },
      "source": [
        "The below code simulates the state-action-reward loop of an agent interacting with the environment. \n",
        "\n",
        "The agent steps through the environment many times, for many episodes. At each time step, it improves its value function and/or policy estimates."
      ]
    },
    {
      "cell_type": "code",
      "execution_count": null,
      "metadata": {
        "id": "YnF7La1EPsIm"
      },
      "outputs": [],
      "source": [
        "# Simulate gridworld using an artificial agent that learns from trial and error.\n",
        "def simulate_gridworld(policy, value, update, env_params, learning_params, policy_params = None, num_episodes = 500):\n",
        "    state_list, episode_list, delta_list = [], [], []    # Initialize lists of data\n",
        "\n",
        "    for i in range(num_episodes):      # Simulate for many episodes.\n",
        "\n",
        "        state = randomly_initialize_gridworld(env_params)     # Randomly initialize state\n",
        "        state_list.append(state), episode_list.append(i+1)    # Add initial state info to state and episode lists\n",
        "        num_steps, done = 0, False                            # Initialize episode progress counters\n",
        "\n",
        "        while True:         # Step forward in time until episode is over.\n",
        "            action = policy(state, env_params, policy_params)                                       # Choose an action according to the policy\n",
        "            state_new, reward, done = grid_step(state, action, num_steps, env_params)               # Perform the action and see what happens\n",
        "            move_info = {\"state\":state, \"state_new\":state_new, \"reward\":reward, \"action\":action}    # Summary of move info\n",
        "\n",
        "            policy_params, value, delta = update(move_info, policy, value, policy_params, learning_params)     # Use that info to update\n",
        "\n",
        "            state_list.append(state_new), episode_list.append(i+1), delta_list.append(delta)   # Record info for plotting      \n",
        "            num_steps, state = num_steps + 1, state_new                                        # Update state and move on\n",
        "\n",
        "            if done: break          # If hit max number of steps or reached goal, end this episode\n",
        "\n",
        "    return policy_params, value, delta_list, state_list, episode_list"
      ]
    },
    {
      "cell_type": "markdown",
      "source": [
        "Alternatively, if you are only interested in simulating your agent's current behavior, you can use the following slightly simpler code:"
      ],
      "metadata": {
        "id": "_3YgEboFbjf-"
      }
    },
    {
      "cell_type": "code",
      "source": [
        "# Simulate gridworld using an artificial agent (no learning).\n",
        "def simulate_gridworld_trained(policy, env_params, policy_params = None, num_episodes = 500):\n",
        "    state_list, episode_list = [], []         # Initialize lists of data\n",
        "\n",
        "    for i in range(num_episodes):      # Simulate for many episodes.\n",
        "\n",
        "        state = randomly_initialize_gridworld(env_params)     # Randomly initialize state\n",
        "        state_list.append(state), episode_list.append(i+1)    # Add initial state info to state and episode lists\n",
        "        num_steps, done = 0, False                            # Initialize episode progress counters\n",
        "\n",
        "        while True:         # Step forward in time until episode is over.\n",
        "            action = policy(state, env_params, policy_params)                                       # Choose an action according to the policy\n",
        "            state_new, reward, done = grid_step(state, action, num_steps, env_params)               # Perform the action and see what happens\n",
        "\n",
        "            state_list.append(state_new), episode_list.append(i+1)                             # Record info for plotting      \n",
        "            num_steps, state = num_steps + 1, state_new                                        # Update state and move on\n",
        "\n",
        "            if done: break          # If hit max number of steps or reached goal, end this episode\n",
        "\n",
        "    return state_list, episode_list"
      ],
      "metadata": {
        "id": "m3nKO7vEbysu"
      },
      "execution_count": null,
      "outputs": []
    },
    {
      "cell_type": "markdown",
      "source": [
        "The below code simulates the agent interacting with the environment, and then visualizes the result as a video."
      ],
      "metadata": {
        "id": "QPPhF5YZUef4"
      }
    },
    {
      "cell_type": "code",
      "source": [
        "# Choose policy for the agent to use\n",
        "policy = policy_random\n",
        "V, update = np.zeros_like(env_params['state_space']), update_example\n",
        "\n",
        "policy_params, V, delta_list, state_list, episode_list = simulate_gridworld(policy, V, update, env_params, learning_params={}, num_episodes = 3)  # Simulate\n",
        "\n",
        "\n",
        "show_simulation =  True; frame_cap = 200   # Optional (and kind of slow) but informative: show simulation\n",
        "if show_simulation: visualize_simulation(state_list[:frame_cap], episode_list[:frame_cap], env_params)"
      ],
      "metadata": {
        "colab": {
          "base_uri": "https://localhost:8080/",
          "height": 453
        },
        "id": "i2oEjFFgRiy1",
        "outputId": "135be9be-4c42-405d-c48c-e75e5ac40180"
      },
      "execution_count": null,
      "outputs": [
        {
          "output_type": "display_data",
          "data": {
            "text/plain": [
              "<IPython.core.display.HTML object>"
            ],
            "text/html": [
              "<video width=\"576\" height=\"432\" controls autoplay loop>\n",
              "  <source type=\"video/mp4\" src=\"data:video/mp4;base64,AAAAHGZ0eXBNNFYgAAACAGlzb21pc28yYXZjMQAAAAhmcmVlAABaXG1kYXQAAAKtBgX//6ncRem9\n",
              "5tlIt5Ys2CDZI+7veDI2NCAtIGNvcmUgMTUyIHIyODU0IGU5YTU5MDMgLSBILjI2NC9NUEVHLTQg\n",
              "QVZDIGNvZGVjIC0gQ29weWxlZnQgMjAwMy0yMDE3IC0gaHR0cDovL3d3dy52aWRlb2xhbi5vcmcv\n",
              "eDI2NC5odG1sIC0gb3B0aW9uczogY2FiYWM9MSByZWY9MyBkZWJsb2NrPTE6MDowIGFuYWx5c2U9\n",
              "MHgzOjB4MTEzIG1lPWhleCBzdWJtZT03IHBzeT0xIHBzeV9yZD0xLjAwOjAuMDAgbWl4ZWRfcmVm\n",
              "PTEgbWVfcmFuZ2U9MTYgY2hyb21hX21lPTEgdHJlbGxpcz0xIDh4OGRjdD0xIGNxbT0wIGRlYWR6\n",
              "b25lPTIxLDExIGZhc3RfcHNraXA9MSBjaHJvbWFfcXBfb2Zmc2V0PS0yIHRocmVhZHM9MyBsb29r\n",
              "YWhlYWRfdGhyZWFkcz0xIHNsaWNlZF90aHJlYWRzPTAgbnI9MCBkZWNpbWF0ZT0xIGludGVybGFj\n",
              "ZWQ9MCBibHVyYXlfY29tcGF0PTAgY29uc3RyYWluZWRfaW50cmE9MCBiZnJhbWVzPTMgYl9weXJh\n",
              "bWlkPTIgYl9hZGFwdD0xIGJfYmlhcz0wIGRpcmVjdD0xIHdlaWdodGI9MSBvcGVuX2dvcD0wIHdl\n",
              "aWdodHA9MiBrZXlpbnQ9MjUwIGtleWludF9taW49NSBzY2VuZWN1dD00MCBpbnRyYV9yZWZyZXNo\n",
              "PTAgcmNfbG9va2FoZWFkPTQwIHJjPWNyZiBtYnRyZWU9MSBjcmY9MjMuMCBxY29tcD0wLjYwIHFw\n",
              "bWluPTAgcXBtYXg9NjkgcXBzdGVwPTQgaXBfcmF0aW89MS40MCBhcT0xOjEuMDAAgAAAB5NliIQA\n",
              "Ev/+963fgU3AQO1rulc4tMurlDQ9UfaUpni2SAAAAwAAAwACEXCk3XMfRB1oUgfwVU/gCizD5ANu\n",
              "JOPMEZhMgkN5fRP47JI682aD8eqbioe6YmZMb4S5AJHYgAAB2QiaSHBAi/9YV+TK3V2XtmJDKPEk\n",
              "qv8nnhr54T4XhSSrJjmc9s2rrlxQGFK07PBGNOLEdE2pGESkrMOY5ofZGiYb/uszrU/IBGHukOjv\n",
              "rHPPDulLndK47rNPimluDigPhid2UfDsv2CSGpEU6xWehUAXA78xwnXxq43u6cvz+3NdSxgWMoG7\n",
              "g5MHdfCfX2biziwPfF6cOc2/8cMXl9z4L5nrKUUGzjyiuHJ/6uHznhmKPh9Qbgw6Q4FD1m9vD4Yw\n",
              "kmw1CvWJzqWkbIAFWxbO9aSO/GdtnpB8PEZpGauzynm546CQ/6+DyKCpwBb6rvRzdh/bqJK/dRLl\n",
              "3fRoBc8M6z1T0GqwHhIyAVTzyZK0cr4ZBynkIkSwthZyonvEMs2CaIk59AsyI4a08UGBik1Bo+Vg\n",
              "ejblaxfZzI/jjBJIHPe7vGWZMRFwswhXzD4nz5OJt1CCzBhGG9qYaI/yngnorZfiQQFhZlDQWZC1\n",
              "26Vr7lVGaubEXMmeXBqIWfNRDQMBm/Cet75cO10mW8mAKBn3l6M4+RqX6vS4NLH0F7tryW8gU9Si\n",
              "d18xoGtNZ5fhZkXd2MzCymWIm4S2gYmzS5FbJua9RX6zaIr2UGY0jdbH+jn0eoz1U6jAJn/Q+atz\n",
              "eRoxsFPjVt1AfYep/Vgfj4WXMMQiyQPzQhBs0OhsoMTWv2LHhzzJPuaWU1XB1eka7YiEM8xwLIzN\n",
              "4OLbOf8h9ySVjAL056d4fmg/uZgbj9ApB0FoFqafrIV1v6Pz8vdgK8t/6U0CHsfkyMdo4WHzB5BJ\n",
              "eHUsTg1yt2QgNGq/oR5+UC6ztDXDjQ44eeZYg76edff0rPYsy+EI5TzjvcWVKlo4VefnB1J7ojZU\n",
              "9XcO//9f1JNp77izK1sy8gadobkUfkJ5RdmUzIAvJuje4ePNLha2Shcy7L4T0/xwzYVqu7ivFSIF\n",
              "PV7cKPYVHoym9d4XdidS7l8FGjm0oIYkz6TDZXSCcUIwSA7MvPgCiG8KruSLTcV/qJFQIOLFGNz9\n",
              "7BxMUlFhGTXkciBAv9s9L3pQQiDQdGMIt23cOv9d7/HhO3EGxBCIHptdXGvtX2LluU8g8cbxIClV\n",
              "t84b7V4WzTJidqhTCfwoVQNj2niD/j7tNE6g7GQ7uY7VCT13pUfCYqUFFC8AEtQcYLZ7v7SI3mDZ\n",
              "W4k20ABsUOzvEs0NY/Id+PTno6n6zcWCZff/+mESYiCaNJuQMGhzcgKgBlIOKyY87B9J0RB3fB7+\n",
              "5+J//DsVQqQYCiDsTDBtNc9bI1SuHyBtRkOyQbq1gq1jLZ01DHp+BUUT3/m5d++hL95k//yVuATt\n",
              "mM/D5ObbifacyF5qIophEgizwCVOEeQADlsdhZ9EtVDrZ6LwYWMc6sE/dDjz59PrNFj4xM/qHitB\n",
              "V4BX5xhCuXjXRfakMru5YXfZDpRbEhu5JtYh43yn4pc42HB2MGjqofTcRvgpnwOtlvfZF/tmJgD/\n",
              "HwFThSTFm9jGvvAM79U7le6KOetFKsdsM4yj2+Wk5/V37heSXkRczXDSYxJfZ135/uVBgD9wwBDy\n",
              "d5TSqPIVIyHpimWd4WwUKZGDRaYkxQ87cEZ0olCF8OpJzl+Idb95/QBnkBam7GjaDgTWqSlgv94o\n",
              "kJtLd3aRrfHbK9SQcGUDWL9VEdrZFH0XW3E5kXqT+IU/R/5L8tjFhTtSYgeDkY7W8NlCw9vUQJTZ\n",
              "3EbLMxkX9iW8PCP19beQoQ2cJjpZ2sRi/s+U3CWq59UX53aTo7P719d38AD+noMO3eH9HhlMF8ne\n",
              "QAU107FV860efPvEhZn9D6q5WpWaVL8BSD9hnrLdaWCxWUPSueHbvcUJWHuK8ne/y9ynJZ43B/l+\n",
              "RgusLqZJg9BQdtZi5Q9CN47gRwhKFDYnkq/ipYzd18ZV2pJmghG/hTg7KJs85rzNY9UVnTBdKMgQ\n",
              "0AAEH9qfiKCKD7xs4e7LhmDp0IKEb9dLWzU29rYS/xUy8lbbKPE+/OWSwW6RvfvuX76nLS2EPLTc\n",
              "fHq6o4ZAQ+C6W1E9ipILtOA7LKTAa384AKlvZl8ptE+O7tl9skV5j4fwZkbzXoYixp2pZpSg1WJG\n",
              "v6Ii96btZccRt9KyfrKnnzkOdus9ga6500QACSImZlu13enahA0NfqmnCKw3FO/XtslAqBR4KevO\n",
              "BLICo4Ib/Q5a+CeC2T6W68L+ttszhkfpxj0onodGCmquMuRKm4s69nLehvktMObw8NvraZY1T7kv\n",
              "QW9NSaz3BzERIG1CyE3pwuXKbglN/T9vS6ORniKPghiNxkY3dxi/hfUN6IXgKfSniubCo0Q7lZu4\n",
              "0ZvJNCElLkKVPixj73o1FEpymGjinzNK2A+t2KGv27wQonxbe8ah+frCFxvP4UZ4vxL2CbMBR59C\n",
              "fu+KpFvXn1Cv2Wd3xZ+2QnFAWCoIwe0g4Kdn93F5W30d31K9kwaAAAADAgtLW6dgAAADABqRAAAB\n",
              "U0GaIWxBL/61KoAM9mHbgC/yz065zmfIzYIHbF/TlNlbb+5TAz56GUcO2+eqm/4vvT7vkMREJUOU\n",
              "RlIdgdcMQNAl57otnYCr1oakFazM3Qsjz+UFwANuzX7jV70EiokhDFXXJq9yKUWWEg4wGf8ZTmfC\n",
              "ppohwa4JN6crpEK2sOOhk2CrrOAQ/KGLha8ANhL44yFS7yVsLdoRD0AStgrXEZ+YyXL6MLpO1usZ\n",
              "rQ2IDeJvuVK7iIHvERNVarSnDWriqyX5xTi5mVKSrXYkx/nvUY8ivElZFpw34bqnUaoFizXGtHRN\n",
              "Gmc4FE7TGXTlmC7LdKlxLhAetDEcqT+a71CcG46Ak3fApVIzeYKwQtV8FgwPgyDIWM/S4inDA5cv\n",
              "2fTVmi+dGNz5kK4oEShdQU/Tp3ZtlG6gdapjsW1Hsf0no53fW++qRKtNpwpBBmE0M/7u3oA2YAAA\n",
              "ASJBmkI8IZMphBL//rUqgACpipaAAqfxGGdZr2IllpO9MEWf6bgBUT2J/KIPSDwcKDEt98nYbUMU\n",
              "PrFmYhbWmLxRPlYjENYBJR5KbacR3OoqBiTguAvfU8s6seNKGccQ29wf9GN6+s93L0WEH/H/s0wJ\n",
              "+N+9zbwJVka2/SgZWV4JRB3NUZd+Nboc2p33KHF1JmIDHybnbbLtXudgVcvFLzGDKiI0tfSbsDuu\n",
              "Wh13V/hUvoZp7CZLddCyKApG6Vnh1lixTuUPZP4f02VhtoJkYm2349Ar3qT6+N/NQdMfq7g7CINV\n",
              "BBPNre61A//YdF2wMNbtOVWIcAfi4e0CqFfougm7H48cBOunIh0SRqFz+FbgvM+C8+bR5yRGZsoR\n",
              "XMNV0JyHHQAAAGJBmmNJ4Q8mUwIJf/61KoAABCEMYbb7iCtlUtAJ4JHwTeSmjhnnL7t9m70WcPqB\n",
              "7sXgWvdYZAAkxpbBINo7JIZriAeRgH900txSLDK8vQIYJb7p/fYaVqvC5GScBte872CmgAAAAN5B\n",
              "moRJ4Q8mUwIJf/61KoAABKaTzduQACy7fP+cEGv/9zROZHVXJWt4/dcMPg/Uf5wdNM8lrR8At3Wm\n",
              "go6jjDUgGbxbwjc0BAGrBW6rkTDWh+yZ22RUBO2xz1pn+6KsN+O0XdSXVOCYnZYuARqPnSaJ0YR3\n",
              "W0Aa2Aq5VJow4oQIABpaoD8Yoh0tfLlJ4UutH/7tpHZc3fYJQ+dkpBBMIqioCZ1DV35SryqX0M8x\n",
              "lrGrqqY0v+qCJFz6/OAzfByknA1xURIqusMmpazm07wZMJ3Xym4OXNM+MtJStQF0CXkAAABDQZql\n",
              "SeEPJlMCCX/+tSqAAAShDGG2+4gp0R4x32wPQc3cIxKde7b4H2tXGz5GPM6yU2P3IXKR9gAAL4NU\n",
              "ToKFQPT0qQAAAEtBmsZJ4Q8mUwIJf/61KoAABKSGlnTseLKPZZUAAhLKhrWSmwDdbaLPQQ5cOPvL\n",
              "3gTiggWQj9eppNNPk4MeWynACAhu7Wk35TCgFJEAAABJQZrnSeEPJlMCCX/+tSqAAAShDGG2+4gp\n",
              "0R4x3dkESIINvuFdKfAJqpT35arZqQsz6+gBDnlRAHYwAENK/QD3pJ0ZaV2sQM0laQAAAElBmwlJ\n",
              "4Q8mUwURPBL//rUqgAAEoQxhtvuIKdEeMd9sDogP59uY0j9zOspdQDJRmF5SQiDrnx5dgAN3gASh\n",
              "4gFonnJhXYVUfltAAAAAHwGfKGpD/wAADN5nLvAsNMYkO3N2Zs7Epq8DNkKLHTAAAAEJQZsqSeEP\n",
              "JlMCCX/+tSqAALuVakAEn3Bctp//wjZYYh0MheoxGFfASUp7VThzJ668gw5oUk6HtrLHE5P/6AGV\n",
              "eLQ4qOcsXXOwAAJ5q/GTiMohOSCYd2O/Jf/rt7fja/n9OvaosRUOQLSRHd7fnWfJ3cpFRb8JBZQs\n",
              "k+eAWOdhAbM9ITr3hHYdEQLQ0heN1YVju0CKcwM9bshqV2w8GiT87sKaRlJQFNy6AJlg5ZH38MDO\n",
              "2pX4Cbv5+IBrd1/O/CiCDdcirqD3t1R1K7JaWQPJC71zexNQM5iihkLGyPQoKxkkTmiwEQ1Gm9iU\n",
              "lYC4IY4j8iiuXUSG1ICvlc9ZASSjfK78IfJKvcJqQQAAAEVBm0tJ4Q8mUwIJf/61KoAAu3hrDZ9x\n",
              "BW134Bz+FSEDGo8sY58WirYpJGgAFHIAA8pJ3AITe1SYOJHL4AHLULbEPTRHB6QAAAEQQZtsSeEP\n",
              "JlMCCX/+tSqAAASkkA8Oq1ACqn9vuUk2h/8EPyCnNR6SlWO6+D8gciULMi8OJVjXCowVHgxuix+E\n",
              "JPqXEBV4riVo/XkcJmdK6Dfs4RRi2rml4ixNfA2KDE7zfw8T47Uogi1WN8ZGVhMRnYxhcGji6zDl\n",
              "MW4cPGx4R9Ae3qdx9BH8qb6yLg5YFIqtKaGLx2ITIMz6u239WA/7gZG7ofB6f7kiyw9OJBGzqleX\n",
              "upbfRkBbqkTlTl6KmUD+LTF9mO9IEuL4r7ZqjKXbkOLKLrbLeOimU/tNizQWRi0c8h3miWgiN7WA\n",
              "NfN0CfO7b10FBj11pS/wngRn0SWo1QO8RGh1icVPvxmfsLZii4AAAADEQZuOSeEPJlMFETwS//61\n",
              "KoAAqnDmi7xUbgoAL5+fx6necUxmlO/bjsMgPtnuqv70t1Wek06z4yXXlrNtCMrprxT9SXifHBXG\n",
              "7vglDdbsH//l/QgrH6ra9QZ1SLB53AysKqjyHXjkjRd/zN8J2V9hK7/QHJu0G57pQ9WcGRcOljLC\n",
              "ZYJks9UPyw9Rd2qX+JEy9Dfv+5r2ZobBu/WcM18H7GcF0WrB2DRFDXP5xSvR3Z65RdhkKQOdm8aL\n",
              "L1DQS2TKJym44QAAADABn61qQ/8ABBYNooE7QtCvB9N6OgIABubh5OygLNLBidmuDrv2TcmZVazW\n",
              "jWbWOmEAAABfQZuvSeEPJlMCCX/+tSqAAKl4aw2fcQVtd+Ac/MJ5KRIkg3+vs/+gokBHYADm92hg\n",
              "akAXCXtA6h7zAIpaS+/2nHw/3FDM5B59NJ0pXMcg4uoCOacTPBK0IDus6SIAMyEAAABfQZvQSeEP\n",
              "JlMCCX/+tSqAAKl4aw2fcRmIlE9fFgB0UDAbXYzHr0rry6AQyGH9M9LACb7HELyjIHYWDCD97RYh\n",
              "R5Qkv1k6oKyapQ4HXoA1kUgoaFrfUV0/q6PExtGARMAAAABFQZvxSeEPJlMCCX/+tSqAAKl4XoAE\n",
              "wow6JnmKj7iEIsTyXkm6/D8xfWAHJKMqvOYfAAOQASlL1P8VeNkjkDmRVSakANmAAAABAEGaEknh\n",
              "DyZTAgl//rUqgAAEppPN25AAP0S6Px3FRtr//zROZPXXkFtX0d1v/Kh+o/+roOhqRQbAkXndAh75\n",
              "fx+IX2chrOnZtrbjN/idtuY1sz2aGGJsKJ/J+K109jHMl2GOADL1G2WnhR9mjJ6V13rND3tIzRmo\n",
              "GjTOwHYfU4LO7a2Kx/Zh4L/yVPFgmoIQNeZL6VVCZpNP5RPAaZ0EfonD2X05NJzqSSOPrMO2mUpY\n",
              "QmYVJzXZmJwZr/kDfKslZapUHxNAekZaBjvi6Zpv6/kpgiuZwIo8trZh58x+eR2r/ED1OZsAciXi\n",
              "VZPwy4YItdFJzid6YUuBTkEzTRlgDPkAAADwQZozSeEPJlMCCX/+tSqAAAUvDyGIA1tvn/N+kqZk\n",
              "Z9yD/95onMpFMVMO1ApDrLb086Gi+WL3cnzbibJfgP//t1yJDy3WD0ELhpDQYuxrkWHnX/eRe3Y6\n",
              "rSBV0tG9Ko3cVLsnxGX9LQZomkdz8fH8KgI2tWyj9V3g3UD+EBw5RxRd68tDDEpmq0Byd1+ZdVuM\n",
              "nY3ZSM/YinK3/Jy1vHKeKJff0BIH7x6F9a/PHFBdXyR+6E9OCxbgoPHs/17e/5H8jjv6UJzZHmZn\n",
              "eJ/PohRGTNm584zzlWrGBoUPd8IU/qWmAML7L9NuBbdntDJVAC2gAAAAV0GaVEnhDyZTAgl//rUq\n",
              "gAAFJ8NYbPuIMYvAAcGJQasz5UslfSUkc25fJH0Ifin27/PuJiCARurVCjXo8wcVqIOxHsAFmnon\n",
              "3xnCRs6ymK4eJ6Q5MKAScAAAAHFBmnVJ4Q8mUwIJf/61KoAABSfOR1AA5kcxPeTzhnOTxaa52wbi\n",
              "EJf7sP7dfHFEvrVRnJvhPB0hDErPuiSny9/74JxdFoX41b1TmvUkaCCCQbA4roX3fd51bmnCPetL\n",
              "5OUp5EWWcOhaRwcKSCOjphQCTwAAAKtBmpZJ4Q8mUwIJf/61KoAABSfDWGz7iNpM0AfAIBrJJeuY\n",
              "yA3Bm2+vRrUmsqRDvKb2W3gv+aT7n28bQsniJw4bENgiiMX/t6r0tbo7FIIqbUH2xlADN+fBNkoU\n",
              "Ft9spNJgpTXP/59hkgBeLp0oM4MyoTsE+xRWKce0yVMAeIgvgmGc/2CX/0I9iA5q3fiB9IqFmKZd\n",
              "sg1Ft7IHNsKLTBund8T/UFdNP84mwz4AAACwQZq4SeEPJlMFETwS//61KoAAACAJPJOAA4lDp7Ll\n",
              "gbqkS/WZ04dCGYB7PqaGhY3+cVpK+d2K6wUNTB7sntLbdfih9+J+PSOElPQ+SfcJv3+YdhsNw9tp\n",
              "55Lw3SqKG42V0aoISOfhyJZBGADIVXnohJ9v12fzW5qmhph5H9M0bS9HgCrVHEJnX/aLFok32A93\n",
              "xa51NnnyFxzYzyK7XUEn4fB8Zbm+/wEYU0yK9zpXm6EAAAAgAZ7XakP/AAADAFrJz7EBYdl+M7i9\n",
              "Yl8qRV0j2gw7SLkAAAD4QZraSeEPJlMFPBL//rUqgAAAAwD66yz6hDuf3AA6+8O8OkhYouIJ1cYj\n",
              "Ed/0JkOzCm2RIoSar6RRSrjQvu7jQokcVKL94T8yquDQm98tf7y3YhxOMjimjhuqVfdfRLnF7tk6\n",
              "eW4XxoDV1hYs2hugNDLFanQuVTFyP9y6ZrRPANTKooBHHr5ouCgN5I4W+HCsv4DSdPhn1axVk8sO\n",
              "H6cNqnr7jlUg20Jznd1C6ceuULnz9YmMCJe4BITbo/P0Si8M4A+qNPBYqt/DyjVCdE51FusmLPqJ\n",
              "a8FLVASTgXc6LyjqRFACJy+b5FQzSsP8rlC4XRHQ4ZrYjYEAAACbAZ75akP/AAADAALEj5qAnbk3\n",
              "3vNiqAC4Ld3M+Auvo+X+OjPcOC3ZybBs8Gtrfylm7I6FN83Mat/NdFp7LzUx7H7HizKgyGCnsX+E\n",
              "AfBz5W+2mC6vQUKaHa3x+jtty1ZJ7j5MK8WgDdTXfnO9jjQmvQ2xvCJeFsuAov57YrZRcjthdl93\n",
              "wcTocXtbXMtlUKZUB/qs2jTV3O1Eg4EAAADkQZr7SeEPJlMCCf/+tSqAAAADAPmivWr//VdFCCMm\n",
              "qDuAANZsqAK6jRObkeV26Dd+45pf/9fMoXcgtPPgdD6oVzjC91Z5FCZph6VPJ/zXVAQd+GfMaDE4\n",
              "DoiVDFJFSIF7/n1M1l/v/An/TzY9EqdCWN/thsfKYsImrrtEwYNUVa2DMXyOSOT+OHfBGCy5frsO\n",
              "QTHaNwxE97gtDSS+hEEpS8xpxt09A8k4TOhyyIVt4wh4ljuX7zaJ9Sf3rFJfBn/zbHIBrugj5+vU\n",
              "veFo2Z4ko3Bkh13yojYKMlu/mL7JI2ux3JCYAAAAZUGbHUnhDyZTBRE8E//+tSqAAABlNo+AAQsS\n",
              "AdPProGntZWBOsvolurJtkYwK6/+NVPb2p3NfovaC9KOLTYNfWysuFYtzGmXdhYPKMLCDjx06F05\n",
              "qJFvnJS2YlJNRTtmovCIPIqBAAAAHwGfPGpD/wAAAwACxE59iAsNMYkHziF7TpOuZDfxvysAAADa\n",
              "QZshSeEPJlMCCf/+tSqAAAADAPmivWr//VdWEI0gi8QA0qyJ0Fjq7E/rcYUjjP/7+HOZRdoqYO0g\n",
              "6QDs5hCN8Jv+YRvlXT5fnP7D2k4p4b1GSIADJtuwmGD/Vr7Tkbbkp9KwnyOqiMHBZ/atL1eJ9K5x\n",
              "QJmjawRW7kQ5uNCzTWbG1MwzV7gLoFWBbFX7Cd1yno82pVP37RoclWf0MH1UOk+zzMzmjBt3J/4g\n",
              "j74B5IFC3boHjDFZXcEf9h/f2Uy8QlHCgyZaGE8mLmjBT+2JnMjk1m2/bM6oqYAAAABEQZ9fRRE8\n",
              "EP8AAAMAAT350yeW895MdHVNT2wopXNtisBHRLHDwHf1aeL/30gBH0NvRl4eLTv+o9McIvrEzGdp\n",
              "8JwnnCwAAACWAZ9+dEP/AAADAALELbogSDZp3ebFUAFwW7uZ+d8++k6V/jo0jp4Or4r3t97JZxXy\n",
              "aWbUL0zgX0oOye80g09mBfgHY7I20o95xDGmSUBKyiMPANZW4aiLyyNplgOt4guD24wIyeaWm0z/\n",
              "+t+nvlksfx7UU+xC9zwvz6CnkdJaKmusEioJNlfWS7F8hq/xevxuFOJznaDhAAAADwGfYGpD/wAA\n",
              "AwAAAwAVsAAAAMFBm2VJqEFomUwIJf/+tSqAAAADAOTYqisNgAQaO0RkZZ//c0TmR1Y7/oPqnWMX\n",
              "fhmi3f//r5lCaKnbfmsGzcIe8jH+f7Hv7fvcbovpEIcFP/Iqsz7+OQfInCxOl6JPjCAZHA+5KIjv\n",
              "8cL5uCLHYJhD2BFBfG4dmXgQ3ilv2dSQjJYlTOj3TGO1es/LLtsw+KdwbAFg7YWf3nZJAaS/wtV6\n",
              "kWA6Tu5Sm3us1Yauh++bTm5ZREA5uBTX3JBT9iTSQEizAAAALEGfg0URLBD/AAADAAEdQ7UnlvNO\n",
              "bB8ST3ZmnhBitM4/eAC39wfLxXXAC9N+AAAAJwGfonRD/wAAAwACfKVlTJ07OFZdGAvmARdWxfUV\n",
              "0VZwi6o7zr+W/wAAAA8Bn6RqQ/8AAAMAAAMAFbEAAAELQZunSahBbJlMFEwS//61KoAAAChbv8oI\n",
              "FmiYMADtN4XSaMrbBSNCIT1++8O/02TH4fKwDnzTUgeyg54eFO+C3rf1UGhfG+vr12ETZASvgzha\n",
              "C7/SsBTnsKaoXhmr6D3tEW8jOWOSPG7n7I7nq6ogg0ezYy7uG/VnSI/OMP7z7Z905RbpVv/YIj6O\n",
              "fOlGJEtbFL06fT8z6WiSpPDRI84l8dGFn1U8L4h4I0I1+eKfSUNi6iiM3o3Vvm8yxSXsyH7RdZOv\n",
              "VyX4Ti2rHchsV/6KF3Jbv+t3+AbH6n3eBa9L27oiKVDKaY3qaNUpnWpW/Kc+WpJibpncMIB9aF2I\n",
              "yOpBgac8UoDcMQqoCBHxAAAAogGfxmpD/wAAAwBufHNQE7csdb7jeBW/8GHm9qmaUVACqS1P2OgO\n",
              "nwudjSyTbswWeEGWjOgrDX0FR3+L49B91GRyFG8mH/nr622lPdyuu2lkSibOps31SBSl7jEcc+hH\n",
              "/CZChIPo/cTlpkaGIJka7GLDC/cldiEvXwtqIn5VHxdlgio1L/2S7HL/BW/wAEIagSxsievxDyBs\n",
              "CI2vR2OcI6/q7wAAANhBm8hJ4QpSZTAgl//+tSqAAAAoHhrDZ9xBW3bfRCd94oOJiLyEKQUJGSCL\n",
              "ZA0Xo7kKX2zTwAaDhC30kpe1AREscj2eeAXqHx1XQdw+ZF73IstbnHZHBc0S/5mWTr085owYIMsB\n",
              "1AZ70bq5rnIjuV+/9/Rlni93Ak6nfmz9WgQgNIuItMMwAqFM29733MnwhCAKCGb31ifIffQj2Xbi\n",
              "XFHPyT1SVL9JcBETh8/8KftBa83fiG8PcYP9+YmElhfso2EvG1FKJgC4xPEMuepXTPN9RiU/KDvu\n",
              "shUAAABXQZvrSeEOiZTAgl/+tSqAAAAoHhrDZ9xBW13KUAXhbZgAtrDo8YRpM/1Qs96WL6r0nP/v\n",
              "629Or0LpwyoQLeBlljeGW+McCaSB24lFn/JHEANmdixnFPHAAAAAJkGeCUURPBD/AAADADI0OmTy\n",
              "3nayhfSlYPa2s2jn616MwLTj6A45AAAAEQGeKmpD/wAAAwACxI+9cE3AAAAAlUGaLEmoQWiZTAgl\n",
              "//61KoAABlOZYCPE3ABy9IlnpKUT/KpQ0bvXlpS0v3jwnp754HPfB/5JBlY+k3KCWdFJfCvtVA4b\n",
              "RoQI6OjE7Ox9TvUgEVdM+kQQxXMV3ouPri6cSzNmtLrS5zmkUv6KQcSUbkaAzEXPbZTQitzKsIUT\n",
              "6TEamcXwoDG4K7EDRom7GofwSk3Wg4S8AAAAUUGaTUnhClJlMCCX//61KoAABlKDWGz7iCtrvw8s\n",
              "aiyA3ppQBJFV0sxX+sTaIGf7AG+88w+AA5X0IHOQh3/NuvSW6c5GDpS0OY2lsoU3CQIPCQAAAExB\n",
              "mm5J4Q6JlMCCf/61KoAABlKhB6cyvecMBYruXOKZZYUzcOr74Q8Bn4GNMueN6jc0bpR2qFgv0pCp\n",
              "cppzzoKnJfEC7e/0G0BhEIHdAAAAYEGakEnhDyZTBRE8E//+tSqAAAZSoQenMcadHzn9CmBFgRec\n",
              "4qL26nHpdq5KSWFABvX3sUt8qdMgsGdGpFMxpzWoT6aEtBAXFhef7v8n9NHo1czIlvqGmS+IRUr6\n",
              "3uMOWQAAACEBnq9qQ/8AABFWjSDgWHZfjO4vWJfKkVdI9oK8d/nhDwgAAABCQZqzSeEPJlMCCX/+\n",
              "tSqAAAZSg1hs+4kyTTZ0UlLEFKvsTaj8C/w51rSQG71dEAAi4TCexOKNmWuxgCrgzaprSw3oAAAA\n",
              "PEGe0UURPBD/AAAHwnnwoiQsoAWCCqotv6Symiy8WteBszM13LXjFuZfqKTmZLvNYMPPMEZ2YMnc\n",
              "8wC2gQAAAA8BnvJqQ/8AAAMAAAMAFbAAAABPQZr0SahBaJlMCCf//rUqgAAGUsXlUT0PVhx7BrAL\n",
              "YL65uS+KUeLfy8cwB+i5zYG3WugWj4Rm6iNk0bA4dIxlk9H3GFNKeGrUANmUALCpgAAAAQpBmxdJ\n",
              "4QpSZTAgl//+tSqAAAAoTfVXrSRY/AAP/OP8pmg+EPagyqryePebF0gkG0W1fDapiy/ViHTLDFzK\n",
              "KVDJtRZYTZ4jr3kxqsoa2b6hWr8ec9uDuNca+9U2JZrs3MDLXdEoYV37mo5lnk+nVW5qfQnv//l5\n",
              "y/2wLYdqemhwjeQusdQZVfrqGx4ue5SOdYlkP95fj5Fwvr/IILHb/ojjXp02ABmnXOUEpaigmPSi\n",
              "rT1S2r2nOBKBi5K2/fmzpxcIrWrmhDUfIH7SSxvXp+Dz3Ilz4UpDxQuFzjhDx/lckx5QBEtgcN0U\n",
              "rMq/YovNvTIaPM2cqWbQ/3O491ZwQb/5+n/i6RL4C4k5UQAAAJtBnzVFNEwQ/wAAAwAyNDpk8t52\n",
              "soaQlYxuCMXJf+OsBADZqL01oXwFHyGolGds0Fv5EEz/DxczXPcAfJvT9hcxuIdj4cMSOFQwE5DX\n",
              "/s8LKPklrGb7thLoUEIE7CpVubcBklizFDIpteAJMjJ1tQCWqoxTIuZQZczrcIVTtvpC6iIu7X3e\n",
              "MTTy0WyJKrZdR99TZKThbzp2e1Nu6AAAACABn1ZqQ/8AAAMAAsSPmoCduV0slUzQRuzgKhMLxkZE\n",
              "KQAAAGBBm1hJqEFomUwIJ//+tSqAAAADAQH7T0K8ivFAUWgcUwACKlmwdCytdFUGy4LsASVER3/5\n",
              "n9NMpjSueSq4XD7VruaorSqvgplEk60QO4wEjtQXXTZq6ACsPwElBmYuoT0AAABIQZt5SeEKUmUw\n",
              "IJ///rUqgAAAZTaGgCVGqnvp99HtDtow3eVlR97TIDbfkFGLf4I9VUbUTEcTrFfHz3XzU5k9kbp7\n",
              "AACa5KvTAAABJUGbnEnhDomUwIJ//rUqgAAAKFvGyggwM/TABx1LM5ypIau6l2tK80UDCHLccDQ/\n",
              "HJ+z7Nx9WHuxlvJvh9UCszqwS/7SYLbgv5Ipur6nDWiFPf0W2f9gHDkrPC5EjN4ISGbzM6PLehWl\n",
              "FmIH93qtPhfqjXCP3PXmQCHwKu8PEJFPwye/BVHPw6GbXUWMpVuw8s2Vu4lgWsLLX/wPqEtYmye8\n",
              "AuvXolenjSISCOFSIE8uPJhABEJ9SnBUqmWGgfnJTEHTzCPuyoW7DeJgj8PKzbEwP1RTVOB6yZQp\n",
              "E2ClK6qpLayPX0q3fC+2lyT8rrUgndEv/UO6vKZDIh4BMXWq8BtmEH7zksTcQyo9i9yb4C7AnxSC\n",
              "9+1lFQBiOGiYW46GI+FlVV0xAAAAL0GfukURPBD/AAADADI39Y0P67o+vgtMlBktxAcqmcPA+lQj\n",
              "51wonsAzsQM/0u3oAAAAIgGf22pD/wAAAwBuczl3gWHZfjO4vWJfKkVdI9ooa6VpOOEAAADGQZve\n",
              "SahBaJlMFPBT//7WjLAAAZ7msxIAUwAQ5lAiP8An+uVe6DDauAjSQvr9nG+l5+QtoTkD6Fn93G5/\n",
              "/CjnL5/h4tN3gO3FVIXhcNicAsm9ud9L8i9aRdBs62tLUzJkBHpJtLxfTKv0A8D//+0YBIYpBKg5\n",
              "+VGsihhpIfaOfoa0hsvctYXPCOg5UDn/B7KY3b14CYp3SdcjQSNrtI5nA9j0FAO8U8/5D2ce53+i\n",
              "9MDd2JOFR+mAdQcVMF33KXlsY1O3fQW1AAAAKQGf/WpD/wAAEVaNIOBZCuAAHW2xnq433CQTnnIL\n",
              "isC93gFe1XXzUowIAAABCkGb4knhClJlMCCn//7WjLAAQB66p/0h4AbgOk/+MIZI7uYUr7zc1tZl\n",
              "/hQEIddl9aE3lSyGrM/YT97X3JJ579f4v1IfoZIGt+92iYosyvME9k84VYrhHeMV1nttSkiw/IoU\n",
              "qkbJC2G2ZZUedZuOVdztukiVjDpJG/tHemxrF8uT//4rhmm6VDkixs29ZiYhSnusNrzLjtzh5m/k\n",
              "rF8tYxhsgGFd/38Wm7YwPrB5R4qfmAz1OFuGN/rjwl+1P/uoLCNhJE+6r5DByWTozqXt5Bi+n36f\n",
              "e//FFEheZ6r4faWj0urM0ThU69ruuXuf3/rd352V+vvcO9UOpAOYonhVopanneZZr7PioAIOAAAA\n",
              "KUGeAEU0TBD/AAE9+dMnlvO1lC+lM0/GypJcXcDlo/ae+zhxgS9gAGLBAAAAIgGeP3RD/wACxC26\n",
              "IEg21RiMcGM5T4lbdyWW1gjBVkctI7gAAAAVAZ4hakP/AAADAGl8c1FCU0ud8pmBAAAAF0GaJkmo\n",
              "QWiZTAgn//61KoAAAAMAAAesAAAAG0GeREURLBD/AAAHE1TRD6ypZN9k+UjSWidlQQAAABUBnmN0\n",
              "Q/8AAAMAaW6MIQdzyms3eYEAAAAVAZ5lakP/AAADAGl8c1FCU0ud8pmBAAABQEGaakmoQWyZTAgn\n",
              "//61KoAA+u4+8jOgMAJa3nYnJGs7AhxhxrUdWKmetqj34XGH0krjBHgLMZIGMWiBNDhgm0rAfZKq\n",
              "A5kQnTffFTjNSsLAGQy7SvBWf/jtcmdTQfTA+E26C1XPgqv7OcXaNCE1gjrLeLK9OU1xkcac/5h8\n",
              "OZtxCmyZBhSuyj+/9RDTI8DR+/nJnWTwoHsZRWMqOSzHy6JwimUNH1ldkIFZ2vlgN09Y+x2xPgFE\n",
              "QrUOBW35waptxNBIOjcBQu387vREElmFzJFUcmGrKQ5Q61a7RdwDcgJ9dIPf1Ll2zYmfkkMps/hF\n",
              "M2IRo5MwCZoDwPPXg9+aGHmi1JfdHTLTMdZfanzElmSFiHwsY8V8J1sI+TM/iBCS7tfFb80QWz0w\n",
              "MWI5tPnyyTYmI/Rdv1BeWILlt0qfSAEfAAAAOEGeiEUVLBD/AAE+F6xof13SFk4DKMJYw21l6TCg\n",
              "RNmQ7O5DGq9bN+V9fkkr1kAz3cWAyAgUUGzAAAAAFQGep3RD/wAAAwBpbowhB3PKazd5gAAAACQB\n",
              "nqlqQ/8AAsROfYgLDsvxbibiivbFystwF7kA8A7gDrxDHcEAAAAnQZqtSahBbJlMCCn//taMsAAa\n",
              "r5rHFbNZXPaqD7fMneQIBx7AABCwAAAAPUGey0UVLBD/AAB+/5mUYS4kCuGQcfG37I9n9FuoQlLB\n",
              "iDm8xwjlM4iGvKE1wNP7FNb1P4SnjCegor0sOmAAAADcAZ7sakP/AAK7bji2ZyheBDV0SQAcKH/M\n",
              "U8j6+Mws3nbwXV6wWGpfTOr5VhAQcHXG+hFiSkudU7gMH0b2JlK4OLsGb2aK2GNK6iIkcs0qENof\n",
              "8DD7lXV05fxuzWGCYriPf9at1JcGYdkCp2TRiGyTDsyGv9pv5LK6omuh+WYBbVTXM+sN5r62brEs\n",
              "lBEOBfEKi4/peYX+L+RpDbs7f9UQRAl+ke9Q9HGYoISJSKNTb7ihJbOcSH47tAfPE9KFRX8FmUlR\n",
              "Luvv6ry+XKEm3HUaE7a1HdCPG3GmC1QtoQAAABdBmvFJqEFsmUwIJ//+tSqAAAADAAAHrQAAAQlB\n",
              "nw9FFSwQ/wABObV7eSCawzco3VMACuw//v1tsX5CPUIpMinlvc8oU/7kAxyYtKxpflJm91UYo93q\n",
              "7f+LcjuhyOxvvOd2MIjKvaOV7DX9zN88intlEiZzzJmSh8xzLH8nuYyr+Z5DGRX2FxW+awKmwwl2\n",
              "UzPkcJ7HVDKKUK7FSdVAGRtodDgMWPDMxEQb+dq1z6Fq/6d49l/LU0j7RZaV2rMYEV1Jt/ZHtL2E\n",
              "TYeSWxdmhns7URPcHDFrM3A5NYijrC9szEvZIJ2IB1LSOk3sVA31+N61xUVB0EYx8yyQngBRd8j5\n",
              "nzcr3oltbntgmEKONvHMhnBGqJn3AxPq/QAxsYqiET4PoPSBAAAAJwGfLnRD/wACxC26IEg21RiM\n",
              "cGM5T40fiZt4IMjCWwbl211BHAA8IAAAACgBnzBqQ/8AAsSPmoCduWOt9xvArf+DzPt4gTJpjU4X\n",
              "eLKDaARwAOCAAAAAYEGbNUmoQWyZTAgn//61KoAA+aK9Md9lCBmug6DhABGQ9BMxHs7Uo5jvSAJR\n",
              "VvJHL7RIXrhyCv5Ncc7eYvfoexk5/xZdFYyFJOaSYh3tpxUC7ZYRsHoKu/AQFy6m6MAXEQAAACdB\n",
              "n1NFFSwQ/wABPfnTJ5bztZQvpTNPxsq84iK3YExQGJHMpNGQoqYAAAAjAZ9ydEP/AALELbogSDbV\n",
              "GIxwYzlPiVrhxI1zrzNdoaoATcAAAAAUAZ90akP/AAAPL2P1Zfgq5HYQIhsAAABdQZt5SahBbJlM\n",
              "CCf//rUqgAD5p+aQANQQXa9Gr4zTh+ezn1UWiB1VYfNEcCH6nfp4XMyXJQHM4wKODJ1fP7RWC4z+\n",
              "L1Iud/N/Oxuw8BCIK9lBIITNglyeyvssAHzAAAAAKEGfl0UVLBD/AAE+F6xof13R9fBVppIyZVOB\n",
              "1ByDKJJvWrsyItEVEfEAAAAUAZ+2dEP/AAAPLXx36oAURZdJY6kAAAAkAZ+4akP/AALEj5qAnblj\n",
              "rfcbwK3/gxb0JVS5M9Vhq1GMsAJuAAAAF0GbvUmoQWyZTAgl//61KoAAAAMAAAetAAAAKUGf20UV\n",
              "LBD/AAE+LS7/ZI7Pxe9i9T3yv7DiGaZSxRReLtjVSgVQAIeAAAAAJAGf+nRD/wACxKVlTJ07mOnr\n",
              "ILhEK0DD06ELBMk51ZpbbmAh4QAAACMBn/xqQ/8AAsROfYgLDsvxncXrEvlQwDfwXOJF4IfevbQG\n",
              "pQAAAO5Bm/5JqEFsmUwIJ//+tSqAAAZbWlZi3nXW0AFSqbc4StL4ZHM+5sjDwWA1fiur5FrWWSkY\n",
              "HDxl+hMrQxCam+/THGVSvE7KsH600ndBo9bXbDbePz6dOI2Yd7aETLgZ7DvOnilXfPuzq2XiXMRF\n",
              "O7df4xcPrajyerbRqi0V5jGIoZs9yYy1J87UE52scsTdUW8ENKinnzGJJFaqyCQN8JXMkDSqYyy2\n",
              "foCiwaPD0nde4Vf//6LAnzoE38Zqq7VaHtqeyK861EvhihvgjsnxWMA/ADxbPpLCXwHK9NO1OksF\n",
              "oYWKh1uSDlK8vzGF7A2oAAAAQEGaH0nhClJlMCCn//7WjLAAAZ6zODBO3PylQnvXvUlNA1iT+T2I\n",
              "aIGQIqsZjBAACL6ARWJmq34oT88EDHwoh4AAAAAWQZojSeEOiZTAgn/+tSqAAAADAAAHrQAAACpB\n",
              "nkFFETwQ/wABPiMy9+uUsG95a5td+qUKOPgSjDj/VxggAAphs2gAQ8AAAAAiAZ5gdEP/AALELbog\n",
              "SDbVGIxwYzlPiVt3JZbWCMFWRy0juQAAACMBnmJqQ/8AAsSPmoCduWOt9xvArf+DFwVRgJXEecf1\n",
              "UzI7gAAAAZZBmmdJqEFomUwIJ//+tSqAC7lpcgBXkV2/1Pg8nfGdRbPAcRkkzPn9PlEmVdtiYFkU\n",
              "yTbzKBUW81MJGoJqDCVSU6af+ikf6YWJFHEMbqhR5a6NIRin5VgKLp07MWcswCUd34rkYtGPflVx\n",
              "VyPzfCxYmHzjYMZsTTJZS1O5GO31ojrbXx80wYCewoNEKCdeoBPzr0osVUqkSfQIV2AacD/kSCz4\n",
              "r3ztomQbM2VPuqHksriiv9dtbD2IYQfllGomqz+OM0ARNdXm9NKWft9mhZqWQs42Z0f+cPrgTKbo\n",
              "76qSUjjdVUZLr060vW8fNvwMelzv/8fgP+86JfZBC4Ud+2e3jf0U9P3bU/0/UcPjQliFaTNnmESm\n",
              "ODsjMBE3ss2C2WvUdU7Bf/luTwjUnYmlZQ2+5XfqAAoi0pDlnxIS/csOWNHRUpD0KmYBIW0gYPGp\n",
              "b/azfNbuweqqEdlv88l0w8IpmIySvvRmlPZx/zIBpHJX9yLpKX7msN1kykLxxYKYW3jzQx+CAbtB\n",
              "+fAOVSfVwaA9xGO9gAHVAAAAO0GehUURLBD/AA59/WNXrFyZbig006ZhlgV+WwQZ8N8SvEvKMzbT\n",
              "ZNHBIBzD+y27XwJzvT06m+Yg8hWxAAAAEQGepHRD/wAAAwAAEdXKdlFBAAAALwGepmpD/wAfvCFB\n",
              "7feHmQemjHNfTfQf+t/HY36AlQaYXARmOZmc6i/lcxLKQN6BAAAAvEGaqkmoQWyZTAgn//61KoAL\n",
              "uVkoAFcNX66jxiKfPJk7MATtJexdE9faPWsTYDZPkPsl2xOAZLa3vEd8w7ZBruQRQoz6Sl1K9fTy\n",
              "TddnhJauJztUr5BQpWKCUJ0LSOp2hwIsLgrC49HTnfxF238hiY02mYaNHGA1XuxTl/8/hoif/IFO\n",
              "SY4/QB/XV56LpNEbxKxwcYqjJsKp0/nsF4KWPeEsZIECkt3Oc6wpaGM1XXtWbCrEw91BglpIioGf\n",
              "AAAAP0GeyEUVLBD/AA589wm+b9bVbig006ZhlgV+WwQZ8N3g1mTMHjEBkpQdtRf8fLAqH/o141bL\n",
              "01lxON+gyFSZ8AAAACYBnulqQ/8ADN+OaihMsk6oT/+6FWyVmEEOQ6t4vFKujfnoQgApoQAAAL1B\n",
              "mu1JqEFsmUwIJ//+tSqAAAAhP2oZxlAA6Yqn5vS3XeCDUymDsGf1LRe7fKBNL3ERiZQ0ni331HKP\n",
              "rZsCyEOPnn+Ri+ALq/2q9asYJqfRMFnI2xw54CTpr377oUs5Zo2n4Px2/5hG6IijN913hDfR0rnX\n",
              "7AT/DKT/A3smTa/G0C93SO/6D8+bnoAAUCdA/Cu4684LNN4BIC3Gqsfspwoyn7WkUUReqGt66Wrp\n",
              "2aQ8ac3rH08BGOvzuhTwjTAAAAA7QZ8LRRUsEP8ABdC0u/+VAQ1R1BP/HpN9oWswm4QjaKqAU1In\n",
              "hCRRH497WzISKS0zvv2D2vrVfM78m8gAAAAYAZ8sakP/AAzfjmooShWShWT3vpPk7sqBAAAAdkGb\n",
              "MUmoQWyZTAgn//61KoAAACAVYc77KADampz/mg1mPG5Q0ornY8L9npgtdxRRGna+lav3JIMA7OrM\n",
              "IK3C8NPS9MhVWOaBrTkhTUcyOuSdAjUN5unqfWo6vR49qoa2y9mIzaTp4E1N13qnt8CtxOR8XbIP\n",
              "OSsAAAAoQZ9PRRUsEP8ABdC0u/+VAQ1R0Ut25s1Wv61aZYeeJGsvn+4UqKhZ6QAAACUBn250Q/8A\n",
              "DN3RhCDuGRWQdZKOJmNMpYjoRU+pyjMPjEzxhNZ6AAAAFgGfcGpD/wAM345qKEoVkn2QoRlkFqAA\n",
              "AAAeQZt1SahBbJlMCCX//rUqgAAAAwAEobmYgEhWwTFhAAAAGUGfk0UVLBD/AAXQtLv/lQENUbRq\n",
              "Cqg4LUAAAAAWAZ+ydEP/AAzd0YQg7hkVhCjnlQgtQAAAABYBn7RqQ/8ADN+OaihKFZJ9kKEZZBah\n",
              "AAABCUGbt0moQWyZTBRMEv/+tSqAAAUvDyGIA1tvn/N+kqZkZ9yD/95onMpFMVMO1ApDrLb086Gi\n",
              "+WL3cnzbibJfgP//t1yJDy3WD0ELhpDQYuxrkWHnX/fL+QBYylnmH2RCwB33APU2ACIl/bdn0S6p\n",
              "wbWn5PiKHzr61QCOYrENtMmTrrFFDV+yfWVhE5Vq1z45FE++Mf1aLAtlPO6DtHXJz+KgFVk5C/XJ\n",
              "j7//zrBRlnJnKMeR8XEOFUJfWVpKlXwbWqzXG/v34SFjGtkPJcbt+B/CdgjSb1hv6qqzAzZrlBUl\n",
              "2jOO35VfjX3uAAg0vB7Ac1qXK7lWy2z2dtCNPb66larnHMeM67+4xGwAAAAnAZ/WakP/AAzgZWQY\n",
              "HiSDnDH62zfb0iJxFb9fcA8zk9D7Ckes54HTAAAA5UGb2EnhClJlMCCX//61KoAABSfDWGz7iBz+\n",
              "JrwD8ABZdvoAQY3KJ4KOmYHl1+o/8OQQyEpyM9/8zDafBF1DAbNPLMmW1c6GQaNm+LNfiWY2rx+k\n",
              "xXfvDeXNuz0OwHro09VS+0gSOooyU0YrpjJfkKEDAZtsiY0X4H3ChDGZoUR6URGvmvbL97xuvgp3\n",
              "Bf3Y22HbVsJVoOGB7d4PMIDInj6FIzv3W1xIJzoln9ZTmGN2FpviCSOUZZWZp7YZhpZ9BKq16xCO\n",
              "0QhaOSVg2hX4ZnGxXsEKgQAVU5VCsVShFztz03eBhU0AAADyQZv5SeEOiZTAgl/+tSqAAAShJ1kd\n",
              "fCcyfFOPAAINz/tfpTRPgnXLGyjo0kEEowjeSB4zmlYJdjeEEMN3QYAX5N+G/PkWoK4NzxaOUhrj\n",
              "5vx8t6GjofmXFwBXr0lMRf1R+xAINnXmV3xta/Jwrbf1mdWEaF/7Rwt5XoLlZtp/+9ch8M1tKFza\n",
              "8Kpk1DHs8x86rS12f4+nh1qYlatIw5pcBeMJg2BPqo4moI5BZRTYp6poo6oWxaMZXM5U/djMwmID\n",
              "HUXt93WYUBl0aJ0g2o1rnUY9kV0lHigvCmLUcVIkLr3Nv32KKJ7O5VQl5VtzdfOACggAAABPQZoa\n",
              "SeEPJlMCCX/+tSqAAApf0SKtVS83O8OwbXH9gNqiIZoz6UR2pVoOqN12+CZrTntm0KbgEuP/HzUT\n",
              "8r2IAiF1NoAAC649NNqUVWADFwAAAOhBmjtJ4Q8mUwIJf/61KoAABS8PIYgDW2+f836SpmRn3IP/\n",
              "3micykUxUw7UCkOstvTzoaL5YvdyfNuJsl+A//+3XIkPLdYPQQuGkNBi7GuRYedf95F7djq3MTF7\n",
              "KXZgDiwCPf2FX9tv4A4zOOjR82YKdFHcQhZigG89JFSt+jnRwxJlvOhjj/roWkUQ0r7yhnlmoZBY\n",
              "Jic7Y8Fq7sIsx5CiaIjydIczFfnGr2XeqmsriheRiaPvT5ZdhA1nxfWljms8cK211nq/Rbkm6LbK\n",
              "tpeU76zSXdP6zvZX5D93oVSZzoL3vRyYUAk4AAAArUGaXEnhDyZTAgl//rUqgAAFJ8NYbPuIW9rv\n",
              "XvVmqld5MO5mnXLu+AAJjfQayo/x/VYdql7MwwhXiBTKgP/XqwULARZ0sPjmKSn4vN6pqNoMat50\n",
              "kYwP7EmAnZsOf3mbCnjvEukvB/Dg7kycoeJRxbUuW/qzdPIbwU/Hl7mWuylV+Yy+niLU8NtKrza6\n",
              "uBTsvc93cG7r/6KkpDdve8RV8frAd+Uw7RUMp9AmyUGfAAAAY0GafUnhDyZTAgl//rUqgAAFJ85H\n",
              "UADmRzE95POGdcnfr4/ILZaj05eTEqJRDs20ZsxZKI2wvkZE00klOhC54Op0pa2kRiIhM5U/AUPs\n",
              "KnNvzivvOdRN8Ny4MPucinbyEJOruQAAAOpBmp5J4Q8mUwIJf/61KoAABSfDWGz7iBtSfITOcAIw\n",
              "4jF1da88YzRO0LzI0AIH6j/6ugQevgBwA2AXXSwBAHN3iF9n9aCISNK51lYigFuY1szjvg/INFZm\n",
              "SOshH1uit4qiXPQZ2N0AyuULKH3e7DczBm/QhQQ3cRyv6TdXbVEh0SEmWKqU3NYeIJk5BwAEjwYi\n",
              "DsQTUGtM+Rtw3n2FTWD4/t/yfaaMOwwck8onJCzmKZhnc3/umcj4dgGjZJ9YgZ5wzHmlC+OuYQfp\n",
              "9SJID/Dn54H8fV8vcUWdL4cJrjuH3wlsM64LGjIgWUAAAAD+QZq/SeEPJlMCCf/+tSqAAAShRyrO\n",
              "/vuhleClwADnGc5wNqqYX96qXNiGHjZAJWmp/0n4gmh8/DxgAYIumHo09Qj0E8eyTTl1n7gkPb89\n",
              "e8jNzhE5KBQOphujfWx7ebh/mT89kNBq5ZiX1tWSL41Pi28J8UU8pu4KUW7MnRgWCt9cxVGIcB6i\n",
              "7qRiXFgyx+ExDK+wyUsRs3ZBL9kJ2OwKg/ImgoX43+tTxeI+r592STFNM4DKsCiXWQ9vvgB0znXs\n",
              "zLqdW5tKtzU443TElVDQ8685qt64BCMEfQExITjhbZ0g9GFgayYepoq4gBZOkORn4hljvEq3oZLO\n",
              "0QiAJeAAAABPQZrBSeEPJlMFETwT//61KoAABKEsCaagAFmyIeStp8o+yC8/tpGJHBiuUIrwj/sX\n",
              "cOKXAWSxA8YbYhslAWQiX2xXh87s8yAAAA/+TCgFJQAAACgBnuBqQ/8ADG9s23o56Us42EkObDa1\n",
              "ShfDsl6BlpzX8qq5uZVGlg4IAAABB0Ga5UnhDyZTAgn//rUqgAAFLmOzSAKTdEvws1LIWcbM6P/P\n",
              "NE5lIpiph2o/m9Zbe5spdZExe9k+bfgZAJG//9uuRIeW6vOz08NImzF2dFvwOR9Nj2oIwvHgCQ4O\n",
              "O+bJFS7KApj1Up+oT+akrH/g+XltAfLFbfmJzVX/HrdctjF9xQPrQuqV3NJbHGrfKmYqfrok74EL\n",
              "7Xyp7rNjIbc3nIJ9m1I9huEfrApvgKyJMwne+XUJwGXmBLI0u/ZmW3FFPrw7pNXWMYjK6PoLv+wd\n",
              "NH5ncS6RB+GWjfn0ROcBoJyJYg69OND8xlQ1wFxaz0mgeV1/LtpjEpaDeuWDkGW3gfNRQ+GhhAK3\n",
              "AAAAJUGfA0URPBD/AAWew/NUxXgfT5fthZq+9k9h8F4oiIXe542JaO4AAAAhAZ8idEP/AAyN0m/1\n",
              "EjibT/TpUNpFpOw3fI4M1EXMLbR3AAAAEgGfJGpD/wAMj471wAA4nWvgPQAAALFBmydJqEFomUwU\n",
              "8E///rUqgAAFKAXlUT0PVpZyVADX3jubzyfyAOyW5Msfcxaaw3fm1A0U9ynMBUqYPzRruTwO7v6h\n",
              "/UJ0I+QOU1WoSLi7VJBeRCPyWRmfynGguWdFtcLKjHzBA1o//wasrhz0YgW/jYl1FRInyb27qPxk\n",
              "uqYTPvpBZLW4kB4+eLuNF1JK7cCnZe57oEt9d94PjVcjEfnj9Zp2Of9v6d4xTdtttdUg3oEAAAAl\n",
              "AZ9GakP/AAyQZZ2TGafVKO3dwaM6Rc73lorM3EJ+KNkZ6KxMEQAAAFtBm0tJ4QpSZTAgn//+tSqA\n",
              "AAUn7fTgAK4IHdm13018RSsxh+2T4PHY78LhlGimCgqxGpeGCAUy/v98IpC/hKWfUV0ppjPlxGf9\n",
              "FZays6Y7JCFQTKzF8msPVBqQAAAAQkGfaUU0TBD/AAWsjNr/9v/s+Yr8uCd38nvYB+mVq1rR5Uef\n",
              "/VRs+N87DYqwbTjERCrCBYU7pgo/weyEROU0NoHHcAAAACQBn4h0Q/8ADI3Sb/USOJtP9QMuN5bp\n",
              "LyU49DGCBBpOGN/FRYEAAAASAZ+KakP/AAyPjvXAADida+A8AAAAWEGbj0moQWiZTAgl//61KoAA\n",
              "BSfjWTqnrrpc/g/YwtAnidQ4s2D4Dl7d8TnmZm9762wRg8se74hd1EAUqzuR/AbOxrq+mAYudTFb\n",
              "y76AUDXRdCMii5LCMWAAAAA6QZ+tRREsEP8ABay00PGrm9nzFflwTu/k97AP0ytWtaPKjz/6qNnx\n",
              "vnYbFWDacYiIVYQLvwnAY9XltQAAACMBn8x0Q/8ADI3Sb/UhoIpfkIiJvO173LZbDEolO8G5nImj\n",
              "gwAAABIBn85qQ/8ADI+O9cAAOJ1r4D0AAABnQZvQSahBbJlMCCX//rUqgAAFJ+NZOqeuulz5012N\n",
              "Q5Ypl5q1izQKFWPKqPy3t6zicN9z37ACZsc+rSIDloJJTexqplOW/BrypPUCJ1Q2c1elbTE1fJE7\n",
              "QVOgzN9LBBFdUZ269SDegAAAAPhBm/FJ4QpSZTAgl//+tSqAAAUnw1hs+4gc/ia7/4AEeKCaKJsP\n",
              "qP3yeHQs3+Zf6H6j//MYDxtvGg4AF2tek+bSjsBOaeWVb7T0TSP5gw38iAtzGtmcd5n5BoGykjqy\n",
              "/YvybWIe7xd77pm6hMtWRZo8KmT+u/evpRcB6Hr5kYnsfxhssdV3MBBuAdjgTi84ms07siujStbG\n",
              "G1m+x4d5EvGkXNfeNLmkdKC2k0qjQHqzkgH0vFZiC49MBHNR9wTCwGDROf1j2Gryrl9M6iAEHtJO\n",
              "/aApJeyfl4/gVka36mLy2wgspcCIXq5Q9FbER70zk/HfkUH0dl8GLAAAAO9BmhJJ4Q6JlMCCf/61\n",
              "KoAABKFHKs7++4+48ABB5pwrFo2Dw4BTg5U/cBHL2UushwH67jDsK2+xza5mzgGG92DKf5bErbD0\n",
              "6OOcBlRJhYOLeWKv7nnn7/kYyQidDeUlCdUSiPDXbhbbNcbrjVbue3pJCcgfvlNDVDcdvg15DBU6\n",
              "x9rtJPD1iLqytiCKUz1Kn4MVbMwRSY4VGi6gy+CFLiPlkVUx/khjvSW9Utrvyob5/5bpJEOpJejB\n",
              "EuqZ735h6SZH+h1n/uT9qYZZQunBMRKPyEgGj8X7RtGeiYmDXcGXQno0mTM/yg/o5PREqgAyoQAA\n",
              "ALxBmjZJ4Q8mUwIJf/61KoAABCEnSTqecKVrgy+KkSIHvbcJo6025S/Fob3XjMXYAqAFNw8N0qoH\n",
              "V4jIk1ZO3HAlWSw9fOcTEkIxmL/OQCnsrQundu4fuZ/6mLCRTgNd0bS0/AAOif/pUXr3kNY8uyGz\n",
              "5K4NhMB1PJgXqVHXeKJ2XXQXO8J5HtrD0fa6Te1WBOCSEYcSYPP8BGHXcRmf8iEY1cyyDa34jwjD\n",
              "/YtEEPwXe5CDaCymXjNBfRivgAAAAC1BnlRFETwQ/wAFnsPzU9VxnOLCPA1TR0l1CB9KFzoAWUac\n",
              "KzcUSEk4kD/0M4IAAAAkAZ5zdEP/AAyN0m/rfq+vKrqBlxvLdJeSnHoYwQINKdcNl9HdAAAAEgGe\n",
              "dWpD/wAMj471wAA4nWvgPAAAAF1BmndJqEFomUwIJf/+tSqAAAQhJ0k6p666XPwFv1ABpv36Z061\n",
              "gQn0UOVPwP0mganSS78EOgiHofqsK5osytdaBHt255ZEIdHZS5seyPxvocPDwvxdugy3JVnVQfMA\n",
              "AADuQZqYSeEKUmUwIJ///rUqgAAEpxO+nzAAQwW+z434Bsg/+80TmUimB1e6Too09DV8BOr/+YwH\n",
              "jbeNP+dD2Rl0aV3Oo7Q08sq3tHe1MqXiDt7BEBbnF4ubUiH5zgGyeRQVUmMYXP0OMaUyfCV4H60V\n",
              "Nu9jQ44Uxiabuc3h3rLZ2pQE2J2SfGwfq2BlkHuC0RVYRWNZovRF8LlEN+N+cxBcBVjEzolK/lMa\n",
              "tfjO1SvnWkSjfjuUVug6ZV76gLIcP1Kk4BqO6/C9CIztnBa2+XlfRZyBJThHwlaRtr5zBIXLcQUz\n",
              "wvm517GrdaD4ywBlQQAAAE1BmrpJ4Q6JlMFNEwT//rUqgAAEoSwJq//1X491H012GTAgx5sSXYOo\n",
              "HpKBMIZIVZUEZALQ2SenvFdf/e0A5s3MRiKjv/11AAjfJhQCkgAAACMBntlqQ/8ADG9s23o56Us4\n",
              "2IMAZ+k29L9WX7t3J5sm/Z0dwQAAAOZBmt1J4Q8mUwIJf/61KoAABCSGgUZ1YBL92X3H25AQmReC\n",
              "qPPptBC0Oz9Woa0cqhZJXUK8EWJ/GA6GBwh2Zo3BNxI2rQSuB0EFkcnCSW8oIsqYANlmEGfeVrSN\n",
              "xXk5uHZifAnLow/Go62BYxKXpFof5vYjqbA7l19HJx320ugpp/lGrtBeuo8rqSDsfyLQ5euTGkHp\n",
              "rO/NM0PT0KAsWtVWz85nDUGslzlWcjDB25GdRDsC7c2hFow9i+eHWALxxODXSzF+wh5BaRjcHiOI\n",
              "Wy4nLCfbPKRM5EvJKGkJy9LrliPX/ujFfAAAADFBnvtFETwQ/wAFnsPzU9VxnOK6cicbA/Jj4pgG\n",
              "gwa9sQuVAxYLk8l9oC73iF1/TjghAAAAEgGfHGpD/wAMj471wAA4nWvgPQAAAE1Bmx5JqEFomUwI\n",
              "J//+tSqAAAQhRytRPQ9WHHsGcIyiArXEHJI9GusezSIHXzv6AzrBef0LylBwfKbVnA0My7lI6aP1\n",
              "p4g1Dsn+ZDCPSAAAAHRBmyJJ4QpSZTAgl//+tSqAAAQhDGG2+6s61u9iMxqLICjxcQBuh8/5eKWP\n",
              "oOtVqcEDRwdVElsDw22BRB8rIVtf6m2Z0mMpCf4zUTm/f6rT/znRNT9XkGF5NR33QTQs4CA/Ao/a\n",
              "UP7tH6KR+pzQFOSj7RivgAAAAEVBn0BFNEwQ/wAFrIza/0saaAHzkV40HqFmW0jD5JKp33ZpZus0\n",
              "hdMQQk2JBwPjj49yBWgtgMi5rMwtOclyiXq9+DD2cEEAAAAoAZ9/dEP/AAyN0m/rfonQCt3GWQkl\n",
              "K+S1UTEdgcHMTdkUBkxab7ycEAAAABIBn2FqQ/8ADI+O9cAAOJ1r4D0AAABHQZtjSahBaJlMCCX/\n",
              "/rUqgAAEISdJOqeuulz50fplcZMJvHgTYynjWDu9hPX51eXfmeblfm44cAUIRBJNqBkVTjz8MuZS\n",
              "EPAAAADmQZuFSeEKUmUwURLBL/61KoAABKaTzFCQAEJ2+gBDzs7r//5onMnrryC1h5M64KLXE5P/\n",
              "OACD18AOAGvocDRe4qR4Ew08syXc7XDVXMi2/xQC3Ma2Zx3wfkGiszJFzHtaDZLebl7lsUuF3Jzp\n",
              "su4JZ73D1CYVRkCP6GTxONfQA9E9nml3/4SQmBnoKfwmVe4tXnlN4gqVmGOwwck8oOqMrFLcHyrh\n",
              "wBfK2EPIdDZRm0aFeIyCDz3AuAAdn+n1IkgP8Ofs1YEbBdLSP4J0MNvCxkYhdcI7bj8QTn36o46k\n",
              "EN5ZNZKoAZUAAAArAZ+kakP/AAxvbNt6OelLONiDAGfobw8J7MfuS7019iG6YRQyd0dnQ0xlQQAA\n",
              "AE1Bm6ZJ4Q6JlMCCf/61KoAABKEsCav/9V+PdR9NdhkwIMebEl2t/38ai4ogDJq6i/72h6lvwsFe\n",
              "E4SUKIBAPBPrY1kSveAAA0yUJADZgQAAAPtBm8lJ4Q8mUwIJf/61KoAAqnDmi7xUbgoAL5+fx6ne\n",
              "cUxmlO/bjsMgPtnuqw4i3VZ6TTrPjJdeWs20JIMwgPwV6kQJ23JHltlgO8zVkYdxTyYPnu///D34\n",
              "k00GUsBAGIitTALqHwswRAAsfn6KrhLcY55QyeufedV/4pBTMb3j6NGiVOXspf8PuATBiUAcxiGm\n",
              "jOtw1/ylRgRsMKzTVJ4y5fJ7etbuv26VhQfDdLxOJZEqndw5Unn2nnLnD+GaC69tW1XyhGWsxqw7\n",
              "ytNcyaWl79Hzjk4KvFWwT4ba26gx+ceLiMmLO168P/8GamCOtprsuakf5v0w3sAIGQAAADJBn+dF\n",
              "ETwQ/wAFnsPz7K8D1AgBsBVNv/R1MCHrKe9B/YLq91sRc2kKjMqGgWqsX7zjuAAAABUBnghqQ/8A\n",
              "DI+O9eCvVUQDv82x1IAAAABLQZoKSahBaJlMCCf//rUqgACpgL4RA36aAoj5QD6k3oUjOXYogueQ\n",
              "+55Wp1hEH/S4haBDZW4lSjPRVWWpHtKzL4pbF2L9Uw7qwAhZAAABDEGaK0nhClJlMCCn//7WjLAA\n",
              "ATHE8YxUAAtD/1XQ9NB5H//nL+BKC1aVOZ2kMGWKk7b/+roEHr4EKKir5bf4ZeSGwCEINopia5iB\n",
              "ehdUzbeY/miFALc+IIkt6U/PB78dPgItAInGMiaaXrr89na6fphKtzKcxQSV4jjwIPaUa0LjcQ7g\n",
              "qD71500+hJeJ3h3R9BYBph4SjxWjazp4eJ5RI80xUtYQR9xsHdFXAPYvXW5DWuyfsm2/WKsHdQcU\n",
              "TVs4mieuJ753MvHdNsXFAAwgeliknk/Mvx0JKK54tDkwAyKpZP76FQqPVmGNzb8aqmwXrNfukKLt\n",
              "ZWwi39IL08zLmKXX6WFAh6k/pZ4QBWwAAAEGQZpPSeEOiZTAgn/+tSqAAAUrn+AAImjqvOrptIa5\n",
              "hAYwwazjfrx2HHU8nhwJVkyJqgzKeExzT7n0f6Ji97J84nGlAWF//sZBd+aVGngVNmA+M9lBZj4H\n",
              "I+oEbUEYXjuR5KSPdZKqS4HjKKzHyAvcDgjwJWPp5jvLaTxz1YItOR0q6qzNNEDLAaJwZnFk7EA5\n",
              "+T+R3QMuT14Jf81qV3bk6LSpAJ91TqY5Q1vyJhNmTbC3Xan9VbtY6kyAc8qAUv/mcLVBP14EbM0r\n",
              "wKb0DQYDYdge1XtDN1hRSr1r+8dyvt/UXuP9CWmybD2dc++Y8GnSJ9nXTgIPiTDJUjnEj+JoBCTT\n",
              "RlgBiwAAADFBnm1FETwQ/wAFrIza//b/7PmK619mQx99TEkE915Ki7Do87IPrjtKJyY5msKgyAb1\n",
              "AAAAIQGejHRD/wAMjdJv9RI4m0/06VDaRaTsN3yODNRFzC20dwAAABIBno5qQ/8ADI+O9cAAOJ1r\n",
              "4D0AAAAXQZqTSahBaJlMCCf//rUqgAAAAwAAB6wAAAAXQZ6xRREsEP8ABay00OwjrKZHLWShyGwA\n",
              "AAASAZ7QdEP/AAyN0m/AAEIQKo1dAAAAEgGe0mpD/wAMj471wAA4nWvgPAAAAPtBmtdJqEFsmUwI\n",
              "J//+tSqAAAUot3pADVYK/TxmAZ//s0TmSLwC7gq1omBQ5Ov+eOZPwqwBG//5CBd4IK0zndY6yA8x\n",
              "2lq7Y+JVwpIAsk5HtgwfDMoAExFpb56wkMbJu2ECh9PDP/OhXUTrLwcLfrVdf9cSiZQV7nOKYIVx\n",
              "U89VqmDieZoRGNdD2tsRRk2w6cvdFk37HceBVk6vh3bmj18S/KuY+JZSSGvxYpIPqE0PX4y+5NZk\n",
              "59TCnPu93BSUEnOwfJd5U1SrqkW5hI6pZex7DKEe3iLcmX4vsQ6Izc1Enb5xiWaAh8ySWR0WeWiV\n",
              "iFfsNm3GVezX1W0G/AAAACdBnvVFFSwQ/wAFrLTQ8azpx6nfV2byPFKJ6PtgI2t/Py9cAgZIDZkA\n",
              "AAASAZ8UdEP/AAyN0m/AAEIQKo1cAAAAJAGfFmpD/wAMj4717WjPqljcT84Cr8YOj/Jv3C1UshNM\n",
              "hdS2gQAAAEFBmxpJqEFsmUwIJf/+tSqAAAUnw1hs+4gp0R4x3dkESIINvuFdKfEBxaYzkUHqOG1V\n",
              "aEAvuKU3AAADAAcDJlgBbQAAADBBnzhFFSwQ/wAFrLTQ8azpx6nfV2byPFKJ6PtgI97VVKG5rS0r\n",
              "3HNUDDr4hmTWLuAAAAAjAZ9ZakP/AAyPjvXtaM+qWNxPzgKvxg6P8m/cBdXIzIXItoEAAACgQZtb\n",
              "SahBbJlMCCf//rUqgAAFJ+EHpzHG5dlzSslVcOKEmKUl7WAso6z4V8shLa+9qGwASOcAumBnQDf8\n",
              "BUfIIy7irtg21DLcp0Q8RGmT58/fxplhG1XKcOQMnn/31wITxA2AArwOcUoNKahR6AHq6sWL6LMI\n",
              "Sfr3MuppvWhJ2h3t8JYehXrOWXI4jxUeD4gOihsU8aDwWb/JEISY1MpBvQAAAExBm31J4QpSZTBR\n",
              "UsE//rUqgAAFJ+EHpzHGnR87ZlKQY82RvuJ5H2hLMhuiYFHbmACzgEWVgARB6o/I9+6GgVDedWgO\n",
              "+C21C4jMJBxxAAAAJQGfnGpD/wAMb2zbe1npSzjYiJbV+MMVSgIh4y2N4LqXqq3nR3EAAADQQZuB\n",
              "SeEOiZTAgn/+tSqAAAUn4QenMcaYNjcesWgAJiejX7CwHmiedyxA/PwH/4cdNM9HwCjCKE5NVb/S\n",
              "PRLGnlmS+M9Bo2beWSNxNJFqH4mUmKb7Red3e8ggohGLD98UiFYXVlYqSVQ8rRD7GK75/CZril4G\n",
              "GeXTxpbR2op9y1zK2gUGEaeEcm3GVPElZHWDpJAH7wEXFbSwBgZ/g2BCCpO2lWfchC+HFsykH+EA\n",
              "mTFqBrCR3Om6v5hLiOumjsrPDX9FfjY07nVDanr/p1BqwAAAADlBn79FFTwQ/wAFnsPzVMV4H0+X\n",
              "4oumV4VwAFTIeqoT034S/mt65iy0uhHhSvzB9CWk80abwHvy4b0AAAAnAZ/edEP/AAyN0m/1Ejib\n",
              "T/TpUOKsKAFhDRw9KqM4CyqYPmYoUvMFAAAAGQGfwGpD/wAMj471z99a3oaaNaHFJao7XKAAAADz\n",
              "QZvFSahBaJlMCCP//rUqgAC7lWqQAaXeBlwD//xg7znR/nVNCyrd7rcNzyjYtS0AAtz15juUnd3G\n",
              "iD/s7kBJGCSR/bdVslZYYUnuySb1zUXuQyDg3AWyvr3lHTKwmAv/Od23nAocICmlATi433DtHfqt\n",
              "9FTMmh/RURkJckYlLpPeuR8LILzLd7ZQpZ5p2TW3T1H1HQNDtvRToU7gFAKfwbGCs18ll0rJF6qn\n",
              "hxO86e0KEHq+L+Q4UXfMn/U/c/jPysqWOeav55O0vhQBApB2bD53UQeu1lplg4iBgfnG/ri2TyiR\n",
              "hbaIa2jZxr0//JjdgA6pAAAAMUGf40URLBD/AAWstNG5x3s+Yr6+bi62QJDFbiNkZ0h+YQEjS+Ka\n",
              "prbQDGEB/PdcZ8AAAAAoAZ4CdEP/AAyN0nc1/nNp/qBlxvLdJeSnHo34AGVqByUBjwnGMI2B/wAA\n",
              "ABIBngRqQ/8ADI+O9cAAOJ1r4D0AAAD1QZoHSahBbJlMFEw///6plgAFuFwK7hxwndlPIDAAulES\n",
              "u+FWE7UF2CHPx+n9jDRXxiPy7Gg6BfjDEE+LxiE/orvTzpPuqBv/zgyid8L2WYgN7rCceIGKwjJE\n",
              "WijNVs++dcdPimb9Fi3Kt8pzlwfJDSQJsslQ+E0jMe1tGxm1cjYMUNO16QSt6EtyAf7z/zoyQ7uF\n",
              "/tEAPf2o+TGqw8xZerpHLfeMOSS6IR/jvGethsjd92qVnCwQz8F93QM/CFs3lfjDep5Wbe4IfTQu\n",
              "jd8qqNp0pKVl2yfD1Mzhm8c3VQm3kyue5d4T8n2D7jpcfj2ClUAAUEEAAAAmAZ4makP/AAyQZaMY\n",
              "UfF0m8jd3gFOqHFvPSqMlfR0/PB9UB4cwRcAAAtGbW9vdgAAAGxtdmhkAAAAAAAAAAAAAAAAAAAD\n",
              "6AAAnEAAAQAAAQAAAAAAAAAAAAAAAAEAAAAAAAAAAAAAAAAAAAABAAAAAAAAAAAAAAAAAABAAAAA\n",
              "AAAAAAAAAAAAAAAAAAAAAAAAAAAAAAAAAAAAAgAACnB0cmFrAAAAXHRraGQAAAADAAAAAAAAAAAA\n",
              "AAABAAAAAAAAnEAAAAAAAAAAAAAAAAAAAAAAAAEAAAAAAAAAAAAAAAAAAAABAAAAAAAAAAAAAAAA\n",
              "AABAAAAAAkAAAAGwAAAAAAAkZWR0cwAAABxlbHN0AAAAAAAAAAEAAJxAAAAQAAABAAAAAAnobWRp\n",
              "YQAAACBtZGhkAAAAAAAAAAAAAAAAAAAoAAAGQABVxAAAAAAALWhkbHIAAAAAAAAAAHZpZGUAAAAA\n",
              "AAAAAAAAAABWaWRlb0hhbmRsZXIAAAAJk21pbmYAAAAUdm1oZAAAAAEAAAAAAAAAAAAAACRkaW5m\n",
              "AAAAHGRyZWYAAAAAAAAAAQAAAAx1cmwgAAAAAQAACVNzdGJsAAAAs3N0c2QAAAAAAAAAAQAAAKNh\n",
              "dmMxAAAAAAAAAAEAAAAAAAAAAAAAAAAAAAAAAkABsABIAAAASAAAAAAAAAABAAAAAAAAAAAAAAAA\n",
              "AAAAAAAAAAAAAAAAAAAAAAAAAAAAGP//AAAAMWF2Y0MBZAAW/+EAGGdkABas2UCQN6EAAAMAAQAA\n",
              "AwAKDxYtlgEABmjr48siwAAAABx1dWlka2hA8l8kT8W6OaUbzwMj8wAAAAAAAAAYc3R0cwAAAAAA\n",
              "AAABAAAAyAAACAAAAAAUc3RzcwAAAAAAAAABAAAAAQAABQhjdHRzAAAAAAAAAJ8AAAAIAAAQAAAA\n",
              "AAEAABgAAAAAAQAACAAAAAADAAAQAAAAAAEAABgAAAAAAQAACAAAAAAIAAAQAAAAAAEAABgAAAAA\n",
              "AQAACAAAAAABAAAYAAAAAAEAAAgAAAAAAQAAEAAAAAABAAAYAAAAAAEAAAgAAAAAAQAAKAAAAAAB\n",
              "AAAQAAAAAAEAAAAAAAAAAQAACAAAAAABAAAoAAAAAAEAABAAAAAAAQAAAAAAAAABAAAIAAAAAAEA\n",
              "ABgAAAAAAQAACAAAAAABAAAQAAAAAAEAACAAAAAAAgAACAAAAAADAAAQAAAAAAEAABgAAAAAAQAA\n",
              "CAAAAAABAAAgAAAAAAIAAAgAAAAAAQAAEAAAAAABAAAgAAAAAAIAAAgAAAAAAgAAEAAAAAABAAAg\n",
              "AAAAAAIAAAgAAAAAAQAAGAAAAAABAAAIAAAAAAEAACgAAAAAAQAAEAAAAAABAAAAAAAAAAEAAAgA\n",
              "AAAAAQAAKAAAAAABAAAQAAAAAAEAAAAAAAAAAQAACAAAAAABAAAoAAAAAAEAABAAAAAAAQAAAAAA\n",
              "AAABAAAIAAAAAAEAACAAAAAAAgAACAAAAAABAAAoAAAAAAEAABAAAAAAAQAAAAAAAAABAAAIAAAA\n",
              "AAEAACgAAAAAAQAAEAAAAAABAAAAAAAAAAEAAAgAAAAAAQAAKAAAAAABAAAQAAAAAAEAAAAAAAAA\n",
              "AQAACAAAAAABAAAoAAAAAAEAABAAAAAAAQAAAAAAAAABAAAIAAAAAAIAABAAAAAAAQAAKAAAAAAB\n",
              "AAAQAAAAAAEAAAAAAAAAAQAACAAAAAABAAAoAAAAAAEAABAAAAAAAQAAAAAAAAABAAAIAAAAAAEA\n",
              "ACAAAAAAAgAACAAAAAABAAAgAAAAAAIAAAgAAAAAAQAAKAAAAAABAAAQAAAAAAEAAAAAAAAAAQAA\n",
              "CAAAAAABAAAoAAAAAAEAABAAAAAAAQAAAAAAAAABAAAIAAAAAAEAABgAAAAAAQAACAAAAAAIAAAQ\n",
              "AAAAAAEAABgAAAAAAQAACAAAAAABAAAoAAAAAAEAABAAAAAAAQAAAAAAAAABAAAIAAAAAAEAABgA\n",
              "AAAAAQAACAAAAAABAAAoAAAAAAEAABAAAAAAAQAAAAAAAAABAAAIAAAAAAEAACgAAAAAAQAAEAAA\n",
              "AAABAAAAAAAAAAEAAAgAAAAAAwAAEAAAAAABAAAoAAAAAAEAABAAAAAAAQAAAAAAAAABAAAIAAAA\n",
              "AAIAABAAAAAAAQAAGAAAAAABAAAIAAAAAAEAACAAAAAAAgAACAAAAAABAAAQAAAAAAEAACgAAAAA\n",
              "AQAAEAAAAAABAAAAAAAAAAEAAAgAAAAAAQAAEAAAAAABAAAYAAAAAAEAAAgAAAAAAQAAEAAAAAAB\n",
              "AAAgAAAAAAIAAAgAAAAAAgAAEAAAAAABAAAoAAAAAAEAABAAAAAAAQAAAAAAAAABAAAIAAAAAAEA\n",
              "ACgAAAAAAQAAEAAAAAABAAAAAAAAAAEAAAgAAAAAAQAAKAAAAAABAAAQAAAAAAEAAAAAAAAAAQAA\n",
              "CAAAAAABAAAgAAAAAAIAAAgAAAAAAQAAEAAAAAABAAAYAAAAAAEAAAgAAAAAAQAAKAAAAAABAAAQ\n",
              "AAAAAAEAAAAAAAAAAQAACAAAAAABAAAoAAAAAAEAABAAAAAAAQAAAAAAAAABAAAIAAAAAAEAABgA\n",
              "AAAAAQAACAAAAAAcc3RzYwAAAAAAAAABAAAAAQAAAMgAAAABAAADNHN0c3oAAAAAAAAAAAAAAMgA\n",
              "AApIAAABVwAAASYAAABmAAAA4gAAAEcAAABPAAAATQAAAE0AAAAjAAABDQAAAEkAAAEUAAAAyAAA\n",
              "ADQAAABjAAAAYwAAAEkAAAEEAAAA9AAAAFsAAAB1AAAArwAAALQAAAAkAAAA/AAAAJ8AAADoAAAA\n",
              "aQAAACMAAADeAAAASAAAAJoAAAATAAAAxQAAADAAAAArAAAAEwAAAQ8AAACmAAAA3AAAAFsAAAAq\n",
              "AAAAFQAAAJkAAABVAAAAUAAAAGQAAAAlAAAARgAAAEAAAAATAAAAUwAAAQ4AAACfAAAAJAAAAGQA\n",
              "AABMAAABKQAAADMAAAAmAAAAygAAAC0AAAEOAAAALQAAACYAAAAZAAAAGwAAAB8AAAAZAAAAGQAA\n",
              "AUQAAAA8AAAAGQAAACgAAAArAAAAQQAAAOAAAAAbAAABDQAAACsAAAAsAAAAZAAAACsAAAAnAAAA\n",
              "GAAAAGEAAAAsAAAAGAAAACgAAAAbAAAALQAAACgAAAAnAAAA8gAAAEQAAAAaAAAALgAAACYAAAAn\n",
              "AAABmgAAAD8AAAAVAAAAMwAAAMAAAABDAAAAKgAAAMEAAAA/AAAAHAAAAHoAAAAsAAAAKQAAABoA\n",
              "AAAiAAAAHQAAABoAAAAaAAABDQAAACsAAADpAAAA9gAAAFMAAADsAAAAsQAAAGcAAADuAAABAgAA\n",
              "AFMAAAAsAAABCwAAACkAAAAlAAAAFgAAALUAAAApAAAAXwAAAEYAAAAoAAAAFgAAAFwAAAA+AAAA\n",
              "JwAAABYAAABrAAAA/AAAAPMAAADAAAAAMQAAACgAAAAWAAAAYQAAAPIAAABRAAAAJwAAAOoAAAA1\n",
              "AAAAFgAAAFEAAAB4AAAASQAAACwAAAAWAAAASwAAAOoAAAAvAAAAUQAAAP8AAAA2AAAAGQAAAE8A\n",
              "AAEQAAABCgAAADUAAAAlAAAAFgAAABsAAAAbAAAAFgAAABYAAAD/AAAAKwAAABYAAAAoAAAARQAA\n",
              "ADQAAAAnAAAApAAAAFAAAAApAAAA1AAAAD0AAAArAAAAHQAAAPcAAAA1AAAALAAAABYAAAD5AAAA\n",
              "KgAAABRzdGNvAAAAAAAAAAEAAAAsAAAAYnVkdGEAAABabWV0YQAAAAAAAAAhaGRscgAAAAAAAAAA\n",
              "bWRpcmFwcGwAAAAAAAAAAAAAAAAtaWxzdAAAACWpdG9vAAAAHWRhdGEAAAABAAAAAExhdmY1Ny44\n",
              "My4xMDA=\n",
              "\">\n",
              "  Your browser does not support the video tag.\n",
              "</video>"
            ]
          },
          "metadata": {}
        }
      ]
    },
    {
      "cell_type": "markdown",
      "source": [
        "------------------"
      ],
      "metadata": {
        "id": "XztW1VQurNMJ"
      }
    },
    {
      "cell_type": "markdown",
      "metadata": {
        "id": "2gqQCCQTOOP2"
      },
      "source": [
        "## 3. Temporal difference learning as a general model-free prediction algorithm"
      ]
    },
    {
      "cell_type": "markdown",
      "metadata": {
        "id": "usiBgN8mOOSw"
      },
      "source": [
        "The temporal difference (TD) learning algorithm is a general-purpose prediction algorithm, and the backbone of much of modern RL."
      ]
    },
    {
      "cell_type": "markdown",
      "source": [
        "### Motivation for the TD algorithm"
      ],
      "metadata": {
        "id": "RtDFtvjd-1i8"
      }
    },
    {
      "cell_type": "markdown",
      "source": [
        "A useful fact is that the value function satisfies the **Bellman equation**, which reads\n",
        "\\begin{equation}\n",
        "v_{\\pi}(s) = \\sum_{s', r, a} p(s', r | s, a) \\pi(a | s) \\left[ \\ r + \\gamma v_{\\pi}(s') \\ \\right] \\ .\n",
        "\\end{equation}\n",
        "This equation is the basis for dynamic programming methods for solving reinforcement learning problems; such methods, while extremely interesting, only apply when the agent knows a perfect model of how the environment changes with time.\n",
        "\n",
        "More usefully for our purposes, this equation is *also* the basis for the **temporal difference learning** algorithm for solving the prediction problem."
      ],
      "metadata": {
        "id": "1eSsL85w-1uD"
      }
    },
    {
      "cell_type": "markdown",
      "source": [
        "Suppose the agent would like to evaluate a policy $\\pi$, and only obtains state and reward information from the environment (i.e. the agent has no model, accurate or not, of the environment's dynamics). \n",
        "\n",
        "Suppose, moreover, that the agent was recently in a state $s$, took an action $a$, received a reward $r$, and transitioned to a state $s'$. The Bellman equation says that\n",
        "\\begin{equation}\n",
        "v_{\\pi}(s) \\approx r + \\gamma v_{\\pi}(s')\n",
        "\\end{equation}\n",
        "on average, for the true value function $v_{\\pi}(s)$. \n",
        "\n",
        "The idea behind the TD learning algorithm is to iteratively update $V_{\\pi}(s)$, an estimate of the true value function, by comparing the left- and right-hand sides of that approximate equality. The difference between the two is extremely special, and is called the **prediction error**:\n",
        "\\begin{equation}\n",
        "\\delta := r + \\gamma V_{\\pi}(s') - V_{\\pi}(s) \\ .\n",
        "\\end{equation}\n",
        "The name comes from the fact that $r + \\gamma V_{\\pi}(s')$ is an estimate of $G_t$, the return. Effectively, $\\delta$ measures the difference between the apparent value of $G_t$, and the current best estimate ($V_{\\pi}(s)$). \n"
      ],
      "metadata": {
        "id": "n1aTUuaGz0b7"
      }
    },
    {
      "cell_type": "markdown",
      "source": [
        "### The TD algorithm"
      ],
      "metadata": {
        "id": "U53la7IA1hxq"
      }
    },
    {
      "cell_type": "markdown",
      "source": [
        "<center>\n",
        "<figure>\n",
        "<img src=\"https://github.com/john-vastola/RL-at-Harvard-tutorial-2022/blob/main/images/TDalgo.png?raw=true\"  width=\"800\"/>\n",
        "</figure>\n",
        "</center>\n"
      ],
      "metadata": {
        "id": "RJX5mJ511h1Z"
      }
    },
    {
      "cell_type": "markdown",
      "source": [
        "### TD algorithm implementation"
      ],
      "metadata": {
        "id": "8omZiZ4ZVnQq"
      }
    },
    {
      "cell_type": "markdown",
      "source": [
        "**Implement the TD algorithm.**"
      ],
      "metadata": {
        "id": "6VkE3UQjVnRD"
      }
    },
    {
      "cell_type": "code",
      "source": [
        "# Implementation of the TD algorithm for solving the prediction problem.\n",
        "def update_value_TD(move_info, policy, V, policy_params, learning_params):\n",
        "    alpha, gamma, dt = learning_params[\"alpha\"], learning_params[\"gamma\"], learning_params[\"dt\"]\n",
        "    state, state_new, reward = move_info[\"state\"], move_info[\"state_new\"], move_info[\"reward\"]\n",
        "\n",
        "    ###### YOUR CODE HERE\n",
        "\n",
        "    delta = ...\n",
        "    #################\n",
        "\n",
        "    return policy_params, V, delta"
      ],
      "metadata": {
        "id": "p9_Yup1KVnRD"
      },
      "execution_count": null,
      "outputs": []
    },
    {
      "cell_type": "markdown",
      "metadata": {
        "id": "_ZmpPnc6WaX4"
      },
      "source": [
        "### TD policy evaluation"
      ]
    },
    {
      "cell_type": "markdown",
      "source": [
        "Using the below learning parameters, show that the TD learning rule successfully determines the value function of various policies: e.g. `policy_random` or `policy_downright`."
      ],
      "metadata": {
        "id": "IjP6e9xSWepJ"
      }
    },
    {
      "cell_type": "code",
      "source": [
        "# Define learning parameters\n",
        "alpha, gamma, dt = 0.1, 1, 1\n",
        "learning_params = {\"alpha\":alpha, \"gamma\":gamma, \"dt\":dt}"
      ],
      "metadata": {
        "id": "X7SeegMmWaX5"
      },
      "execution_count": null,
      "outputs": []
    },
    {
      "cell_type": "code",
      "execution_count": null,
      "metadata": {
        "colab": {
          "base_uri": "https://localhost:8080/",
          "height": 854
        },
        "outputId": "7833921e-3258-4e8a-dc02-d62004319a47",
        "id": "l7uEMEvlWaX6"
      },
      "outputs": [
        {
          "output_type": "display_data",
          "data": {
            "text/plain": [
              "<Figure size 1728x432 with 3 Axes>"
            ],
            "image/png": "[encoded data removed]"
          },
          "metadata": {
            "needs_background": "light"
          }
        },
        {
          "output_type": "display_data",
          "data": {
            "text/plain": [
              "<IPython.core.display.HTML object>"
            ],
            "text/html": [
              "<video width=\"576\" height=\"432\" controls autoplay loop>\n",
              "  <source type=\"video/mp4\" src=\"data:video/mp4;base64,AAAAHGZ0eXBNNFYgAAACAGlzb21pc28yYXZjMQAAAAhmcmVlAABmI21kYXQAAAKtBgX//6ncRem9\n",
              "5tlIt5Ys2CDZI+7veDI2NCAtIGNvcmUgMTUyIHIyODU0IGU5YTU5MDMgLSBILjI2NC9NUEVHLTQg\n",
              "QVZDIGNvZGVjIC0gQ29weWxlZnQgMjAwMy0yMDE3IC0gaHR0cDovL3d3dy52aWRlb2xhbi5vcmcv\n",
              "eDI2NC5odG1sIC0gb3B0aW9uczogY2FiYWM9MSByZWY9MyBkZWJsb2NrPTE6MDowIGFuYWx5c2U9\n",
              "MHgzOjB4MTEzIG1lPWhleCBzdWJtZT03IHBzeT0xIHBzeV9yZD0xLjAwOjAuMDAgbWl4ZWRfcmVm\n",
              "PTEgbWVfcmFuZ2U9MTYgY2hyb21hX21lPTEgdHJlbGxpcz0xIDh4OGRjdD0xIGNxbT0wIGRlYWR6\n",
              "b25lPTIxLDExIGZhc3RfcHNraXA9MSBjaHJvbWFfcXBfb2Zmc2V0PS0yIHRocmVhZHM9MyBsb29r\n",
              "YWhlYWRfdGhyZWFkcz0xIHNsaWNlZF90aHJlYWRzPTAgbnI9MCBkZWNpbWF0ZT0xIGludGVybGFj\n",
              "ZWQ9MCBibHVyYXlfY29tcGF0PTAgY29uc3RyYWluZWRfaW50cmE9MCBiZnJhbWVzPTMgYl9weXJh\n",
              "bWlkPTIgYl9hZGFwdD0xIGJfYmlhcz0wIGRpcmVjdD0xIHdlaWdodGI9MSBvcGVuX2dvcD0wIHdl\n",
              "aWdodHA9MiBrZXlpbnQ9MjUwIGtleWludF9taW49NSBzY2VuZWN1dD00MCBpbnRyYV9yZWZyZXNo\n",
              "PTAgcmNfbG9va2FoZWFkPTQwIHJjPWNyZiBtYnRyZWU9MSBjcmY9MjMuMCBxY29tcD0wLjYwIHFw\n",
              "bWluPTAgcXBtYXg9NjkgcXBzdGVwPTQgaXBfcmF0aW89MS40MCBhcT0xOjEuMDAAgAAAB59liIQA\n",
              "Ev/+963fgU3AQO1rulc4tMurlDQ9UfaUpni2SAAAAwAAAwACEXCk3XMfRB1oUgfwVU/gCizD5ANu\n",
              "JOPMEZhMgkN5fRP47JI682aD8eqbioe6YmZMb4S5AJHYgAAB2QiaSHBAi/9YV+TK3V2XtmJDKPEk\n",
              "qv8nnhr54T4XhSSrJjmc9s2rrlxQGFK07PBGNOLEdE2pGESkrMOY5ofZGiYb/uszrU/IBGHukOjv\n",
              "rHPPDulLndK47rNPimluDigPhid2UfDsv2CSGpEU6xWehUAXA78xwnXxq43u6cvz+3NdSxgWMoG7\n",
              "g5MHdfCfX2biziwPfF6cOc2/8cMXl9z4L5nrKUUGzjyiuHJ/6uHznhmKPh9Qbgw6Q4FD1m9vD4Yw\n",
              "kmw1CvWJzqWkbIAFWxbO9aSO/GdtnpB8PEZpGauzynm546CQ/6+DyKCpwBb6rvRzdh/bqJK/dRLl\n",
              "3fRoBc8M6z1T0GqwHhIyAVTzyZK0cr4ZBynkIkSwthZyonvEMs2CaIk59AsyI4a08UGBik1Bo+Vg\n",
              "ejblaxfZzI/jjBJIHPe7vGWZMRFwswhXzD4nz5OJt1CCzBhGG9qYaI/yngnorZfiQQFhZlDQWZC1\n",
              "26Vr7lVGaubEXMmeXBqIWfNRDQMBm/Cet75cO10mW8mAKBn3l6M4+RqX6vS4NLH0F7tryW8gU9Si\n",
              "d18xoGtNZ5fhZkXd2MzCymWIm4S2gYmzS5FbJua9RX6zaIr2UGY0jdbH+jn0eoz1U6jAJn/Q+atz\n",
              "eRoxsFPjVt1AfYep/Vgfj4WXMMQiyQPzQhBs0OhsoMTWv2LHhzzJPuaWU1XB1eka7YiEM8xwLIzN\n",
              "4OLbOf8h9ySVjAL056d4fmg/uZgbj9ApB0FoFqafrIV1v6Pz8vdgK8t/6U0CHsfkyMdo4WHzB5BJ\n",
              "eHUsTg1yt2QgNGq/oR5+UC6ztDXDjQ44eeZYg76edff0rPYsy+EI5TzjvcWVKlo4VefnB1J7ojZU\n",
              "9XcO//9f1JNp77izK1sy8gadobkUfkJ5RdmUzIAvJuje4ePNLha2Shcy7L4T0/xwzYVqu7ivFSIF\n",
              "PV7cKPYVHoym9d4XdidS7l8FGjm0oIYkz6TDZXSCcUIwSA7MvPgCiG8KruSLTcV/qJFQIOLFGNz9\n",
              "7BxMUlFhMQFy5RN0EC/voIvelBCINB0Ywi3bdw6/13v8dD+LonQFnqI2RfHVWo+xctynkHjjeJAU\n",
              "qtvnDfavC2aZMTtUKYT+FCqBse08Qf8fdponUHYyHdzHaoSeu9Kj4oFSgooXgArqDjBbPd/aRG8w\n",
              "bK3Em2gANih2d4lmhrH5Dvx6c/PU/WbiwdymgXRKNnb3UZrGYalJ6gevxU0//4dR4Em69MafS8+b\n",
              "4OqbZUVACxGsFTUPP+YTBsV1A5D7TjZJtgQqCg0kcwHKGLtxwVti5mBEbpYhWoWU5gtfJB7Uh8Y1\n",
              "x3430hVSPPD7ZPEnx82dD6qrc9xlTPRMnOHfbWLCJbaFT2oGCGaVgJQKK/T2U8IMuGnCLRNNhVlO\n",
              "A4SZOQ2iNbet3cpqrU8hdZUmA5u644XN0H334S8FAH80e3GNip9HiWYkfD+/bzS4DS839IcVfrcZ\n",
              "oVLIWwoyg3vi3yOjUCgRdg9jfobU6Uh0sBc8Yu9LRYx//+OqWCmSX4v6WcRdHr+5uKDRZGdxw25r\n",
              "9kqmh2ow2r/5VskaI3Kscpq+2rgkKfplz6nHrDHfiHZb6l9NoiEFZ5vC34RTCAxmby/UY8FCHjZi\n",
              "/DBV5S0WxiK7f24KqqtUZhgCJH1B6bbjFx1kxffqqfOjtkccJWRLIA1rSIMCXb3VV8VVVNDF1t6Q\n",
              "jCiLQqcs1Y0eBQJSJ5naYU/aWfH260aHyPS4kMQtDbcxGWhQu7AAoTcltGWwTvA8PLZg/3AR0140\n",
              "GJYqdZih4uQwD5PAGjsDI2R/FAeX9ENTHc+4IBd+NWkkafBVG8bgoO2lSmsMWsm5Or59czf9p9Jq\n",
              "pevRnKMwVWny8+Wgjqziw9Me0DEyvAFZ6B9eF8KuoXiBgmNBmsnAAAKcCHSaxv2HjJ0cXB8hd58u\n",
              "VoZj46cf5/+Xug+TJ61THxFbpnZQp8zTLyPRSyQVHLz33L9rQXF+aEW6/TuSFkcUs6QAg55YtJdo\n",
              "Y/nSAnTYFWLWYnT5auVBQNU+XwEhMklcG0ZB5c+uuguf0gXuBz9mBMNEIuz0galdui6/q7Gyyk49\n",
              "taZVFsX0B0aJ4JAlu1tFhj15WRu21SjibBnMyMGBx4Uh0otAJIAAGe2KQu0aHSvJumzw5yXVpQ6X\n",
              "KQQre9ADWGRZr46/z49BRt3ETVwTVSRy0gGiHN3mvC7y+BCz3r8cm2iZjK34MOSBFBVvzYnbxXOi\n",
              "/6leoGs1dQnmmS3klS1wdn87vWBQBAvgqPKK3Bbu3/VPOBxAfQQdxUAP08WG/lYsIBSI9L4MMKc7\n",
              "3dl6DoZ5FKa+CkOEMdYgHOZd2XIWir5dni74zQy8e9SD9pPRHK7Cm04TNGBGdbhoFZxV9ESw3mLE\n",
              "tzRKi121UtyIGxpGGeM/D7W39gQEQw2tgf1TZ72pT45cjTELo7qmvYvX40kS9IPmdkpvwAADaAGN\n",
              "7twAAAMAAD2hAAABLkGaI2xBL/61KoAM9mHbgC/yz065zmfIzYIHbF/TlNlbb+5TAz56GUcO3Geq\n",
              "mf/9xQTF/4HGY0PqVLZWVoPrqYJVRBZm/KY4cZvJac2IlX7+9P61IGKoREJWkr7I3uwCihPwDCBa\n",
              "tmYylX2ulxafCkRXYab6o0W6wMTvXaCwWBUJyVp1QuGZwXLafGhw/j9WAZoHpVqtMKSwhhID3T9c\n",
              "AqyHmZsDR0iUDSB6u5L3tX8zBJ44ff/qlPIyTNQDKlHi8Uw7ri9aShtnKaAN+vj+HjBGX4HQ/et8\n",
              "tq/wBxRFAISHDdKX5dw/p3Is+GQ5dNrxnQFtJtH9BtKY2hiBbCvwxnFL8NkztP71vhrNedIliTD8\n",
              "hgC7QhFnOdKLGgnehGxCLh1rJdt1raI+sYkU4KCAAAAAKEGeQXiCHwAPhPhTVcI2h275bFUrqDqF\n",
              "V3UdCVQcYq3gmjIjgOBX9bUAAAAyAZ5iakP/AAH7whP0Gy9Jya0F6xL5VWQADcCOnaOWFKqMQ11E\n",
              "ctP4jystQ1+GzRAAYsAAAAD+QZpkSahBaJlMCCX//rUqgAALf9EhtvZuOld5DMAbO3z/m/SVMyM+\n",
              "5B/+80TmUimKmHagUh0664O785ETF7uT5txNkvwH//265Eh5brB6CFw0hqPBAzxCC9Ca3h45W2sJ\n",
              "czBoRCXXweE9ODdLc0++JJUVwBv8nMzxgp/inOww7QwEVq+A0kw0wvRKD5cGA+NVxAPeY6JZcx4K\n",
              "PY+faF39yr4AOJxErCK+/ojvypzqm96OMSRpVTjJRqlJlDyV/VAmoxuGz3iYEXKZqHcA383mGfD8\n",
              "MOZtO44vMYLmWy1vMx6up9sfNxSd0CvdAIVwPOHzk8Z1KqQ3csMsyDtoooEAAACqQZqFSeEKUmUw\n",
              "IJf//rUqgAAFJ8NYbPuI6obud/xJoIA9aKCLQXzC7W/FFltMQHh5dmDu9JC1BQY4qXeOHks6WHxW\n",
              "NXiz//cFF59H4+bS83tIN/R9+M4+IpsrbXticqK3S/3n/8OCJ7WEkbm1ja+cryjA567yO4rzzGaL\n",
              "tEX0ir/6EfWq0rNjPkDMeNQ+j/ZTRXA4Ic5533kg10/VjdQYZyq6Cw53rNuAUkEAAACoQZqmSeEO\n",
              "iZTAgl/+tSqAAAAgCTpJ1T115BFEHLhrIINwRkf3j8V02fGfNqXLdIa7Tt/40WABDlrHfaBREtTM\n",
              "KHl4zcnMYrXmY6JkSSCHFOsluJUBdV5+TttpinM0IgIAzYu5oENBb/+gPNP6fwKdByOasBzyiPNo\n",
              "joPac/pN9r0SmrIBCjW0vw6HQ8eh/QA811Jor25V6GSxBFNY7E+AWHetksTONng/AAAAy0Gax0nh\n",
              "DyZTAgl//rUqgAAAAwDjwLzAAo9C5Zd8aXWwzK//CC2icygISRPj8Byum2CNu+4Tv//7jAnKW1O2\n",
              "/dTWHnX//bvLlfcKiXbmncztDN/cpiDdtihk6DVre+DVJwf1yJglXA9erYJC2WeltR1FKHDLj6sD\n",
              "6ngiSEor2ihHozJrvTp/E87anz39qj8PEb4EuWymFYxgwQTpU16kynfikp2gpYAqLHFBrtphHSl7\n",
              "fJnn+YsMHPrZTjB50YDubRzT+FEpdt1xn3gFAAAAV0Ga6UnhDyZTBRE8Ev/+tSqAAAADAOOe0YgC\n",
              "royYfnSw167bBSgqbNbdlHePBUJYPuFAMtZrK/yF6ledCgN/1cSsSe8QmK0/QOhn5TABUxWsUeI3\n",
              "SseH0gAAACIBnwhqQ/8AAAMAAnxOfYgLDTBr4zKCW+zZEFteiDQu8bymAAAASEGbCknhDyZTAgl/\n",
              "/rUqgAAAAwDjnuRW9pUp82cTrwni+iCbPSUwgBA3tD/k82LRySOAg0DlJitAkRCkEKZScAAv+gJW\n",
              "+A2m2wAAAE5BmyxJ4Q8mUwURPBL//rUqgAAAAwDjnuyPWbEJmJxQpVD/YANljp0Dtv8tfz2c4HjW\n",
              "uz7DYNtTxrT47LnaT+kQMJKuW4AAA1Id8nkxCkAAAAAeAZ9LakP/AAADAAJ8Tn2ICw0xiQ7c3Zmz\n",
              "sSmrwMKoAAAAwUGbTUnhDyZTAgl//rUqgAAAID7xJABCdiKibAKbE+MOTabA6ZHp6P8b79HcBDHl\n",
              "FXijIjgq6AYdumPI1f/hCJgeRkwV9pGSpiyggyqFnZ/Dgeo23O5ugRntfhOBiHze64mKGYY2g0An\n",
              "v4ZJ7IixHS+ZSOJzq1RexMyf4MqEPcYSwW6yYYyiX8um88eVKKwcLL0RQVrD9w/x6mOI9wP/R57s\n",
              "XwKB3T1EGRyClJOl318q6pkaneoZRQwF616/OqdwAXEAAABFQZtuSeEPJlMCCf/+tSqAAAAhP2no\n",
              "V5FeKAo8g4HIRDZzl3VJmgRnHu7sWz/W3usAApA42BqZZrB4pmfdACD8ABVXrqFxAAABEkGbkEnh\n",
              "DyZTBRE8E//+tSqAAAADAPrrSvylKHUUADK33N4cYaV1IhQlxdCTj/soD8b6ManUlJOpO2IFEt97\n",
              "YPkcL96Qj8lSo3zCOjdliuC4A+aI//CXo88iH9HQ+X30bNt+H+2ZIFvCmhXgt0dawFGuJ9yUqI3s\n",
              "Pt9CpXwxUqnvQ2HgVlBaj/HbdcYwsLUKF90xQHCecs3+zQQZ9+50hRYuT545iVoFJ3fhXkxP2oQU\n",
              "m21bwWS4qAlSMZ2WDk6qfovdQ3r6c64TBaYuoboVFk4f9AtJ/81zz4bQYIOqjyPmxNf47nZtHaNg\n",
              "mFj2FPy4SFh51ft9uhkuRh3TzQFl0zPfEsf7z/gkwNAtnWJoxwiCzUkAAACrAZ+vakP/AAADAALE\n",
              "j5qAnbjCow2MgADkxNoU/DHfktzP6EVer+oRczZ2DZcNZYN6PN2OtekjW6Qh8lgpUyINPZe34FA/\n",
              "Y8SjCMnhRGzYytyufyr2rltaqxCsx1ZGdU5AtbCEK56bQlQV+KV5kGr4zKwqtptfdvW2zz3q/mGz\n",
              "KO55d6fg6YF1+sZGRN3yvwAuZ2XTDFxlhI+9Gdd6C15cJBI8IjF/JdOpxIOAAAAAvUGbtEnhDyZT\n",
              "Agn//rUqgAAAAwD5oq+AA12F9MnIlojsUymILZPJxSHUMARH/wKedTLp12e45pf/+4wJtHyUZwp8\n",
              "DoepCYcYaMBlWlZYmy2LNFNUViltpeeHEztw6yVsszv+go3gj+MPIHFFbMqueYUK4Jhtk9Le57pB\n",
              "Hf9ZuCDTf+5lAyM9AgOGADfNSJhvi3b1tgvJ1i+L3qvRYBVbaF6JtTJdopbtKxcRFpbmCmPKx/Ur\n",
              "TkqSAf9++8PDgQAAAEJBn9JFETwQ/wAAAwABPfnTJ5bzTmPtI662PNGH63ZR29oMAQBD+RpulbkL\n",
              "qg1C1rTXieQUA1E652K6eJTfROsPB2kAAAAgAZ/xdEP/AAADAALELbogSDbENkRJd3vadE1OKrjU\n",
              "kqgAAAARAZ/zakP/AAADAAIrBs34OWAAAAC1QZv3SahBaJlMCCX//rUqgAAAAwDjkewMpoieoAV3\n",
              "HZMR/mHtZduCgiQPStuvXb6TXB5Wi7lv9gehnf8vGt253UPTs3k88bxaoSPCMRBelgbo5r3K5UVJ\n",
              "npZmKC6KB5rJmS6OLpr1nncBK8/cjGh/3ebIldjXPoW134zp3LfVU/w7Wm3KQU6HtYn9l/vFX+jP\n",
              "rXeGiMoptC1yUa2TZttqpIZ+qaWuAGRTESgip+Zhfrc7rdTsgQAAACdBnhVFESwQ/wAAAwABHUO1\n",
              "J5bzV3EANgFkLzMgYBj6fDl9dZDskUwAAAAPAZ42akP/AAADAAADABWxAAAAwUGaOEmoQWyZTAgl\n",
              "//61KoAAACA+8SQAQnYiomwCmxPjDk2mwOmR6ej/G+/R3AQx5RV4oyI4KugGHbpjyNX/4QiYHkZM\n",
              "FfaRkqYsoIMqhZ2fw4HqNtzuboEZ7X4TgYh83uuJihmGNoNAJ7+GSeSW/iX8nsjjzLOteEJzxRs8\n",
              "DftaaU3bfMfJzBE8c7EjwwcLLwf+cRzpjIbGZGuJUpzyts4/KjgHcLEEkwlFOHNtaYTpNE36IVvn\n",
              "wS2YMFS5PwHIpIEAAABIQZpZSeEKUmUwIJ///rUqgAAAIAlgTV//qwAHhAahpENwhvuJ5H2hLMhu\n",
              "iYFHbmCfR1AAfHf5MpZPLqDHddwbK7swBwyUdHQgAAAAw0GafUnhDomUwIJf/rUqgAAAAwDjwLzA\n",
              "A1oZSy72vL57gK//CEUonMou0lsBkAxTprt48Yiviv//v8CdTLU7b9pdYedgAAPbeWoyAiiJl4eQ\n",
              "G28wFCDvkVtmxvX6zO9pge7RIxQdR5uWF5bon3QR0VQwUg9ydMLQmZt1lZEsRV+LhoLi1nkSwmuu\n",
              "8X47hPX/1D1F/RhoQpA5IIEGm2Yu5tw6w8I2fajo9/1aoiKe1Xyegh6yishTzG0YZaO5cAMaWiDp\n",
              "kQAAADJBnptFETwQ/wAAAwABHUO1J5bzdzdIVXrQ6EAQV57NDK2a+VMUgH1p+qHznn/cnUffgAAA\n",
              "AB8Bnrp0Q/8AAAMAAnwtuiBINsQ2RHgbvVWXHG6c/fIrAAAAEQGevGpD/wAAAwACKwbN+DlhAAAA\n",
              "U0GavkmoQWiZTAgn//61KoAAAAMA46fcqieiqU6EAEfrAoMYjp/i1GCBmPX6yIL9yBh8wAYQAg6O\n",
              "jl8f7Un5EpaDNrCjf020DDjFL1amLkBKVYuAAAAATUGawUnhClJlMCCX//61KoAAAAMA457kVvaU\n",
              "8QEACHOVnOsgVy+Q/fNbNyqhlMspxHHdRwKUd6obvfAb4cNqodp5skEzA5Z3pPJpKqRgAAAAJ0Ge\n",
              "/0U0TBD/AAADAAEdQ7UnlvONN+H8Hfszl1tt3jU36Q4AO3aeQQAAAA8BnwBqQ/8AAAMAAAMAFbAA\n",
              "AABpQZsCSahBaJlMCCX//rUqgAAAAwDjpF7eqeKAADrlZbcTVkw1LHIO8sgdXBDAH3ZiIq8yBYsB\n",
              "PLcD/eoQVbMBECmwHPtg0FAgz+cMItbH9pWuaPhrGEhfs6CTU6AyO+BkZf2MSvOHKVYvAAAA8UGb\n",
              "I0nhClJlMCCf//61KoAAACA+61AASBs+6gOPXDDjDk2oUOicnQj/JSKZ5YAz670zlZeF7g4Bd4HW\n",
              "Ncw/+EImBpWvVUBLRkA2D++hHbz/7bB6jeXxE+wNmNryUhglCNn45AuTPOnuracahbbl6oYV05Ok\n",
              "Ue4Z8nlTWe03WLBg9cc96Bl7Xaf4NFrKM2H/ACkyDKcwsPBRQI7oHwB8Sb4+pgqwydoD4X61OATr\n",
              "eiPqiSl5pyujKDYTPHvq+FnfqjahJ8GAeO737aNRXpUosNDfO9EdAFYc97zatCVzdCahbDKkp140\n",
              "Csxaat1ReO4lHQgAAAECQZtHSeEOiZTAgn/+tSqAAAUuY7NIApN0S/CzUshZxszo/880TmUimKmH\n",
              "aj+b06643Po/0TF72T5t+BkAkb//265Eh5bq87PTw0idPBBHmvwOR9NmWhqxk67Qv3iLAASMgs/o\n",
              "rFxpE90fT6QnfqyCh6lnWXo2OwODRtQrj54YXHxo/B9Y9Nrp6SBwSAvzROp4IYHiSlDbun7BiTxG\n",
              "aznWT/COk8luntqNqvog8Al8bx/mIYCJFzgIb3HKyLJWLY5ncE1uxMP0S8N2syar4AZyGQzB5ubn\n",
              "FoAqXnkWrZq59X8aoO5NT05E9zwOLUoPbstpGIWx+3Kr6Q9lb8pq8HKIhIOBAAAAJUGfZUURPBD/\n",
              "AAAGbodMnlvO1lC+lM0/GvjgIkpBEXVkCEhwJpkAAAAhAZ+EdEP/AAAOJXsxnoUqqMRjgxnKfErb\n",
              "uSy2sEYKsIWBAAAADwGfhmpD/wAAAwAAAwAVsQAAAQNBm4pJqEFomUwIJf/+tSqAAAUn41k6p665\n",
              "dyq3Qmc4ARhxGaUan3kdhuOg8EUAaFZ0//q6Doa+AGwJILrpYAgDm7xC+z+tAjdUfS6QrETttzGt\n",
              "mezQwxNhRP5P6CkJOpPAbq3nvPP/FUR4tyi6hFsEtNRRmjBnSKcONhJCNuB6eFvL/HJ7utPTQWuB\n",
              "wbSxjB3+sb7AARVqx24bdxbNpXvjWnjHmIPIV1bMHQSiWsq8wSP9Mu1ORtIXpMIeevf/3soaqzB/\n",
              "f1LdYzHA7qIwIad/AobM4VHs7U16lVGdNor/M9cqiAAgPrfOeFWkrH/qLBTvT4tT0JpxmtPrGrLd\n",
              "YiX2KqCAAAAAJ0GfqEURLBD/AAAGbv6xof13Qvg+2koAJWxN7szuy1JtVdo37PoJlQAAACMBn8lq\n",
              "Q/8AAA4nYyKUWuV0slPKAAZN/0wPahc0VUX6BSgBiwAAAPVBm8tJqEFsmUwIJf/+tSqAALuVakAC\n",
              "E6AWDaf/8ITAgWhSfTFtwRBUr2e8OYyYOHsP/ddOvrkMTk/5wgTlVmPE6z3ndBCAAn49/TdxK/cc\n",
              "kEw7sd+S//Xb2/G2AIYveyIkqYwng3qxi66nWfP1cpFT/sOk5Qsk+doWNRTAbM9ICjXVHYdELpgs\n",
              "hUYRD9wUlZnf9Kj4mM9SJOds9ULdFoXKJdOkkbp+btVqDq3BzZY63VEWSbqm7XmYPFC3r+pbs04+\n",
              "d+EhfRUB2Qf0b86gn7psWfa/LmGC3qlzol18YaksVetHoWFcQeescp+tI/CXEqHrHbUGVAAAAE1B\n",
              "m+xJ4QpSZTAgn//+tSqAALt8IPTmONOj52zKUgx5sjfcTyPtCWZDdEwKF2N8ACb38IBu5xp+A+xf\n",
              "jIzsps4gCqg7aaHm+9POLQBVwAAAAEhBmg1J4Q6JlMCCf/61KoAAu3wg9OY406PnbMpSDHmyN9xP\n",
              "I+0JZkN0TAo+D/0NDg0AToAQIkr8JpfI2yBg97ARNVnz/yxJyHkAAAESQZoxSeEPJlMCCf/+tSqA\n",
              "ALt8IPTmONzXDzuYAFSHHYnDiApeouwQ7NJoAxmHJJ5WjJ5iJpMdcc3yYUmHllBv97IDAN2xSWC/\n",
              "hFBHJ6HkszFlgEGkIO8ca6V//14DRLnyWY2GUefVKFDkw5pqmtNwQc8eSV/nvUePz1SQe0DdDAqv\n",
              "UoYt++K26F06L+d+kYc9fW4upLFn2y/sJGnofI76lF7xKjkgHZKelZ7qkX+SMDBnUl84m1+lnVJj\n",
              "DzfBdy8lbnvpW7mTsWj+hVsbSfY6ppYR4pwiBf/kuhcI0m2VsKYZRff32NwkqNmNCU3sT+l6A6dZ\n",
              "NKucYpRBNij+bZtXYgcFXIKN7wExed5uTujQwgAJeQAAACdBnk9FETwQ/wAA589wk8t5QyAIKOP9\n",
              "RqiaaHfZqBGYaSNhn4AA0IEAAAAgAZ5udEP/AAH7r2Yz0KVENkR4G71VlxxunP7NErQAFtAAAAAP\n",
              "AZ5wakP/AAADAAADABWwAAABBUGadEmoQWiZTAgn//61KoAAqeh5qgdQAXCcfon1yPqBHcfvG9RI\n",
              "dUDKsDGz8It1HsAlxl9/lHRnpzpfWPtxsrz4rwYp0hd1cYWY+ZPGgQntt/jjouSW5qfAXf9Mqhgl\n",
              "pAJqv+focB+u4kZzZUtnofxYAoIhXTX67yIP30Wvj72MWTcStKun37Jet+ABzFUwSnuHMDW1RnGq\n",
              "8vGVQ5D1Ct9sGudDyAuREM8ZPgh5KvBLGi8pp5M5GC2eyQTDjdhVuFDnyMOfTyBPUhpA7XeGa7Jn\n",
              "clwltFtj31VJnvuEvh/CchHiYYQXJZXJ55orKBzeTexMXJgdabQ0V1zTj+mCGnmmpADZgQAAACtB\n",
              "npJFESwQ/wAA0tDpk8t521IRfUArtSOVrjqF09CiJjfK361hh+1xAANmAAAADwGes2pD/wAAAwAA\n",
              "AwAVsAAAAQpBmrdJqEFsmUwIJ//+tSqAALuWbYACGBwOg8//8FaShWGNSyRLLfc778Ny8OBCjPhY\n",
              "KoakIvSOYQnV/8PQJ341x81Z/4HI+oFsZq/GTGCmOOxM4F2PDTiwiiw9Jbcv4nAWvVlGCniBseQk\n",
              "s8CeEl8cf2ir5JZi1mF0IQE8+1yV5rAspicA2w5Wwqyu5JVrSwMnBL60abIU8HmvNsfWqLheOyiP\n",
              "YY4CQ/IbV0Tvox0Fu1aaHFYrS+PEZ2Ed+/tBaIi7ULwMEfneL7m9psd7A7ibuVIsLRn5Tj0xXV25\n",
              "N+05uptYvyE8EuveifDBRbf7jOhRpTsKYKL6Dj/0oz+nBsFHyWUwlewTDADKgQAAAEBBntVFFSwQ\n",
              "/wAA59/WND+vAtvdqyAIOrgVyiHqWzg0K6i609sjgc+cMMljVXzNL337Y0lsXmXUQBTJl3fGrAKS\n",
              "AAAAHwGe9mpD/wAB++xkUotcrpZKcOnLs9JXP1lj2PgAHpEAAABZQZr7SahBbJlMCCf//rUqgAC7\n",
              "fCD05jjcRwVBomhqGkQ3Dit3j+AA4rBlSv6YFxsLyvod5a1PqVkfxQn4wGKEKpHvVr+bHVSZyMw8\n",
              "fbiRnQt07az2CYkAK2EAAAAkQZ8ZRRUsEP8AAOfPcJPLedrKF9KZp+NlUgDALK8WK5ImAGzAAAAA\n",
              "qwGfOHRD/wAB+69mM9CYTDYZqAEsoiV3wqwnaguwQ5+7xQ4yV51dosH7GrnczIbQ2HVRSeZRRJ24\n",
              "ThCv/8oMcZPX+t1N7ThQ1lIcHH39JbYtQh/fQrnpCJHhGWtKjzBx0Ey9maVkS1PltyIoHFe9cAFh\n",
              "N9t6k2d6rwqbNpnPtLjuD1ghLcGobXxyns7uzcsV7wtG7CB2fl51owpH9Y358PvYYgm+0ehWaYBl\n",
              "QQAAAA8BnzpqQ/8AAAMAAAMAFbAAAAB5QZs/SahBbJlMCCf//rUqgAC7gLyqDgABwW6PrkeO2EIp\n",
              "y4uDN/Rje6fbcs088xKJhBeXUvuXnntVQtSF0aT+YWhQdc7aJL8wp4xxofAlSI14GFACpz9h/vIA\n",
              "QXoK9zeEqoNRU6sG4wO6oAuw0O2m5+zTIj1BlADKgQAAAMFBn11FFSwQ/wAA59/WND+u2YXg5YAL\n",
              "YR8DV4B+3Z7DvAYFeUefd9c3ziUK7tKSkpC7rSfcTefSrVasvhLz+WT5x0JswvItr8Tsb6fFULRj\n",
              "1s39CsDWdY63fW5k1SojkB1zZfkOgLRPOrJMx0vNknRxptoaYY5cHMGXltX3uBKx587tCvEd4YXN\n",
              "JoejLhdfnstm4l0nI7gq9wQUL7pKcbZBra4Y8RJueAmYHc5m056HM+tPMdse4v0FpVtBL1SFgCRh\n",
              "AAAAIAGffHRD/wABz/zNTJ07mOnrILhEK0DTI4Qh3knkADZgAAAAHwGffmpD/wAB++xkUotcrpZK\n",
              "cOnLs9JXP1lj2PgAHpAAAAAaQZtjSahBbJlMCCX//rUqgABAfqlnBAAADekAAAARQZ+BRRUsEP8A\n",
              "AAMAAAMACbgAAAAPAZ+gdEP/AAADAAADABWxAAAADwGfompD/wAAAwAAAwAVsAAAARFBm6VJqEFs\n",
              "mUwUTBL//rUqgAC7lWpAAhOgFg2n//CFVnooUOE2YSC4z69RfDmLMn77WfzPUzHijE5P87AE5qRj\n",
              "u3OSw87AAAnmr8EtL3FlTar+DnjudjYIpn7b9EKEL/hegeUdwnvr557la1KoVLAOOXedP16c+A42\n",
              "UFDwAFFZfOwpnVxpO+wTyGqzxov/IsxHKVk0rknVy0hy9cr4PrlITchvri0pzJb8Mjl3SQ/GFIy9\n",
              "b7WdEfVaKW0Y2kIfAna07xbJmuulGjFBRD59JnRGYyXcILuBPs0vjCQILIKMwRsx/7lViQzC7hDs\n",
              "7iDp/5F+CSSH3Wm2L5nZ0UIZobScvN5GmZzKgFWp5CGTRIVIAYsAAAAkAZ/EakP/AAH77GRSi1yx\n",
              "1vuN4Fb/wYt+CKRlECTbCx+/AAYtAAAA+0Gbx0nhClJlMFLBL/61KoAABKIRhR1dwAC0A0ekg8AN\n",
              "Kg5OVb7TTxnezflkE/aN41DohzXVVbt5s0Px51n3M5aKY/LT/H7Xk82nIhwJmZNg+EFjxtsTE5iO\n",
              "QOue1M+7JG24bkAcZqqTtQjuy9s5VmXF2LftIKTD9rJtiAP8iXmV4csDBvCZMeOOAlWJb8bJ3c5U\n",
              "8t7mfNeoNhd2TPWaUDTnpIdtrsylUr4+h6nCrupThl0A9ABLB/rDs6ZafY5XxWkmearlQDZr9fFV\n",
              "oFFwCTp32J7BOLnkAMXJoYkv4PItBKSrz1JiTExWM6LRACiU6Y3NrvZeHucmFAKTAAAAJQGf5mpD\n",
              "/wAADN5mVQmkBJgeybmjZRru4NRlA/ZPO/TKdncAAicAAABHQZvoSeEOiZTAgl/+tSqAAASkdKi9\n",
              "hukMkEwDuY4R3n2DpusNZDLFMMWutdot5XyRlS9XMCHAz5j1ZNBMl01nAABEuTCgFJAAAAD1QZoJ\n",
              "SeEPJlMCCX/+tSqAALuVakACl+wXDaf/8IlwdIY0RB/BfgOdWvPSJ8CFGfCwFO7sRohaIM6f/4eg\n",
              "TvxmPENbHO6CEABPNX4ycSQITkgmHdjvyX/67e342v2orr2hDEVxAmOpOMf8kWPRk65IqUNhFLSE\n",
              "CiQXCxzsIDZnpCde8I7DoiBaGkKi3S/ZI37/1NmxaAScPcou2ghO5hHxYn5oChrDJ0q1ZHS91eh9\n",
              "mRSzL02nEAPZr29TfhImwIlVQqyJ7HFCS7c0xfG0NJ68TTTHbvycJEdY27PbwzRlNRXNK3T/q0SK\n",
              "yxNiKRA165VJ+ZqQAxYAAABAQZoqSeEPJlMCCX/+tSqAALt4aw2fcQTwAAdOZMEhpcB1vSqG+lXi\n",
              "zItQdfgSABs4sLBTgzpqAUzK5AMXRgD1gQAAARZBmktJ4Q8mUwIJf/61KoAABKDa35LShVqAC6N6\n",
              "8pBpNwVpqBXYfaHDgwpyW7vKTC5bSTTo3eq7wa6p6Y6G0XHr9SnmctFMfljwtKcc8VYSG5KujBzS\n",
              "4RHjbYUtDjz0QQ9TPD3w2mpd7abYxvq0e8bZQQuCWB9qNCwU+0gpL82sm2IA/hRfMrw4V2yL4k9H\n",
              "jjj7ilSaYhmAlqeCtRW90yQYnc7MCsqI8RsJ1x3y8FCippu0X6ufWMvTcCae2KzR/EV+pcsaSSxR\n",
              "P5L8RAxyRSB+JzDdgaVf677xU5b/4VfJyjJA25WZ1arEYXTYP4Lh8hQDcZYYFbPgwcVmJ14n/dIT\n",
              "n2EhIn09zP5AKv/evQya6lqjQwgGBAAAAD9BmmxJ4Q8mUwIJf/61KoAABKEMYbb7iCoVAm2iJ7Ma\n",
              "hyxS/uis2C9N8DtFT6gpBk99wPsi4jeAAAAknJhQCkgAAAD6QZqNSeEPJlMCCX/+tSqAAAUvDyGI\n",
              "A1tvn/N+kqZkZ9yD/95onMpFMVMO1ApDp11wd35yImL3cnzbibJfgP//t1yJDy3WD0ELhpDUeCBn\n",
              "ly651/3kXt2YnmYmL2UuzAHIz8f2TJRSysWOLyTS4mmHHCQaTZbtIkcfgouMmIDgR60Lk7La8DQc\n",
              "08+WA1WfYn6aSSQdjptHMvNz1zVD3T3V6KtsO+DfJruRO8EeBIJmqm4UAgS3LRnZXyOjilGYgV4U\n",
              "+kznAT+e2xyN9xMdV2xZXLpeeM3IGzgU6dqakaHiIG+OYfWdkpPGeVmstLB5kWGG9UGQHj7KYUAk\n",
              "4QAAAKhBmq9J4Q8mUwURPBL//rUqgACplGDAAVeOgeI13joO7Z6jdTtPY/Ce0+Jlt98ZUUz/Tf3j\n",
              "f7Rk6Gp70xkiZ5YWmS/XqwUFH4vQj9xfaC0AOPbYYst2+r/bQgJoc8yZ1onX6KBWvs2fbJjM7ZuC\n",
              "oSDou67jSgLMn98AgJsRgtUYY/Mb9L9YTWr2DXObjL92QSCu4ldYRa5i171tiR6ZdikfXdppBWYk\n",
              "FlEAAAAgAZ7OakP/AAAOJhCfoNl6Tk1oL1iXypFXSPaDPkFAN6EAAABOQZrSSeEPJlMCCX/+tSqA\n",
              "AAy3xrG29m411UGGUAOlHMRy5hAACaeWBPlo29/2moedkSyKryj1K1Ojq43YTJ2xFdl6paaSczZG\n",
              "bsAk6kG9AAAAL0Ge8EURPBD/AAAPh4Q9a27L9ZHl3C1Gk4dtj0RAtNUlYIMQcBsvXqIjMPI67CFg\n",
              "AAAADwGfEWpD/wAAAwAAAwAVsQAAAFxBmxNJqEFomUwIJf/+tSqAAAUn41k6p668nxq8Pohm4tad\n",
              "Tj8AC4NUAmZ3Kf8lo2SYcOQv1Ux3mkO0zAHjEMpef50o20+khhTJHLfBhIOfLIJM9J4RJoVF80MG\n",
              "fAAAAEdBmzRJ4QpSZTAgl//+tSqAAAUnw1hs+4gra8Nw1kEG35HDOcpzQPoCNpNYZUmuopgAzyTS\n",
              "ECigBaOWlXz45dm+5YMASRSDegAAAONBm1ZJ4Q6JlMFNEwS//rUqgAAFJ8NYbPuIHP4mu/+AAlji\n",
              "MT1PsirGuMFHTMDQrOn/nCCGQlORnv/mYbT4IuoYE5p5ZkvgegpfZIjVAqUo2rx+kxXpvDec6uz0\n",
              "OwIwono1dn5QWv7RkpbQIzYk1+330pKXLzDGhnnUY8et49OwwIA5E02Ny1Y/pMe8JLJwDF7XvIQm\n",
              "5+28cpCKU3pwadgdJzWmGgt1JKOeXOK5TeOgS+k9DJ8yIbnvZJVhe0zxXDzjg2Ahx7AhACsKONP7\n",
              "96tETIxB/TQpsRXgH9J2JH8cu6uFBQAAAC0Bn3VqQ/8AAA4mEJ+g2W80EzPoAWOvbdPadELTuffU\n",
              "X/kCznDTdJYnadEAQMAAAADmQZt4SeEPJlMFPBL//rUqgAC7lWpAAhOgFg2n//CEwIFoUn0xbcBb\n",
              "Ur2e8OYyYOHsP/ddOvrkMTk/5wgTlVmPFRVLDzsAACeavxk4lfuOSCYd2O/Jf/xbP6MJpIYveyIk\n",
              "qY1Hd8qxkbJ62fPavSd+nLsB0hAo+InPmr0jNeJEG0dpM5PJCwbVn7vWfrWUzIgxYX9KoCvkL/tj\n",
              "AHSgPO6Xg6fOPi3/QzjOGmljy4llGC2XICqWHGt9UwLI9K6ib47TEEkSdyU31s/qNhva8Hazq4R6\n",
              "qWzraKZ59D2b1RCB4LD3c51BshEAAAAsAZ+XakP/AAH7whP0GzSmoASc0Pq1dy81IcT//QLsw0LK\n",
              "a3XEiCfc22YADFkAAABEQZuZSeEPJlMCCX/+tSqAALt4aw2fcQVtd+Ac/hUhAxqPHWISEEkIDgAf\n",
              "zfk1ytvUquW8HlUshEfrAT1SNHB6gDz4lBAAAADzQZu6SeEPJlMCCX/+tSqAAAUvDyGIA1tvn/N+\n",
              "kqZkZ9yD/95onMpFMVMO1ApDrLb086Gi+WL3cnzbibJfgP//t1yJDy3WD0ELhpDQYuxrkWHnX/eR\n",
              "MJ621QKkdIkIg3n8S5HDdrptRdSlL7tNFW4JECfx2Va9dxWJsU4cwJUree7TaWpNZ0KYIfagThFb\n",
              "9cKNve62gb3/VAilcKy4ZSGWksEqUXAxWw2FpmkD5e7U3DK0JIUDEwdLmzfVTfglMa5t27GSCHzF\n",
              "BpwcOeMGhSgssIhoXB3qvGNQ+FMei/Q1XDGEmXIvU4jt3KdDANDCukGm8QoJAAAAV0Gb3EnhDyZT\n",
              "BRE8Ev/+tSqAAAUnw1hs+4gngAAi5SOz6s4KWnCIBYSaP/hLvAXLAfnnrZERECWJOW8ejROvKpTA\n",
              "kPNbGaTcrQ3eDLl75RlX9Oi3pGA6YAAAAC4Bn/tqQ/8AAA4mEJ+g2W80Dx4hMAA3emfezHisousL\n",
              "iKFqhIkt400v7WHglAKTAAAA7EGb/UnhDyZTAgl//rUqgAC7lWpAApfsFw2n//CJcHSGNEQfwX4D\n",
              "nVrz0ifAhRnwsBTu7EaIWiDOn/+HoE78ZjxDWxzughAATzV+MnEkCE5IJh3Y78l/+u3t+Nr9qK69\n",
              "oQxFcQJjqTjH/JFj0ZOuSKlDYRS0hAokFwsc7CA2Z6QnXvCOw6IgWhpDOk2+vTr0MPvd6TTCx7IZ\n",
              "PDuw/Ei7jYmodE6gqak6N1pWZjDLK5s0JHS91eldmRSvppym1hn5+od6m/B7a81IVQqnACwYeNfR\n",
              "1Pkr7YViH2kgzqKeiqsTrPIPcbJWLzyRDDOfAAAAW0GaHknhDyZTAgn//rUqgAC7fCDz+oANZkcz\n",
              "NMHwXOoYmN+ZQYyS5+0mFKbamp1Cdd22ORZ3VJl09KA+rv6iNN7jvWcoDRpbuzM8EvWNZi2AJlAY\n",
              "mjQXe9L4oIAAAAD/QZoiSeEPJlMCCX/+tSqAAAs30SG2/v2nkMwBs7fP+b9JUzIz7kH/7zROZSKY\n",
              "qYdqBSHWW3p50NF8sXu5Pm3E2S/Af//brkSHlusHoIXDSGgxdjWwBhcCkGwnrbVAmREYnbdZmXPX\n",
              "K/9P4BT3g38buX9LQZomDtuZEKt5b6AT0/S8pKqNapqxj2HemCvrgDCSCPBIhI9P5GSwGivFKgYT\n",
              "/PIVvAP0ocwX9TzSJ8w3kpiFp/IeEO0FfBgWHKS+HFnh4rDGFva3j6ZiM6OYNC1OpBWR1slcnPPi\n",
              "PoVl6pLCbv2FUslxtLH9m8ivhcDx6eJ4+cff8GhtAp12qHHhAE3AAAAAMUGeQEURPBD/AAANz4Q9\n",
              "a27L9ZHmBZ68ihm81R+JgAJ5YqdrU8vTKovXmiFOrGIEAQMAAAAeAZ5/dEP/AAAOJXsxnoUqIbIj\n",
              "wN3qrLjjdOfveARcAAAADwGeYWpD/wAAAwAAAwAVsQAAALpBmmNJqEFomUwIJf/+tSqAAAUn41k6\n",
              "p668ob6QACoAVDVcPDRE1VSuiMAxmfXSw5CNI31mV09mWpHsGAAFLLeNZNqYPT0fEFJgpNh9H4da\n",
              "c8Z+fmuVFGIob5JIoDvvP2Wam6RB4qGxdCvA+srQ//z9gSJiFRX5z5xzoCQDhml3D5o+Q0vLPOsY\n",
              "/S10TOLDdHHdqTdUAks6zYVPSZSzPAbxyD9wfS46YzC6Wg0+IPOpg/XDNdkT79JNVBAAAADSQZqE\n",
              "SeEKUmUwIJf//rUqgAAAIDxc6iffO6ADmZeU9+gus57dh1eIyY9gj0qBR3MPQoIXQxEWBrYFA1pt\n",
              "BBjrfH6Ax0VKYCw+iMmdRLmlX+ejWuQUwcvEvSe/AgFgACkaXXBJDwtsDI/imggWLfFglSD//cBx\n",
              "2KkMuhvKlK40X+McWKLKn+OyfHQIXjRXgVWkxBjMh1M/2RDdItAJk0beJHGqpH3j8OQKGVsF5GPy\n",
              "rDcajfJUziVH0UHnm+WWEOOjvlgsWH2Av0c/r/fcHRf71JQhAAAAzUGapUnhDomUwIJf/rUqgAAA\n",
              "HSf0oAEszw3P7pVcpZd+mZbc+LL/wVl8Y5lOPk6uTcJxQ1Xu2IO4Tv//+/wJ6atTtv377raDfj74\n",
              "K++/yxi57DEmZ10fuSDMe2PgLEbWbQfHB0g/hRE7P8grFJZRAAj/xE+94bPJZb/xlFK88XDdZ3KR\n",
              "EwEUJM4wgDJ+i4lKs6n8OAii8Ty9E0MOiEHGee38sgWgPcwN7aToSFOWvSw4ccrMkav1BfzgdDT0\n",
              "gaji6wk1hcSxRVF8+2uKuYEAAAF+QZrGSeEPJlMCCf/+tSqAC7lpcgBXkV2/1Pg8nfGdRbPAcRkk\n",
              "zPn9PlEmVdtiYFkUyTbzKBUW81MJGoJqDCVSU6af+ikf6YWJFHEMbqhR5a6NIRin5VgKLp07MWcs\n",
              "wCUd34rkYtGPflVxVyPzfCxYmHzjYMZsTTJZS1O5GO31ojrbXx80wYCewoNEKCdeoBPzr0ousFgm\n",
              "HA6Dz//wWAyFYY1pZEst+RKNh0mRPgRSk1GMno/CL0K/Is/P/x9AnvNXHxAcX+PYEzDgDQxebgBz\n",
              "F6b3gEZpkk1fTLt5/IAC16sotrP7jslockcY3he5j+0Ve6HR3gRc8exrkMl59kv720sT6hh6LTCp\n",
              "c3T04ejHT56xJi4mwwsNcGVi+kTXv/Hk8ONOBInsSIQ9lsNMicK91fJ0ZlhkClplighAlxsnmZUz\n",
              "96BDkR1M5ATuDThgKUGvyQLZgtVsrVjDNaoYpXb6ZzusJ4EKuGnAo0hC6HMueH2rzsrjShBkIVmA\n",
              "Eo+TMQAAAQhBmulJ4Q8mUwIJ//61KoALuVkoAFcNX66jxiKfPJk7MATtJexdE9faPWsTYI0E3Qpm\n",
              "ygP0TNj/zYCI4sp9rUEY5Le60IKgA08NSer9tRduDlsTmFmEKLpwo7z7f8/Q4D9X9Hs8rbPY8Qn7\n",
              "ZvJBOEy0DC+DCtjcPAU5MTR3zTsuK45uZ6jHoTn12g60x0lEd3fiuwPP7lrhIsR6LOd1QI3tF8RJ\n",
              "xwARngOPwanmsqYL3T5zJJuUkkcai6P9wadp1s6x30FHOENunCwGui6fuTqXNhaWQAhPnP975xne\n",
              "kcHDxWJsvrD8GwnvT4V8D2OgF0TExR5AE3WY+0//uZWJmLlIKhsI3J+kQcEAAADcQZ8HRRE8EP8A\n",
              "Dnz3Cb5v1taeHLMtvJ8z6ABxbbJUqQP27PYd4DAryjz7vrlMLXqu7SkpKQu60n30VmJBzDJ5VyW9\n",
              "AqDNQoVgrvItr8Tsb6fFULRj1s389ZBWdY63fW5k1SojkB1zjnauD32uSoqnjyuwxtFTrzawmgym\n",
              "8cD6Pw9/AKjXzUXhDDuvBOJ04iBtzInJSJIgScccvucVOw9UnoUUL4IKjhdAbB72f80gSAq+iMlA\n",
              "rjX+bm7oRWtLYCu3zlAEf33k3pw2mJD7GTIaQ0yE5xad7jIt5MABswAAADMBnyhqQ/8ADN+OaiTI\n",
              "9Ho22qIpSLPzDeAA3NZW3b9HjaUUThfS8brpREsjyIyX5WtgCBgAAABdQZssSahBaJlMCCf//rUq\n",
              "gAHU+Uo711F0Wf6As6dXJWpwxDE+tJu44kt1MDfYMlBqwnf1sZGYNEy24bWYAQb57zLk6hCXqrNO\n",
              "qfngqx67KsBQs6wAMpKNZiWxbRxxAAAAOUGfSkURLBD/AAXQtLv/Vv1SX4W5HbGqyAGv70YLQAWw\n",
              "zXrSB0UzqwqHnRLRyWfp7S9R07lF5yAGzAAAACABn2tqQ/8ADN+Oaiir3SbI0sx8Hj3OsmN/Zhmn\n",
              "gABWwAAAAFVBm25JqEFsmUwUTBP//rUqgAC7fCD05jjWE0UC4tMCLBnDckVF7enopESmJkQFGsgk\n",
              "tHvlZI9r2HCqvFQAsNwYDRLSyKE6Wabq/lXt1+KJmglBMBUxAAAAKwGfjWpD/wAM4GVkGCvTJFo1\n",
              "MVBybdD5ogsPRHSZP59VSqcs6vHgIlIAbMEAAABMQZuQSeEKUmUwUsE//rUqgACpgLyqJ6Hqw49r\n",
              "r+ltRAVreNk+YfRLwZYetiTjSizGTJ28LDqEnx404MQi+otX3eADK0aTPLMAbU+i4QAAACIBn69q\n",
              "Q/8ADG9s3OQ9KWcbERLavxhiqUBEPGWxvBdR8Am4AAAAXkGbsUnhDomUwIJ//rUqgACpfCU+Envi\n",
              "tQWVN7VgEf9vAHf/bV/C0h9vRWopJGGx+Ej9tHYOWVoIDj//FF+kLZwsJlXc0OkhumQdbzuYTYYA\n",
              "VJ8u4GN49irVIA8Am4AAAAEzQZvVSeEPJlMCCf/+tSqAAAQj2U7MVABfcy03VwX/5jyCEg2k9Zk4\n",
              "uGhQXrcD4Ctgmv/9GkuSqsnjF5n8zHM3UFdfCXzWtdhYjizodjvQTPS6OywJXKyp+6XtemPFa9fZ\n",
              "u7siwqj7j2LY/1ULeyvCgNtHvw9iWhhbxRwOqe8PnROZpIOvmC8xjfDP6luqzWtfv5DE8Mdzapho\n",
              "BNXwpMNuvhxeui1jRtd4UE2bRCh8mHJDa5YUYsDk17g2jDFKu3SW52hfuig1F+yWqc8cPr6byvm3\n",
              "xRZS/XARWnweTGhW5f3rtG4YB+aLQFwG1pmquFAgQJcm/Z+nyW1D7sgymzODFSjXNleT6gmf0PVm\n",
              "zWYJmrFPy74honAKX8fCSPBhHWpSmu4nD1XnYYqxX5AJNFZM9xivgQAAACVBn/NFETwQ/wAFnsPz\n",
              "U9VxnOLCPA1TR0l1CB9I/K3Hy94BfGLAAAAAIgGeEnRD/wAMjdJv636vryq6gZcby3SXkpx6GMEC\n",
              "DScLAh4AAAAQAZ4UakP/AAyPjvXAAABDwQAAAB5BmhlJqEFomUwIJ//+tSqAAAADAAQhwW4AG2JA\n",
              "M3AAAAASQZ43RREsEP8ABay00OwAAAh5AAAAEAGeVnRD/wAMjdJvwAAAUMEAAAAQAZ5YakP/AAyP\n",
              "jvXAAABDwAAAAUJBmltJqEFsmUwUTBP//rUqgAAEIcngQAcFxwKSIC2JzW/NOwGpSnC3/PS8pTE1\n",
              "7ZR3OgXiAvqCmG2oPQ0tv9N9HBWBxbqjHoJ47Gb+6DOcarNmRpx0g7yuM6X7UxLPFpMP/IZx5lGj\n",
              "fbsb1rcrwuAJncxqEf6OcEKz+hUENKtrsatpkueIndBabiofp5Puw6zhp4fp1hlo9Uo9rpGywctv\n",
              "D6AhH2gMXFDKAJ+z4Jxzei5q7hU0vO/vYS6uKWNr5dq0Q/UD6vveQWYaoa2vNcIfP+RtyMx2qDE3\n",
              "8y3thwz/i6L0Tn4BjB977c7UiSbh94x5coTlTZ1MPAKVFHBivwMyxIe7wCTrkCtrLtdU/AzmxXrB\n",
              "ElE8Os5FI45FYZV1ogOMiXCpFb6aGotAPkFVuY6kgxmNJpXxVg5ZZcntbNqjfrPTAAAAIwGeempD\n",
              "/wAMkGWdj1i/GWjt3cGjOkXO95aKzNxCfijZEwpoAAABEUGaf0nhClJlMCCX//61KoAAqnDmi7zC\n",
              "z5ABfPz+PU7zimNlYBuOwyA+2e0MxDOJ/jwQ77sbvEW7dBxOugPwV6kSBptj5i22WA7zOeS9ci9K\n",
              "gxUv/+G4KHtK1M+8RsaDlQwtrxULDKkN6u2K6596+8twB/KaPeLeE1s1ACvpGqJiGzqlg/bMgGQ3\n",
              "nzkLtT1PM+sp7LKgAL1RujuOEUzL8rl32dgDP+1HH0dcPqTifhuvma1Hndq+dIz45RsbgmxKZ41L\n",
              "28tZddnYzjHeGQR+HcrJBxgbwabSSvIpUmu+yvmLNUz3cwKFeSrYVcBJ7P/vwzX61P6L8x/L9VoI\n",
              "Mzr7Amg/8zhF/UCtzYr+xFFTaTTIQQAAAE5Bnp1FNEwQ/wAFrIzbfppfsAQOxdL46JBaOpavat7t\n",
              "SM99fOaJmyACcWG4piZrxjD1yDbK/1iMGeOYfOk1YBsTn9sHB7SUnue+AmhsAZUAAAAkAZ68dEP/\n",
              "AAyN0naKRxNp/qBlxvLdJeSpDXqc/W+Gr44wANmAAAAAFwGevmpD/wAMj472GtGfVLYnykPIAAvI\n",
              "AAAA90GaoEmoQWiZTAgl//61KoAAu5VqQANnQCwbT//hF5DZpDBjqE9bgmRivIF4cyUQ3HBlA1bp\n",
              "ADXcM6f/9DgJ7zTHhmMAuudf/+rCgQBgLO45IJhdagSETBjfYPomLTe8dDkrlEds3GPVguij1rqn\n",
              "UoIBx9FxxJ2CAm6F/z7gfdw1vAnskiCdFIywDvJTfIrjaI9bh6DfbkmXemp15ODexDrB6ePoBvVV\n",
              "HKj2q4P0r6reT88pgnlctUDnViTShgjQMWnf4/UF1cXlSCTHLuoGH84MAtvJxdfL64vYKFFtZFR3\n",
              "21W/o+xQq3WoS0DbdbOTCgRZUW1K49MAAADeQZrBSeEKUmUwIJf//rUqgAC7eGsNn3Eap2wJxAFX\n",
              "bE74kS1KSLfnA+TVYQCelBaBhTCG5jKwZHD8h9jN91LmfmYwuYbWTbk/6DxYq4OfqP/DjaLRVA2B\n",
              "ZGQ2kWBSw4QS/JC4kmkrV3ZebSSZ3hns1nGTY5xpJO4WE4HJmWxUHjlns25Kh2riyTv1ebpToNjp\n",
              "MAHYcJYGcwtE8PCG79oSnmWC1Ji1I2WFr2K1z/8j6C65V5HXP6u8p/6Jx/1PCVFw7x0e8bAQlzEq\n",
              "Y1iY5SWppP009EgWEK0aEjLgRoyoAAAA5UGa4knhDomUwIJf/rUqgACpipaAAq6SvwK6JNTMzkHf\n",
              "LvojpfuTOMigu5r1bqruzMnv/8wswfVNrgiRAkV1f4Z7B2mVZdCLeXPycwMwUVuJmuMcm0zHevhO\n",
              "7R0KviP1Vt8K9DXJpjfMTaZhE17vSgKE7/cn5naEfhc/nzEDTGEuSvECb/8U8Lfp4I0I4mwgRBLs\n",
              "Owxp/34ASxNliD2hxhYv+4u+0fTJah9N7AJvY3tJ1y/s0VwO6JI2nwpkEyBjFVBiA7Mp5XYoSi6v\n",
              "3bqxulBuaJIbI5o1xRK351D9whfNsoGIRcEAAABPQZsESeEPJlMFETwS//61KoAACl/RIbb2bjom\n",
              "YobTW5YexBfsjfV77f8HyKV6Ym7exGpqTDyqvthVl8OCxBg2FiYAAAoTqMLMtHAAlHs9IAAAACAB\n",
              "nyNqQ/8ADG9s23o56Us42IMAZ+k29L9WX7t3J4AgYQAAAPZBmyVJ4Q8mUwIJf/61KoAABS8PIYgD\n",
              "W2+f836SpmRn3IP/3micykUxUw7UCkOstvTzoaL5YvdyfNuJsl+A//+3XIkPLdYPQQuGkNBi7GuR\n",
              "Yedf95CJyxHQt2GL2UuzAHFgEgqsJSpf9+fhb5pUYEVGQF8wuk/4qY2WnQxx/1xTR4E8buB2qPoi\n",
              "DXMDj/HkCH+uZ4aRT2Tx2zSjM4IFw6MgK/cWyGk50PfK/nhuwAF1SWZDS4vQ9GDOGhYOzCcQE+WZ\n",
              "s1U6yz/Asd381cAQiMuh9nxLih6moVUN2F/MgEg/mgofCvlnD/Ox4Vxeo6lymFT8X3i7lQUAAABI\n",
              "QZtGSeEPJlMCCX/+tSqAAAUnw1hs+4gp0R4x3c3YYAA7yookSOugfJA+n5F38pcey/k89XqAQwae\n",
              "QaCuAQCQOdrkjUAentT5AAAA50GbZ0nhDyZTAgl//rUqgAAEpImff5AAx3Q8W5xIAQH3mVKYVmPi\n",
              "O2ul3BWLkNRQdK/G/fDyQxVb1H2Qee0g/U/panz375/VZtBEBBGUe/hWBUGblGpB+kHZ91O7ZKI8\n",
              "C7IBYm+LzfGdoQcuOJxQxj3iH7infkBJCL6e7qPFv0Vg2UhWNm2EV4bAy0YFcTKbw9Uq8mhPTkZG\n",
              "aCbFgAjZdQ6+PaK8gIcW3UaLR0tsK8NZnfxGoIGt3U2kQB84bGHCtGmM/V8cdA+pU9FBvXNFqn1z\n",
              "x/7usTMoHjEuVH6DOcmFWLnsZqFFwQAAAEZBm4hJ4Q8mUwIJf/61KoAABKEMCgALDvztz8fj8aOM\n",
              "Tg1VN5mHfO/ZesFxZg4/Zof28R5A6oL9WAnOOHsw1fvQtcxwvNT4AAAAVkGbqUnhDyZTAgn//rUq\n",
              "gACU/ahvp/Tg/KDb1EThoe9aTBqGsQ3Z7F+6szucCgBt1EjTkwbuDw3uNbie7GgtUm200iX6Hs/7\n",
              "Iyk7+GVJMkZZr9q0IBUwAAAA9EGbzEnhDyZTAgl//rUqgACqcOaLvMLPkAF8/P49TvOKY2VgG47D\n",
              "ID7Z7QzEM4n+PBDvuxu8Rbt0HE66A/BXqRIGm2PmLbZYDvM3+7uo5xHDdF/AQ9UZIIToox9LifnG\n",
              "PfaLmToKDOyPCh3SUburn3pqehZsO+re8jpz2xPGP7poFx4oh3mmnc8NFMr8rEIthpPaSk6jmGkV\n",
              "ssWb9o5z3/yGfLnnTIRw5Fl3/eMbU6MeuPUCZpd3jRu5RK3kMMO0VAeALrFRvqJ+RAr4jvwoiRKF\n",
              "EV/nuyR/0xOX/1L0yfNIR3v8EjSAmafKP9gu9CcwnwhD+yEAAAA2QZ/qRRE8EP8ABZ7D8+yuvgAC\n",
              "0+WAqJOKDVNkuFXwBwepOXwKHf8VRxxtoLvw4xDfb7tdgCBgAAAAEAGeC2pD/wAMj471wAAAQ8AA\n",
              "AABPQZoNSahBaJlMCCX//rUqgACpfGsnVPXXS5+Av6VyJED455X98+XM+tfZbsP4i8NdoMPfADBX\n",
              "bTqwcbThlwj5XbGQP5ignnLGivuABJ5EjQAAAPlBmi9J4QpSZTBREsEv/rUqgABCG5mIBIl8LO/f\n",
              "Xcqk43R+4pwBWFUO2753Su46d+lIskrMubNSP6w0PAy5RiWtPcvPjPv4YstsdL75QK5AP0qr3CKP\n",
              "GxhxWA1P4zF9VFEM4D2HOuEzlLLj4Ok/AmAC4jgOO9xOxgjhouQe/F6EOc/J34Tz53/6OozX2hR3\n",
              "JOw82suTFSjCNeV09oBwlQFP1TuBoORyfdw3dCjDYQEzTBpWpBjlT96cw5gzio38O3G1/qsPLKme\n",
              "0qwhQnLaeeN5PIDbMKXpIMnJg+pzD1vpvMANFXIbvNva9tUDsnVAJCGXH2zNwC44rSEAAAAiAZ5O\n",
              "akP/AAxvbNt5K+zqtGxES2r8YYqlARDxlsbwXUfGLQAAAEtBmlBJ4Q6JlMCCX/61KoAABCSJn3+Q\n",
              "ALhOo+O7P80Xb5CYtiBcku82ncVbx7ojA219JPxeHAAVdMlB5kBB6JSa2N4A4Cl+BrfDtUwAAAER\n",
              "QZpzSeEPJlMCCX/+tSqAALuVakACl+wXDaf/8IlwdIY0RB/BffZVWvPSJ8CFGfCwFO7sRohaIM6f\n",
              "/4egTvxmPENbHO6CEABPx7+m7iSBCckEw7sd+S//Xb2/G1+1Fde0IYiuIEx1Jxj/kix6MnXJFShs\n",
              "IpaQgUR+ztxBiWkGekBRrqjsOiF0wWQrmDmTiIn4CJDe8ytS4IiGPhrYZRIbE3TASOjtSk7K3BzZ\n",
              "Y63VGfEm6ozWXV4v02C2yq0/HwO+d+fC80PQfYO4JVikF2OizD435zx/Y7FnIELTP2cjqBWX3n+i\n",
              "XW2oXqz2ZjPMw4qNt9jYt8tBQiNJfOX5ikG8jEWenqanUbbLT5qGvX90eKtgAAAArEGekUURPBD/\n",
              "AAWew/P+mayuPz31c+I2QACdbbJUo/WV2oLsEOfhHYoV3XEsiJo7ZLfJ+EMPJAWs70WIJi78lq4T\n",
              "h/4WvOMnr2Vi81BUutJa49ZPg26TcVJCPL684Z6BlM5xlb1D5z9798Es1LBACYKJaobZ5Esw3eAA\n",
              "C0w62JHrQhu/nX1B7gNINxYdqbeoP0w42PmPWiuK6ffOQAAbAyNHUp2V/9McZTJACykAAAAgAZ6y\n",
              "akP/AAyPjwLdmyHnw0M4nQrRiPMmEdz6BdYABtQAAADfQZq0SahBaJlMCCX//rUqgAC7eGsNn3EL\n",
              "e13sRmNRZEOgABtD0rXn+DTe0a7Cgm+83iavqZfQ3PyqpXgGAonwmBHslH/pQ9R//mMCGlun+BCA\n",
              "NPMEt7Cw84ieOKf13nAI9JkwXsU/EHqsOSfVszbJnqMvTnegmQvCuknpvZzb0UFMwZ+uBg8LEe57\n",
              "LobG1cbIXUhZ7XQFDEyPMN0aGFj4WbCDbZuMMCzr1eMRnRXiihXBOmoAch3kKq4KFR5Pa/EL8V7H\n",
              "znQ7YgJEc5f5P+Xr3bO8SVPRHlGRxfh6UIAUEAAAAOtBmtVJ4QpSZTAgl//+tSqAAAShJ0k6p66+\n",
              "vEP1Xd7RYAJ2LC3QQfQ2zzmicxkwcFFiLrSAR06Gi+MAOu4kYYzMUvjzxYAEEmHY8+lrZmafY8w0\n",
              "YdnZSGMa/HbKKaC+VTfjJet7etekojgZ5Q22zYvzxqvMWURkeeMlq5eJJ2g0z4Ue9lwpbH8NFGl3\n",
              "LUaA7Qe5sYjEhPQIStDIPKL8i6NajoR2eBbg9sv7Yda/+GrladA/mizaped2eBWCF87YTlDqzIgV\n",
              "x1WPOSsufFyeHOeRKg/mqnYGLtLfMAMa/UcBlF8acmFWNPP74pQRAAAA3kGa+EnhDomUwIJf/rUq\n",
              "gAAEJLPNpasAl+7L8VPNyrBZ/Wcv/RvAtAG8goXrnWd7/7arhOtmmJeRrJyEURxopqHd5COxYY44\n",
              "l3Yc7tIO4+ePxCGVhHAmAC4jhN+FIddfenQ0Df8HQS1Betv226VeWvCFmuPkDc+vo9Q77jVqlTLM\n",
              "JopJDJHbhlmCchFKZmFxp8e44ZuYzlwmCBBTeXQpSxy7VBGqpZuLs3I6x6SPMYg1ikC8xXHm0xDP\n",
              "pkOac8KEzejJkPzCWzO3m0S0/CNk6HbO3SHdQXddrZg/XJFKCAAAADBBnxZFETwQ/wAFrIza/0sa\n",
              "aAE5zH1Nx4ak6+jwdPlmk4L1+5UOqA6YJVarM6XAEPEAAAAVAZ83akP/AAyPjvXCNIGOR4jwAPaB\n",
              "AAAAWkGbOUmoQWiZTAgl//61KoAAQhuZiASJfCz4EUqAPO1gCcs+HdUNvJTR8YOi2Qi8BGvLG+qi\n",
              "TK30zKNMljQzXnFVh4oe/7/z294LGZSfz3/RejBhOUnMq0DggAAAAGRBm1pJ4QpSZTAgl//+tSqA\n",
              "AEIbmYgEhWws9rom0PMHvioCsN+L31yYHXP7Ge1hfO88plfUAGJ4AGrDtBY9R1sASVEzK7KCfofZ\n",
              "UFgRcrF5JdKnSjdd6FDRihmDlGjWIMKVMmh5AAAAV0Gbe0nhDomUwIJ//rUqgAAEISwJq//1YADv\n",
              "h+ClIsBQwAh9w6lvx4D9n3IU+bnOG8KdRQ1gAGDAG12+G4uPqNwMrfYnpdrITHkrGo68ZaNTa1sc\n",
              "ie8iggAAAQ5Bm59J4Q8mUwIJf/61KoAAqnDmi7ysdgIAP4oO5Mr/lC/fhKfhtxxiVi5L+urfBslu\n",
              "42C081DfeHRtgRW8p53rGbiCgcwKUu6m8lrs/k7jdfZfQfDyt8qf+CcgAepVJQlKQ83ksZsbt4Oo\n",
              "xS2EKbPxAS//flhspAUgns3eShRUOdm61Y9L1XucbRCLsY77veb0CLlrEVYyVkjIFX2MtC2TX9D3\n",
              "Ca74xRtCjkhu37mu62J+8skzgvjPN1V7XesxBReIVm3Qu7YGFzmb9gNca5y87mRXWAhGkzf3z9KY\n",
              "L2frNGlrEKxxZkM6Gthnb3NfgSXIn7muWzzO99Mg0scI2HIbrxlelkW0euIxohdIAbMAAAA5QZ+9\n",
              "RRE8EP8ABZ7D8+yvA+ny/cGqaOkpw8zDZy1nMt+ejwVqbrlWyzbNT5FwZgKFKbcY61cCAK2BAAAA\n",
              "IgGf3HRD/wAMjdJ2ikcTaf6gZcby3SXkpx6GMECDScLAA2YAAAAQAZ/eakP/AAyPjvXAAABDwAAA\n",
              "AQBBm8FJqEFomUwU8Ev//rUqgAC7lWpAAa7cFy2n//B/4wpB+qAiRxSWyHaJzCzCOifVOnX1x1Bn\n",
              "/SmUVZMA4JUsPOv//VhP0npJQnJBMLrT+P87Rlq20SGUKTRze74Mn0FaoxsSnypp3aPXYgJB0Ta9\n",
              "HxOrY2orbn6phsitcGYklUXH7B0OJ4QFHtgCK75dxbLwuR/yQSO8+h6LuOxuL24OroB3CFSuAIie\n",
              "4yNm1HUZGxigiLAJesL14FdZu31dL+P0xaC75Ur1yUOCVTB931JlHP0/uHIzvmrK35NB4voQ9q2n\n",
              "myMDL3lJ4CPLr7UsBURJaaNNxdKLOtM1rMTJoAZdAAAAIQGf4GpD/wAMkGWgOsz6pR27b6N2+17s\n",
              "fhOg7Z/0LgADQgAAAOlBm+JJ4QpSZTAgl//+tSqAALt4aw2fcRunXbpcPhPs0YCZ21OzAGtDSRP8\n",
              "JR9cizz1g1qcsa1/JiwruqpZDbJaQkXWOvu9GFiHm11zoPBIzQAfqP/DjaLRVA2BYZkc5twEgGAa\n",
              "YIcA6qRZi7LzaSTO8M9ms4ybHONJIFB2lYWdYVF2l3i1fGUe5j+oPfn2gTFqo7oHztRfYg/RC6LK\n",
              "qNYDstpaSJEmF9TV5STdxjssFqUngbAWZm4aQVBYal0+V43Q3eV3JKZiEjSNSEWzowgCU2BuxpYL\n",
              "rkZD58UvpjK2sOvMKn3kCkCUEQAAAFVBmgNJ4Q6JlMCCX/61KoAAu3hrDZ+k25AAIe9t1PYEyDsh\n",
              "9Ntm3+hxq0w+z2UtexcSyOZCEcQ7BFeUHWXmX2VxsjOamOh2vfUS4tJ+qdaMDoDqgBdwAAAAW0Ga\n",
              "JUnhDyZTBRE8Ev/+tSqAALt4aw2fcQqbEmv5yxqLLKDAAOigBAzHYAeX2hZT6bm8I+pA2VfAC3AA\n",
              "tJGvizIBu8FQ8qkZxd+2+qmAAGobavTph5xlmjbvgysAAAAuAZ5EakP/AAxvbN0L5xVFEQiJbWCo\n",
              "YClKkoFn+D2AOG+RQl3gw9iBTd2mDADqgQAAAEpBmkZJ4Q8mUwIJf/61KoAAu3hrDZ9xBW134Bz+\n",
              "FSEDGo8dYhIQSQgsiQCUhna4lwFXeYA6YUpO/4RyTPj5UyDukq432gTIiJADFwAAAElBmmdJ4Q8m\n",
              "UwIJf/61KoAAu3hrDZ9xBW134eWNRZA+RAHNel4GP9tK5GKh997vR6pjgAEKT2+QFFIj42fHkZKP\n",
              "DZNAA13GAPWBAAABBUGaiEnhDyZTAgl//rUqgAAEoNrehgSdACPEvo3lf2bq62ERavfXHuzq/nq/\n",
              "wo2ZCojCVA4SN3qu8GxBx6LFSi880sM14J0/LnN3whEZII1YLQ3tT2nkKwdy2N2JXWJHxIn1Yq66\n",
              "hr24zsY7Lzxfma1QXhGEo2o0LBHhcKkwfaybYgD87/5leHpZM5dnOiVPjwRD3s/qFkA+cH5RVFJn\n",
              "YxJRO2RkD7Pfep0zecIjpLN5OzSyFvQYuB33pw+aqGxfd/0fQlHitgV6sij3QLxfCENv1o+RGz8f\n",
              "hmsVBqooX8RW5WZNRQUZQND4bQz0WUbSzkw1bqWw5wE/Q9B/6iT0Mb9OUwoBSQAAAMVBmqpJ4Q8m\n",
              "UwURPBL//rUqgACqcOaLvMLPkAF8/P49TvOKY2VgG47DID7Z7QzEM4n+PBDvuxu8Rbt0FfWC8U/U\n",
              "l4tp/Vxu74BaajqXAq8//DPoQVj9B3fUHpiG0JzZzBlYVVLySvjMw+lIrsxAdYcuMFrC7gvlX251\n",
              "eiTAuNxirINz3Sh7MVkGGvyRrIP2Ef0oT7R0RkEeJSvrAyTAzQX/dgbM0LNZ9RMXEhTwglWRUna3\n",
              "USj/3XhE5GjQXiSxRh08QcAW0AAAADQBnslqQ/8ADG9s3rgTtSK74ABbgwW6TEgtCVyFGLP5av86\n",
              "DbY3mSzSljaq2YQSHonOAA2ZAAAAQkGay0nhDyZTAgl//rUqgACpeGsNn3EFbXfh5Y1FkBvTSgCS\n",
              "KrnVC0wlsAAus1gCciaTtY/lh9EEC06gA1OUasAMWAAAAEhBmu1J4Q8mUwURPBL//rUqgACpeIaY\n",
              "gA44apcmMukZf3mOeV4Hs2aofoF4tcH6wFJTgAe+l5xFZxNO2Xfqu3dgqSyyYypADZgAAAAzAZ8M\n",
              "akP/AAxvbN7ME7SSeMw5U711AAHAbGsNFD7ls4FtSg7grR8wU/I8EHpT56SwAGzBAAAAO0GbDknh\n",
              "DyZTAgl//rUqgACpeGsNn3EFbXfh5Y1FkBvTSgCSKrnVC0wlsAAEzAMQPXoOELAF3wqOWAGLAAAA\n",
              "TEGbMEnhDyZTBRE8Ev/+tSqAAKl4aw2fcQTMgBIB3J7ldPuv0z1ccn9Zgzd8N9KvFmRag6/AkADa\n",
              "1JkX5EptCye9V27zaLVBNNSAGzEAAAAxAZ9PakP/AAxvbNzkPSlnGxEV8WgBZ4IVLx8X1Lu0VqUH\n",
              "cGJ0GapN12EfQHrq/2AIGAAAADtBm1FJ4Q8mUwIJf/61KoAAqXhrDZ9xBW134eWNRZAb00oAkiq5\n",
              "1QtMJbAABMwDED16DhCwBd8KjlgBiwAAAOhBm3JJ4Q8mUwIJf/61KoAABKaTzduQACy7fQAgxtr/\n",
              "9u8OZHVXJWt4/dcMPg/Uf5wdNM8lrSEZblJM5+0FHUcYaeWZMFB5zO7MdLCVwQk6q85tyk/XYm3W\n",
              "dKdxfzaQZIvktW4mC4ElTUiFGlkVaw21QVudwlP7qVlVl2WVQilzGMgD7FBOpnyZh5vz3LRDfpYq\n",
              "lnmJ1St1ephcQFO+kt07pIp5dTBC0tS1fNxpyUXhID6VMkB1fFyFiHHpEaw4XZazMz8oU+x/GcC0\n",
              "cCjpHd5+3Eo3HOC4ULJ2pWmJYRjZiAHCanJhQCkhAAAA4EGbk0nhDyZTAgl//rUqgAC7lWpAAa7c\n",
              "Fy2n//B/4wpB+qAiRxSWyHaJzCzCOifVOnX1x1Bn/SmUVZMA4JUsPOwAAJ5q/BRcnIODXGod2O/J\n",
              "f/rt/cqAhi97IiRI7lPJZOMmZPW4KALuUwKtlfzKFkpwbzP+n7LWbU/vsp9Qrt90I+A5XvtUZleB\n",
              "Dcpe0JpZ/0qQ/aP6AjXgn5aFkai9aGSGj66YRM77uepa6R0ivAw7o7bDQkmVAWX3HvnfhIPWiFHU\n",
              "gzgiCAgMNNIuJPWfRzH0gkSetqsXPPQ9s38nqAF3AAAARUGbtEnhDyZTAgn//rUqgAC7fCD05jjT\n",
              "o+c/oUwIsCLznFRe3U4o5gmFlBL9clwFk2CMmpDIT2EZorPQZgBvIN1a1IAYsAAAAEpBm9dJ4Q8m\n",
              "UwIJf/61KoAAu3hrDZ9xBW134Bz+FSEDGo8dYvWdabca5RNxzgLq7tZfMlgE3wANy/ediR/mXtHd\n",
              "JyEZiMABYtgBbQAAAC5Bn/VFETwQ/wAFnsPz/o0i1AgBqObDCKQ4/lsCXvTRWMbxAY1ckSYc/W7q\n",
              "hgFtAAAAEAGeFmpD/wAMj471wAAAQ8EAAAERQZoZSahBaJlMFPBL//61KoAAu3xrJ1T115Q33b/A\n",
              "AL6ODXHzEBS7CJhBmOajItQoPtHyz1RX3jEo22IK8kCLRLROomkuD7P3/KKwRt3V1p64sKDdxo79\n",
              "/jYR6HL/t1vt/xmGY1Zn8i6//zgHxgiRDZQhHKF9034BjcO31spk+mfFcUbqyAmLB1eEqZj757Qi\n",
              "3VHPJxF1oh0Yk1uP++H3gTErpXvKFYQgL1ZTOiYu67NXV0kbuvkJmklRUaDuuuMVDa34KSllFo24\n",
              "Ptqn7jmRE3MaccBr+LzmiE3gdAa18esy6X4eRJfCmABhH1KddtLHRD2/HEZMoXvqTYJpAo1Kvfj6\n",
              "tYp4Fn5ZnnDf+NYwAGLBAAAAIgGeOGpD/wAMkGWgOidIKeJnTAgoR6Qi/eL8wWZjW6AAFBAAAABD\n",
              "QZo6SeEKUmUwIJf//rUqgAC7eGtDoIqeqDeN9r9jU/hm6Hjb6VFB4gG/D8it9Td7CsBAv6/8AAAd\n",
              "uLX7KsHUywACkwAAAONBmltJ4Q6JlMCCX/61KoAAu3hrDZ9xHE0Wwc6gB0UEKLR5wf+7LfkQzX/8\n",
              "uHycVlPThht8kZKN2g+nlbOOrw435bbFN2T+64OENlnzlkepcwnga4Ieo/zhMxHwsa0DVjs/e6eD\n",
              "2K82kc4nHWfE/kkrryqBUpNg9tyk/XXmG85zyt0XCH2lD9TWXP6gpE9H4NDF6APN2PKNfkr4etLk\n",
              "qQ4qvY8OzkIhNUk69Q1eLdMTLvvPh5wf/V7szcUCpxK9/x2/s+EbdiNFruLYC+WOni/H/VL0v21J\n",
              "GAxgGD+fLX9AqkAMWAAAANtBmn5J4Q8mUwIJf/61KoAAQhh9wAEr/bxVIfycpzutS+1w2HJCeJX/\n",
              "cczmR1X1tYj2hYMMts6Gi+NEQ0C8NoA//pprdgT1dzyCYEGONlcXZtThWg2eCd0Ys2AImeH7RzKt\n",
              "5IxByMgv7HD93qvIZg3AbkhYHWjGoAuFQgliF83Iht1rtc9TYL5XVJVEqKa6koUZUQr79arPCNAd\n",
              "CtDFFyk6b5n09ViTszc1FTj5Kmszlua9MGfpOtQZF4LQyTOLiuMWBXG53ZLpmi6fRjHpahzD6hHZ\n",
              "wdoY054QBN0AAABPQZ6cRRE8EP8ABZ7D841XHokPNKqvW3R/K7rcOdoyPhztMqGrqjiIVX6JQ1Vx\n",
              "51J35Gw6HYQ+qQIT2FM39LPZjIeAEgpv27Bc/hdWloAesQAAABQBnr1qQ/8ADI+O9eSvVQrJcAB1\n",
              "QAAAAGFBmr9JqEFomUwIJf/+tSqAAAy3xrG29m411cTCqnwB1oNKQygetSEjf/qADV7WZSCavqsT\n",
              "9INBj5fbtO2aU/cPh/ks9r2OakDdMFyiIvcR+0qwKu3+e8AkkXO//MsVQAGhAAAASEGawEnhClJl\n",
              "MCCX//61KoAABSfDWGz7iCnRHj53c0DyWsajyxyjigtma/N37RV+5NfrmubnOPJhMQAAS5O94gEe\n",
              "uajjLACvgQAAAEtBmuFJ4Q6JlMCCX/61KoAAC3/RIbb2bjomYobTW5YeMrNhFNOPjs6BKQVNt9lq\n",
              "wsLJ7TcSytXCinb8tCrwAAA8lGnqALH914QATcAAAADnQZsDSeEPJlMFETwR//61KoAABKSJtUkF\n",
              "Painx5kzQAka15XH0DPUfKOJbSSLNUxIianrYQhv63Yx93XZxjq4AiHUfvB7jsXD1Z495Ietx6cV\n",
              "AwhYg7oJchPYLXY90pug13SnZJza+csKHNkITejHZbSm846Tc8PjtQQr26CTcR1AKFTVegdcJki6\n",
              "xl4n604vQKm+PadXUEwFPCtzq5NIwRBmAL61CWAG67Evqpn0Wi9MYkxmnTgL976dWPZcfW9vruLG\n",
              "yzvN51KhWKqHRxtjCxSEHnox5Hso3EHWXG2Rup0Ozg5MKAUlAAAANgGfImpD/wAMb2zbejnpS0ym\n",
              "ykLeYAb0XxFtlCizCObgASObDjOyZdFdIHRaoKFRBKge6oAGhAAAAMlBmyRJ4Q8mUwII//61KoAA\n",
              "Cl/QYZezYgPqg7LxLuTgoo2AHOJ+g8ea+KG4OhpOcyjDItAB6qbm0pch5DPYPw+A5bj2lNSfI9wf\n",
              "+1N3jixonHfJqRGNmCegVVIXnrx491QW+o3QkIYrdgYHWmi7KjQEF+Wp0m/tQHWX8bHh0OFPMsAs\n",
              "iOX4TGsA8Pwz0Qy6mYwQnjhP3IwVSp52kbImuWmmAtFNCJRN8lKnL9kM+95IT//uDmqIiGML9gm0\n",
              "hA+XKxhbxSF19yvCjPkAAADOQZtFSeEPJlMCCP/+tSqAAABAfs3MvZsQIbTVvQAEFfmNFeDa/a04\n",
              "6q8ojmIChf91oBFk35W+7rmo9pZ4r+sBrn5TAv30ZuVYd9WvgLJBKPi17f95N7K+65cviR4/lYh1\n",
              "69NJI07fm4XtT/aCagO3x+hCM5yMcrj1d4/gTFm9bbAl7NnnWRuOz46Mfm47MHyZh/vSRG6bHQSE\n",
              "gETElNUG/p6CruGjiS61glXCa4GXeZmcwaWIZl4AWKw4vpIGmY84X5dCDQbSRsJeHSGBKT8AAAEq\n",
              "QZtmSeEPJlMCCH/+qlUAF29ZmAC5RwIyRH3nm+9fWIlcpv4oG76UvGiVy53x4j9IxC/rfmHR2hJ7\n",
              "avh//wZ4WK+/FlB4TnWLJ6zVw/XHrza+EeFhb2JZFK19OFBAuI0OWvVTTkIIorw4hNNctZqMAwPi\n",
              "wmJbkUI43iey5+hAQnzH8TOBwIVYMb79/8YaWHSwaQrzu18HPuea9bQjFcwyNvmfCTWLlwD3sL+R\n",
              "D7t9bnijf37K33oWHGdsacAWTW0oC43ENyRx82xxdn+H9ii12K6PnF5RLtF5Hl3LolQLJRicpM3n\n",
              "tvcVUZfln4Fw/7N3Ox9jOKbJO+UPhHmdr6BvNgMfn1ISuLDeG+An6Psn7rDkgmCUpdrrV0oaHKgc\n",
              "cu0emeSZXeqOmEP1lQAAAK5Bm4dJ4Q8mUwIf//6plgAkP1kAqSsCSNcQQD4Z90tAxfAOlFZzeE7Q\n",
              "ANo2dbCDoGSWA6XdXujkC63No4MDM6/+DetEyWLVqmFwN/lFaLBxGqo5yyIXIjRfiQOhB0jG00qk\n",
              "LOcHpArQZz7qhlSwYZhErQJR1bw+rBA+2kMfI43NNW7ZrkLrjDWOKjsaTQ4qy5BL2YX9frYmEMcw\n",
              "fe+sluF7tB8u6rBdAXUgkgywAXkAAArebW9vdgAAAGxtdmhkAAAAAAAAAAAAAAAAAAAD6AAAnEAA\n",
              "AQAAAQAAAAAAAAAAAAAAAAEAAAAAAAAAAAAAAAAAAAABAAAAAAAAAAAAAAAAAABAAAAAAAAAAAAA\n",
              "AAAAAAAAAAAAAAAAAAAAAAAAAAAAAgAACgh0cmFrAAAAXHRraGQAAAADAAAAAAAAAAAAAAABAAAA\n",
              "AAAAnEAAAAAAAAAAAAAAAAAAAAAAAAEAAAAAAAAAAAAAAAAAAAABAAAAAAAAAAAAAAAAAABAAAAA\n",
              "AkAAAAGwAAAAAAAkZWR0cwAAABxlbHN0AAAAAAAAAAEAAJxAAAAQAAABAAAAAAmAbWRpYQAAACBt\n",
              "ZGhkAAAAAAAAAAAAAAAAAAAoAAAGQABVxAAAAAAALWhkbHIAAAAAAAAAAHZpZGUAAAAAAAAAAAAA\n",
              "AABWaWRlb0hhbmRsZXIAAAAJK21pbmYAAAAUdm1oZAAAAAEAAAAAAAAAAAAAACRkaW5mAAAAHGRy\n",
              "ZWYAAAAAAAAAAQAAAAx1cmwgAAAAAQAACOtzdGJsAAAAs3N0c2QAAAAAAAAAAQAAAKNhdmMxAAAA\n",
              "AAAAAAEAAAAAAAAAAAAAAAAAAAAAAkABsABIAAAASAAAAAAAAAABAAAAAAAAAAAAAAAAAAAAAAAA\n",
              "AAAAAAAAAAAAAAAAAAAAGP//AAAAMWF2Y0MBZAAW/+EAGGdkABas2UCQN6EAAAMAAQAAAwAKDxYt\n",
              "lgEABmjr48siwAAAABx1dWlka2hA8l8kT8W6OaUbzwMj8wAAAAAAAAAYc3R0cwAAAAAAAAABAAAA\n",
              "yAAACAAAAAAUc3RzcwAAAAAAAAABAAAAAQAABKBjdHRzAAAAAAAAAJIAAAABAAAQAAAAAAEAACAA\n",
              "AAAAAgAACAAAAAAEAAAQAAAAAAEAABgAAAAAAQAACAAAAAABAAAQAAAAAAEAABgAAAAAAQAACAAA\n",
              "AAACAAAQAAAAAAEAABgAAAAAAQAACAAAAAABAAAoAAAAAAEAABAAAAAAAQAAAAAAAAABAAAIAAAA\n",
              "AAEAACAAAAAAAgAACAAAAAACAAAQAAAAAAEAACgAAAAAAQAAEAAAAAABAAAAAAAAAAEAAAgAAAAA\n",
              "AQAAEAAAAAABAAAgAAAAAAIAAAgAAAAAAgAAEAAAAAABAAAoAAAAAAEAABAAAAAAAQAAAAAAAAAB\n",
              "AAAIAAAAAAEAACAAAAAAAgAACAAAAAADAAAQAAAAAAEAACgAAAAAAQAAEAAAAAABAAAAAAAAAAEA\n",
              "AAgAAAAAAQAAIAAAAAACAAAIAAAAAAEAACAAAAAAAgAACAAAAAABAAAoAAAAAAEAABAAAAAAAQAA\n",
              "AAAAAAABAAAIAAAAAAEAACgAAAAAAQAAEAAAAAABAAAAAAAAAAEAAAgAAAAAAQAAKAAAAAABAAAQ\n",
              "AAAAAAEAAAAAAAAAAQAACAAAAAABAAAYAAAAAAEAAAgAAAAAAQAAGAAAAAABAAAIAAAAAAYAABAA\n",
              "AAAAAQAAGAAAAAABAAAIAAAAAAEAACAAAAAAAgAACAAAAAACAAAQAAAAAAEAABgAAAAAAQAACAAA\n",
              "AAABAAAYAAAAAAEAAAgAAAAAAgAAEAAAAAABAAAYAAAAAAEAAAgAAAAAAgAAEAAAAAABAAAoAAAA\n",
              "AAEAABAAAAAAAQAAAAAAAAABAAAIAAAAAAQAABAAAAAAAQAAIAAAAAACAAAIAAAAAAEAACAAAAAA\n",
              "AgAACAAAAAABAAAYAAAAAAEAAAgAAAAAAQAAGAAAAAABAAAIAAAAAAEAABAAAAAAAQAAKAAAAAAB\n",
              "AAAQAAAAAAEAAAAAAAAAAQAACAAAAAABAAAoAAAAAAEAABAAAAAAAQAAAAAAAAABAAAIAAAAAAEA\n",
              "ABgAAAAAAQAACAAAAAABAAAoAAAAAAEAABAAAAAAAQAAAAAAAAABAAAIAAAAAAMAABAAAAAAAQAA\n",
              "GAAAAAABAAAIAAAAAAUAABAAAAAAAQAAIAAAAAACAAAIAAAAAAEAABAAAAAAAQAAGAAAAAABAAAI\n",
              "AAAAAAEAABAAAAAAAQAAIAAAAAACAAAIAAAAAAIAABAAAAAAAQAAIAAAAAACAAAIAAAAAAMAABAA\n",
              "AAAAAQAAKAAAAAABAAAQAAAAAAEAAAAAAAAAAQAACAAAAAABAAAYAAAAAAEAAAgAAAAAAgAAEAAA\n",
              "AAABAAAYAAAAAAEAAAgAAAAAAwAAEAAAAAABAAAYAAAAAAEAAAgAAAAAAQAAEAAAAAABAAAYAAAA\n",
              "AAEAAAgAAAAAAQAAEAAAAAABAAAYAAAAAAEAAAgAAAAABAAAEAAAAAABAAAgAAAAAAIAAAgAAAAA\n",
              "AQAAGAAAAAABAAAIAAAAAAIAABAAAAAAAQAAIAAAAAACAAAIAAAAAAMAABAAAAAAAQAAGAAAAAAB\n",
              "AAAIAAAAAAQAABAAAAAAHHN0c2MAAAAAAAAAAQAAAAEAAADIAAAAAQAAAzRzdHN6AAAAAAAAAAAA\n",
              "AADIAAAKVAAAATIAAAAsAAAANgAAAQIAAACuAAAArAAAAM8AAABbAAAAJgAAAEwAAABSAAAAIgAA\n",
              "AMUAAABJAAABFgAAAK8AAADBAAAARgAAACQAAAAVAAAAuQAAACsAAAATAAAAxQAAAEwAAADHAAAA\n",
              "NgAAACMAAAAVAAAAVwAAAFEAAAArAAAAEwAAAG0AAAD1AAABBgAAACkAAAAlAAAAEwAAAQcAAAAr\n",
              "AAAAJwAAAPkAAABRAAAATAAAARYAAAArAAAAJAAAABMAAAEJAAAALwAAABMAAAEOAAAARAAAACMA\n",
              "AABdAAAAKAAAAK8AAAATAAAAfQAAAMUAAAAkAAAAIwAAAB4AAAAVAAAAEwAAABMAAAEVAAAAKAAA\n",
              "AP8AAAApAAAASwAAAPkAAABEAAABGgAAAEMAAAD+AAAArAAAACQAAABSAAAAMwAAABMAAABgAAAA\n",
              "SwAAAOcAAAAxAAAA6gAAADAAAABIAAAA9wAAAFsAAAAyAAAA8AAAAF8AAAEDAAAANQAAACIAAAAT\n",
              "AAAAvgAAANYAAADRAAABggAAAQwAAADgAAAANwAAAGEAAAA9AAAAJAAAAFkAAAAvAAAAUAAAACYA\n",
              "AABiAAABNwAAACkAAAAmAAAAFAAAACIAAAAWAAAAFAAAABQAAAFGAAAAJwAAARUAAABSAAAAKAAA\n",
              "ABsAAAD7AAAA4gAAAOkAAABTAAAAJAAAAPoAAABMAAAA6wAAAEoAAABaAAAA+AAAADoAAAAUAAAA\n",
              "UwAAAP0AAAAmAAAATwAAARUAAACwAAAAJAAAAOMAAADvAAAA4gAAADQAAAAZAAAAXgAAAGgAAABb\n",
              "AAABEgAAAD0AAAAmAAAAFAAAAQQAAAAlAAAA7QAAAFkAAABfAAAAMgAAAE4AAABNAAABCQAAAMkA\n",
              "AAA4AAAARgAAAEwAAAA3AAAAPwAAAFAAAAA1AAAAPwAAAOwAAADkAAAASQAAAE4AAAAyAAAAFAAA\n",
              "ARUAAAAmAAAARwAAAOcAAADfAAAAUwAAABgAAABlAAAATAAAAE8AAADrAAAAOgAAAM0AAADSAAAB\n",
              "LgAAALIAAAAUc3RjbwAAAAAAAAABAAAALAAAAGJ1ZHRhAAAAWm1ldGEAAAAAAAAAIWhkbHIAAAAA\n",
              "AAAAAG1kaXJhcHBsAAAAAAAAAAAAAAAALWlsc3QAAAAlqXRvbwAAAB1kYXRhAAAAAQAAAABMYXZm\n",
              "NTcuODMuMTAw\n",
              "\">\n",
              "  Your browser does not support the video tag.\n",
              "</video>"
            ]
          },
          "metadata": {}
        }
      ],
      "source": [
        "# Choose policy, then evaluate it\n",
        "num_cols, num_rows = env_params['num_cols'], env_params['num_rows']\n",
        "V = np.zeros((num_cols, num_rows))\n",
        "\n",
        "policy = policy_random\n",
        "update = ...              # YOUR CODE HERE ####################################\n",
        "\n",
        "policy_params, V, delta_list, state_list, episode_list = simulate_gridworld(policy, V, update, env_params, learning_params, num_episodes = 500)\n",
        "\n",
        "\n",
        "visualize_policy_and_value(policy, V, delta_list, env_params, name='grid_random')  # visualize policy, value, prediction error\n",
        "\n",
        "show_simulation =  True; frame_cap = 200   # Optional (and kind of slow) but informative: show simulation\n",
        "if show_simulation: visualize_simulation(state_list[:frame_cap], episode_list[:frame_cap], env_params)"
      ]
    },
    {
      "cell_type": "markdown",
      "metadata": {
        "id": "l4WBJaXpOOVf"
      },
      "source": [
        "-----------------"
      ]
    },
    {
      "cell_type": "markdown",
      "metadata": {
        "id": "ZTjI745LOOYv"
      },
      "source": [
        "## 4. Q-learning as a general model-free control algorithm"
      ]
    },
    {
      "cell_type": "markdown",
      "metadata": {
        "id": "tm-grew2QXcP"
      },
      "source": [
        "The TD learning algorithm works fairly well as a general, model-free approach to solving the prediction problem; what about the control problem? Two foundational approaches are **Q-learning** and **actor-critic architectures**. Neither approach requires having a model of the environment, and both work by trial-and-error policy improvement. Both approaches utilize TD learning as a component (i.e. for policy evaluation), but they differ in how they use prediction error information to perform policy improvement."
      ]
    },
    {
      "cell_type": "markdown",
      "source": [
        "### Motivation for the Q-learning algorithm"
      ],
      "metadata": {
        "id": "txLJcD5I-gSo"
      }
    },
    {
      "cell_type": "markdown",
      "source": [
        "Suppose we had an estimate $Q(s, a)$ of the optimal action-value function $q_*(s, a)$, i.e.\n",
        "\\begin{equation}\n",
        "Q(s, a) \\approx q_*(s, a) = \\max_{\\pi} \\ \\mathbb{E}\\left[ G_t | S_t = s, A_t = a \\right] \\ .\n",
        "\\end{equation}\n",
        "If $Q(s, a)$ were *equal* to $q_*(s, a)$, by definition, the optimal action would be to pick the action $a$ for which $Q(s, a)$ is largest (with ties broken arbitrarily). This suggests that we can convert knowledge about $Q(s, a)$ into a reasonable policy by picking 'greedy' actions.\n",
        "\n",
        "But $Q(s, a)$ is generally not equal to the true $q_*(s, a)$, and it may not even be very close, so the greedy policy is generally not optimal. \n",
        "\n",
        "The idea behind **Q-learning** is to combine this idea with a **method for exploration**. The agent should sometimes take actions it would not normally take (in the sense of not being greedy with respect to $Q$); if it receives the expected amount of reward, great! If not, update $Q$! \n",
        "\n",
        "$Q$ can be updated in response to new information just like $V$ is updated in the TD algorithm (and mathematically, this also ultimately comes from the Bellman equation).\n",
        "\n",
        "The exploration strategy we consider here is to be **epsilon-greedy**: take a greedy action with respect to the current $Q$ estimate with probability $1 - \\epsilon$, and take a random action with probability $\\epsilon$. \n",
        "\n",
        "\n"
      ],
      "metadata": {
        "id": "u54dF_Q4-gWn"
      }
    },
    {
      "cell_type": "markdown",
      "source": [
        "### The Q-Learning algorithm"
      ],
      "metadata": {
        "id": "3aP8rTq2-oHR"
      }
    },
    {
      "cell_type": "markdown",
      "source": [
        "<center>\n",
        "<figure>\n",
        "<img src=\"https://github.com/john-vastola/RL-at-Harvard-tutorial-2022/blob/main/images/QLearningalgo.png?raw=true\"  width=\"800\"/>\n",
        "</figure>\n",
        "</center>"
      ],
      "metadata": {
        "id": "br_1CBY1-oLJ"
      }
    },
    {
      "cell_type": "markdown",
      "source": [
        "### Q-learning implementation"
      ],
      "metadata": {
        "id": "FHnmXuSMNTCc"
      }
    },
    {
      "cell_type": "markdown",
      "source": [
        "**Implement the Q-learning algorithm, as well as epsilon-greedy action selection.**\n",
        "\n",
        "*Hint: For the update function, start with the TD learning code and think about what needs to be added.*\n",
        "\n",
        "*Also note that `Q[state][action]` accesses the Q-value of being in a state `state` and taking an action `action`.*"
      ],
      "metadata": {
        "id": "Jdk1UngIMAbx"
      }
    },
    {
      "cell_type": "code",
      "source": [
        "# Given the Q-value function, implements epsilon-greedy action selection.\n",
        "def policy_e_greedy_Q(state, env_params, policy_params):\n",
        "    action_space = env_params[\"action_space\"]\n",
        "    Q, epsilon = policy_params[\"Q\"], policy_params[\"epsilon\"]\n",
        "\n",
        "    # YOUR CODE HERE ######################\n",
        "\n",
        "\n",
        "\n",
        "\n",
        "    #############################\n",
        "    return action\n",
        "\n",
        "\n",
        "# Implementation of tabular Q-learning.\n",
        "def update_Q_and_policy_QLearning(move_info, policy, Q, policy_params, learning_params):\n",
        "    # YOUR CODE HERE ################\n",
        "\n",
        "\n",
        "    delta = ...\n",
        "    ################################\n",
        "    policy_params[\"Q\"] = Q             # Update policy\n",
        "\n",
        "    return policy_params, Q, delta\n",
        "\n",
        "\n",
        "# Utility function used to visualize the learned value function; computes V(s) using Q(s, a)\n",
        "def convert_Q_to_V(Q):\n",
        "  V = np.amax(Q, axis=2)\n",
        "  return V"
      ],
      "metadata": {
        "id": "OornV4FdyQxq"
      },
      "execution_count": null,
      "outputs": []
    },
    {
      "cell_type": "markdown",
      "source": [
        "### Q-learning evaluation"
      ],
      "metadata": {
        "id": "_oTt4BdMAfT8"
      }
    },
    {
      "cell_type": "markdown",
      "source": [
        "Let's test the tabular Q-learning algorithm above on our gridworld environment, and see if our agent can use it to learn good policies."
      ],
      "metadata": {
        "id": "-Opg-8NSAfZc"
      }
    },
    {
      "cell_type": "code",
      "source": [
        "# Define learning parameters\n",
        "alpha, gamma, dt = 0.1, 1, 1\n",
        "learning_params = {\"alpha\":alpha, \"gamma\":gamma, \"dt\":dt}"
      ],
      "metadata": {
        "id": "mmh3bFo-gE4K"
      },
      "execution_count": null,
      "outputs": []
    },
    {
      "cell_type": "code",
      "source": [
        "# Choose policy, then evaluate it\n",
        "num_cols, num_rows, num_actions = env_params['num_cols'], env_params['num_rows'], env_params['num_actions']\n",
        "Q, epsilon = np.zeros((num_cols, num_rows, num_actions)), 0.1\n",
        "policy_params = {\"Q\":Q, \"epsilon\":epsilon}\n",
        "policy = ...         #### YOUR CODE HERE\n",
        "update = ...         #### \n",
        "\n",
        "policy_params, Q, delta_list, state_list, episode_list = simulate_gridworld(policy, Q, update, env_params, learning_params, policy_params, num_episodes = 3000)\n",
        "\n",
        "\n",
        "V = convert_Q_to_V(Q)\n",
        "visualize_policy_and_value(policy, V, delta_list, env_params, policy_params, name='Q')  # visualize policy, value, prediction error\n",
        "\n",
        "show_simulation =  False; frame_cap = 500    # Optional (and kind of slow) but informative: show simulation\n",
        "if show_simulation: visualize_simulation(state_list[:frame_cap], episode_list[:frame_cap], env_params)"
      ],
      "metadata": {
        "colab": {
          "base_uri": "https://localhost:8080/",
          "height": 418
        },
        "id": "pCdgdSTIyQys",
        "outputId": "503b5d2a-599c-4b28-c959-93c41fa37538"
      },
      "execution_count": null,
      "outputs": [
        {
          "output_type": "display_data",
          "data": {
            "text/plain": [
              "<Figure size 1728x432 with 3 Axes>"
            ],
            "image/png": "[encoded data removed]"
          },
          "metadata": {
            "needs_background": "light"
          }
        }
      ]
    },
    {
      "cell_type": "markdown",
      "source": [
        "Visualize trained behavior:"
      ],
      "metadata": {
        "id": "5hWw4Zy1dkCf"
      }
    },
    {
      "cell_type": "code",
      "source": [
        "state_list, episode_list = simulate_gridworld_trained(policy, env_params, policy_params, num_episodes = 500)\n",
        "\n",
        "frame_cap = 100; visualize_simulation(state_list[:frame_cap], episode_list[:frame_cap], env_params)"
      ],
      "metadata": {
        "colab": {
          "base_uri": "https://localhost:8080/",
          "height": 453
        },
        "id": "884LAI4udkT7",
        "outputId": "89d77602-b647-4b9e-840f-a6043557d730"
      },
      "execution_count": null,
      "outputs": [
        {
          "output_type": "display_data",
          "data": {
            "text/plain": [
              "<IPython.core.display.HTML object>"
            ],
            "text/html": [
              "<video width=\"576\" height=\"432\" controls autoplay loop>\n",
              "  <source type=\"video/mp4\" src=\"data:video/mp4;base64,AAAAHGZ0eXBNNFYgAAACAGlzb21pc28yYXZjMQAAAAhmcmVlAABb/W1kYXQAAAKtBgX//6ncRem9\n",
              "5tlIt5Ys2CDZI+7veDI2NCAtIGNvcmUgMTUyIHIyODU0IGU5YTU5MDMgLSBILjI2NC9NUEVHLTQg\n",
              "QVZDIGNvZGVjIC0gQ29weWxlZnQgMjAwMy0yMDE3IC0gaHR0cDovL3d3dy52aWRlb2xhbi5vcmcv\n",
              "eDI2NC5odG1sIC0gb3B0aW9uczogY2FiYWM9MSByZWY9MyBkZWJsb2NrPTE6MDowIGFuYWx5c2U9\n",
              "MHgzOjB4MTEzIG1lPWhleCBzdWJtZT03IHBzeT0xIHBzeV9yZD0xLjAwOjAuMDAgbWl4ZWRfcmVm\n",
              "PTEgbWVfcmFuZ2U9MTYgY2hyb21hX21lPTEgdHJlbGxpcz0xIDh4OGRjdD0xIGNxbT0wIGRlYWR6\n",
              "b25lPTIxLDExIGZhc3RfcHNraXA9MSBjaHJvbWFfcXBfb2Zmc2V0PS0yIHRocmVhZHM9MyBsb29r\n",
              "YWhlYWRfdGhyZWFkcz0xIHNsaWNlZF90aHJlYWRzPTAgbnI9MCBkZWNpbWF0ZT0xIGludGVybGFj\n",
              "ZWQ9MCBibHVyYXlfY29tcGF0PTAgY29uc3RyYWluZWRfaW50cmE9MCBiZnJhbWVzPTMgYl9weXJh\n",
              "bWlkPTIgYl9hZGFwdD0xIGJfYmlhcz0wIGRpcmVjdD0xIHdlaWdodGI9MSBvcGVuX2dvcD0wIHdl\n",
              "aWdodHA9MiBrZXlpbnQ9MjUwIGtleWludF9taW49NSBzY2VuZWN1dD00MCBpbnRyYV9yZWZyZXNo\n",
              "PTAgcmNfbG9va2FoZWFkPTQwIHJjPWNyZiBtYnRyZWU9MSBjcmY9MjMuMCBxY29tcD0wLjYwIHFw\n",
              "bWluPTAgcXBtYXg9NjkgcXBzdGVwPTQgaXBfcmF0aW89MS40MCBhcT0xOjEuMDAAgAAAB5pliIQA\n",
              "Ev/+963fgU3AQO1rulc4tMurlDQ9UfaUpni2SAAAAwAAAwACEXCk3XMfRB1oUgfwVU/gCizD5ANu\n",
              "JOPMEZhMgkN5fRP47JI682aD8eqbioe6YmZMb4S5AJHYgAAB2QiaSHBAi/9YV+TK3V2XtmJDKPEk\n",
              "qv8nnhr54T4XhSSrJjmc9s2rrlxQGFK07PBGNOLEdE2pGESkrMOY5ofZGiYb/uszrU/IBGHukOjv\n",
              "rHPPDulLndK47rNPimluDigPhid2UfDsv2CSGpEU6xWehUAXA78xwnXxq43u6cvz+3NdSxgWMoG7\n",
              "g5MHdfCfX2biziwPfF6cOc2/8cMXl9z4L5nrKUUGzjyiuHJ/6uHznhmKPh9Qbgw6Q4FD1m9vD4Yw\n",
              "kmw1CvWJzqWkbIAFWxbO9aSO/GdtnpB8PEZpGauzynm546CQ/6+DyKCpwBb6rvRzdh/bqJK/dRLl\n",
              "3fRoBc8M6z1T0GqwHhIyAVTzyZK0cr4ZBynkIkSwthZyonvEMs2CaIk59AsyI4a08UGBik1Bo+Vg\n",
              "ejblaxfZzI/jjBJIHPe7vGWZMRFwswhXzD4nz5OJt1CCzBhGG9qYaI/yngnorZfiQQFhZlDQWZC1\n",
              "26Vr7lVGaubEXMmeXBqIWfNRDQMBm/Cet75cO10mW8mAKBn3l6M4+RqX6vS4NLH0F7tryW8gU9Si\n",
              "d18xoGtNZ5fhZkXd2MzCymWIm4S2gYmzS5FbJua9RX6zaIr2UGY0jdbH+jn0eoz1U6jAJn/Q+atz\n",
              "eRoxsFPjVt1AfYep/Vgfj4WXMMQiyQPzQhBs0OhsoMTWv2LHhzzJPuaWU1XB1eka7YiEM8xwLIzN\n",
              "4OLbOf8h9ySVjAL056d4fmg/uZgbj9ApB0FoFqafrIV1v6Pz8vdgK8t/6U0CHsfkyMdo4WHzB5BJ\n",
              "eHUsTg1yt2QgNGq/oR5+UC6ztDXDjQ44eeZYg76edff0rPYsy+EI5TzjvcWVKlo4VefnB1J7ojZU\n",
              "9XcO//9f1JNp77izK1sy8gadobkUfkJ5RdmUzIAvJuje4ePNLha2Shcy7L4T0/xwzYVqu7ivFSIF\n",
              "PV7cKPYVHoym9d4XdidS7l8FGjm0oIYkySLK6Qt4xftOdvQM0tsRb4dWMAHAfRkT6zRJFxeRlwGX\n",
              "iOvVDfToKFTp/uB1+llCpxJ07WsFQPVVkbV3v8eO3jEXADdnxbIvjanwOjuLgyMZH/IoRIlHO/3F\n",
              "Mqtsk6QzFhCuOILbrfUjRfZiMpQRktrRWNttNlR8UCo7KxA+Yj+LTfL0dOZwYRMICU6lP03erwhH\n",
              "dAz1dazsEBi+rGfO4+sNctbkunp3N1n/8/wGQP4RIo5Nxhf+XT+rXvN0b1FXESpB6OQ5+ne9JZwC\n",
              "6B+DaUuiPGrOMUg7muukvsuLR0bDeuFGoMu1gBOC/R5MndGHRmrcC4Lzisfwp8uOjI7/2i6xR8k4\n",
              "bNl9mC1KJIAuu02f8UcXHew1VkPAgvWYPvQBiqEfACanJDyFaKu2yo/scX0v6Rmx9ziHXb7DZsZT\n",
              "ZCOT6vpLK6oF14JTD3tK9VaWmVHHhp8omhlEXrMAw+OGW2JOF1WKBije0aVhKVuW8HTIDVXGFTF7\n",
              "hy/s9rBq0vLcidwmRHBRh912fQ4+cqsaW88ia+IHN6WoIUuZVDjb43HzG7CgwB+4ZPReWtK1W3gK\n",
              "Lbu6xK/8n14ZbUS2b3PTXLikEWvI+lOnD9T3R9KiOn1ZUECxC8aXq/sEbjyL7cO38o6vD7nuncZg\n",
              "GIOEtmwxFfAIVSDEZzVCVpiFftcd9RCo9rqkB5P0eADzeQ1CYvGCYBA1ZbodPohMWCbGsuCarYKw\n",
              "+cFtrnJ6zp2LeliT0cpqEjnXYyc7pAVbzguMJ0JH8ljrnDVoPejGDN30QzbhLiz/KvCGl5IMnFeT\n",
              "VzdfyQ83uYM3x7vc/0Xl49v50bVNLB9EnmBk6KR1vHEO1qDYPODtu9+uZASQzwd95iCf1ehf3q1W\n",
              "u8fs0GRK1UDgfc357C4lcEyo1HWfk3QtSNuzFNPhwFaAATQz016HPuJXX+TC1PnhlE5+F8qh970k\n",
              "LH18HSySEsDZ6SZqxbkvxUZ9lLbLrjmFDEHotikQfHL4FuOKVMjfWw7tvMNKP+XXhXcVBhRjZfiV\n",
              "YeWBwH4htKVzuoW+Eo2orz4ua1BbARQXoEIZrtHkSfQ8D7rCrlfQw4MiZX3NgL+oUL8vA4zyCw2I\n",
              "sJHXGCrE32WcDaizyPbhW+K/iDpK2N4+HAApRH33yAdHI+udpyy+7VjeeTwtuoaZEk3Mr8pWS6NR\n",
              "B+RwkYbywJ7gf3gUqh+xuodRZNE9Hx4PZp07Skvr0ERrDUGjKAoRsXT7ry4QnAxNVkTL3XNbrF0u\n",
              "aei3UwCiHiKaioW4k3E72snA0ec5WtDjDMLMCHniRC/kk5+dcqp6w9rpZ/SrmKaqXUY0wyGnDbF9\n",
              "fWaVYdb6LUJVFzW9q33qpgHORU0Mgm1027KjdpMCIRlPD033oWd+o+zGBUVsHflDUwoAXv15U1cH\n",
              "BkbVskj6PLV0jwDjCcCDkQ7Xuh9veH35kLwU+IyByjFpV26x80etcEANSvMAAAMAACx0VZjYAAAD\n",
              "AACHgQAAAaZBmiJsQS/+tSqADPZh24Av8s9Ouc5nyM2CB2xf05TZW2/uUwM+ehlHDt4rjfeRnUVV\n",
              "yx/gzwyIn0Hqklvn59/YLhSnPScH0vqhn6NiW8dnH0ND7DgvzQ9+5au7LM2HYFCzJuBRanCbHQz7\n",
              "EMiLN4hs5s111kH1tV9HGr/gqcdwfiksp0+zGcMUpgKVR/Z/iMB9AQLtPDc+5zfnMBmTDBgCsJm5\n",
              "4hw5U9Yi0y6mMPvuUZbNEMGR2AyL3ElHvJ68G1pIL44yhK66Q11VWN6hg3qOzf38pxFb6a6S+e2p\n",
              "IuginKLJHi4+g7F2jPxldWeT06LIkbiwqvL2gGZycJUfINbawqyKa0kF0TZeGoytqfoVNdYpSYIx\n",
              "jLphOzLiSBXZ5PfV5XGvdGzKtydBmsf6DkAWyNIDM3qSOpEljdrzpUL5vW7KuYVN8GF4/PbmH9Dd\n",
              "a6nqNq5hQ2vTCk74w55+d0Un5R+565iRfhEycXrLMDjWOFdRMNU2RBhA+SFqtXZoXNW3fgZonh7B\n",
              "3mEIVWwEjqAC/X95S7Zc47IdkZWOqKzS3BzXJ8A2YAAAAJYBnkF5D/8AIq0fxxtCD38VsL2ei48I\n",
              "yKgcEIWIaMAJVSeuHsjVVSrxPKbCl6+UDAgLzwB6hSVLbC9qV2DafbrgAaQQE70qKCePVhd0a99+\n",
              "pwICOn5OIqrUiPUNHpzIYc58yFk5UE3tN6PEOjcoqs+ZJtOJKyyiF+FwOtTRZIq40SLhDS3xE0xW\n",
              "nxVCGcjNS9hwArgAfMEAAAD+QZpEPCGTKYQR//61KoAA472soAtH7wQUcehTRhya7VCdAlJ6CRy5\n",
              "2/6eTYHMzEKDSnlpB7MFDD7qIaihazVJ6P5NvdfRWSoWtEp2ZigZFpHGHqe0stu9HVdxUe0uXp6K\n",
              "pSLfr3B3ZTT9bPKRAy//4c8ofAmAA17gYhzLjG6UOEjekf//YYE7PqpuVFlC5nBkCij6axMwMHy4\n",
              "ichO9xB/rjVjWIwQdoQ1NsIOFDkqBDpmxiqs0ASL3+WsPfJ4GK2qnBfyilu7fSoJish9g8kMo9em\n",
              "9UX/QwEVwajSA+yU+KTNlMaFslyzxgPP8QzlIBm45RB1KnNd1kec828qumAAAACfAZ5jakP/AAAR\n",
              "2Vn6kQnSCnifRSWiApqSKtAtdKeKAEqW2vFeKXWF8vJBMvCJn6CsNegSy/S01cTCkCH6X9VcKu4c\n",
              "02/IQVNj2E9uHgpyw2KU/96PxG6/YQ+80UItddAitWxI47bn7O9TqpM/cldiEylWd2IjP2eEVHC7\n",
              "dbv/iqPxIu1vqVxrcyKZ3p9pdGrOJXpOvjehUwAifo1F43dBAAAAr0GaZUnhDyZTAgj//rUqgAAA\n",
              "Yz4+ZK6bEBLR2IGLGxezQm06W+QAXyNjjy8bS9Z/1u67+x7lQKyvxr35qHOn4PdUecPlOwiy1vze\n",
              "i2qwoaff0a/aWILAU3SUjVyUujnN9SQ5SluJUNywWxSt4fwPuVMAcos4pHl8fHoIKYpJ6ihZFi1b\n",
              "fJaY0WUOxkiP/9vICWzDi2a6l8CwS4nt8id34oslQzPox4TNeRAQFVrh0TkAAACuQZqGSeEPJlMC\n",
              "CP/+tSqAAAAgPvdkAElDoaP4t4TD4w0wz09hBgyh8qGzLLz6B7K0vwVEJn9eCCW5D/g3//Dnx7kX\n",
              "dLChDqI+4tHVwVfP+ro0Igs8TWeOs2wG+GJxmKfaVyuKghnivwrX1pCHoHTsrkENndxRr/79sbyx\n",
              "hnby8qo9pOjeLb0ByRlttDk3ablPSo//9OvmvqqVe1IIU9VhofdKJonfh2hpmw8MNNthAAAA6UGa\n",
              "p0nhDyZTAgj//rUqgAAFLw82CAR/89Vt78LNgDuqQ//ee9zKRS0R5wSEyTZtLPa/3Zhm+neH0dGl\n",
              "ABqf/4iZEh5bq07PTw0gxEXXlv61yo/iF7fvZnXJH+ovjqCSHtNpWqXKVgXX3aarclyIFp8PXb63\n",
              "Uh1OGr+3j0FEMLYT4roLI6L82tcMq/xKH5P+2neNP5TagRucWLX+0qbQ6bULP1RswD75jou31Ycf\n",
              "B3rkmf0cYQCaxyIJIXl5YI7bMJ2Hhh4CJFM2pPF4Udem/jqc5xSbj5hY+WFyw16l0o7EX7XoZ3oP\n",
              "awZJAAAA1kGayEnhDyZTAgj//rUqgAAFJ6jDxo/4itiWIhoAFaMvtVVSaqwkXD5BjwHCpxyaf+ro\n",
              "OhhB06OLW+54cbi/BC3ctaSzvH18dKrokLdcQ21VHTdNiXS54UMRo2awJqXgXF9KnQWsRXeDo3ab\n",
              "KW1fHKuECTAeqjJ2auL4m6xMFpT1utH9m1APaMfhXVYKrW6bPQjIHkMZrmgFSJ0orZzQ7sIzOCKJ\n",
              "2/7L/3atv5cwNQAnDJLGDHA2dyj/5WRWZ7R0TZ7danmD20DXvQ/ILWFRi/p0e0bsAxYAAADlQZrp\n",
              "SeEPJlMCCP/+tSqAAAShFxHmvFKM/mgBIhIkhI36oYDL5hZgv/fR/CfAAb3ZfwnxA3y1y+Z+S1LE\n",
              "UOgeeKdZDWvzVhyLZkzM5eZpX+PHvJD1uPT03zJQv0AC2epFjIJcos+2bgJenXYq4S9yKAqh5bzg\n",
              "KANvZYWK+FLkZOWGwI+hX3rAsx8l7zkuRK1l638cNK0a+oYKQgZgMDKN9OuB49PT7sfIL8ki3Oq4\n",
              "IpZ7UiTae6crB0YaRmQdZhCqTamCKOyuF0omevWTlWHGIMJ5Oe+Y9JR10w5Ceg9hlRQznEABbQAA\n",
              "AM9BmwpJ4Q8mUwII//61KoAABCEXEea8Uou8dRs0gxA/FE2bocFOuEXGDppTpE6ACMO60PXbEifw\n",
              "7cfwWn/bHsOrfUH4nwJVkG0jv3prMrJm0rZ421TU3oPphv542Oc8Y2VF8kr9xKAJLoWIf62/BAlU\n",
              "haiuzu/ohG4LPKO+8nSQMtrmPCcwwwxsC6pHjb70BTw9mCBDntHmt3M26jGUrhQD5e7pGPKdMYpr\n",
              "ZilmSG+ootYpckM2RJbv+NgkraP3XFXMz9uvmPCSOARMAFVIQ8EAAADXQZsrSeEPJlMCCP/+tSqA\n",
              "AAAaiHSAq5gBxe6zjA3B+srtr0f0rZzq7zxOxcFWDFhj9T+Ee3BH/wg9v5TWW5qQRCeFCcJhCC04\n",
              "okMxAKXQFzjX6KtlMQXp3m6flFWjrzaWmlr3atiF08cdjrJsS8MFfOT9xcbU21Rv92GTn/Ndru0h\n",
              "Um8QRw7pNiVgoc//Inyu+dfVoXtTvy5qFL5A14n3GRop24GeF2SextCOa37O6NEU/AD/uAFeJb4r\n",
              "wOpXL88S+P+F9vKHJc2+waL0p0ZyUpdDifG0zUAAAAC2QZtMSeEPJlMCCP/+tSqAC7lbFgCLQOWO\n",
              "tGSCi30qFWJFsa+IHTNpOVgstlPLjor2u8e5MeT+9/DPy/786e2x0dLIbnMFHAjVm+7XPsB4qf//\n",
              "JopIT8rrgeueDv2xSuQtDpOP2pLBseST5sKHS7aSEjGk0tgOS++bASvbb4vEmM8ICChrWmU+70iR\n",
              "aDXwd7lGuRByXUwucpmb0D8qAe4nkElTLQtoH0pxVVn2dZadagCeD+WxwEAAAABQQZttSeEPJlMC\n",
              "CP/+tSqAAABADz6sGG3vT/QeK40JjzJj84OoTyqQbm+AvnExLImABqQAOFp+fT/nPqOL/gR4ccnA\n",
              "CmFPPAAkPf239ytcM90AAAF6QZuOSeEPJlMCCP/+tSqAC7eo4sAV1aspXt1xG8mnZv4SdeJ7OH1x\n",
              "Igg0fO0ggUSsS84W8LXF7HgE5Cm2v2PkRFZrfxxslgDSzfbDFdJ5bmk7OAxU4fCslLSfVtyIsghb\n",
              "uGj6M9qsCjLGr6Nukg5XTKEdAFxffcWka+cSXavHgTgNZIuZ9EsB/f/CAvXCpifLSJDyaCfBwy/2\n",
              "Qhw04vKP95wWbe/CzYA7qkP/3nvcykUtEecEhMk2bSz2v92YZvp3h9HRpQAan/+ImRIeW6tOz08N\n",
              "IMRF15ZhVMltrSTFLUW2/yClwDpJD2m0rVLlKwLr7tNVuS5ECZCJ7lqJOUaern4ZYIt51xjgO/58\n",
              "VIeTteVjYH+rDSPWkPGn9RlxpvWy/cI6nJCVw5CYRzNdtoKl+IF6Mht7vLO0I2VzuuC46qek34dE\n",
              "uzXKzHlw6mXfnmy7EY9khyWu+l5Pwx69gVgGl75dksvGt4nn9GRpJPO851gveQQA74dxXWUhAAAA\n",
              "2EGbr0nhDyZTAgj//rUqgAAMt8fMldNiA+jR9552OQNFkzjIAEYWBSqRzUaW2H0IvQUMg5NP+HG0\n",
              "V1kZ5TKFDTshgLJkRCOnBAg/Go3GKwe/uucTP5kWBTYmIueFFEaNmTXtLIXxFVDW2MQDjYr55TEk\n",
              "Igy9vmATTxta6QT56KlyLaBsgZHuTJ+Z+QyJyaoWvFYPpx+Egm5I+X5mC0p8YiSCaaqdn//djI19\n",
              "p/brfqAGa+vZtfChKR8/zZs0UHftDi3HJ5g7xZe9D8gtYVGKslUJXyViM0+PbQAAAOtBm9BJ4Q8m\n",
              "UwII//61KoAEh+/w39X6SeOFZ3F1L0/cCYhIkhI36oYDL5hZgv/fR/CfAAb3ZfwnxA3y1y+Z+S1K\n",
              "7zRcZ4p1kNa/NWHItmSmXKRyHqzx7yNo9HY60wFPyKgAWz1IsZBLlFn2zcBL067FXCXuRQFUPLec\n",
              "BJ7HdYCOdJjpTHPssExBOcpi7Cih5Aem9DivCQ+g40qi5f2BjGxJ2C8bl78jBBfkkW51XBFV9vFq\n",
              "bT3TlYOjDSI1VYqMwQriMyxmCOCV2iXPMvZ+m6XogppGWeQmPSb9dMOQnoPYQIP/i1p4RGjWhzc+\n",
              "AAAA10Gb8UnhDyZTAgj//rUqgAAEIRcR5rxSi7x1GzSDED8UTZuhwU64RcYOmlOkToAIw7tHbM/S\n",
              "9fKyTBaf+2PYlW+xAInwJVkG0jv3prMrZL0rZx7eByO7eSyflDY5zxj5HIWNama/+yjskB73EAgS\n",
              "qQaBXR3f0K+kO4yTLeO7nQ++jbdHNPs8I4bOIEUGA62ne1d3tgUeTFAZ7eyFYxdRBRZDHeGdSUl2\n",
              "InbX+fIaryBo0QHq0r+M4wf/i1c68m7ZpNZ8dpwN3Jhv+Z2oz4XfWUKfC7sAISQsAAAAxkGaEknh\n",
              "DyZTAgj//rUqgAAAGoh0gKuYAcXr24+7TlvdtenPiuGgL9WknYuCrBiwx+pEyGbD8/Bs46X3F4Ve\n",
              "nvlGrzhvOndwqdZufO6oyb0S0YGfHonmb1CnrTWDHnbixs8wLxokDLhaQ4ONtjOnAn0ILs3hF2GT\n",
              "wVuk/cXAuprt9kstPgOne13akyXkyX8pUlMtuMhbcLQPhpiueQr4j8yI7Gdso2DpH9jPjVENgc1c\n",
              "5c3lHo76P9GGFY/xoq+YjCfF9JAA9QAAASpBmjNJ4Q8mUwII//61KoALtsZ0HRDGIAEfI1i4uPiO\n",
              "5wXlOj3IdtGJ+MgFHiRaI5g5ymCTMoGWBAvpz/r/J8m/auyeRogI4wxMuhm9H6urT/9DA+FEYCax\n",
              "ToIA724nMOctlgB4i4eX3qKByPN/1AH0ME8twNZgvFJHbUU3eRp1rFRpmkSXzTkbNTyKRxgEABr+\n",
              "Sax88GPF/9Ry+ZM7YtOvgsGzjTgr35qHLLenzgSTt6PMOZi1Yz/uokz8XSedGfr2slSRDCdIDMsf\n",
              "gbCO1g0EJpXQNvdRWu9exGq9Ij3wdFoOKQ2XACXaXvQq8g/5k2DB+F5DStHRx8STxcCZfA3G/Spg\n",
              "DgU9DpoaPjcNPlbSlOJepC2kl2eDENKFH4+2GgIwFf7LJMvVGl+fAAAAp0GaVEnhDyZTAgj//rUq\n",
              "gAAAID73ZABJQ6Gj+LeEw+MNMM9PYQYMofKhsyy8+geytL8FRCbTEAgglGI9f/8M7XuRSTIbsn6L\n",
              "ewYVAKvn+HGBroR81naQr6fLBscNh7om9rgb2AvDMjbKrkmE+3ouSwhysdn+P6ifIqq+Da2ywRkd\n",
              "7SUgGT2NPsvFgzhNsoz2lpQLpzMpnWf8GPg6uooBQbT64If1w6rAAAAA4kGadUnhDyZTAgj//rUq\n",
              "gAAFLw82CAR/89Vt78LNgDuqQ//ee9zKRS0R5wSEyTZtLPa/3Zhm+neH0dGlABqf/4iZEh5bq07P\n",
              "Tw0gxEXXlv61yo/iF7fvZnXJH+ovjqCSHsyN34qtdYF192mq3JciBafD12+t1IdThq+MypjUYLYT\n",
              "4roLI6L82txdkcHQC3f5b8+UTTahLHpfloeTjIZTE2ZbNj25wEI1nq2ft/TC2pOJQ7USCqIYnF8Z\n",
              "4NtpszgAP7xWkuPyUGtBCFI1y/7XsLw/yR6dGPGrVEX0DE8/PDUg3oEAAADQQZqWSeEPJlMCCP/+\n",
              "tSqAAAUnqMPGj/iK2JYiGgARJYFKpHNRpbYfQjJa0EFSaP+2wV0uFU0n6qrieWLRX4IW7lrNkt4/\n",
              "Dkwt5aqzQ4mqgNuwKbExFzwoojRs1gTUvAuLwdpr9gfA9l4oXkZBRxQix6hwzp3V0c6qmxlbPt+b\n",
              "Fzbs3IySiYDAKqYhLU0cc3bIuC6+MmYLSnxp0wc8qSNSf/92MjX2n9ut+oAZd9exc3lTlmjRY5P+\n",
              "saie76Q7U8wd4sveh+QWsKjEHJquQAAqoAAAAOlBmrdJ4Q8mUwII//61KoAAu5VqkAWLcDLgH//h\n",
              "E2IRCix5n8BE0b2lXnpE+A/792MoF16pX8qqCTR/9vIE78ZfI6s+h9kKOQEkYK5/ww7WyVlhhVI+\n",
              "Pre7E+fnlgAl4eq2ztEggiADBXFOCnqXEcifl4++YQi8Xx/6TldgmDILg5FCUXZRzQ4NXgdNdIsl\n",
              "UaC99AsURlhzrEgOfQAfauHOEcLdQiASobw6siUqLaUhpo6uCnzmjrA6uPMiSR9rYYUy79qyViOE\n",
              "eeX+3m23MdyvaLdC9y7h9CyV8ZRcaYK/QqMCO4RzH3sHhQAAAEdBmthJ4Q8mUwII//61KoAAu3UY\n",
              "eNH/GPCrARJpLNWQYkfF4NjHNnxgAsUAAmjsjgYbVBxf+bdVlotmA0H6S0cgobRdoEAXcQAAAQJB\n",
              "mvlJ4Q8mUwII//61KoAABKC1KkUAa84AjuL6/LZxnwwSn8+HpMoW5H8KiFPgdZE6XF3cMgAVYmqq\n",
              "6TSiQxWq02M0KKPg3qKu4Gp/cZvMWlY2ePgWojUz7AIHsHu2QCNt5t+vHjtZzHNq1cDAGgiybpmx\n",
              "qVR+VSl8dF2Yy8LRVNyO3MGGl5nvbWq0JNEF1iOUSoaovhJp8yU5NOZ6focz359+6jE1plDp6EoD\n",
              "bw1441n6Zibl08gCGalOaC7gGEe8kl2xnqTdOdDp4O2B3lYPHOD80yipvDb1eddJ0dGtAaleLh9R\n",
              "L+opmXiR/rRo+X0VRDlcKhZ+owzimknNaKMAAqYAAADmQZsaSeEPJlMCCP/+tSqAAAQkhZlOLAJm\n",
              "fGP4316y9/4Xg725An5Obex8hvIeEAHp1RRavjYjyjsc3L5Kz1OCsCcp/Ptn2FQB1jnnmjeT86+y\n",
              "YFEsvAlWQbSO/emmesneNcM4b2Ya7t2Jv7DC05TsyXVFn5dihcxjbMEfXcaYhJepjF3kQKsUPLlL\n",
              "LeO7lbVaOvYKMYTr5z2Mxoc2XfARi8jID6sgQ4Qc1xr++J00XfpPCrOboWaQXgDrnPGe1yxDBwav\n",
              "+4a/dtnsAOfyC8cNCBJzgDT64i72pzojgXlN0P/5H9SwQMEAAAD8QZs7SeEPJlMCCP/+tSqAAAGg\n",
              "+FMwkNFc7zdPoPk41yfah/W3a/gAQ4eq2xcBfQLg8UvCBukHlSd426hhNIS0xL+uS/tlHwyP8DDs\n",
              "LJNkBBdVUQ+Q9zRZ8oTsnC9aotOvoeQpvqOVDQyQWuajQL37tfATk+Otv8RoOJ/qcrSEGnPe/+NC\n",
              "EIB3bkR4+jR5JiYjmT7bIaLPYhtFVklyow6T/PKo6B0CTJzkvPeQRHPlR0kzYUhwxkP4LoE+LKPA\n",
              "xVtWYF6UxBz3hYw4ojUkb6fxbuiqksyeAZEIk8UnHEIs7l0aVjNCofiXS4v+IrUcCQf694dNBi1+\n",
              "k3nSyMRBAAABYUGbXEnhDyZTAgj//rUqgAvBDPkl88AItMYt//v+nTzfMUbYjxgIqRCeshdnmZ7s\n",
              "uj8kocz+VCWnSTAR8vqmFW18kLIWfIi96cseZtfmXFIP4O+FDooQb2Di804TdyxHuSWBBqIb2PUY\n",
              "xZEheARk8fr88s8MfPZUCguwHb2JnUx3m60YLSqLayizxC0n/3PQddPBuIAy4B//4RgSCsMa2tQg\n",
              "ljPhVP8geXzJRCQKDN530u/iIgsGn/6HAT0/l8ik0w9B0Ro0Ha4GfWwB8gJlk2Lvq0GPlQPch/R1\n",
              "NqLA3wU8FC2DsTA6ypB7LDLxutPe6MhydgLnI8HiUToyqjE2Rlm+OhG/StozY7fbLDnY+XUGMxSc\n",
              "bhlSPgT4NzCOhsQ1SYp+iTGRur/tBKBSGABmyXx9OJ7NuDl5nIvQx7EkEBOnsrHOtYmoOPxEexuu\n",
              "WqGOvzx0k1KB4J89Hzh3gBGwTt7bAAAA40GbfUnhDyZTAgj//rUqgAC7dRh40f8QZnnDQB/UpFYK\n",
              "jmY8aMh99fF8WqygErLTiBZYVDxTTdPyB6GDwYqxSyHwJVkG0gHd+j5DrDYNP/V0HQvOjPE6m1WE\n",
              "gf3GpzGiwibIrDYP2s6AsRHoQ21RWTS3Z2EDLqx9EgZnJxAWKDldibR0cBThHQhLHI2ymiASkFl5\n",
              "nqg4ERFnBXHOH1xSJWRPEWQfKMcrFKxa9esFpRFkkbdOuxNLM3/ut01bLhc84/qKqn/r/fXEceLN\n",
              "hAWqSgmVWVLSpjP+kNZoADw9LGcagCEfAAAA6UGbnknhDyZTAgj//rUqgACpk1egD8tgc4+O4smF\n",
              "3P/bBj5IkhJoKEZT3MLMF8mlGYNgQDe5HB3PPr81f8z8lqV43aivPFN3ZQsKqzzS87U0APqzx8YM\n",
              "x6Ox653b3+utEL+RFi60ySmxKhzMrx0Irwl7kTyy8DvgeoAvQcJTsAnyLUIFIrNIErHQR8iGn74p\n",
              "3/swCAuJ7TnOoLnpOQUsetu4GIvvSwHGv+LodJzbZNMB98qFB1VwRHZfzYOif2LXaWHFzTIjYNn3\n",
              "/Oz4u/B0ppG/wBOo1Bd+yh4nYjTWrygmKM+RxGLUAIOAAAAA4UGbv0nhDyZTAgj//rUqgAAEJKoq\n",
              "L2neCQ+2PWiL1OOJ9MjbLuuWnEIaQKSSCdZN/4uyjxB7IMbLUYUFEOHnTjksEOWN0r2D0L4coOsc\n",
              "+bGUxn542jFcOS8yi7LohLk8BFwVAn1/tw36Vt7piq+H7m3HNRIl3NGhmaZ/NC8C3qWtXKfnvm1V\n",
              "9/+aWmZAs5jQa128e+/DAmtqFQKE7kuHw08yRavlTaRFwioM/i+yi/rDiDIZ/BlQrvmWHkx3nHI8\n",
              "v3YixhaFfWRoqhgAI2Qy69p7C71cLnGGdWGK8laTUpQfMAAAAPBBm8BJ4Q8mUwIJf/61KoAAABqd\n",
              "vTOgA2u6RaDDlYmaIxCcPf42cNVIZizFB6leNT3bwXYgk/4y+5a19UNv5Z0xm1pTTTYzP+CYXi6I\n",
              "BiNhfYf6l8PIAAC/hZZ8Y4JCjZh7VPc8ObnnRBn0hIPF1cjtkmpqtL/5XMae7+qQIOyl8oQaZExr\n",
              "xWiP0aL2G7CNJXVCQfxEW/eCeZ7B0Exsmnjo+v9QrHkn/SnYn0EmtydyEpwBoSbI4E5817gmxsyD\n",
              "uC1GbFsHZxgCAS/CL2jTt0CxaxfE8l2/2T4VGI8MD1ZV19OOLGghNBnijGCkDDR70IEAAADDQZvh\n",
              "SeEPJlMCCX/+tSqAC7cY+NThSewAXIX+hj+UCrLeufYtAjQOWN06i+MR53m0WwT63e3WfUh8WoPv\n",
              "ujEP7VEAk1u/aUDfzIeQyQbxJgvyfakTtFtehsuPDSr4RS9kJirV3uwP3Pmyp04kjViv4x094Al5\n",
              "ZMemAwDS0z3emBDo9q3E8MMAsUAwIAc+aGbkcw6AfjbEJWaXZDF9YAAXvqgtWzX73easSaQMFiD8\n",
              "kNiF/458e9Js7YdMzwCx6yB7QdZSAAAAT0GaAknhDyZTAgl//rUqgASBDImCAVjK2ctNfG3AAVV1\n",
              "9q4Q/nPYoR8xi7sreQ/inlwAdwz/cjYM0HklbtBLBwUsdrNka/vva2jOcBsgssEAAAFBQZojSeEP\n",
              "JlMCCX/+tSqAC7cx6okyUVeRbADWq7WVoJOSzIoAO63CrpXS85giT30NDVDLurp6y0NFHWcTLT1z\n",
              "XRmSyHhyEX1AQ4WmIs7fzNp/kM+K3VAbs2E8Aaen6oGKSBFWyE/aJhJFEbHnRFhhHx/1dmYDDUxa\n",
              "Lt9mty6KCugfSGe9ddPtDPA6io3gXsxK/O0WwAJMfyf7DhZt77f7micyOq9m4t4NQDSrv/qY7NlS\n",
              "o0FPFwtSAwc6LSsZxxwglSCDgflUHDJF9H4U+ijNwz0ysCSf15dTjNzHJBCwstEV5B6yNaiirqlL\n",
              "8izT5/Lx6b4ZNa8YkGMBlYVCPPDTVYJfq3+7yYDWtx4CQDIXnzserct/v/4WEoDWEjIqTp88jOlP\n",
              "nxH96FbZE8bD0GPO2zdQ2F78icxCJeCdNEiLfY5YAAAAnkGaREnhDyZTAgl//rUqgAAAID7xJABC\n",
              "diKibAKbE+MOTwXK8azpYf4336O4CGPKKvFGRHDk3BmJdk65f/g6WB5FJQ6tmdk7Nr4KQEJf22YI\n",
              "0udzXmfSuwKS/IDX3WsXfEF2qkV4SpAIrT/UdJbX0Tk08eqdyZWUlN+U5SJ1UNKJAN0P3ZS9/jdG\n",
              "H9GrZv91m9uFDKwARvsI9EdZbDqtAAAAVkGaZUnhDyZTAgl//rUqgAAAIAhjDbfcQVteG4ayCDcE\n",
              "fMzs6oiUYbAAKhnVI2/x/2X14TT9epEBqc30bR7tITgD1fSgdZC+K0w5AR1RU8kCKWjzgV6BAAAA\n",
              "VEGahknhDyZTAgl//rUqgAAAIAhjDWggBAfcK825hwzqbIg2cPv5fl5newJ0P6WQW1FSG2dMez4a\n",
              "0rEldDptkgAUgL9yhTPTafl57Lde+P2amXE8zQAAAPJBmqdJ4Q8mUwIJf/61KoAABS8PIYgDW2+f\n",
              "836SpmRn3IP/3micykUxUw7UCkOstvTzoaL5YvdyfNuJsl+A//+3XIkPLdYPQQuGkNBi7GuRYedf\n",
              "98v5AFk654wdXv8kSQ9w2KsrZG9VXKAmq3c/HDNV33tkJuasppP67AA22efABT5FDWvWKoZrxn89\n",
              "Uq1Pl5538J0ChT30lg8Cr4yZ+sPE4M49ojez8Wl61bfjvm/qYvJ5iS9HJ31axhH+MRqBSMTccFFJ\n",
              "dt1224TpEFEp+WAqPpjTPVMurG+5uzhf/j5OcJEoEkkmuPIq0Y9nmCYdzyikgQAAANFBmshJ4Q8m\n",
              "UwIJf/61KoAABSfDWGz7iBz+Jrv/gAOLxGaUFPZVBItx0FhS2gBA/Uf/V0HQ15W6wIXFu606NIZL\n",
              "m71XeBwOIivPw/ZdRJKpEw1ofseRwolkDtvBBGFE9Grs/KC2A3fDBS2gRKMl+QoPOZ00N3ays5PK\n",
              "59wHbJrwfOQK6EmAOnNSyGV0WkU+/cClEOMY6UW5E56b5ODMm7v//dLHXzZfcQRvjcNfgrG53Foh\n",
              "KbEUo4lcXk2W4duX8NDFHoffNccmfKAUpW9YWy7hrQAAAPpBmulJ4Q8mUwIJf/61KoAABKSGYSsd\n",
              "jxa4r4IAAg3P+1+lNE+CdcsbKOjSQQSi/nqB4zm7AJdjdcA/hwBK7nUghSqC4ygrR2pTiSUO2xPW\n",
              "zjjgYQaByAkwbymKbzSNDC0cPu6k52yd/0CxRlV3fQIPN9NflNaSTG+N3CgzTGyYXZXOQHPpkZ7K\n",
              "zrQD5Fn6lpJke4CcWvKcl7UzXRuoSudt+qJuhfgwhC0/+0BbJD3+cqvaKbKBENgrgrikkyaE3Gdf\n",
              "LdBJ5nj3YxWMnrS6ASmfiJ34BUA1r9HSt09zulCYiPqfFCdnf/lD0Py/ZjNXlMKxEneNe6mlciyg\n",
              "AAAA1kGbCknhDyZTAgl//rUqgACqcOaLvFRuCgAvn5/Hqd5xTGaU79uOwyA+2e6q/vS3VZ6TTrPj\n",
              "JdeWs20JIMwgPwV6kQJsB9gTuN3gFiuyO4p5MH1wd//4e/EmiOF8sAmySJlcALgtavBks/j9mVCL\n",
              "g817OS5nDw74D+U0b3CXf//TwjBn+H3AISW9DLULG6YfnAn+SWbVbDSeD/mM7He+3+OzEUOiNOSq\n",
              "V/Fd2wi+OFlylNOxVB3bCpjXLFnPPqGchn4PS83u+SFffUXuWxZFr6iA9rCAYEEAAABOQZsrSeEP\n",
              "JlMCCX/+tSqAAKl4aw2fcQVtd+HljUWQG9NKAJIqyE2CG/0DSiAAgX95kXJQAxiJaF3Ufr90WdU2\n",
              "Y321r6Na4viASJOp9QGBAAAA0UGbTEnhDyZTAgl//rUqgAAEJJARDqtQBL92arzP3S7FeLRe83BW\n",
              "vLgnMtMLGC6I3SBZtpu4KJPaU+gvgxUVF/JD5NX/kSG63duWMnwghlzcQ3PkNQJnfdgH7aCotpph\n",
              "zr7BlTzs8Dfo6nV46/7Doa/5VFbHt2NznZbn6sRJN3bBjGDKdsLvxcAr0dJv0GFcd8g/Nd2pcXdb\n",
              "GjsrDe55fTsJUoEAMdrJ9rJZd8CQ399HhFl0LwN8dZw/nLvs74Ca0QpG+2BMGGJLcH6NtJdK2RbQ\n",
              "AAAAQ0GbbUnhDyZTAgl//rUqgAAEIQxhtvuIK2u/AOfwqQgY1HjrEJCCSD/WrABFwqz4nNn1Radt\n",
              "iSAG93U2+YBKaQwX4ysAAABYQZuOSeEPJlMCCX/+tSqAAAQhC9EAbZVJeyQH7LWbZurpmOqXzbmE\n",
              "J/z2ubBj8sweyiplcomG1DjCnIHwPSVrHvYB3O9SCp/q7Hyu06g2wMPAarp6s1444QAAAPFBm69J\n",
              "4Q8mUwIJf/61KoAABAEnWZmLTKwmAC2KLrcOMidUR/1XDS1r/1WFTzSEUcrQle0Yr+XEgJXAXISN\n",
              "KNfcN2v8myNaRh4KGsHTeN41KT513s0F7Wpz9opu9WwvbUSEZ1yHUdUfp5AmAP6w6+pd3kXulvRN\n",
              "2HtiKVoptl7tPjPbUq8OhvPUvzMg2n/43o196/lgs9erkYNZOXMn2ztFMtKMvYy/8zHD+e/U0Q+B\n",
              "uxPsHpTqMwEH19fmGVxmgoSbQYWGBQzMXUT24XV7pAU9hGkSWtXl/Jq44bchavxKMc7lWmE6vzmt\n",
              "2Iychc3bmeQ3AAABeUGb0EnhDyZTAgl//rUqgAvBEHuBQAivcoIWJ26ZP4RI/s0KpAcSDEQN8CR7\n",
              "Rq78MxvmPsUeUyQ4kJd1iCphZ9fTYbtvF50daxjVQziAhstlpfH0zIaZ4UdVNJp6J6DD8OHToE/I\n",
              "Q9+DuvYm0pQEDPes7s09w5nvfPUlR3kUWOd6F7m2PlJuulb0ojwLfAoGBG5aO/X3jxuvyBF4aChb\n",
              "eJm6tF0Yydd+zVJrAAFO4pVqhs9EPwm1pKlLve2XXXhzJ668gw5oUk6HtrLHE5P/6AGVeLQ4qObc\n",
              "aA64zxt1NPuPO4BEz4c3c7GjApbwB6f069qixFQ5AtJEd3t+dZ8ndykVFvwkFjdir+no0+rTtCTU\n",
              "zOzy1krNDMGEOEILIM+8iXlq1cIDcoad91kMDndhHRpU2IRF8BGhDxHrmtoR1JOK7ABmWIpgmCNb\n",
              "uv534UQQbrkVdOvYfUU7WHfrPyoe7IJFYZSzUNe51b4VTOfbFFXNgAHfczOoACNgAAAA10Gb8Unh\n",
              "DyZTAgl//rUqgAtwPsKAA3ZcMexUFtCyj2XqTu0uEPoDzfHD9gg46DbcklIAMlJVirIdK+Lo4Q8k\n",
              "80TtH/DZ9Cs6f/hxtFnD1YiIwCCrfkjpev9AWz5IzknDwxKzHr3Ja0OOrOMeJzjSJjZPghOCWq4w\n",
              "jcekLPWtUEdrTi+IM1JLjOmgEnM/GFjqikAjgZElLes/weyv0kzH0ziGNjQu7xevdlQ6lRxifgNx\n",
              "uZh0eh7Gz/5WRaMIe/45wLuXnR1H2o3EFwobWSYxs7ZIlDpaGIEnAAAA9kGaEknhDyZTAgl//rUq\n",
              "gAHJ+NY23s3GoaT0+tFC+Hrxif5CAErKTkARv1Ir4nwCnByps4CTlb/OQ3k56DDmwE8l7xeZAYgE\n",
              "wFvIqmHFw3FSy25CPE+PcMjfsImlbf/vU0iG8pKdYqSmHgqdNu7N113Gq3dISjR7h2jiN1Wv4VbK\n",
              "2Dg57VsnbcNo0xxtlmatxqOy0gDBKIhrpDtY4mD5Jev3DxY80mQsAlJiHY8b7oA7vr+fzGKOhkm5\n",
              "JuAcbhM5uauUi/OlVOEjb3TkacEvbyIelN4aCRaS7T9GYtaocARSZ7+oCC8B+asX96DLERbjyeOe\n",
              "vICXgQAAAN5BmjNJ4Q8mUwIJf/61KoAABCDo9n+EboAl1+DL3pK+m8uENTQy+0Q2HUrCZvzJiNoJ\n",
              "/RXPvyGT8zz1RnVzMmthzi1mszNhmKpDpx55BD4gGS4z4zU44FYbM62VCOBMAFxHCb98Q6+qXuHv\n",
              "sO0mgXo2F+20xjPBwMJq26Hsplv2V/I+0w+ITvcWiFmp/ZzlCfe6skdUcBpYBp74PZY6n0rTobkL\n",
              "pA5JsIBar46lvfPCqHWTh5sqg1LST0Yvi4WlhdDHBLmg1L1wyE3ptEZPjVROgQkbwHhYacaHgPrt\n",
              "h8wAAACwQZpUSeEPJlMCCX/+tSqAAAAaj9GWwACEAHIkp5Ntv9IydCxPvut+yYLlUeUL26iG+QQ4\n",
              "BpfY0emEzH2EZT3D9WEabd/ByMkfMA/327gkcIwUg8syfrnyMJNJIR0uh3yvhnSwD+WTS3YpbuQy\n",
              "B+K44xXw1hIdRtzgoXKp+CempWknRKc7tvGWD8ZrYjIOoBE5dUqFndTPg9uPCLtyJGbQkyv9+oBk\n",
              "jdHWwJYO3rH9S2AAAAE3QZp1SeEPJlMCCX/+tSqAC7laDgCN7pH5rlP038bdOM0y8d+/BDwORJGq\n",
              "U2rpjPQ+OtfsgptL23tbxCWs/qzXX95TfPoCL1HlkCA7PpKsGpsroyQClKZ+L4GkT6Blj1O1KKVW\n",
              "zndvorCWteFGQgxYRSG6a88pEwAvmd2XDfUWjdKMzVcL+z8HtbCo6MymLbgGgWELokZn9zTV5//5\n",
              "gJ10K4yZ8isZ7NifGHJ4LleNZ0sP8b79HV9x5rasDvd/wCcGYl2Trl/+DpYHkSUw2OZ2Ts2vgpAQ\n",
              "l/bZgjS50Eo1m0nh3vDEwUqf+ZRyAv0Eqy3pY3wqDCyZNF4vqUGKZT5wzBSlGgWo5DzVyzJ3MeyE\n",
              "OabgxNMqJkwfyAPLqsUZGq2uXJyHjELGFXLo8pWhT3+7q7ZJwAAw9U0AAADaQZqWSeEPJlMCCX/+\n",
              "tSqAAAUvDyGIA1tvn/N+kqZkZ9yD/95onMpFMVMO1ApDrLb086Gi+WL3cnzbibJfgP//t1yJDy3W\n",
              "D0ELhpDQYuxrkWHnX/fL+QBZOueMHV7/JEkPcNirK2RvVVygJqt3PxwzVd97ZCbmrJUz9lZIfWfA\n",
              "BUpFCWvWKrZrxnhtFzKSU+9amIRGgXir7lvupLW9q7n42YdsxCG8+HVSGPp2Eju3ZDzRnXXcmSdu\n",
              "+WrHI7gy7/LawkDxdwPI8ynpwWzI1cRevhUo7NOrOtAFKCAAAADMQZq3SeEPJlMCCX/+tSqAAAUn\n",
              "w1hs+4gbUnyEznACMOIxdTHeeK0CfQWFLz+3E5P/OAHQ18CsQXw4GNGVKExOaeWZMti4/FTUaiMR\n",
              "6HRO23L32hx1DDDxFE/jG2XZEsHT701sjjvHDmCBv6mza1H7kn14Pr8PqmwQblt+Nh5ohBRAt34Q\n",
              "wBDt5XacOo9UAap0jQHzwkGNldodRP+iPTEITf3sxWhd8p/kvP3On0+Yq/mwj9g2Vlgtge/g5V5O\n",
              "XRnfrIe5T7xnJ3vQQARdAAAA60Ga2EnhDyZTAgl//rUqgASH72BwR2di7+rXMGMvEABMSgAgvs57\n",
              "E5hZhCivBpYmRKMAMIcOlSxWyZfJavcEEe4snuFb78N+Vl7zlkNfce4Y2Ya2Af20s6Oh5CJ68Enb\n",
              "ukwvapKcaiAzrhMwkcxBeTNt/SVCTKdzIcxCepjb2wEvuAdLL2WVqlJI0yxLIUZ3ZvIt9TyU1mE8\n",
              "6gv2eoacxAAgHpdC0r9Z9Pso81xafdAadFZ+jJ7acqyGcESDij9EU8ez604JjxoJUII0xQS1x6Iu\n",
              "UQRaga0fLxPGJuRznC4+R5IOM++PlrbwAccAAADdQZr5SeEPJlMCCX/+tSqAAAQhJ0k6nnCla4NP\n",
              "BrIINvyOqKBmgUJcgEnE8Kh5Pc3ADjN4flCZjGo1Ch2xeP/7MImEe/6cdxwJgAuI4DjvhJB6NU6G\n",
              "gb/1LvfZyl1+EuQwFNbeCl7KhARbIpPpxr7j5bWEzIG7vOG93uqpR8TeELMw50XEqfZNWdlvbZyS\n",
              "V2L9T9balMidweM+e54QzY6aIn2iZjZNxUlrJHLuLdWoQOEvRPWVTyENqkViKNT+VzUIBDASknYL\n",
              "edILL870ye/bxwRnoVAhZbdr7ktSEPAAAADsQZsaSeEPJlMCCX/+tSqAAAAanb0zoANrukWgtMC2\n",
              "HgxCcPDWDY1Ug18V65U5lGsN9zRoJP+MvuSu9h8tW7Pk7rMeO7DtmOZcvUU2Ed6n9+CxBMn6lHrp\n",
              "IXTEL7BMVfIxE8S31oveXINV9KrfmeLUUkW4b9eG8nZDbelUijUwj/5XQacLvVIRnwY9c1aIXebE\n",
              "us8TwsswupHh7qrkOK/w6aeBjie3B5l4uSD85o1jftKgtlFU1+F7XrLo9wYswaXSWtMKL5938UC8\n",
              "UYLeHE4nruXsKRYJTPT2RKMkD1zsMfmfhQ9xZCoIXDAsnDcAAAGiQZs7SeEPJlMCCX/+tSqALnh+\n",
              "jmIh7cjpgABOiTn3u1TgqPcRGcAXqQ1yAww2qhyaanQa9hFrD2+Vplb5Z/np4akxwy7tJTf+C049\n",
              "9sAfbE+g76RAgr6KI7o6NhcU1Y1kEhISBt/lyb+wykuOV5zP6FdSJlhmHD8Xyzw40WV6kLIvsgf8\n",
              "y1/hA88WiEzrCoDowg09PY11R0CE8EEfANEZ0nq05wau3c5B6mbORIz8RUWSLJyZ7gN9uvGdKm3S\n",
              "ETZUwBEcDSrrThpfora1lACYsBiuq9yJWDkhyJ07tfKfsERobcJUjUjRIs6YHq/FY1yojphVoWBB\n",
              "IUXZ19XQC5F6yPQcgTmYcbtLdqs7cOxFj4BO+whH0VE2AU2J8YcnguV41nSw/xvv0dmwqUwnx7v+\n",
              "hfP7Blpdk65f/g6WB5FJRDY4cpO0hfyDZCX9tmCNLmt6eSUBolkozUD3tA36jGfNLKKUqpPolYW/\n",
              "rhEK1emL+GN1iINrw/NXLMncx7IQ5puQxDtahQ7Ludxyfsc3LZSEhEIxnWutqylu7aiEQDQvVGkL\n",
              "aAAAAQVBm1xJ4Q8mUwIJf/61KoALuVoOAL1IcRUeTDlamFeihz3vi5zHqDh+vxQutef+3ynRgdkz\n",
              "kmyW7wkZKjBd+68AUc1Zzt9Hiw/LfP+b9JUzIz7kH/7zROZSKYqYdqBSHWW3p50NF8sXu5Pm3E2S\n",
              "/Af//brkSHlusHoIXDSGgxdjWROr1I1HjeAsnZG1NMmmSJIe4bFWVsjeqrlATVbufjhgwoWw1yWp\n",
              "iNBft1kOkcwL1/FP1wwcyiWlhjIKLDSdpkPGl7P3GZzG9OVXIJNFCYRLoxO6Hl0GlI0BkeDWN14F\n",
              "EA8W/4ckeVP7bvXV4EupCqKP2t/AYIOn6tHBrQ7KPwNrqv1QZ8EAAADHQZt9SeEPJlMCCX/+tSqA\n",
              "AAUnw1hs+6s20y8hM5wAjDiMXUx3nitAn0FhS8/txOT/zgB0NfArEF8OBjRlShMTmnlmTLYuPxU1\n",
              "GojEeh0Ttty99ocdQww8RRP4xtl2xbDxb6Qatx3jhzBA54DZtaj9yT68HJ+H1TYINy21Nb+IhBPG\n",
              "74euTo7PvLIY7S+V+8V1TZuUtx0otfhXgUrj6sH2VzqBX5Tebpetar+bQmYhI0jUjsNb0G8XXmkB\n",
              "2Ygt2RCqawF8mFAJOQAAAOZBm55J4Q8mUwIJf/61KoAABKEnSTqecKX+BAB7TkupoD18T4BTg5U2\n",
              "cBJyt/nEGEOHSpYrZMvktXwRCn3Fk9wrffhvz7nMzNs19x7hjZhrYB/bSzo6HkInrwSdu6TC9qkp\n",
              "xqIDOuEzCRzEF5M239Y6iVsbTowYQPUxQ7YCX+dTLhT7KXswzZ0svXKjA+YSzMV6x+Qw1WfjOmeo\n",
              "acIAAd8/41sPiCfZgF+XrpQA06Kz9GT205/W/XXLgkf6MV+0zOtKuS6cEwMhUIQvah857PfXKIKY\n",
              "mjqysAMTFMH/XPlQ+CGOUwoBSQAAANtBm79J4Q8mUwIJf/61KoAABCEnCwDBB4wvaWmwTZq0znd4\n",
              "P/jF8+lwyUXLDe3jZPbm80wcYstm9EaWxPkdDAcseT6A//2wSZwfF4SKy8CcujHp5jM2xXIa8R95\n",
              "YuO/UyUdffoY/TTcKNesSOZTPux4obW+Qch38YIBhKwucVk41XJynL2OovgRmSla1OnY1ZZSPSR0\n",
              "i1IoWgl21AvtyNV6nYgzEVsf2UzRObPyNmFrvv9SbFj6b90pXfoBIZ3ADc5NLyBiM+FjSwIAiwYm\n",
              "ACpEYoF56OxQNNPcYr4AAADvQZvASeEPJlMCCX/+tSqAAAAanb04EACemOexrVmd/uBqvp7/Gzhq\n",
              "otmb4vXKnMo1hvuaNBJ/uzNy1r6obfyzKf5Ots0BMLfmVEJxQCgDvDbvy2dN0IzMgxgXbP2+9Bt5\n",
              "wHXnQPPCVFprN1B1HlPDE+jdv/LRAm4feWBJe2BWwwbrPMa8VolEXdPJ+HfDi3b0/8IY+iW7W7uY\n",
              "Q/PaVQPweC8Lfp0/pE6FSRYTjLfO0xIDzlILiC07f0E0sJlHvCTbGczKtCVlAG7lIRAHiTDsFmUe\n",
              "cqXUJpUiUYXmAJ+HlqP7f/aytrKzeWYIVOY4pPkAAAD1QZvhSeEPJlMCCX/+tSqAC37+rbJguwQA\n",
              "FSwSEyNi5x1BqIJzdbWteHBz8TOjfI2R8xMXPv15P9RJZaxB5q3u8ofhJUGoC42ieBGVjzC0La6s\n",
              "YgUKXY4IABBniq12a9cv9g8OZHVfWqC8HWke7y2J/aJ1QLWEXMEQ31mhGIfyXROEz8XK2fLIa4Ed\n",
              "oJi4eOPJALGJno4boZHno1F1pN9V6QoAxxcBCmjLdUZn5tbid0IUWSZ6YFdX6t3lO2ciyE0HFPq0\n",
              "n9a5L/TuG+1gEwteoEZ4cIQOAU+fEdGhRFO0K6eBF88uoOgYuH4ysPs6oama1fhuQakAAACyQZoC\n",
              "SeEPJlMCCX/+tSqAC3FFmgBGW0nu2MgnVzMgHn9CpPofIrGezYnxhyeC5XjWdLD/G+/R19BHRq/Y\n",
              "Pf8Opd4GGn58Uqv/wgsA8i7rnYQUDZZsggiAhL/m999+wWFKfnpi4W34l/tD1sxXbN2hBVyrNWRn\n",
              "09WIa5n004BUVJ/2Y9kW70mpSid0d8fgIsbzIfXEK1nca9LZ6jB21jedRGQR71trxDhREtvIMgvf\n",
              "hS29vwAAANRBmiNJ4Q8mUwIJf/61KoAABS8PIYgDW2+f836SpmRn3IP/3micykUxUw7UCkOstvTz\n",
              "oaL5YvdyfNuJsl+A//+3XIkPLdYPQQuGkNBi7GuRYedf98v5AFk66CX2SLAASRUPqFtiy9jExH0/\n",
              "rHP6qZAVRmYZe2Qm5qymkdBd0ZMPrPgAp8ihrXrFUM12ioWVa0XkdGyf36M9GzO3xiJHs6hgIswy\n",
              "WkbhFb75lHu6dSgZyaugQc1g2ZHtQqQmaNLtfYcYSkX0uGG64lriq6EReeWpdxiNgAAAAE9BmkRJ\n",
              "4Q8mUwIJf/61KoAABSfDWGz7iCtrvwDn8KkIGNR5Yxz8D6GpwZ6uFv1aIABB+OLqP9yqkYeDZlOx\n",
              "/nPOWVff9rVS0y555eCIkG9BAAAAU0GaZUnhDyZTAgl//rUqgAAFJ85HUADmRzE95POGdcnfr4/I\n",
              "LZakM/RLey1zS0JUSU31jseE0vErjKqhcC2zr3FgTLCmFNzHdZRuqgZqPJWhxiNhAAAA50Gah0nh\n",
              "DyZTBRE8Ev/+tSqAAAUnw1hs+4gbUnyEznACwZEO3TXvvNEi3HIIU2Cf24nJ/9mQPG28aDf/jtzu\n",
              "ohCAObvEL7P4Vn4D8oZICsPtofzbwzjvM/INDed5dZCPrdFbxVEt966xsdRahFutjL1FcGrzf9Zn\n",
              "HMnsT2jUGuND7Udz6xDBTpLRYAJZ23Ix+qYde1BSWBmBGj2VjT1pOzK51Io5uMdjByfvC2IoyqOJ\n",
              "BunrNpLi/KtAN/ThvtoVwz13xTIjIGXMEJhI3SCP45uSrSIzwB8iZHFWHyoHm+eWwc19rPAGpQAA\n",
              "ACMBnqZqQ/8ADL9MQIyniR8UwSR8amOhEa7kuw/yeOrJQDwCLwAAAOVBmqhJ4Q8mUwIJf/61KoAA\n",
              "BKEnSKXsCUSBAAFn/vVeW6My+5onMeyYqI6m60gIQEowkOAH1z0idN6el7EAjBcjNzOSeu7l9AHr\n",
              "CUZZDX3HuB8421H4vN3w9dD2oJ+SEnaSiO3PQJel00zr4FAuNa/VcrMDFzqtmxtOi7TcbKgz5n28\n",
              "hWv3voTTuPBq7P9fKW/BOGHkOH5xJHE/OkpIAAN51+xMPUNQRJ3PwR2SS3c9cZm2ZpW/DtcXCukf\n",
              "5nJFUOMW5wQwNqNa5/kS+MS2R6IuUDBagE0e78TovNnehS41TOTCgFJAAAAA2UGayUnhDyZTAgl/\n",
              "/rUqgAAKT4cMGsbb/X4Uypst5nMPsp1GdR5rN2i0lcGA30S8QnafIAeYhABGLeH5QmYxqNQodsXj\n",
              "/+zCJhHv+nHccCYALiOA44USQem9NhA3/p9noVcf/hLiKBTcGNvHIH7WUzXifHzfsJmWcdBNN1ev\n",
              "PrsE7c/KVwYXigP/R+2aRe2umkqMUqD5prBKDkNFEe828PCLtLcSV9O4ccDIu09w2ieIMKrkdLY1\n",
              "ANLsB6VHFKZNWMgjzo/i12U7RKcSuCM890nDzEZvuS1IQ8AAAADUQZrqSeEPJlMCCX/+tSqAAAAa\n",
              "j9GWwACCfFI2GAyf3A2IQRKF63zCd4Prm5VHlC9lEL5f5GOUSCleQJFldUxXZAQz2j+TNBm/zFsy\n",
              "7gyEVwvfetWFnLe7Dv/RKrrjpIUjl4BoX+4CSiSGGYETBm2N4Vp79LVtPa2tH1IoL3J07L1+FDsV\n",
              "FNCnl8Z47wylDeHjNvj372ENNkgziMUXUo145siqSjPfNMpta6nysmTN/v8c5AUXJQbgn35LGLa4\n",
              "K5u9LcKM86JFHCMVVHCN62V7RM/fTNUAAAFPQZsMSeEPJlMFETwS//61KoALfwYbH7tCNjMgBuC5\n",
              "IOhRZnVB/BWaC19V6aPG+QbXe4H4vsm5NyQ9uT7gPzUdJc6wMnqP+4nAT7b07FjieY2je4wwikET\n",
              "Z6smn2cxYyaVwRJEWW1jd701gWjvFNvRxauZi/9dkd5AzEQxI17bbIEE7DQFrhvBp/q/APlHpFqX\n",
              "wsMZxPaiI0/pfvjImWvXh3+myY/D5WAc+aakD2UHPDwp3wW9b+qg0L430RiY5UtCMPPKAx4Nv/gu\n",
              "/0rAU57CmqF4Zq+g9ugXwGoNyA0EEghxD6GgAScRS7gkTgnGeQDKYYPERGTCdOuYv+3njiNVH40j\n",
              "NcmUPjkvzPpaJKk8NEj0YU8YXkhYM+OUsu+anQkYlEEt65ZQY4wo55eVKOE5tUy5Z/vbOlPrWSGq\n",
              "6yzLL4vfJOIhZL8iw4ABEotF+2AAAACPAZ8rakP/AB8MFJiEJn3SXsG1MF2Y5qUgAXKk9cPZGqql\n",
              "XieUsiES5YnTXekvGDsMOkIQGgELWX538BbnJRsMrcmMNni8JAREc/GMB4hrmIWM0euou+pTBq+w\n",
              "pq4nJkjV8vIOoMGs3MT0Qq2+nY+MYZsOs7DyEB8mDKeyuE0J977FZ58rHQABvBAOyrPMlAIAAAD9\n",
              "QZsuSeEPJlMFPBL//rUqgAtxRZoARloyekGVWL10A7/gZFmKkgApkvbDZqkyl2v/MQDAe+e0hgg0\n",
              "2APISJcOo6DQbJ9Ckyqe8pZd7nmIJmR/4QW0TmT12SJ8fgMR02wQKWaLd///cYE58mp238VoaSo+\n",
              "MmEQEOqzvI8uxATHa+q6oyTO1b5KAxr9Z0VQThzE7Yht1B3IzexBmpwFCm1mZpL85vyVuEyh8aTm\n",
              "2SGyD1LyiDW3VVMlKlNNfl3tt5+u9XOjguLY7o0qUiXhQ9JG72QIIOWKef/8Vt5AEKZCIhMrcPnf\n",
              "muMAnb67pPdjGlhrZ01BPu2jC7tGlfE5UQAAAJgBn01qQ/8AHhXSIeJtHTm1BxMG45+YXydtKo/m\n",
              "nO9ff1iSAGmb3g5TaORk7+TKRRaDl3LjOgrDX0FJ9+ST14Vmj4sKQa3krX+I3jsaVdKipGYVxqN9\n",
              "NY4si1L9VJh/bX6ENcTujq6x24Uu+FkFxt+5K7EJlKs7sRGfs8I38DEwAd/8VXuzbt/6lcdqIEVa\n",
              "Fo0nTGrvYdyz4QAAAMlBm09J4Q8mUwIJf/61KoALN9EimQAB55Sf6hDvL3gA5e8O8OkhYouIJ1cY\n",
              "jEd/0JkOzCCDeX8XLLq4bMxI0oHUPjquggzhzXxggscbr6ewX+8b2J2+xyj7gCCQ4Wje78mHhOn4\n",
              "KxM06E7Z/842RODYZGrBTXI1jG1bun8sK8xJ2AIu92OAJgf+XwCx6AqMiHsCVwyfgRq3Au2eD/8B\n",
              "Pm6DgIOfijbQnXfqtDW6gzEzgiESSlhOhRU2nMO2TQNnmk5AziZcM2PnveEAAAC6QZtxSeEPJlMF\n",
              "ETwS//61KoAAAAMA+Z7kVvbg9eEDl2aIAgG2yIFLb5hKJDLHHso1f+5xPgR8WAR9U9JY63VVuJv0\n",
              "QOvAe0EiFwM58S+oc9y65wmfi7F1lk5r0loFmyLtJSvidkxFmnKAMc4f/iXO3ynjJRQI5Gfw5AJA\n",
              "GvARQgezJDOem8d3fh5P8iyE0HH8U4jzkWsQErGC6h9+17aaJXlTAZwH1Rc2JW0UsNJ99ZHKpdPZ\n",
              "9AuOWakgAAAANQGfkGpD/wAMv0zbcAIa+zqtGzQqxut8Z8msMngRrNP2HQ4PGuaq7/2B53e6M/kw\n",
              "AuFMIXD0AAAAqUGbkknhDyZTAgl//rUqgAAAID7xJABCdiJ/ggGrMOkiOSh46ZHp6P8b79HcTxiV\n",
              "XtnijIjhybgy3QIEK//g6Wbg7xOtX1Bc9QBfwTZCX4YYI0udzXcNvN37/ghh4qKHoo4BIGm7Dmrq\n",
              "SR9H1UM1ewv/LAaPSkvUlJZwFjCAISx7QmszWgvpwrD65v83KHDDNsTQ0+ym5NyylrowOKWpbr80\n",
              "eF8yPrdh5VEAAADZQZuzSeEPJlMCCX/+tSqAAAUsi/KAAhO3z/kpGcyHT7/9zROZKIf6F9/y3WkA\n",
              "L4lGEh2u11t1fOw+r/wuzlKP8Dzy8Q9y9UwJQuudgAATxqxk65Q2SLAASRUIVEtiyxiShMpdz1b+\n",
              "J/7z4ZmgItkLGafbOQO1ELHE6z4AKf/obd6xVJtdskNg6iuZexDsAJlFpHLNM8IONFFzxNLnT1W1\n",
              "N9/V/GqTJf9UbR/3PNNxlZ0rRrVHXx86DSRAR+kxXqWsdhxyuS0h8iTtkIbOXhevOa5ZUOTpNspB\n",
              "vQAAAM1Bm9RJ4Q8mUwIJf/61KoAABSfDWGz7iBtSfITOcAIw4jF1Md54rQJ9BYUvP7cTk/84AdDX\n",
              "wKxBdzuohCAObvEL7V2eWss+SplEOj0OidtuXvtDjqGGHiKJ/GNsuyJYOn3p755uNc/PS72A+nhY\n",
              "MYYeqHKA0TXIQvgrQv6ADQKimaSkIFu/CGAIYdLBC4dUcH9Gu44YfPCQY2MFGlKTo9ODoryD/tde\n",
              "aMOMWXwk5vo+KyhNvbwTfCxoNqcqooHL+wHLOx3Ot2XmZ/ZxqLuAAAAA3kGb9UnhDyZTAgl//rUq\n",
              "gAAEoSdIpewJRIEAATEoAIL7OexOYWYQfbwaWJkSjADCHDpUsX4Li6H8zXpT7iyhvSoQKxK1bxHh\n",
              "doYzieJ8e4Y2Ya2AUP/lsWt2PsTJdnbukw0UAusaHfmXjVbuSxvkjQ4bVzhhwRxWMGDbuufAo5ad\n",
              "BjHxCgZK/Lh/2d/zlaMU2ZFuPTmkL9PUcC7g8a5Y8KOdZGDB4cCfopsbZPaxUxK0zR3LRf1b9Wtj\n",
              "PYI9dGciN4VmoT+SLoegJCTFaYlEwhprGClYT74gZDZyYUApIQAAAMVBmhZJ4Q8mUwIJf/61KoAA\n",
              "BCEnSTqecKVrg08Gsgg2/I6ooGaBQlyAScTv+V/YMAAWcaPU1hgeozTimhFRInwI+Kag6YHEkIxk\n",
              "Ncv4bgcjvlJb6ysVgSiGAy4jhfOx/iBTSw/n6NMseSZpgPW5MMETt4t73TQIgIY0d3kkq8dCtNgJ\n",
              "ow/A+i0WVUU6SjcSkjTNL6FlQEdkQRzO/HjuTKA5qQ3zSkU93yHX24pTbZ2+3pCikohQCBzLazPT\n",
              "y3W3GTaqN3GK+AAAAM5BmjdJ4Q8mUwIJf/61KoAAABqdvTgQAFfWGjAsaaHbKw9/jZwU4BcD6004\n",
              "uvKy7jzD9qdH4mP3We4wKY/UoA3WwITF79n3Ds7jH8ThW5R+6zoWQUcdKAvVgxnebPqC3U5a16PS\n",
              "lb+tCpIZSymASEg2V8xdX9+S20o28CCfQJZhZXM7k52B6/ui74sxDspbnmZiXNt3bK72OtJAZqFT\n",
              "qURuaTAp49jlz+c+0dDC02Xq/9056A3Z65ESD5dK4Ggun9EHiXk4CpOUIjBLgT2sNwAAAMhBmllJ\n",
              "4Q8mUwURPBL//rUqgAt/Bf+zMJ+TQtkAHyTkdQruUDvt9noHBZYH9WnAL06I/FbTyp8CUR5C910T\n",
              "Y3dQ+49w+OLE8v61rbbwc399dRVT6UV7pKnr8du4eD98B9Mn49Tm3wPJxQDWQvRero61/Nl4qZ6p\n",
              "SEhoQsoIjD639XXv2SVx+tt746TH2CFZrS+MISfpplD4PmVlwtvli2cQTen5MLp+XAvGID5yUkw9\n",
              "GiE+PXgspMtMUgAjLs5R3HwxOCB1qrcNYQAAALsBnnhqQ/8AHwwiHFiA66z8TlNBUKhvvOqAFua0\n",
              "HTCmyFMLdEwBT2FR+Sz+T24nT0xvaA+XrufiojkO88txq/BCepQQxDCbUozKNGjKpamr//L+g/C3\n",
              "+yTMSLRWXWfcjlEegA4Rf7qf4+1FtqQ1mEMHGxXgBWQqGNrCOHAFpbrLD6uUAAjajdvSmVsA8GMn\n",
              "SZRFps23hiYEfei6r5mr7YHoO2HYysjhXbMvQWNg6Q7xuwAABSRuMMYVrd+AAAAAZkGaeknhDyZT\n",
              "Agl//rUqgAtxWg4ANeuVqaR4my+EffQkD+osYwJGDkHM9P9xudZWckEOxSs5G1+lnS5bBHTGBocV\n",
              "JBHFE4wlCbyUuNpBf+FjY3p2VEUzWfDAVXmKlwjGSiJmTHbB8wAAAEhBmptJ4Q8mUwIJf/61KoAL\n",
              "N9Eio64+zomQHvwOHwCLvdlpn9RiAVZ2IAAsaVfPD48oC+qY2Od91Rn6yObWzDXQeOlfw6kxBjwA\n",
              "AAE8QZq8SeEPJlMCCX/+tSqAC38NdZjYuU+QACc1tsryJksW1TxqhlHu5jaK7b2Q6tF1njO3jh04\n",
              "/2ynqvl4Jk+v7UIwQ4k/s3/l7LP2gLGJJtjtFRX3+Q1xlijC+cgDNXPik1kjbBC5emCfY5QFhwyG\n",
              "t1/XWdBvGtnbJW899SEQGFX46IH00yovyobs45f9u8OYyYOER1NpIuzOn/nCZiPHrO5bXFRQ46B6\n",
              "naZQNTvCaOF7T0DrjAgIne+9oxl0bVXtaNRBz4nWzvvLE3WolJz7HiWyOrJmSe2TignLDNQZ5t0x\n",
              "q2atNQnjxCdioztFMEJLJIGUh/f0xN3gTeAGLEwuGHek3IVBd7jiSLwwwUnV00JKee3DRN3a22wO\n",
              "zriTjKVvXxf/DIck1PyASpPw633DuLudl4DQTalz59y8cQAAAONBmt1J4Q8mUwIJf/61KoAEgQyJ\n",
              "gjtDDuki4ydGbpTkAHvK8j7x/UD9+jii8Fi3bw19G6I2Fdl+t2KsD8KnlrKG0N2IxrOCjXE8T49+\n",
              "Hsw1sArgcbs1BkcgUOsNL4FJhyV2GN4Mg5/nLEVwTqOt0JYI9a7Z2n5kuwLe2JhdcGPlS+So9QwQ\n",
              "cxqphQffpOrDFYrQR1y/uwRvvfMEtq85zPLI0NTpYACi4opcW7m18TmJe2ofE7dpEJZYaZ/+hhCZ\n",
              "tTRKhBr5ln1mBLc6Lc3A54TiuN3YKn6oCeubi8+RlioWhh+vbQAAAMRBmv5J4Q8mUwIJf/61KoAE\n",
              "p+9gcEaU41Nad6Le1i+6BEZYPvNRVj0+sWiINNjuDb1MPwMAAS9uDLVhQse3Ry9reHMjqrkixZ7r\n",
              "Logpdb1fYBRPc3fXYV2C7oMqipoK6EBZKhQgmWvYofP+LiHSM9UcmZrR+oniRCN5trDy1uDoszm2\n",
              "epP2CvnnAYJOUI8i9y3p1DLke+NIyxeZZPC0oc72weiusRmIY94ox+QbxgLrxbrn+q6/gHK3OHl2\n",
              "D3A+Dr9kThxwAAAAwUGbH0nhDyZTAgl//rUqgAAAGqmNcCAAl7cGUDWO7R7vSjmOD3lGZnWqS4yv\n",
              "YvBl4Sx/RMbmOSDgaA50cPqBe3ZmRbw+MnHEHxegfxPZKQrwjYjKKSQwhVF6v+KGz41pI2mbsb8S\n",
              "gR/xa7uMCB3tgw94goUdngvelTa3bptWNC8+KNs5CxxEOEZBBeUTegM4a8DBwXjbP82GrRF4qz+c\n",
              "+0dOTCAwt2IMT2AGAKbTrLQ6+M14/rSAXpKjMcKJ5Btk95AAAAE1QZshSeEPJlMFETwR//61KoAL\n",
              "fwE1Vd/CO0XAATOBuCnlL105AYZefb3q0IIasWSV5a37tdTdRzdhZXDH+6qVh6I4ZuCM4kTEv/y+\n",
              "cEPtmPhmkfCbWFqC+v0z86O4ff+PB7oc3y+tMPxnz858cjQ8cFyOEoNjSUWEQxKv8fX4B8pJStvs\n",
              "GT4x026kia1UZL3utl5oAwabU3pNRyZgDeJZUlBI+4pb0n9IB5t79m3g1meE6/y8hHB0+DuWO4mn\n",
              "4hQDS9jTIbdzHV3fBvk//6kuP2w/bD5M/BBj2nvJ7hvBpDql3/5EGLjoh5HvUDMF38pWKfXqD6LD\n",
              "+gq0HfqBImRKOIP1RAPKKeCufZ0mQnNArKvc8H9AdhRZcEFdHSIazF8L/HRfQnDiXlxdXRuYIEOa\n",
              "YIxQgV01AAAApQGfQGpD/wBO4NoOerbCq/JL+x5hQVGAEqm34SfIdIwtIvTvmlxk3xhxDr1QCS+v\n",
              "5xb7v3ejZeU8eC1MDc2XODw4nmHpFWM5nt669OHa2kAMK7WAwgKQ8jXtMG2Od+J3fL3KX1b3D3jv\n",
              "tKEOElel2km+5w4RhFUQ8DkUAL2MQTlmdkYd8mxtS4gbz0l4YRMzo1oH/XE/Xk/Gw6tiAAQU5Brt\n",
              "gzv+CAAAAMVBm0NJ4Q8mUwU8P//+qZYAW4Js70BBQ/6HpZmjfP/SlmgZF+OsCkn4l5eF1Uv2QB3b\n",
              "Y/CAqPKr+BQAXA7oYz4oEq/x0bwE3vFHz3oYnyvg09WVNcS1CWbtEr+ggK67oRfxoHiavvj2dP74\n",
              "oHaed0sjSUC4xwvFDhCHwjLDutwRL1m7y0UnDBVR9GdcBuYQYn+nz2xWyi5JD9iQMqqAoUl6hld0\n",
              "xULEuN6TM2h+fy+BRdyQkPUhTMY3byGIxW4FlHPLVmC1MQAAALEBn2JqQ/8ATuVoF4qNnJXEcHwa\n",
              "x23vhs1Z6VL7TMqSEPUQAz5/8HGrfcCMlC2liZqq9drxTCegrDX0GauH19NtyPULeR4dVTbG8zia\n",
              "WsNNjNzDttv9TkFrtp/J6A5BiJ4wP7hHokSsfDp2ES5mEcAQFDevDGeOEpgwVRGfs8IoQXOiHWph\n",
              "uBkV0LMGHrKB84GDUxjXs5WAP1cRKeoHnoPCChjLjQ+681Kn0fQtzrus6u4AAAV+bW9vdgAAAGxt\n",
              "dmhkAAAAAAAAAAAAAAAAAAAD6AAATiAAAQAAAQAAAAAAAAAAAAAAAAEAAAAAAAAAAAAAAAAAAAAB\n",
              "AAAAAAAAAAAAAAAAAABAAAAAAAAAAAAAAAAAAAAAAAAAAAAAAAAAAAAAAAAAAgAABKh0cmFrAAAA\n",
              "XHRraGQAAAADAAAAAAAAAAAAAAABAAAAAAAATiAAAAAAAAAAAAAAAAAAAAAAAAEAAAAAAAAAAAAA\n",
              "AAAAAAABAAAAAAAAAAAAAAAAAABAAAAAAkAAAAGwAAAAAAAkZWR0cwAAABxlbHN0AAAAAAAAAAEA\n",
              "AE4gAAAQAAABAAAAAAQgbWRpYQAAACBtZGhkAAAAAAAAAAAAAAAAAAAoAAADIABVxAAAAAAALWhk\n",
              "bHIAAAAAAAAAAHZpZGUAAAAAAAAAAAAAAABWaWRlb0hhbmRsZXIAAAADy21pbmYAAAAUdm1oZAAA\n",
              "AAEAAAAAAAAAAAAAACRkaW5mAAAAHGRyZWYAAAAAAAAAAQAAAAx1cmwgAAAAAQAAA4tzdGJsAAAA\n",
              "s3N0c2QAAAAAAAAAAQAAAKNhdmMxAAAAAAAAAAEAAAAAAAAAAAAAAAAAAAAAAkABsABIAAAASAAA\n",
              "AAAAAAABAAAAAAAAAAAAAAAAAAAAAAAAAAAAAAAAAAAAAAAAAAAAGP//AAAAMWF2Y0MBZAAW/+EA\n",
              "GGdkABas2UCQN6EAAAMAAQAAAwAKDxYtlgEABmjr48siwAAAABx1dWlka2hA8l8kT8W6OaUbzwMj\n",
              "8wAAAAAAAAAYc3R0cwAAAAAAAAABAAAAZAAACAAAAAAUc3RzcwAAAAAAAAABAAAAAQAAANBjdHRz\n",
              "AAAAAAAAABgAAAABAAAQAAAAAAEAABgAAAAAAQAACAAAAAABAAAYAAAAAAEAAAgAAAAAQQAAEAAA\n",
              "AAABAAAYAAAAAAEAAAgAAAAAAwAAEAAAAAABAAAYAAAAAAEAAAgAAAAAAQAAGAAAAAABAAAIAAAA\n",
              "AAEAABAAAAAAAQAAGAAAAAABAAAIAAAAAAYAABAAAAAAAQAAGAAAAAABAAAIAAAAAAYAABAAAAAA\n",
              "AQAAGAAAAAABAAAIAAAAAAEAABgAAAAAAQAACAAAAAAcc3RzYwAAAAAAAAABAAAAAQAAAGQAAAAB\n",
              "AAABpHN0c3oAAAAAAAAAAAAAAGQAAApPAAABqgAAAJoAAAECAAAAowAAALMAAACyAAAA7QAAANoA\n",
              "AADpAAAA0wAAANsAAAC6AAAAVAAAAX4AAADcAAAA7wAAANsAAADKAAABLgAAAKsAAADmAAAA1AAA\n",
              "AO0AAABLAAABBgAAAOoAAAEAAAABZQAAAOcAAADtAAAA5QAAAPQAAADHAAAAUwAAAUUAAACiAAAA\n",
              "WgAAAFgAAAD2AAAA1QAAAP4AAADaAAAAUgAAANUAAABHAAAAXAAAAPUAAAF9AAAA2wAAAPoAAADi\n",
              "AAAAtAAAATsAAADeAAAA0AAAAO8AAADhAAAA8AAAAaYAAAEJAAAAywAAAOoAAADfAAAA8wAAAPkA\n",
              "AAC2AAAA2AAAAFMAAABXAAAA6wAAACcAAADpAAAA3QAAANgAAAFTAAAAkwAAAQEAAACcAAAAzQAA\n",
              "AL4AAAA5AAAArQAAAN0AAADRAAAA4gAAAMkAAADSAAAAzAAAAL8AAABqAAAATAAAAUAAAADnAAAA\n",
              "yAAAAMUAAAE5AAAAqQAAAMkAAAC1AAAAFHN0Y28AAAAAAAAAAQAAACwAAABidWR0YQAAAFptZXRh\n",
              "AAAAAAAAACFoZGxyAAAAAAAAAABtZGlyYXBwbAAAAAAAAAAAAAAAAC1pbHN0AAAAJal0b28AAAAd\n",
              "ZGF0YQAAAAEAAAAATGF2ZjU3LjgzLjEwMA==\n",
              "\">\n",
              "  Your browser does not support the video tag.\n",
              "</video>"
            ]
          },
          "metadata": {}
        }
      ]
    },
    {
      "cell_type": "markdown",
      "source": [
        "------------"
      ],
      "metadata": {
        "id": "4Tn8pyWoTsIe"
      }
    },
    {
      "cell_type": "markdown",
      "metadata": {
        "id": "A-wc3BueTtO-"
      },
      "source": [
        "## 5. Actor-critic as a general model-free control algorithm"
      ]
    },
    {
      "cell_type": "markdown",
      "source": [
        "### Motivation for the actor-critic algorithm"
      ],
      "metadata": {
        "id": "NJy0Mz1XAmB9"
      }
    },
    {
      "cell_type": "markdown",
      "source": [
        "While Q-learning is certainly useful and important, it is not without problems. One problem is that the Q-value function is closely linked with the agent's policy, creating a conflict between exploration and exploitation: it is optimal to be greedy when $Q$ is accurate, but better to explore different possible actions while learning.\n",
        "\n",
        "One possibility is to accept that, given a Q-learning strategy with a fixed amount of exploration (e.g. epsilon-greedy with a fixed $\\epsilon$), the agent will randomly take bad actions even after learning; alternatively, one must come up with a schedule for reducing exploration with time. This can be done, but it is hard, and often very problem-specific.\n",
        "\n",
        "**Actor-critic architectures** represent yet another alternative. The basic idea is to represent the policy in a way that is independent of the value function. For example, one can use **action preferences** $h(s, a)$, so that the agent's policy $\\pi(a | s)$ can be written as a softmax expression\n",
        "\\begin{equation}\n",
        "\\pi(a | s) = \\frac{e^{h(s, a)}}{\\sum_b e^{h(s, b)}} \\ .\n",
        "\\end{equation}\n",
        "\n",
        "The action preferences need to be iteratively updated, for example by gradient descent (the value function itself serves as a suitable objective function here). For more information on the technical details, look up the **policy gradient theorem**."
      ],
      "metadata": {
        "id": "q8YOpVtQAmHV"
      }
    },
    {
      "cell_type": "markdown",
      "source": [
        "The 'actor-critic' designation comes from the structure of the algorithm. The actor corresponds to the policy $\\pi$, which is parameterized by action preferences. The critic corresponds to the value function $V$. One can imagine that the critic computes a prediction error, and then feeds this information to the actor (\"Do that more!\" or \"Do that less!\"). The actor then adjusts their performance, the critic offers more feedback, the actor adjusts again, and so on."
      ],
      "metadata": {
        "id": "tzTflXjzKr1H"
      }
    },
    {
      "cell_type": "markdown",
      "source": [
        "### The actor-critic algorithm"
      ],
      "metadata": {
        "id": "JyQi58HhASpu"
      }
    },
    {
      "cell_type": "markdown",
      "source": [
        "<center>\n",
        "<figure>\n",
        "<img src=\"https://github.com/john-vastola/RL-at-Harvard-tutorial-2022/blob/main/images/ACalgo.png?raw=true\"  width=\"800\"/>\n",
        "</figure>\n",
        "</center>"
      ],
      "metadata": {
        "id": "tjNBwuGdASt5"
      }
    },
    {
      "cell_type": "markdown",
      "source": [
        "### Actor-critic implementation"
      ],
      "metadata": {
        "id": "lqD7TDliNa4C"
      }
    },
    {
      "cell_type": "markdown",
      "source": [
        "**Implement an actor-critic architecture.**\n",
        "\n",
        "**You need to implement both softmax action preferences, and the function that updates values / action preferences.**\n",
        "\n",
        "*Hint: Note that `h[state][action]` accesses the agent's preference for action `action` when in state `state`.*"
      ],
      "metadata": {
        "id": "sRD94a_4UPep"
      }
    },
    {
      "cell_type": "code",
      "source": [
        "# Given action preferences h, selects action via a softmax.\n",
        "def policy_pref_tabular_actorcritic(state, env_params, policy_params):\n",
        "    action_space = env_params[\"action_space\"]\n",
        "    h = policy_params[\"h\"][state]\n",
        "\n",
        "    ###### YOUR CODE HERE\n",
        "\n",
        "    ####################\n",
        "    return action\n",
        "\n",
        "\n",
        "# Implementation of actor-critic.\n",
        "def update_V_and_policy_tabular_actorcritic(move_info, policy, V, policy_params, learning_params):\n",
        "    alpha, gamma, dt = learning_params[\"alpha\"], learning_params[\"gamma\"], learning_params[\"dt\"]\n",
        "    state, state_new, reward = move_info[\"state\"], move_info[\"state_new\"], move_info[\"reward\"]\n",
        "    action, action_number, num_actions = move_info[\"action\"], env_params[\"action_number\"], env_params[\"num_actions\"]\n",
        "    action_ = action_number[action]\n",
        "\n",
        "    h = policy_params[\"h\"]\n",
        "\n",
        "    ########### YOUR CODE HERE\n",
        "    \n",
        "    delta = ...      \n",
        "    ######################\n",
        "\n",
        "    pi = np.exp(h)/np.sum(np.exp(h))\n",
        "\n",
        "    for a in range(num_actions):\n",
        "        if a == action_: grad_pi_over_pi = 1 - pi\n",
        "        else: grad_pi_over_pi = - pi\n",
        "        policy_params[\"h\"][state][a] += ...  # Policy gradient update   YOUR CODE HERE\n",
        "    return policy_params, V, delta"
      ],
      "metadata": {
        "id": "MkYpO5sdNbBv"
      },
      "execution_count": null,
      "outputs": []
    },
    {
      "cell_type": "markdown",
      "source": [
        "### Actor-critic evaluation"
      ],
      "metadata": {
        "id": "iwIeX35lAt_5"
      }
    },
    {
      "cell_type": "markdown",
      "source": [
        "Let's test the tabular actor-critic algorithm above on our gridworld environment, and see if our agent can use it to learn good policies."
      ],
      "metadata": {
        "id": "nsH3K_vdBFZJ"
      }
    },
    {
      "cell_type": "code",
      "source": [
        "# Define learning parameters\n",
        "alpha, gamma, dt = 0.1, 1, 1\n",
        "learning_params = {\"alpha\":alpha, \"gamma\":gamma, \"dt\":dt}"
      ],
      "metadata": {
        "id": "ylPFY_FQBFZL"
      },
      "execution_count": null,
      "outputs": []
    },
    {
      "cell_type": "code",
      "source": [
        "# Choose policy, then evaluate it\n",
        "num_cols, num_rows, num_actions = env_params['num_cols'], env_params['num_rows'], env_params['num_actions']\n",
        "V = np.zeros((num_cols, num_rows))\n",
        "h = np.zeros((num_cols, num_rows, num_actions))\n",
        "policy_params = {\"h\":h}\n",
        "policy = ...               ###### YOUR CODE HERE\n",
        "update = ...               ########### \n",
        "\n",
        "policy_params, V, delta_list, state_list, episode_list = simulate_gridworld(policy, V, update, env_params, learning_params, policy_params, num_episodes = 3500)\n",
        "\n",
        "\n",
        "visualize_policy_and_value(policy, V, delta_list, env_params, policy_params, name='actor_critic') # visualize policy, value, prediction error\n",
        "\n",
        "show_simulation =  False; frame_cap = 1000   # Optional (and kind of slow) but informative: show simulation\n",
        "if show_simulation: visualize_simulation(state_list[:frame_cap], episode_list[:frame_cap], env_params)"
      ],
      "metadata": {
        "colab": {
          "base_uri": "https://localhost:8080/",
          "height": 418
        },
        "id": "oyRgq8HGNbib",
        "outputId": "d95ee1ff-d0b9-4597-be2a-dfd7c2db4714"
      },
      "execution_count": null,
      "outputs": [
        {
          "output_type": "display_data",
          "data": {
            "text/plain": [
              "<Figure size 1728x432 with 3 Axes>"
            ],
            "image/png": "[encoded data removed]"
          },
          "metadata": {
            "needs_background": "light"
          }
        }
      ]
    },
    {
      "cell_type": "markdown",
      "source": [
        "Visualize trained behavior:"
      ],
      "metadata": {
        "id": "mFgoXxU_Wt6Y"
      }
    },
    {
      "cell_type": "code",
      "source": [
        "state_list, episode_list = simulate_gridworld_trained(policy, env_params, policy_params, num_episodes = 500)\n",
        "\n",
        "frame_cap = 100; visualize_simulation(state_list[:frame_cap], episode_list[:frame_cap], env_params)"
      ],
      "metadata": {
        "colab": {
          "base_uri": "https://localhost:8080/",
          "height": 453
        },
        "id": "giAKxKiZdCwg",
        "outputId": "daa2741e-aeaf-4696-d2dd-ab5d74a17d05"
      },
      "execution_count": null,
      "outputs": [
        {
          "output_type": "display_data",
          "data": {
            "text/plain": [
              "<IPython.core.display.HTML object>"
            ],
            "text/html": [
              "<video width=\"576\" height=\"432\" controls autoplay loop>\n",
              "  <source type=\"video/mp4\" src=\"data:video/mp4;base64,AAAAHGZ0eXBNNFYgAAACAGlzb21pc28yYXZjMQAAAAhmcmVlAABc/21kYXQAAAKtBgX//6ncRem9\n",
              "5tlIt5Ys2CDZI+7veDI2NCAtIGNvcmUgMTUyIHIyODU0IGU5YTU5MDMgLSBILjI2NC9NUEVHLTQg\n",
              "QVZDIGNvZGVjIC0gQ29weWxlZnQgMjAwMy0yMDE3IC0gaHR0cDovL3d3dy52aWRlb2xhbi5vcmcv\n",
              "eDI2NC5odG1sIC0gb3B0aW9uczogY2FiYWM9MSByZWY9MyBkZWJsb2NrPTE6MDowIGFuYWx5c2U9\n",
              "MHgzOjB4MTEzIG1lPWhleCBzdWJtZT03IHBzeT0xIHBzeV9yZD0xLjAwOjAuMDAgbWl4ZWRfcmVm\n",
              "PTEgbWVfcmFuZ2U9MTYgY2hyb21hX21lPTEgdHJlbGxpcz0xIDh4OGRjdD0xIGNxbT0wIGRlYWR6\n",
              "b25lPTIxLDExIGZhc3RfcHNraXA9MSBjaHJvbWFfcXBfb2Zmc2V0PS0yIHRocmVhZHM9MyBsb29r\n",
              "YWhlYWRfdGhyZWFkcz0xIHNsaWNlZF90aHJlYWRzPTAgbnI9MCBkZWNpbWF0ZT0xIGludGVybGFj\n",
              "ZWQ9MCBibHVyYXlfY29tcGF0PTAgY29uc3RyYWluZWRfaW50cmE9MCBiZnJhbWVzPTMgYl9weXJh\n",
              "bWlkPTIgYl9hZGFwdD0xIGJfYmlhcz0wIGRpcmVjdD0xIHdlaWdodGI9MSBvcGVuX2dvcD0wIHdl\n",
              "aWdodHA9MiBrZXlpbnQ9MjUwIGtleWludF9taW49NSBzY2VuZWN1dD00MCBpbnRyYV9yZWZyZXNo\n",
              "PTAgcmNfbG9va2FoZWFkPTQwIHJjPWNyZiBtYnRyZWU9MSBjcmY9MjMuMCBxY29tcD0wLjYwIHFw\n",
              "bWluPTAgcXBtYXg9NjkgcXBzdGVwPTQgaXBfcmF0aW89MS40MCBhcT0xOjEuMDAAgAAAB39liIQA\n",
              "Ev/+963fgU3AQO1rulc4tMurlDQ9UfaUpni2SAAAAwAAAwACEXCk3XMfRB1oUgfwVU/gCizD5ANu\n",
              "JOPMEZhMgkN5fRP47JI682aD8eqbioe6YmZMb4S5AJHYgAAB2QiaSHBAi/9YV+TK3V2XtmJDKPEk\n",
              "qv8nnhr54T4XhSSrJjmc9s2rrlxQGFK07PBGNOLEdE2pGESkrMOY5ofZGiYb/uszrU/IBGHukOjv\n",
              "rHPPDulLndK47rNPimluDigPhid2UfDsv2CSGpEU6xWehUAXA78xwnXxq43u6cvz+3NdSxgWMoG7\n",
              "g5MHdfCfX2biziwPfF6cOc2/8cMXl9z4L5nrKUUGzjyiuHJ/6uHznhmKPh9Qbgw6Q4FD1m9vD4Yw\n",
              "kmw1CvWJzqWkbIAFWxbO9aSO/GdtnpB8PEZpGauzynm546CQ/6+DyKCpwBb6rvRzdh/bqJK/dRLl\n",
              "3fRoBc8M6z1T0GqwHhIyAVTzyZK0cr4ZBynkIkSwthZyonvEMs2CaIk59AsyI4a08UGBik1Bo+Vg\n",
              "ejblaxfZzI/jjBJIHPe7vGWZMRFwswhXzD4nz5OJt1CCzBhGG9qYaI/yngnorZfiQQFhZlDQWZC1\n",
              "26Vr7lVGaubEXMmeXBqIWfNRDQMBm/Cet75cO10mW8mAKBn3l6M4+RqX6vS4NLH0F7tryW8gU9Si\n",
              "d18xoGtNZ5fhZkXd2MzCymWIm4S2gYmzS5FbJua9RX6zaIr2UGY0jdbH+jn0eoz1U6jAJn/Q+atz\n",
              "eRoxsFPjVt1AfYep/Vgfj4WXMMQiyQPzQhBs0OhsoMTWv2LHhzzJPuaWU1XB1eka7YiEM8xwLIzN\n",
              "4OLbOf8h9ySVjAL056d4fmg/uZgbj9ApB0FoFqafrIV1v6Pz8vdgK8t/6U0CHsfkyMdo4WHzB5BJ\n",
              "eHUsTg1yt2QgNGq/oR5+UC6ztDXDjQ44eeZYg76edff0rPYsy+EI5TzjvcWVKlo4VefnB1J7ojZU\n",
              "9XcO//9f1JNp77izK1sy8gadobkUfkJ5RdmUzIAvJuje4ePNLha2Shcy7L4T0/xwzYVqu7ivFSIF\n",
              "PV7cKPYVHoym9d4XdidS7l8FGjm0oIYkz6w1pddt6IU22Go91fDYsjCe3rIg5uHubvu0/MeltXGz\n",
              "s1wvDkQIF/uC1+mphXoTINohiV6fQ/5Ur+/jxvlyDYghED02uroitwREqPafOHgG2nWKBOnQdtBm\n",
              "rECibiGIUwn8KFUDY9p4g/4+7TROoOxkO7mO1Qk9d6VHwmKlBRQvNBAfWRmY+8Trqd5QYAXZYoNi\n",
              "h2d4lmhrH5Dvx6c9HU/WbimZ5YTP/8gBO7q6Lct6e1NDlpjiAncumMBrwIfvWQtuvNiDfli8SuDo\n",
              "HAD5d5iYXs971Eule1ZeM8A33ATnyeyZkFSmLgsWDO0HJxhEaG5x0tJQtOFk8LLs9e/RHcNYAD4o\n",
              "qp12QUQ7R07B5kqUQvQ/GWz0sBHb2enwENsJIPgF9LncsaNZnJl+jDZsKFf9LH7hIIEUCjv2RTJo\n",
              "phegCwS3gyuwm/19t5+hftI3OnVR9KiAgh0hIF609/YhpHB40rCRQFOuUy56OOtOlZ+L1EnAh0ih\n",
              "gSR9kp7afPV3HVTnrm72lt7ko+sF0042LBlrOE43iO371AROrdOglwRRFyM8NXhbpfhk/St0xP9f\n",
              "Wogx5xrwdpqA+0FuptFq4jOcTjlgxwKVRqC/gsD3PdMBpwYPiri1OMpLuS0exzWgzAcrE+vu+si3\n",
              "H5QgWBYxGg4XL+4NeDLMy6w2K9ou+tTXtVddSoF2Q4FCh0/nbVUvmJBnM3FnGe70Ppzzb2eyv+Mo\n",
              "30ZCVAABTvvaR7xVqT2JflyMjVjgWc/9CvhlyJ+BNrPWa6xKKOZVq2rzODtD3bUeL/Plggy9iirM\n",
              "cSnH91Vw7Yv6e6fYo9M8pylf6W9Q2UrwJw8kMbLEVuSulNo698AAXshPx+XP0blYrxUKsi1uVdqR\n",
              "A45U/v28VjHDhiBeSukKDV6wm1x2OTF2j1kMqg47/I17U8MGNbZ0/5JK7xu3xDTyEjVTwDNXmcf/\n",
              "CBDnfom+9R/PdFsoRjQEj1qfpWK6cLP/paNH8dgoeLSXuC8vRxe3vbieLHj18RTeBYRQDvKbNIwu\n",
              "RhbkLuXvu0er1hNDNcJ1xp2NpFckyGk5XbDdPz4oF53RjpGIOldgc5Tc6IijqoyLQAEcHzZy4k7I\n",
              "uWOv/7g7A2vfGIanuDVjjmnUs2LsdfK5TzvgZuHN8CDkyNZzDBP3sAl1csCG3wtShHiOGtzCeDD5\n",
              "cug/3DkcPd4H/VCnzMuv+S6HdqG1QbbQBu/nbVDI8g2gz8iNv3KaV63PomMOcP83ffEBUampOT5V\n",
              "tizkwZNp2SgoGGjC4w4/QHT/OXREJ8GF/ey+f1EiqIPG78pCUpqtj1zpVkWDMAaY/rlJJ1o17+WG\n",
              "Fw4ZBL6s1DSsepJILDmURV/5LDtniDTAol9i+rW4OS4DcZAwa1mo1yYSnap5PcslFWIhNFecyFah\n",
              "rBNvKPd7gzWDria9HXoR1kPYAAADAABOwgapAAADAABQwQAAAR5BmiJsQS/+tSqADPZh24Av8s9O\n",
              "uc5nyM2CB2xf05TZW2/uUwM+ehlHDteelqVuerv/360C/NmRKz1UTsHRsq1cyAZjYlMP4n9iuIQ+\n",
              "g1ob8U3UKCG3vQJzTZ7+NVpRuWZGCHEzZ51BBh5vv9tR0zo8S5pdPvNvh/MzpdFkic1C2x5FqsTY\n",
              "F1UzY9qvYhSiZfYL/CMCoF12oqs3ftmHOi0zPkJ2Zj//TL7KmgrPPUO/UNKIf41bMSOWXSOnnmjm\n",
              "a7cnO6uk85zWXTeiEd2R+w90e3/bD3m4J1WVNsxiI2oyVCaaXuaurlcEwqv4AwpofaEwCRK5QBba\n",
              "anRI9CY/TGF1I2lhC4ccxsERPpec642gXXkVXBjSCPX2d0/0jwjYAAAAmgGeQXkP/wAirR+uc+ne\n",
              "uKVTsOI6hiwsbkF7haopRfADPn/wcd6zgUXLXcFq44DomIkCegrDXxajPySeuMzOmugXroYBts3r\n",
              "/yL2AywG/ggEPd1d9TRVJH+RWbFVnig2S7sXDsGTltF89ByWLvhd5VV/uSuxCZSrO7ERn7PCPWhU\n",
              "1s0f+KsdvjSpK5BTb/mBkqoHfySvo8GMs+EAAACzQZpDPCGTKYQS//61KoAAAAMA5MjYQQANjRtJ\n",
              "VvaUW/UgTSlpKlVtOfEGyX0iBaQ/7I5R983CpccxhP+uB2gCOtkmmRcN/DnZfUOd6szHwjEP9/WM\n",
              "ZDsM9eDvjL5Cesq2gk9QXL7aQxfAHZ9gSX9I3mg81WNpYu0Ekb+BJZiOAs1bWKLAueXDzJGzxiCy\n",
              "jq5FikI31n/+ccuIcDF2IQlfc+igUGE9lYkkJlbzvox4dD0piFIAAACqQZpkSeEPJlMCCX/+tSqA\n",
              "AAAgPvEkAEJ2IqJsApsT4w5PBcrxrOlh/jffo7gIY8oq8VG7JDrKAYafnxkl/+DywHkXdc7CHLbL\n",
              "Nr4EQEJf22GhfsFqV54UNzYRfiF+N1uJogj7OK3SBl3PEi5dcgMdZRdThG4e4sIpDJwol9LV8o/y\n",
              "YgIhB3X3lMofXTn2nWgSsWZbTwILLURHbVJnB+2vqQ1C54/avW7Fu4EAAADhQZqFSeEPJlMCCX/+\n",
              "tSqAAAUvDyGIA1tvn/N+kqZkZ9yD/95onMpFMVMO1ApDrLb086Gi+WL3iE/uJEb34+r/9x2RIesV\n",
              "0fBQ1CBFPKY1yLDzr/vl/IAsJOjMotGxcIABJFQ66W2LB73q3cchec/nPkkF1X5PiKHzr60Rsz0f\n",
              "imJ00Q6IKmz6r2XvWYWOkWGk09RCaQlTh3oqhNzD8AzJvRoDAw6s7VS59XgeiW3hfNplQkchgRUd\n",
              "EI0nmLxvASALjV5u+H9l2kFTT1v168fAYlq4YXNXwQnyIbWNEKKgAhKxAAAA30GapknhDyZTAgl/\n",
              "/rUqgAAFJ8NYbPuIG1J8hM5wAjDiM0o1PvI7DcdB4IqAnX6j/6ugQevgBsCSC66WAIA5u8QvtXZ5\n",
              "ZYz5KmUZohv8UtSTO8M9miByDRXZklGy7Ilg6femk65NyQSI4dPAe/blAvUxcViFa5W/JRyap1H+\n",
              "ACKzmK2CZvbvwhgDt4UdqTuAuio38+ZtCayZgvmxRZ8yrK5Xzs/+7WOiXE8CRzee4w+uV2HMQaS1\n",
              "uUnbEE9qzeuY0jrHKWyIxcYAwNUkQKjvZQtlCROs1j37tw+mMErsdMEAAAD9QZrHSeEPJlMCCX/+\n",
              "tSqAAAShJ0k6nnCl/gQAe05LpWLY9c9icwswg+2e1JefXQ0XxgB13GHNX/JfJapByFPuLKC8heaA\n",
              "rkg75uczM2zX3HuGNl78aHKlCThkmAL+T+jztJRHbs7BM9Ouuvwl7kTCKT9uZ54A3Afxa2xxSyEE\n",
              "Agz6Z8SNRONpVL4zak1wl5CJoeYHE1sb28qxBLepE1ZZEBby/kDI1fGG0HkGEygk/sE+37SfipwW\n",
              "np6fddbvd3sv51saFYBF3QOzZbBEdRakQmjY//RTFWnBMJB9cN7n0P9SUKSUQpiYrumy/wu2ZDeA\n",
              "Gk9WecQDQG7JgFjRQQAAANdBmuhJ4Q8mUwIJf/61KoAABCEnSTqecKTuAAVdLLCnD92Qz2WtPPSz\n",
              "T7eNk9ubzTBxhFd8lgYeFV1/xyCbK0an//soI3fV5trEcCdYTHp5zJFCEADl/35yAU/Svj/9c1w/\n",
              "qtFaZigNP8/tJVkSQeyEPvcZAsWjewMLyKw2AVTfil8QHO4D4B+7rcr+Npesaob+9tGxEFNa7A6P\n",
              "Qc7xmRhINnwzKbPzIFzvbw7eXjWRqnTG0BE9EokiDgrLLKdVynL5g2sa5vOZMr1J/E5msN8BoUM8\n",
              "59GK+AAAALxBmwlJ4Q8mUwIJf/61KoAAABqpjWdABxhb/JE6WXmbwYhN/2jCER/Oj1PUFt9Ulxle\n",
              "xZ85F2GuVDccuBdasmGdNTjA6QCMnb0+uMb1B5f8q76s4bYxP/KiBR6m513Cxw79J7AgV7BxtLlI\n",
              "Gq6i+6Ts4GPEYILRetTzE8Nz2KEQ3lxHRIEoW1XMhm4yQaSULRH9j7oqQXVNyg8C7gevKgKDUGoT\n",
              "h8uOTE1ty1XJrqIYTrSWED1JlnCyMfRSfAAAAMVBmypJ4Q8mUwIJf/61KoALuVoOAHCcNGwqX1e0\n",
              "p4QVBbmZQJLoRpukpUFaElGGA7SC1ENDg53Z2Jsgnnusgu1BcW/70shUHT3Du0NgxQLSLXRgFZw/\n",
              "PlR7kx7z+1aVpsTLAiETHPTy1PmJxurAsqRZapwIJLBrmuNkLFSIOmuNaNnhbgMA0rK3SHz2XcZL\n",
              "mRHpfsRuhlAVyzzrhTyIEn36Ie4R69makCcsybgyu82e4eNswUi2m8elMPl15aeajSFhe0rHgQAA\n",
              "AExBm0tJ4Q8mUwIJf/61KoAEgQyJggFYytnLTXyTfc3EayB7oLo1BJFTI+ukwnj0MAJx85YiOOeZ\n",
              "oPJK37zPyj4n3Y44T3tFF+DAu6yCAAABUUGbbEnhDyZTAgl//rUqgAvATmrYAjL/jZmKDNfwepzl\n",
              "hvf40Pwb1JA4k1//GMBxPWtOfnsUcwmht1jNH92wZmu/GXx9MyQa4gheJfU2Jx6W3R1H7kra2gFD\n",
              "9ga10rJX4MDnS/8EB1B8mIhHzn4fPRaxwIUyk3ZbafJhs+nFCk4AH7MuH9V56uHFVcE7MzWUtm9y\n",
              "D+N12se/8wE66FcZM+RWM9mxPjDk8FyvGs6WH+N9+jrAK0AgIg7u39SXgYafnxSq//B+EDyLuudh\n",
              "DltllDXwTZCX9thoX7BXbFEHqYQTwZROplnJkxEzQibF3PDjriJ80X+Dsq8JXLq7KepG9mSzsrXK\n",
              "jwzY9kIc1JP8wojX3yT7o4j0JBOVJvRhsP1cR2qH95l+J78TANdsKsRoetDWPH7hcsLeGKXXGxUR\n",
              "jzDGlF8aXdXfVONviRkazv6o+tAAAADfQZuNSeEPJlMCCX/+tSqAAAUvDyGIA1tvn/N+kqZkZ9yD\n",
              "/95onMpFMVMO1ApDrLb086Gi+WL3iE/uJEb34+r/9x2RIesV0fBQ1CBFPKY1yLDzr/vl/IAsJOjM\n",
              "otGxcIABJFQ66W2LB73q3cchec/nPkkF1X5PiKHzr60Rsz0fimJ00Q6IKmz6tO4A+8n9czSkcTuj\n",
              "esjxSC1KswadAiwKRjtyq3ytg4+6JB2dxtPisQW6FcV23hPUbdcZ7cCOR60tqvidExbJBtG99f0r\n",
              "QAnZFg0PbgrDgrR7QKuAXVYRiwAAAOBBm65J4Q8mUwIJf/61KoAABSfDWGz7iBtSfITOcALBkQ7V\n",
              "i995GxNxxEJNzI/8DOn/+/zIHbeNBv/x253UQhAHN3iF9n8Kz50obowo39IXtzGtmcd5n5BobzvL\n",
              "qy/A/yJkKg0MtKDq+Pfr2pWUkdxHfsJ1LG/+HLkRDd4RYFs4y3WvwTSiEOnwfrvh60uFj3jQad4P\n",
              "dp3pATpLaeYYOSeUIni8hRUaB//2jQYKLjzGYxWYTmLvyqZpdplR3ZZA8/TZ1L94uYd2HaUSPeQT\n",
              "gchg2WEvP99RvKZQ7TyS5sAz4QAAAO5Bm89J4Q8mUwIJf/61KoAABKEnSTqecLt35lYIAAtMDXML\n",
              "p4GSKxrbB3MHa2fTUJv2Z29DQfvvl7e4TCK9k825L2mLB1ZQRARR7LycRxbbQNeCp+2bgeQ9ahUm\n",
              "EvwMxD+fa/fAUSLRGlKOy6MBf+gbHwIZTJ7pM3efQsFYwD/1PU1aiWmu8TK/q8OQfKsQFDMgHrH6\n",
              "R2ud8HPiqGNdLfCc18k+N/rDVkfg26hGJoiM18DNfYIdSPbjGtUmam4fmYltcrmUTzErqL6SMkFb\n",
              "LOlnMzeOrjzMzsuSoPN3aEbmM6yQqU6vpCZB/NEoSAGzAAAAx0Gb8EnhDyZTAgl//rUqgAAEISdJ\n",
              "Op5wpO4ABwj5YU4fuyGey1hgIeKnH1q8uWu4LFJbINSqyRv+bTK7g3QK8J7H/92UcxtbAlOGfAng\n",
              "gy3Osufggf2r4R85EIFUIbP0vwO8P/14ep0ZnFNxYhre3CeAw8VRtaqT9vEAwjCxJEkuqUo/zbMg\n",
              "QMgRq5Kuqu2Yh+S0sg/jq3tKMbGf2aZh9SGwSHYC0/x56stQIujkZmbL+sDKGbklrUODqny0H6CZ\n",
              "m6WyFdOfRZQAAADdQZoRSeEPJlMCCX/+tSqAAABAfsafQbAoENSiZgBYPPUxCdS3clnA1Y7+uYq3\n",
              "BqpR2LrmW/jHj0LQ55g+d/3F9GxwW7UQfnsjZ4qHZYsjdtdTk/Xd3fXX9EXO1/dL+8mIuAODS7mr\n",
              "0boYYDSRgE3/mC5Zd23c5Yn56UNhGqLd6iZcMQD1msKNeVFbv+CF/7GENQ6c8Q9OD+Fn06WHUEzX\n",
              "Wh8B57xpNfIpTE+OhGmW8MYHVu1QZs41BIWUJWqJGot4z34tJ2roZk1tLMkty20U1Ls9ITFDsLR1\n",
              "jRlEEqQAAAF4QZozSeEPJlMFETwS//61KoALtxlNBUVuuwBGuh8wB8gMXblcq2L3kh2UFMdH/lID\n",
              "QFBCd8B0tAZYeOiEWXl8NKk37yXr+QxO+QgMwlHYhIdd/qvJ+3X/hV7hz/YpI4CzCH1aeSmSb4bO\n",
              "6WW68jqQy9Ffx30TNyzyV5zhOV0gMIxQ5MjasVU3f0Micq+Gdhtyn091Nxc/+Z4YgMBlIdhhTIVK\n",
              "+6tB4Nlerg6Ke00Tv9J3AIUhV89rD1JBBODvufRKE/qOwJ9iP3qoLFvztLxN1c/wZBCjgsAYR3vU\n",
              "pBbo3hItn3imDozfywNHkbSwwFkPn15CiFqXi6H12tls04DlcNEutS57GvwLso4sqY7x+4W3BNLF\n",
              "QVzP+QQnKyD8s6MVKs3Aia0uMcbtKmEzD56PTPL5jqVcpWtsE6vsrl4ZhoBnVHGVugsXdjADwwYX\n",
              "Lvpf/NShYQ8ycrrOXDgwWtpg2XrnQMKIWGQ/4cXYGGDRk5vngGNGosmsuQAAAKsBnlJqQ/8AH7wh\n",
              "QgryQPPGxajP7f1QAcb//9+BpzLwhTgDTHf7No4DbUzBKqNVq9k9RAikm8et0ZvjiVBZDVqw54tK\n",
              "jexNGvhC3VEgPSz95VtT6Ym64/Z23SNK8aS/IYVdbUchwaM08sXTL51kQF4Ph8QSs8bmA5HSyqR7\n",
              "lhklaojbgCgOqUnJEJkgVKVbU0wRZg9pvqzh3GbdTAmad0CAANvJ0Hm9n9pPvagAAAC7QZpUSeEP\n",
              "JlMCCX/+tSqAAAZSg4YZOdjP+0My6EOHMel/j1EmGAqYRqbeufNbPKB+etKrABfak3x7NIb4D3Jp\n",
              "NFwzRPsCk8d+HysA5801IHsoOeHhTvguCR/eQGhe/u8qQ7AnzVkcznwsVC7/gSVFZn7OA5wwcQCa\n",
              "gEXU0mGfk/gTS1lImp+vZAmKANgTpNkoToywMBP3GKzC/YRKK1QLPoSPATv2pJrNUMlDJfNfnVe+\n",
              "EtsHuYfQG4g3tgAAAM5BmnZJ4Q8mUwURPBL//rUqgAAAKB8aydU9ddLnzprsahyxTLzTESCAoS4w\n",
              "I35boTd1hAFRqYwKo3SZJxeQ/m0RtlgdMJVygT4FPgEVNB32aLd///cYE3MbPtbfoWG70zz09YHl\n",
              "ZWw9NT6sJopgE3KnvccFJtZrgXSGUJUxjqf1pOfbMBTzsV+VVOOSpbpVgA+dFG8uFw44DQwMwJPz\n",
              "u9kgdjDZv/ZsqXZh2hkGOhWOt0PawwXVznGJxqTgw1S/kNHvbfLyr42gbHOhw5VdMQAAAJgBnpVq\n",
              "Q/8ADG9M23BYj0pZxsREtq/GGKpP76wYQwYAXFTEUOm9EzgYgfky8xrP4Kw2NgqlfpaauR+Z2ZKP\n",
              "l/MCxrM9HRgSjjvlZjoL1mARQFmUFI3XrgBa6duAIvRCZyxWZXjNGFTXIQPLIyhhE3IpFbnX4Sl0\n",
              "NVMgVSuPZ92CdEZoZ1iKzYyoRke+8fKcNO1DMtZyAcMs+AAAAKFBmpdJ4Q8mUwIJf/61KoAAAAMA\n",
              "46RiT18JzJ8JuWdX06ygGQAk5oLtbAi89yx5glleT9okMCeeN4kAi38IxEPNNybo23mqD5vDmFZU\n",
              "u0cq7gYk0Ld7VYXxS800RtKELThvFg4/RkV3xQSicP44Bv8GvN3yXXnW4PHX1b/IEuIj//83jpxl\n",
              "LaIvAaTbBmYFkVO138XPNm7/f4OhE0E4aBrQCQAAAKZBmrhJ4Q8mUwIJf/61KoAAACA+8SQAQnYi\n",
              "omwCmxPjDk8FyvGs6WH+N9+juAhjyirxUbskOsoBhp+fGSX/4PLAeRgJTsIctssoa+CbIS/tsNC/\n",
              "YLUrzwobmwngzL8brcTRBH2cVukDLueJFrY5GNB9GWqx0c59OVsCHrFDSauXpO5MQEQg7s6iFbbC\n",
              "cqpO7ZUBhAktqgfL0JwAAr25X1srMmsHlNfNAAAA4kGa2UnhDyZTAgl//rUqgAAFLw8hiANbb5/z\n",
              "fpKmZGfcg//eaJzKRTFTDtQKQ6y29POhovli94hP7iRG9+Pq//cdkSHrFdHwUNQgRTymNciw86/7\n",
              "5fyALCTozKLRsXCAASRUOultiwe96t3HIXnP5z5JBdV+T4ih86+tEbM9H4pidNEOiCps+q8YtXd2\n",
              "mGUkp8PUQmkJU4d6KoTaO+/3KnoHf+pOtHKdXb4hASIzrwvnnSNgksnAFWwHCTzF445wvRdeW8xe\n",
              "5cV5BZUCA+ZUmTPEC6Ajc26EIhOBbGIhNuwIWUAAAADdQZr6SeEPJlMCCX/+tSqAAAUnw1hs+4gb\n",
              "UnyEznACwZEO1YvfeRsTccRCTcyP/Azp//v8yB23jQb/8dud1EIQBzd4hfZ/Cs+dKG6MKN/SF7cx\n",
              "rZnHeZ+QaG87y6svwP8iZCoNDLSg6vj369qVlJHcR37CdSxv/hyZvRV3XbKA6vk9G0BdRoALnb+G\n",
              "ar4etLhY940GncBXad6QE7w+nmGDknlJkuQGy6dLv//tGgwUXHmMxiswnMXfqV4bplR3ZUM8/TZ1\n",
              "nwqTJd2HaUSPeQM/2wzyUOUdCxHWxKoALaEAAAD5QZsbSeEPJlMCCX/+tSqAAAShJ0k6nnC7d+ZW\n",
              "CAAJkvPpiOTrjz2rbDCaZYTS5DUXs0iUA/fWR0LhMlCWsZUMG4dLJNWbQRAaRsvfjRCxwcbvHmPO\n",
              "wicfGtQqTDcbsMbwY5Y/OWIp8ELBX4HHyN9R2Xgfy+WFtF2TC1VeLAs/P8v76OvDwfnXUxdd0IG8\n",
              "84HghVC4zhTs5DsbYrIKKonbIt+9dRJP5LorbpFffpzh+u1AxggC6j5ugfHNbk8Gt3BieQHQcuFR\n",
              "e2NSGZPHAUvUxkAt96snv9Li6pRquR+2RF9D5bRArQSUyoI3U+gLRmE/sP8B05TCgFJAAAAA0kGb\n",
              "PEnhDyZTAgl//rUqgAAEISdJOp5wpO4ABxXxYU4fuyGey1p56WafbxsntzeaZoEX/reZxoKaQe0D\n",
              "K2p7H/zso548sZsb6cypY0UFuP/ErtD3L/u3ofx2IS8/2Kbh/+zC7M7leLSnv1OO9eS2FGt0tAf9\n",
              "okAwjCxONSXl53OJkUrVcA3f2I2q3sVC0e39GZs/yHjsvFF7QDskRJqnBxr58zUaVWXO/XydJf7H\n",
              "0krVwibq4a4RphY+Xf0icIHv6lLnt/QVJFkpLI57yW+OP+jFfQAAAPdBm11J4Q8mUwIJf/61KoAA\n",
              "ABqP0ZMwAqXLe6zhytf7PBhmMTf5O/+xFxgAoKO1Lecft1EN8iJ4XeuCAuXduBLTNLEqCF1I+KCS\n",
              "PZ+5ZcqyXAZcgcjVu9JyaxKXIcI7GXC4u77m1VVOcj+yC3moUgvpTTmxOuXbKC/Nt3OWJ+elDgzs\n",
              "xrxWiUGxTxffpES1sk9/yvFmx7m8VzpWOb3L9V2VWLrdVfHfXGNftgZiJQUT/4b7H8NS5aFUGzOn\n",
              "jaQWraSk9sops8bECVX0RRYGRyeisLeV1+kfn/SjTHwdjqqkpVdrMa5n+vD479wnuyvY3k5XXZU4\n",
              "DVLZAAABaEGbf0nhDyZTBRE8Ev/+tSqAC8ENkd4GwAry3JA+v/8pOQ5SmgPcaN8JJzjs0GdHarnx\n",
              "DkVvI0oPPxJdbpE7NBA7jOVPtXvT9s10sr0jRX7jSTRI1a3GAd6SNQnftE8DSLLgVHPKcBf34FNp\n",
              "t6x7b9F8sgnR1hwOWs0HWB6eWoRknLoZOikpF/sLHQSruFinsR1IwfulVodYJm/+QMBgJ/L6wLoY\n",
              "ANFdc8K96GhMb00lbjsCk8d+HysA5801IHsoOeHhTvguCR/eQGhe/wR6KteDDMVh49oNv9KwFOev\n",
              "eqhRv6u73aRO78buVrWxGR1X7WEgMU2FYaNkC/6yob2g2KNUNqDbS1JEh8kAqX2BxG0Vd/sxK8nE\n",
              "wg6QP5nb2klQmGfZ6T3lxj7d8UpHwNmfAVOl5t73ixwTsNwmaImBCDy58nNCJY6rQzrk+GeOeuWq\n",
              "jR509aMXp4y6j2lNC/bpPOKvgCcxl5eFgAAAAIwBn55qQ/8AH7whQgryPePiFDcIw2AFypPXD2Ro\n",
              "LJuptdmUyipJ8sWYqawlWODtK5wi2ogzf6jpQwxg1BTdE/2EP2INxbZ/UGxE6nf3r60cSDVsT8bI\n",
              "nPxN9p+PqWvmYj+3lsueiLvG8JwvUfNIkLqibg76moUA82qMYLw1osHGPvVAADIDzZTwJmZ5YAAA\n",
              "AM9Bm4FJ4Q8mUwU8Ev/+tSqAAAApf0Q/YuO2GsArf2mxgYVEFzh/4K/1myR37aJi7MABxE9BVXv5\n",
              "ixVoZR+G5YkhpN6VPiOAAPN69HfZot3//+/wJz5NoDWr8qsmEgZolC98kmDdw0jp57g27YKxWbJ1\n",
              "zO5LkatAySh91Mfb78Y1VmyUPpXid0bJy3PMMUnRh2T7MwEzy4XENhWjHSPZaIsFVZ9Zy7v9kwx2\n",
              "zf2LCXfb2+QDcNs8VAi/7IEvECMna7qmCSBGFKnSx7fAN6gYlZ8AAACdAZ+gakP/AAxvTNtwWI9K\n",
              "WcbERLavxhiqT++qPvKlQAGmb3g5hVkAiyx8RmJgO15tozwVhr6Ck+/JJ66p6J4/5PsoTfeWj+l9\n",
              "0HJBFGcRd9TRVHZI5akjDXruIzAUYaz6HGGnKfNgfZvArLsH+bC5+B0pfrsRGfs8I9XHbUNH/irH\n",
              "b40qSuQU2/5WTlx3PUjFQ4HYbMP8dMJbRudXcAAAAKhBm6JJ4Q8mUwIJf/61KoAAAAMA+b+lAAcJ\n",
              "G/WpWjkA97kYYGYXqVDhO99ccAD6A+k/VA7cSc7UHkWXyeeN5VvpzwjERPBD6Lgkfxgs+Ato4PNV\n",
              "a9v/EJ1urgVKQpY78VIl33XGize36gMsVGttvJacu0jD/3n2v8gboAPaxauquOzsqXWRFvPf/zeO\n",
              "nGUtonyCaufIpmylBzz4uAN2kbD8XQjmX4BmgTsAAACiQZvDSeEPJlMCCX/+tSqAAAAgPvEkAEJ2\n",
              "IqJsApsT4w5PBcrxrOlh/jffo7gIY8oq8VG7JDrKAYdumQjb/+DywHkXdc7CHLbLNkEEQEJf22MN\n",
              "Arnc154UNzYRfiF+N1uJogj7OK3SBl3PEi1scjHuo4y1WOjnPpytgQyTOZLNXyrvPauxE86f7m2Q\n",
              "Ox7gPSbgE00peMHMHZVhX7FRuVFyK1QuAAAA7UGb5EnhDyZTAgl//rUqgAAFLw8hiANbb5/zfpKm\n",
              "ZGfcg//eaJzKRTFTDtQKQ6y29POhovli94hP7iRG9+Pq//cdkSHrFdHwUNQgRTymNciw86/75fyA\n",
              "LCTozKLRsXCAASRUOultiwe96t3HIXnP5z5JBdV+T4ih86+tEbM9H4pidNEOiCps+q8YtXd3+Qlg\n",
              "T2MgO8/6TpSrMGnQIsCkY7P6t59eOmtVkcPPyaCKXXJO5SoONXeIy3sxlXMknzjqs3jxZKo4cTR7\n",
              "RnS7ZU3bTYkEyMSMIVpdG4qfj0KhVXOk81rlePlLznVmUBCVgQAAANVBmgVJ4Q8mUwIJf/61KoAA\n",
              "BSfDWGz7iBtSfITOcALBkQ7Vi995GxNxxEJNzI/8DOn/+/zIHbeNBv/x253UQhAHN3iF9n8Kz50o\n",
              "bowo39IXtzGtmcd5n5BobzvLqy/A/yJkKg0MtKDq+Pfr2pWUkdxHfsJ1LG/+HJm9FXddsoDq+T0b\n",
              "QF1GgGPDeGar4etLhY94z/vcBWmuXkHG1Ix2GDknlJkuQEMEiijQLLHmgRx/mYCj2Pt3ALvSmTHI\n",
              "yWGbncw7sOu2JzyGyTMEP5hSSum0nxNwAScAAAD7QZomSeEPJlMCCX/+tSqAAAShJ0k6nnC7d+ZW\n",
              "CAAJkvPpiOTrjz2rbDCaZYTS5DUXs0iUA/fWR0LhMlCWsZUMG4dLJNWbQRAaRsvfjRCxwcbvHmPO\n",
              "wicfGtQqTDcbsMbwY5Y/OWIp8ELBX4HHyN9R2Xgfy+WFtF2TC1VeLAs/P8v76OvDwfnXUxdd0IG8\n",
              "84HghVC4zhTs5DsbYrIKKonbIt/Bx/nk4N5r/I8UBox1f0WgHUJrr1gBzbCeMEuMC9M+aZuZi5Ad\n",
              "BxMUkZQ/kHu3gHQ+hd4xD5oAvFogZ0Q1tcjoRy9dOS6qjdjnic6Ii4hmdOUNq2yveUwoBSUAAADO\n",
              "QZpHSeEPJlMCCX/+tSqAAAQhJ0k6nnCla4NPBrIINvyOqKBmgUJdJd+sO+a6g7jVflYAhbvhsdiq\n",
              "c0msTzx8TapFE5lF2f6F0uP3Trr7039IBT9MI9CRAvP0Wn5KYCw74FtIN1fegx4nx82OU2M8dBNx\n",
              "HYIxWek2XAkLwkJn9gfPXCEPzgD08q1jtxm1ZxIf8aVKjcI5Fc2buH8SGNljMinTlrQWlDnPrhne\n",
              "vfTgq85O3MKPUODdEMsRzu7Ap/L1wPUWpRr1jweJpTqg+YEAAADoQZpoSeEPJlMCCX/+tSqAAABA\n",
              "fsafQbAoD+HsmYAQ7fBbv9yEs6Iz83Pf6TZzDE3aWpcm1bkrgaU7nVP5bNAkJlTRBTepE795+5ZC\n",
              "+qSfdHUmvBxkwSKvX0MU8uUesFmxSkKCGoIy+V57MctygLu4k63kbDL41HZt3OWJ+elDgoeAwin+\n",
              "BBHm8t+JzXj9VM/nlN/ctFFDB0Uh4p6goM7y4aD6k47tLEcZ5BJRz/1//8IquN1n8ZNgrsX+rt7o\n",
              "CDbfPSJsUP3LDDsEUvB3XHSg46AKVSRgClhPcPL2J+vjytJs/2JPSzSEnwAAAMFBmopJ4Q8mUwUR\n",
              "PBL//rUqgAu3GPjU4UnsAFyF/oY/lAqjSSpR/6EvIrJupoOMqMbn54p26U1rtf9hVSCadqwARfVU\n",
              "LezWvGLyJMWSZLQlt/r9f4bJAgRri/W0ngKGYaO8oG8SZjI6wWq/E6TXL7tzhwflvAg9JeBft5d/\n",
              "zKEpx02SRh9/z42nI9gb+HboVxeHgAVnoaXEQnFVWOxgL+bAP8ApSMKO2EFWh0WnlNL11QAGL6yr\n",
              "V0SBzLwFJjuY21lwAAAArgGeqWpD/wAfvCFCCvI/18iYzrPvbgALo1oOmFNkKYaOrcZ2FR+Sz+T3\n",
              "K1PTG9oD5eu5+KiOQ7z0Fcr8EJ6lBDQWLPbh5o55atKvi3/+X9CCsCExJE3Xr48mOlNCn8XiPO9I\n",
              "IADGFAnfyDf54d1DOwdZnTeTIxo53pRbBLChzxVH1ZsjFw4rl2bIA0kPTZHHl98pNqZtl7n/ud8t\n",
              "VVf9fKQlpi2EAAX9ttgIRKUAgQAAAFVBmqtJ4Q8mUwIJf/61KoAEh6/8DMFBvGnJlIlH4GKEg0gD\n",
              "eAP6x5Ecm3bjHlwWNaJ8+2qZ3mUFrByX2nXi7+Yjf+zdH2aJ9dAinfQRsqjx9st1UHzAAAAAVkGa\n",
              "zEnhDyZTAgl//rUqgAAAQH7Gn0GwKA+uIR6g42mZl51RkVDrwBj9SvOys8mx/dds8anMAV1vjU0/\n",
              "DtuZ8Pxo/xV5E97eYmn9EzYoQ7Cp8LRbBxH4AAABQUGa7UnhDyZTAgl//rUqgAu+x5FbADmw4nzH\n",
              "B8EJvjVGaltzjuMiDbetTIEVO8ICX7MBtiHZNhhUp9bYbiKlx2/mbT/JBTm2Utk3dFJmE1hj3Mr/\n",
              "y/8tPOi5IchzSlk+huzdVZ0kLQYYklUG1qvhLGsM4ORrQ1GHHxF1jRpz9otgONIpq8Gf6zuRgEso\n",
              "04qjgU/obPDv9Nkx+HysA583bUD2LPxY+x+cE5P/qoNC+N8EQIBss9p9BhcYNv9KwFOewBqhRv7u\n",
              "t762V6RTCYmMhcb4v1ZUQQaN7cC424rbqin4Ug0F6/Bt12zHpiLkMrApif8y6M1yZQ+OS+Z29xJU\n",
              "gG8kP+rBTtrbMolRLwgiXGxAoCU3EchjrJf0M3ongOOGLzPo7lMxHDXwXc6ry2dL2IF/ui4QlxMk\n",
              "D7p+wADnjrQCYQAAAONBmw9J4Q8mUwURPBL//rUqgAtxiDqABBhqTj4nMftD9X4B8GtZmwdRReS/\n",
              "GH36hN0e8BqGl+5UBHsogT1LzUcaF/Jl+NR2teW3DrN//CI/+nMpx8nEKsgTiuyYaciqMbhCf///\n",
              "UgBPd16s1nXKUK5Hvf8NYDmejPPb1x1bWQ656xFlsZ3O5hn2uB2II7uKTxtofPWfNqV2gdvB1usD\n",
              "yqqH5TTMgdT1QeZ1Jrg5XQFRZNYek6DvbK91Rg+Q5I6zI7OA8P7v8v6dbQH+Ii202dNJGxNq8GMi\n",
              "BoxJrAunJlc827aumQAAAKoBny5qQ/8AHwwmRSDgoIHlxycJAsI7nrDophNW++/oUkANM3vByi1n\n",
              "Ap3XYMiizwhryhPQc27J1h5+ST11XZXzYu3Zdm/8v/7zdO/KDTIMHXGjGi7iEV6/pm/LPkvtf1Be\n",
              "7LqqC7KKzxXfCyCq2/cldiEylWd2IjP2eEe7BhDC0f+KsdvjSpK5BTb/hwrlEv86ibwGWrCKoFpO\n",
              "IvlNyEdBt5H6/Poac9O3dQAAAK5BmzBJ4Q8mUwIJf/61KoAAAGM+NY23s3G42hLRB/WiLEKJokcw\n",
              "ytOFlp4AAS00F2tgakfWPMEsfFKHGmF/fNa3jvS6bYp43iRaFjwjERQrZKm29/ibGz6Z5TD3SmSI\n",
              "wiTGITnQRwEKdBZR8WPsH5CGyvx4P0FAgvtTM0qa+shT/j0i8m3rPdvT65r/eKBNtOncKy+BsmQl\n",
              "BrqYphLbq19Mcv2AFO5+2+xVion+RC4AAACnQZtRSeEPJlMCCX/+tSqAAAAgPvEkAEJ2IqJsApsT\n",
              "4w5PBcrxrOlh/jffo7gIY8oq8UZEcJW8DDT8+KVX/4QWAeRd1zsIctssoalCbIS/tsYaBXcEzXnQ\n",
              "ewthPBnf7W+K9a8H/lvaaHscI0kD0DqVBYyr8y2vonJnUkO3nNc1kcfRE0mHmojQFRLS5N/WTnPw\n",
              "AjoYGXyJvR3kgcHfpuoEZmsS1AS9q4AAAADoQZtySeEPJlMCCX/+tSqAAAUvDyGIA1tvn/N+kqZk\n",
              "Z9yD/95onMpFMVMO1ApDrLb086Gi+WL3iE/uJEb34+r/9x2RIesV0fBQ1CBFPKY1yLDzr/vl/IAs\n",
              "JOhW+yRYuEAAkh7hsVZUthiakwPy8Hc/GFafk+IofOvrVACIC2NnbmTrq/UJp7J9Yoxau72pmJKa\n",
              "LSC2idcV3E/3eEPTX81n4hDh4zK6hax5pr94jYIpcv1p8dtNDrHAWwn2SYOiqcv/ABUdX5Mx3gD5\n",
              "3nkKe7Ayh7gtsVotG0k96brmLziXkXcf0BfGskbDPwAAANJBm5NJ4Q8mUwIJf/61KoAABSfDWGz7\n",
              "iBtSfITOcAIw4jNKNT7yOw3HIPBFQE6/Uf/V0CD18ANgSRLAja5UoTE5p5Zky2LC8VgxqIxHuy5J\n",
              "25jWzPZogcg0V2ZJRsuyJYOn3p+IFdveytd+bsoolBiLLsRB4Ygy9Xs5VOCm2bDocc+cgV0JMAdl\n",
              "NrP+A/M9kCJCoJuU8wwXzYpvEdLPIku///s04+gx2n9IbkU9OfB2O7nMuU2v/MsbiTUsJMl3MYI0\n",
              "1r1cAx1OxpAyZ83g737ABoQAAAEDQZu0SeEPJlMCCX/+tSqAAAShJ0k6nnCl/gQAe05LpWLY9c9i\n",
              "cwswg+2e1JefXQ0XxgB13GHNX/JfJapByFPuLKC8heaArkg75uczM2zX3HuGNl78aHKlCThkmAL+\n",
              "T+jztJRHbs7BM9Ouuvwl7kTCKT9uZ5317gqb+OR2oMGiDPpnxI1E42lUvkldB0i5yniCr57WEVOs\n",
              "76hvEevZQQbl41DxKqiRqmI1TgOYkeJIbK1Q5302Iv0pfuC38oj+p7U+3quL+3DGevivdAc4mOHB\n",
              "Q8MI986T6R/9DU86X+F0rDb91f4/svtOobuM2AmD5uxQ+MY4byIyZqzDsftScmVaGUAEHAAAANZB\n",
              "m9VJ4Q8mUwIJf/61KoAABCEnSTqecKTuAAVdMGsjXeJNkf/17+tLIO4i5Y1qmymCMw8saRZ/tNkb\n",
              "Ntx20u7lsZ7oC78Lx/+kAliaJ9ksRwJlOuI4TfviEHLtU5ifhvbMmq9BYb8Jc4iADBdHSm5SdZA4\n",
              "pvOFfW0zP2m+DLMLE41M4tVuHmbk3nvewKaT+io5MuuS8gpTRD1kUtB6ZL+jHufFe+4iZqNGvz5Q\n",
              "TvRBqLmWgjSVXDdFwv9v14TOOhkfWAVZULZivAhCMTlGDgXJ3R03akIfAAAA4kGb9knhDyZTAgl/\n",
              "/rUqgAAAGp29M6ADa7pFoMOViZodQeuG/HBLkqLQkvXKnMo1hv7bqHy5OxK/d3DmN8TVpYslm4zA\n",
              "fzkI6HZqS0CsfJQdggHGMAiguxI468UIVxFbIkbyieN/r+2712UG0j4KvOUm0IXs/+DuWgy7tk6Q\n",
              "mwEETLPp3gS6zzUcVFWy09rLNG+vS/4aSdosbe7ucepe6VcYCOkG7ysatEfFF1SrEXf1e2sZf8pt\n",
              "5O15l7EbR9xUj0fBjeXM4Lx+CU2LJISjLCVlL/0xZx7qPq9hd6p3FM68GEAAAAFLQZoYSeEPJlMF\n",
              "ETwS//61KoALvtnyewArsTJF8bZvGB+CkWRprFk6EqJaMmk6UlW1+5pVWdG6rcRhLZlRG1+0VfJF\n",
              "678k1hp2QGdA/sn0pjmxOGn2y0vj6ZkMLlm9rOhQK932GI8w6xoXQqrJ/4+F6Czmke+uZWK8hWIH\n",
              "nmMx3a+tPPhyhTVKZU6OxmfxUDbT8u9IjKcHSra/AlGXUTdTf3/zPLTCZDfXpb+UWIAFba5+wdBb\n",
              "//uaJzI6r61i3g6y93MbHl4sndSo0FPFwtSeM64tyTOlCAETPzCen1PtabIIuNb+u0UrkuHt7ONA\n",
              "kk+96BKbd5blpyxOc2tG/w07djJ7IYM4r3QN9prsiGj318paD7c6GlY1ebJg1yXS8oTKjRSZPRes\n",
              "ii13fnxJmSMDHz4kBFBNanSMQ4r6yb6Caav9/CGCy3FVw+mh0wAAAI4BnjdqQ/8AH7whQiBdAABB\n",
              "6gQq24gA3q2v7EZ7/DqMk7glVn9CKv0AVxHhLdB7O60HARUebsf2ah4ZUw5/AXHNdI6aLS1yhjt8\n",
              "epH+nBB3kbASvMvyr16cZWCMwL6gkULpWrdqOdgOar2swkm7Vez6lsZXxOw4uGOUnw1IeroHW5Iy\n",
              "qBSqli2ivEHLySbhAAAAoEGaOUnhDyZTAgl//rUqgAAAID7xJABCdiKibAKbE+MOTwXK8azpYf43\n",
              "36O4CGPKKvFGRHCVvAw0/PilV/+EFgHkXdc7CHLbLKCIwmyEv7bGGgV3BM15n0rrC8g/NqpkNtfW\n",
              "xGtDi2v1vW9MHFcNYX/KxQ82ERqb5ZsIEvZW8iBzuDOnyaDeeB75MYtoNQNJWA3CUOVvNnfU72Qg\n",
              "EPapRDgAAADaQZpaSeEPJlMCCX/+tSqAAAUvDyGIA1tvn/N+kqZkZ9yD/95onMpFMVMO1ApDrLb0\n",
              "86Gi+WL3iE/uJEb34+r/9x2RIesV0fBQ1CBFPKY1yLDzr/vl/IAsJOjMotGxcIABJFQ66W2LB73q\n",
              "3cchec/nPkkF1X5PiKHzr60Rsz0fimJ00Q6IKmz6rxi1d3aYZSSnw9RCaQlTh3oqhNo77/cqegeR\n",
              "t9vKyqhH/n1eB0uQvb+zGd98DsNZcmuVBNRT4A5/UPXfNxprDeuQj/pwWPCgOekVamPPTHmwz4EA\n",
              "AADMQZp7SeEPJlMCCX/+tSqAAAUnw1hs+4gbUnyEznACMOIzSjU+8jsNx0HgioCdfqP/q6BB6+AG\n",
              "wJILrpYAgDm7xC+1dnlljPkqZRDo92XJO3Ma2Z7NEDkGiuzJKNl2RLB0+9NJ1ybjqPynwPOniWUm\n",
              "bJgiQTLImuMTHVOop4cJQVYg8e/CGAOyd59hU1g+O4UkSXCcx2GC+bFN5bb2otPIEWuwtFE3qaHZ\n",
              "CCtqYkcK92mKPRRIreg7mHcxgjSHsjGUE9Aplw6LbZMsALaAAAAA/UGanEnhDyZTAgl//rUqgAAE\n",
              "oSdJOp5wpf4EAHtOS6Vi2PXPYnMLMIPtntSXn10NF8YAddxhzV/yXyWqQchT7iygvIXmgK5IO+bn\n",
              "MzNs19x7hjZe/GhypQk4ZJgC/k/o87SUR27OwTPTrrr8Je5Ewik/bmed8o6sSYLCjGkQZ9M+JGon\n",
              "G0ql8kroOkXOU8QVfPbN9CWd9Q3iPXsoINy8ah4lVRI1TEapwHOKgPmTUShzvpk99/Efa5gLkSC2\n",
              "p9vM6kduGM9fFe6A5xMZDLjSu+Zp0n1D/yma50v8L0HcFY5R/KzfMxDJMpEwfPBEsXZ1bX9akUYP\n",
              "ryroI0MIBgUAAADLQZq9SeEPJlMCCX/+tSqAAAQhJ0k6nnCk7gAHCPlhTh+7IZ7LWnnpZp9vGye3\n",
              "N5pg4zx/V1kgw/A9hh9alYnZMIIifAmAC4jhN+FIddfenQ0Df+2wXD3CcN+EulX27CQrJAQZC2MU\n",
              "NrfIPJ/+FDdZAzSFKUuanJ8dcJ2e911XjU29h6jwZCwlY2kPwaScWS+Q3WMX67KkGVi/hJJizYG/\n",
              "bU0q+uVoqabsf5lwPLNTorXAhP7eS5fLe5GgWukuCeJyfLVAZA1wiy3PossAAAD6QZreSeEPJlMC\n",
              "CX/+tSqAAABAfsafQbAoEFppnoAQ7fMJud87M0Rn53ELfjgli6LQjpXJr25aGsvQZ3U/ls35muVJ\n",
              "01Az8IcPciOBqAhE5C+q6KkkjHH8aODyAU9468UINo/7bz7a++WUQ2i7wt4yI4qr5OCkagLll3bd\n",
              "zlifnpQ4KTgMIp/gQR5vRXODWqTwb3/ERLf9G3u7nHDHHuRII60dE5xp1wcp2d3liq/qrQF/8vex\n",
              "/DUuWgFBs1kYRq9eecqrPOe9aK8wAqUDbXKd6A75yCB7PxxCyW9KkPVs1bHiUZBjV0a+KxIdKzJQ\n",
              "oCFfX6XTAv9foeBZYAAAAWRBmv9J4Q8mUwIJf/61KoALuVoOALz+o/PGDM356TGa/OE49/eZBMNy\n",
              "GMffp6vImBHezrez2IT1nk5x4r1+tqo20UdGmFLj7D+M9+zugL9xPU2V0ZH8t4JN/dB8beAliWuc\n",
              "pPepzwhHC1jxR7vpKtddgGGZNqm0d5y3XMrY0zDDlGKtfK7KmgHF5mFYxjVb3bgKuh6p3NksAuXE\n",
              "H4HApqf5gMHMzYLYFAPAEcEbfMn3drFnUvDv9Nkx+HysA583bUD2LPxY+x+cE56/8WA0L393PhVr\n",
              "wYZpIO3YBd/pWApz1tlUFN/V3e7SJ3SKYTNbmiTpSQqmwrDRvAG6ueU0YouFyEE6I0ZqxmSiJX7B\n",
              "rfL6fy3ujWycBFDA/mdvaSVAhu9nogP5TBc9fS3PN3qyCcq4doFlUDybEXGvvzFy/nycz6O5L2Qr\n",
              "jbXiAwdcgsRcuntjdZ1BqX/Tv6Ov2ea+AAAbcSd+2AAAANBBmwFJ4Q8mUwURPBL//rUqgASn72Bw\n",
              "QD+9UxLgZpDf8pP/6A9oMmwx9M0qlfIgweZ9K/0QCUbVGcLoubyTPQyj+SzwCOLrgauRmfAp8AfN\n",
              "h32aLd///cYE3Manbft6U/4Z0HDr3unX6JlS4r3BtprmuuzMOjJzHOHY2hDnTt2uf9AfQs5Xl+xY\n",
              "BqDzTAkFs7oUrRsND/lQwWPpi2+MQrhJUl30CpVGf3750SXX3FIbCByWpHgBYDjG8CtjOMoJI4vu\n",
              "qF1JiCLxMFTrBOejNtXTAAAAqAGfIGpD/wAM3mLo5Y+EVYRtycygCNsshiGsNfff2KSAGmb3g5Ta\n",
              "zgU7rsH5RZ4Q15QnoObdk6w8/JJ67rwv5s3bsvXf+Ws+l9xQlBpkGDrjRjR7T1jXuzA9SLRoGz7K\n",
              "T93ks/a/7bxXfCyCq2/cldiEylWd2IjP2eEe7BdjDR/4qx2+NKkrkFNv+VQGVK/zqJvAZasIqgWA\n",
              "hdhy5COg28j9fodFQJGWfAAAAK1BmyJJ4Q8mUwIJf/61KoAAAAMA+b+lAAmvMTgUMBep/uVozC9S\n",
              "i7z0F2EYAHi3/LxZWOg6lKrkDAtM/Q0PIhIp43jbvNPCMRER/vo6m8ctBDiaeLTcRBCqWGNrHhKj\n",
              "bdHmzhOgzABpGtT5pBvQe44+czRCZ8H/jIltzOyuVomuS3C6wHnPcZKFhu6//+bx04yls0pwlfc+\n",
              "igUGE9bAwvd9HQd9CMGMJfx77Ox+nQAAAK1Bm0NJ4Q8mUwIJf/61KoAAACA+8SQAQnYiomwCmxPj\n",
              "Dk8FyvGs6WH+N9+juAhjyirxRkRw5NwZboECFf/wdLA8ikodWzOydmyCFICEvwwwRpc7mvOg9fzL\n",
              "b8S/2y+QzAN5Uq66xogrPVWzNvUYeiyYl5DtDGrtdKtHsj/YFQnAwwq2XleRq0meOl9deDJj9cZr\n",
              "9+WouSZTNQZfwhE+Z+7SCboj4/yHQoSQECbb4AAAANhBm2RJ4Q8mUwIJf/61KoAABS8PIYgDW2+f\n",
              "836SpmRn3IP/3micykUxUw7UCkOstvTzoaL5YveIT+4kRvfj6v/3HZEh6xXR8FDUIEU8pjXIsPOv\n",
              "++X8gCwk6Fb7JFi4QACSHuGxVlS2GJqTA/Lwdz8YVp+T4ih86+tUAIgLY2duZOur9Qmnsn1ii0Vg\n",
              "6nnDmjDBiClL5jX4Y3IjT2dtBfnB5pnULKpkf7y6r+5/MQBu4T3gXop9hakkbOi7eJUdWCoOnY+4\n",
              "R6yPGxSpCjf6Krc2egCFb3pqQb0AAADLQZuFSeEPJlMCCX/+tSqAAAUnw1hs+4gbUnyEznACMOIz\n",
              "SjU+8jsNxyDwRUBOv1H/1dAg9fADYEkSwI2uVKExOaeWZMtiwvFYMaiMR7suSduY1sz2aIHINFdm\n",
              "SUbLsiWDp96fiBXb3srXfm7KKJQYiy7EQeGIMvV7OVTgptmqMlVLDbvwhgDsptZ/wH5nsgRH2dxy\n",
              "nmGC+bFN2Df3zHo7rv+6UdEuJ4Ejm89xh9c8d3OZmK/URg9tgNfZMnTT4WkEhVLiC9QByZYAW0EA\n",
              "AAEBQZumSeEPJlMCCX/+tSqAAAShJ0k6nnCl/gQAe05LpWLY9c9icwswg+2e1JefXQ0XxgB13GHN\n",
              "X/JfJapByFPuLKC8heaArkg75uczM2zX3HuGNl78aHKlCThkmAL+T+jztJRHbs7BM9Ouuvwl7kTC\n",
              "KT9uZ5317gqb+OR2oMGiDPpnxI1E42lUvkldB0i5yniCr58gI+lhCx6fwHXvZQQZbg88ZzXogY0X\n",
              "BSrWH80lhxRt9HYNu+mT382TnP4SkkVfQi9kPBCs3tSgSCLucYV7lrvVRtH84ifv2/aWd7+F52t9\n",
              "LysWKQvnkYF8v8w1yUKVmWtBvIjJmq1JvpHpyYUApIEAAADQQZvHSeEPJlMCCX/+tSqAAAQhJ0k6\n",
              "nnCla+uPa7xAc59mjAwxIZFjpT6rRzDu1+upENqflYAf4EpcSh7MdKB3HzxsyEY24cyhhv9C6XH7\n",
              "p112qdDQ32j4peRm4Thvwl0q+09V7PG3oJ5Br7j55GybDIG7vOErUnBAZN28E8LO4Bqp4KHnb1Ca\n",
              "XJ1Xtvh1zbtm06pOug2cGsIFgYiuXFluwooT+U6fS3VUzqyGW/qzk9VAyChZOTD8wCgLfQssFrK2\n",
              "m8NmcP3leX9r79r+EbD5gQAAAONBm+hJ4Q8mUwIJf/61KoAAABqdvTOgA2u6RBUbkPKZuBsRC0l/\n",
              "jZw1VE/tRyfqV41PdtIb5BP7i9fY0gOErVdPhY4wUthGL4NImVPbgdxa6wY7ZVWWlP3hcNwFzfXa\n",
              "nOydbx45LLtKs83pMmiiAycpZd23c5Yn56UOBQQGEVbCQm0YlvxRN8QMrn88pv7mNvd3OghsWeoK\n",
              "NTcrpy8cXOtLmy6WBrTZQDeP/8IquN1n8ZNgrry+rvHS/yHvPU/gUQKvPXcDyyy2nHShBORKMRoX\n",
              "uRWo30q/1wHHCDBm+YKQMMxvQgAAAaZBmglJ4Q8mUwIJf/61KoAueH6OYiHtyOmAAE6JOfe7VOCo\n",
              "9xEZwBepDXIDDDaqHJpqdBr2EWsPb5WmVvln+enhqTHDLu0lN/4LTj32wB9sT6DvpECCvoojujo2\n",
              "FxTVjWQSEhIG3+XJv7DKS45XnM/oV1ImWGYcPxfLPDjRZXqQsi+yB/zLX+EDzxaITOsKgOjCDT09\n",
              "jXVHQITwQR8A0RnSerTnBq7dzkHqZs5EjPxFRZIsnJnuA3268Z0qbdIRNlTAERwNKutOGl+itrWU\n",
              "AJiwGK6r3IlYOSHInTu18p+wRGhtwlSNSNEizpger8VjXKiOmFWhYEEhRdnX1dALkXrI9ByBOckK\n",
              "/H3G1u8Ufb2FUmiPE3fXRfJ8isZ7NifGHJ4LleNZ0sP8b79HZsNRMJ8dz/jlVngzFfPilf/4QWAe\n",
              "Rd1zsIctss2QQRAQl/bYw0Cvc1jmkk8sSyUZqBhzgX8tpCGkSlqfSpWJWFv62NPfcigfwB7yOp/3\n",
              "eWVrBBQ9yJNCSaURWeFdT/ocfwMDudPz+Nnjgw81pE5QxKEf+DASg+ADRSgYEAAAARFBmipJ4Q8m\n",
              "UwIJf/61KoALuVoOAL1IcRUeTDlamFeihz3vi5zHqDh+vxQutef+3ynRgdkzkmyW7wkZKjBd+68B\n",
              "xN9ZztWvcc6LNsFDp5UFV0rWN0FLfxj2cdZ5UTmUBCI8W1gKN1lz9GdDRfLF7uT5xKknhH1f/RkC\n",
              "780n6uVU2WBFO3kApgC3Aup/NWMnW0CgP1BNgGLoftnuylKysO12SM+Dnh8s0VvTfZng7GMLqMMA\n",
              "yglARuJnTTXnM1xUsgtRUu94aKg5PDFL6VRKr96YgYi9NR+rPBw+jyzqy/AHJNG7lyjVTYhONS4B\n",
              "u/uCVC4JiTpGQZxFFEWOE6J63Fq0sYMuwYHH11KHmz85CUg1BJ0AAADQQZpLSeEPJlMCCX/+tSqA\n",
              "BKfvYHBH6zcLNScFiTE0hM5wAsGRDtWL33kbE3HEQl+0BoVnT//f5kDtvGg3/4nPXll3WpD8Qvs/\n",
              "hZQoEq5OkKw+2h/NvDOO8z8g0N53lycd16gOFXJYzgCWYxFysFI7hoFVmlteTnqTJLpGcgBZuV9k\n",
              "Bem/3wfrvh60uHNh+MNMdBhuvf1NHcusmYOSebbhG91zp5uP/7pY6+bL7iCN8bhv1AQVXkOjerde\n",
              "ZqWM97OB/xOykMLNJJ4W1pujJVAC2gAAAOtBmmxJ4Q8mUwIJf/61KoAABKEnSKXsCUSBAAFoDtjb\n",
              "Ytj56h4cx7JiojqbrSAR06Gi+MAOu4kTpvT0vjzxDXWkRgu7l8+jSGSxPE+PcD5R8nEG4WjX2rof\n",
              "Sf1hSMtIKTDBLjDIlM7bfagi7OYgtBrMJlzqtmxtOjAw9ZLZoRFBizhF4T5iC3YPmKw9Vy6xhsze\n",
              "c0n/hJ3c0av5tT8Pk9+SNr/ICPOkjUDqWGOQru1gjnIFOiwskf0YybNdlP2PGN/G0UZwcdJzon1z\n",
              "EKrXazZdguyONnigYmEKXqdx86pJ6ZTV57VaxCcmFAKSAAAAzEGajUnhDyZTAgl//rUqgAAKX9Eh\n",
              "tvZuNdXEwqp8AbG9TAHFY0SF/7vvjNhOK00n2pfA1VBMt2Fn0ZZdUDCcNnYX+IisNmZjhQjgTABa\n",
              "YQHHCkOuu1TmKKp69XyfZy9bfhLpV9uwkQ7A79V8kUCf/qxAdIz1Nr2k9Br4EjhbxgiasF/BmpXZ\n",
              "DOoB3yn/6LQJynzftMylGRmr84iR+g03vSNKT8G5Y8DW6kYtyV0ZjEJW2JPoyDeJCD5xWiiiPnQI\n",
              "QsJ+wDa4RhMaC17BTQAAANtBmq5J4Q8mUwIJf/61KoAAABqdvTOgA2u6RBTvnZmh1B1dpL/GzgqT\n",
              "vB9cn6leNT3b3h1D5X3S9fP8btHwPTn+T/nMRwFg+EtEQyXLGjl6l/WAeV5fEr6IBWuUfLlwvOkp\n",
              "vFSpXDILoiQ5L41HZc36DkAFLmUGZIvFdaHKBt51Op+3DfVXdNk5DH4Tgm0TJeK9cCOK3dp15AR+\n",
              "1Aqk8m4f/wiq43yfqZJS3eoT2whIH3p5sP2SuYktTP2GKU/EZdBd/UbOBoJ1hRkX7AuFX+vd3W+3\n",
              "qn2BsHrOgx8AAACMQZrPSeEPJlMCCX/+tSqAC37+rbJguwQAC5XgmOa1horqPcUzbIdRyskPq2J0\n",
              "JfZ3yxfTVIjDdVx3J4WWWz9M+tBdWz8i6b6I1sNeEq7ggCGd38wCmSz9vsdYmox/72xH+6Mw3e7L\n",
              "TNu/ngb4YM6LMALlpDa3H718dKBx4+D9H1z+UI/YI5IhPJkQISEAAABYQZrwSeEPJlMCCX/+tSqA\n",
              "C3FFmgAurcn1BwwD+h+yr/BSMti6EUarLmgFoEHIOmkSjz6r7NShI9GJAN6+ABT+5UczQeSVsyBE\n",
              "4TRLmcc3DdT2/5I3EsLxwAAAAWZBmxJJ4Q8mUwURPBL//rUqgAt/Bhsfu0I2MyAG4Lkg6FFmdUH8\n",
              "FZoLX1Xpo8b5Btd7gfi+ybk3JD25PuA/NR0lzrAyeo/7icBPtvTsWOJ5jaN7jDCKQRNnqyafZzFj\n",
              "JpXBEkRZbWN3vTWBaO8U29HFq5mL/12R3kDMRDEjXttsgQTsNAWuG8Gn+r8n9CxNKs5cFwYycw/D\n",
              "TzIXP6L6Nonf6Tu0giir57WHqSCCcHfc90JJrcpgT7EfvVQWLfnaXijK1Od2gtRwFQC/+PDYZTEC\n",
              "qxvfXYmfKM38sDR5HsqkXeE+A8pPhv98KYna/2zUxW/zyGXMQe2ULgLapkalcqk9vKis1450gApP\n",
              "0AFPFSrJCTResDhtv+Vj0NHU8vawGSu7kgN/web3qHzXY8rSaNg2FmA6i50QDVwNIdfS/ans63Hq\n",
              "GXtirn49TCd2FJQWqHEg67s5U2H0ambVAbeX+82yQABRON0wAAAAvAGfMWpD/wAfDBSYfTZ3UafS\n",
              "6v97LLxADjf//vwNOZeEKcAaSGiOmzgNtTMEqo1Wr2T1ECKSbx63YB2mTnkdNYATni0qN7E0a+EL\n",
              "dUSA9LP3lW1Pripl/98DdI0rxpL8hhV1uNETS8a06YY5fPG75N9iyOhysl2hDCsWVLVs6XJUOVK9\n",
              "pwLJ6u5JVNWq1g4mDDcH0r9AOF1GAp5Vga1RXinKWLcqmpMkSQJ0lLdoqW7azzzgAZB6nmmDxi9/\n",
              "AAAAyUGbM0nhDyZTAgl//rUqgAtxRZoARloyekGVWL10A7/vf92fk+mIMLUTLuUJ+ZPOeiROE8EL\n",
              "8Bt/xNDTu94B3yPW7YsqU7kQbt/BMvzQf75qMNaUFr0ih+969kgIRmiPRubKOG2MdTpjpk/hIJOf\n",
              "Ox46vl61G/f9aaJYpiRA3VabBJZ3/4QKVrPn4f6KlV6Azxawc3HzGoVT/LAVmrsiFfHsuIiOZx34\n",
              "r1svcQ+Orh6DIiArcwplVHnPYdIf8xGmC2/LrW+X1Hz5gAAAAMpBm1VJ4Q8mUwURPBL//rUqgAs3\n",
              "0SKZAE09dDWn6NBppMhrEG8+KKY90AV/rNCvaOaJSr9QBctQ4pMJhua1oUkE1h131dohPq+nO20F\n",
              "oFXfZot3//zcCSdtT19dv1Pr5ed74uBL6McBXBtjmmBUxRaMSvDPlRKQdgMiji4HKzzRQ77zLla/\n",
              "hiIaC0cu8XPLhcQvLGMpKxJOuPyAveSulsYQ/4we/ahjFtMYoBe3eR3P+2XylCXk/YhLLxuGjf9U\n",
              "ss7AvH/U2BZnjC1MAAAAjQGfdGpD/wAeXCXYA79NQe/ithez0XHhFelroq8CYoAWh8wjqZjPa0e1\n",
              "5ipfZ+Rsa/BsvX01cmqefRXihB0do+ogJ0uDmQT9seLNaU7waXbwxcXVDq3Wjs6EOP+pbl6vlkZQ\n",
              "wibkUisrlvdkRfdR/wdU8Wmj/4N91jMLrnR8rc8iQpgjmi2+E9N7VD1dwQAAAJNBm3ZJ4Q8mUwIJ\n",
              "f/61KoAAAAMA46ReuXsCT+sSmwJG+XQAeaYLtbA10Lf8wSyycZLelkDAtAZxwHMOoy5SKeN4jk15\n",
              "4RiFGanl9+HgTUFxkMGZv92yICLA2Wwgs4grqb4VkgwnNEBY4Y86I8t9ISGKzP9rDvv4qmtldW3n\n",
              "XV/a4EovdL1Bz8j/mCQBKt8YSdPC1yAAAAChQZuXSeEPJlMCCX/+tSqAAAAgPvEkAEJ2IqJsApsT\n",
              "4w5PBcrxrOlh/jffo7gIY8oq8UZEcVKgGE4RT9f/gt4HkNtqIWHDa0kT5wWdnVP/tbnc150HruzO\n",
              "IkV+1vivWvB/5b2mh7HCNJA9A6qGMrnMtr6JyZ1JBeI5U1O4+OM0JDM7PPwih9cYwbaDaQw/PGBe\n",
              "rI+8k7jU6y6i/MCFmIpcFekAAADbQZu4SeEPJlMCCX/+tSqAAAUoIcUAA2SlSXmxdLU/7micyOq9\n",
              "nLEe0OtIAXxKMJDoiGgXhtAH/9NNbsCerU1x7uT1T087oIQAE8asYScyxaNi4QACSHtNpPWW/Vgh\n",
              "0BbkrIigNdRqyWl+izga+SYmhIzDVKq0bQIbYvM0j+32m8PPAcYIltV8bNmnCC8xR/XJn9QEP5++\n",
              "EcP+kozjrOrr6DTIff1vULz/9+1QCy/cK6BKTvsoH2QgTpgvX7T08ih0oQGMnULyCZNguLfHBsNs\n",
              "QtmPpJlfduq5LPWBAAAA0UGb2UnhDyZTAgl//rUqgAAFJ8NYbPuIG1J8hM5wAcXIhfmwMirGuOhR\n",
              "0y6g49R/4caBCPC9p14ticq6KIbbm7xC+zxH0wt5HxIrFmapJneGezWcZNjnGklGy/A/yJkKZEoV\n",
              "4cS/rvBlqSkjuI9D2+zSdcYfuRpz21Mf0tOFkWgBX+MxnZi+JtO+HqoDLPpXxUC9ae+wJ6e38xC6\n",
              "HaDmhSK5+NVGf2Luycf5Fp7PG0LkBEAoptUJNHVMDjSCQhTw29pqxjtaVrihKRIHh1WyoAakAAAA\n",
              "7UGb+knhDyZTAgl//rUqgAAEoSdJOp5wu3fqgrABNPMfvqXtGDl8pKWCz2IEpFsl6tNGoIai9mi5\n",
              "dn76yOj6KjNrJ9+6KQuX64wIgznNfce4Y2VN8DK4JJyXoY4BcgUOyFH4FJh+N2GN4M2F3nLEUk8w\n",
              "AscjXFv/V/WOKxhcjEDbLmzQSRK67tscClSg6Rn95Dx4/WPhPEFe2MXzvSTWPv6YlLt+XsNGYvm/\n",
              "36ZchLaptYvNUXrAHl/6h4Ueo0Pl5dcuQ9I4JreWzzsd7S31bXe8NCafakX4MMQ4Er90AUzschI2\n",
              "SlII/jTkwoBSQQAAAKBBmhtJ4Q8mUwIJf/61KoAABCEnSTqecKTuAAVWKLCnD92Qz2WtPPSzT7eN\n",
              "2bgwCqZKWYrOgQGDKcHWBf/IM3JN76cyZ23GY+Ir45rl+/N+v7K0PVDLm+L2WN21ABsDnUN6SA7d\n",
              "NxRtLdH4ds7ysbcPbL6NNhqbHRfIesLslxxY6eEfU8/jc9MwraCL9/Bq+nr+3fjRK4YRzc8WfG35\n",
              "YPSAAAAAvEGaPEnhDyZTAgl//rUqgAAAGqmNZ0AEsgvkNhyeiKJFl/Tf0F/6vpK017fVJcZXsXgy\n",
              "8JY/uw1zHJBwNAc6OH1AvbszJnhQiISOQc+45n9Dz6Ccu89oDdZZzBpyw2s9/EMk6sS/rTbnMTCJ\n",
              "2StcN0lZxf11kQExNj3wnDkL+oTnSfRmLw+d1jYWx7R7OT9+M8rMVpsUqCmaRoCn2gd1IKtR5aUi\n",
              "Ve5QGBvEZsa5fp+7s1sW/UFB9hvdSvU5AAABR0GaXknhDyZTBRE8Ef/+tSqAC3GZXAA19F8SSqDi\n",
              "zyjIf2qebg/eR088bFnRxUiDKiLsUEl97DTpWHoiy8CoK5Jc7nHV/+keGK0oURDlPojTSvrflj0T\n",
              "TZzrSCdzdujj8i+OnZDiloCxLBOUzFRpzNxKDLCqByERnxQ3zwEHldWsc4WaT0B1WSxCd6TEwXVW\n",
              "xg0FAAADABsWN5lTo/fhr/t+XzC00RhSFr2xCVfXLP/8iBEhWWD6UEYhSEZ18jsUdEH+leD3YuIQ\n",
              "zztMmE3d6fUywLx/ksxy9Ep1aHnndvBJmyn8bj2uZdAZgCoZqxW2GQdyef5kf4JvV84z6ljgX6Eu\n",
              "UMfY+7HplSsqXCKyAI9WacMYd78vIZSYb6WX0OFZA/14X443TJ1EfNHwPeDt3K80MG60wRFe1XJA\n",
              "jsLhAJQy/HL5Duti2wAAALkBnn1qQ/8AHwwiHEMLz8GIDBlIyt302mTIJAC2WsUJ4wxTxfKV4J3i\n",
              "Zj/c4B+LUenWrMNREQNCE1mEy81yGRdXPqcdx4lfTHKOphD/XE1YxLWBCfg4J9NbLIWNO4Au8yTX\n",
              "xRBfrrGgXjzjZ3Xo8zFqsERHyhtqjtvjtlzgq9fuPew4pSrO7ERn7PCMAp27VWv6zB8tre7cg5WB\n",
              "spER2VAUSx73BQEUlywAC+edvW2GcauDAkjdsnsoIAAAAJBBmn9J4Q8mUwII//61KoAEgPPtNAAT\n",
              "3IOUaQ4RfYscukkAH7N31Wkil7Mfl5BXejVYUwxJeO4XbznU7Fpiec9zbLsnuRbaclK1FF7ocF0M\n",
              "5Hctq656RQ25vw5n8JreSR0hJdeGbpO7yM/jJNojcKgx5gZGyKr3lz/Nxm9gOpQeZZn5TWOWXRMz\n",
              "BjzP1d1J+oIAAACZQZqASeEPJlMCCP/+tSqAAAAgPvdkAElDoaP4t4TD4w0wz09hBgyh8qGzLLz6\n",
              "B7K0vwVEEXwJemde///B7jv29p+pa7PYrhV80OG9hfEpWf5LcG6HOstT5JqUJCUNY4jUCKFSvCUl\n",
              "6mhNndv+2s+D03mTPI2tR1ljDf4VuR+f9OJr0cbXBmPZb3iXgq2jG/Ru7F5rQHUyOXOBAAAAuEGa\n",
              "oUnhDyZTAgj//rUqgAAFKByoIAQDYjmCbN/V73OTQO+97muCpEVdOwttvJY645ZgHC4oJIKK6Akh\n",
              "l9LWeP6vuEOIOhZdcvMEOGsWvLNWGqTGKDEkL8LUXFASagNS7+SvIisH408PUoLdBJ5YJ8VHVAuG\n",
              "WKsHPshtv6oHH9jkM8P8/FbTM/jKR1YgLBU0+OwfyXmZ0lC9wn7GaSgwixvx5rgFx2scBU3iCZCL\n",
              "bz2+SHGCOSf0sQ8AAACtQZrCSeEPJlMCCH/+qlUAABlvepWSvr+uvl7F9quhsG8bS82AEGs7zXAY\n",
              "ZlXF4TnVOtHK8Z+DAb1BfViz9zVKhhrEQsmpeZAv//UxGq+UU9sAKQXS3tr2atHXBeYvTfzwWxRo\n",
              "ARORUbmNe6dT04KlSPh8iA9eiFu5HkS8GFd6gAuiQAKqe//ipPku77IV3BLXqhP4aWOp725f/HB9\n",
              "Yx+wUdc45gmfv+GUAGWAFtEAAADgQZrjSeEPJlMCH//+qZYAACQMeBHMowm+uKkgQA09Z4FUAhSj\n",
              "w9R8Uezwn9c3v2K5y6wu3PPg8gNNWEUMkITLGNKd+g4pmID+JF1zzZIENz4a78FdyJnW7apXbI25\n",
              "ibc7rJ8ZsNpdhyGm1Fbj/GDpDZFAaoofS/NRw3C5tYDWQZwCopC7f4AebZ+Oj77ejZnX0zluldFb\n",
              "SlMZysVGsPnZbBzW0LgjU2Lt8z/cWDKDkVOthzTOEERHF5hxRVaaPzVFeuSnKDVVRh/qcSoP1GgO\n",
              "sCZnmgE/ArNYWOfRQplgDKgAAAXebW9vdgAAAGxtdmhkAAAAAAAAAAAAAAAAAAAD6AAATiAAAQAA\n",
              "AQAAAAAAAAAAAAAAAAEAAAAAAAAAAAAAAAAAAAABAAAAAAAAAAAAAAAAAABAAAAAAAAAAAAAAAAA\n",
              "AAAAAAAAAAAAAAAAAAAAAAAAAgAABQh0cmFrAAAAXHRraGQAAAADAAAAAAAAAAAAAAABAAAAAAAA\n",
              "TiAAAAAAAAAAAAAAAAAAAAAAAAEAAAAAAAAAAAAAAAAAAAABAAAAAAAAAAAAAAAAAABAAAAAAkAA\n",
              "AAGwAAAAAAAkZWR0cwAAABxlbHN0AAAAAAAAAAEAAE4gAAAQAAABAAAAAASAbWRpYQAAACBtZGhk\n",
              "AAAAAAAAAAAAAAAAAAAoAAADIABVxAAAAAAALWhkbHIAAAAAAAAAAHZpZGUAAAAAAAAAAAAAAABW\n",
              "aWRlb0hhbmRsZXIAAAAEK21pbmYAAAAUdm1oZAAAAAEAAAAAAAAAAAAAACRkaW5mAAAAHGRyZWYA\n",
              "AAAAAAAAAQAAAAx1cmwgAAAAAQAAA+tzdGJsAAAAs3N0c2QAAAAAAAAAAQAAAKNhdmMxAAAAAAAA\n",
              "AAEAAAAAAAAAAAAAAAAAAAAAAkABsABIAAAASAAAAAAAAAABAAAAAAAAAAAAAAAAAAAAAAAAAAAA\n",
              "AAAAAAAAAAAAAAAAGP//AAAAMWF2Y0MBZAAW/+EAGGdkABas2UCQN6EAAAMAAQAAAwAKDxYtlgEA\n",
              "Bmjr48siwAAAABx1dWlka2hA8l8kT8W6OaUbzwMj8wAAAAAAAAAYc3R0cwAAAAAAAAABAAAAZAAA\n",
              "CAAAAAAUc3RzcwAAAAAAAAABAAAAAQAAATBjdHRzAAAAAAAAACQAAAABAAAQAAAAAAEAABgAAAAA\n",
              "AQAACAAAAAAPAAAQAAAAAAEAABgAAAAAAQAACAAAAAABAAAQAAAAAAEAABgAAAAAAQAACAAAAAAH\n",
              "AAAQAAAAAAEAABgAAAAAAQAACAAAAAABAAAYAAAAAAEAAAgAAAAABwAAEAAAAAABAAAYAAAAAAEA\n",
              "AAgAAAAAAwAAEAAAAAABAAAYAAAAAAEAAAgAAAAABwAAEAAAAAABAAAYAAAAAAEAAAgAAAAABwAA\n",
              "EAAAAAABAAAYAAAAAAEAAAgAAAAADwAAEAAAAAABAAAYAAAAAAEAAAgAAAAAAQAAEAAAAAABAAAY\n",
              "AAAAAAEAAAgAAAAABwAAEAAAAAABAAAYAAAAAAEAAAgAAAAABQAAEAAAAAAcc3RzYwAAAAAAAAAB\n",
              "AAAAAQAAAGQAAAABAAABpHN0c3oAAAAAAAAAAAAAAGQAAAo0AAABIgAAAJ4AAAC3AAAArgAAAOUA\n",
              "AADjAAABAQAAANsAAADAAAAAyQAAAFAAAAFVAAAA4wAAAOQAAADyAAAAywAAAOEAAAF8AAAArwAA\n",
              "AL8AAADSAAAAnAAAAKUAAACqAAAA5gAAAOEAAAD9AAAA1gAAAPsAAAFsAAAAkAAAANMAAAChAAAA\n",
              "rAAAAKYAAADxAAAA2QAAAP8AAADSAAAA7AAAAMUAAACyAAAAWQAAAFoAAAFFAAAA5wAAAK4AAACy\n",
              "AAAAqwAAAOwAAADWAAABBwAAANoAAADmAAABTwAAAJIAAACkAAAA3gAAANAAAAEBAAAAzwAAAP4A\n",
              "AAFoAAAA1AAAAKwAAACxAAAAsQAAANwAAADPAAABBQAAANQAAADnAAABqgAAARUAAADUAAAA7wAA\n",
              "ANAAAADfAAAAkAAAAFwAAAFqAAAAwAAAAM0AAADOAAAAkQAAAJcAAAClAAAA3wAAANUAAADxAAAA\n",
              "pAAAAMAAAAFLAAAAvQAAAJQAAACdAAAAvAAAALEAAADkAAAAFHN0Y28AAAAAAAAAAQAAACwAAABi\n",
              "dWR0YQAAAFptZXRhAAAAAAAAACFoZGxyAAAAAAAAAABtZGlyYXBwbAAAAAAAAAAAAAAAAC1pbHN0\n",
              "AAAAJal0b28AAAAdZGF0YQAAAAEAAAAATGF2ZjU3LjgzLjEwMA==\n",
              "\">\n",
              "  Your browser does not support the video tag.\n",
              "</video>"
            ]
          },
          "metadata": {}
        }
      ]
    },
    {
      "cell_type": "markdown",
      "metadata": {
        "id": "wC_McPjhQXfB"
      },
      "source": [
        "-------------------"
      ]
    }
  ],
  "metadata": {
    "colab": {
      "collapsed_sections": [
        "bV8fLbHLvBuk",
        "-eMy-QM2rM6O",
        "2gqQCCQTOOP2",
        "RtDFtvjd-1i8",
        "ZTjI745LOOYv",
        "A-wc3BueTtO-"
      ],
      "provenance": [],
      "toc_visible": true,
      "authorship_tag": "ABX9TyMx2DEvk3tuxahZBGeflS9w",
      "include_colab_link": true
    },
    "kernelspec": {
      "display_name": "Python 3",
      "name": "python3"
    },
    "language_info": {
      "name": "python"
    }
  },
  "nbformat": 4,
  "nbformat_minor": 0
}